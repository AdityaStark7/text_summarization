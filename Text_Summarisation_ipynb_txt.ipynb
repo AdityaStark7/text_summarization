{
  "cells": [
    {
      "cell_type": "markdown",
      "metadata": {
        "id": "VUQFiSatJlyU"
      },
      "source": [
        "# Text Summarising of the articles"
      ]
    },
    {
      "cell_type": "code",
      "execution_count": 1,
      "metadata": {
        "id": "-CjGnJEgJlyc"
      },
      "outputs": [],
      "source": [
        "# Importing the required Libraries\n",
        "import numpy as np\n",
        "import pandas as pd\n",
        "import nltk\n",
        "# nltk.download('punkt') # one time execution\n",
        "import re\n",
        "#nltk.download('stopwords') # one time execution\n",
        "import matplotlib.pyplot as plt\n",
        "\n",
        "from nltk.tokenize import sent_tokenize\n",
        "\n",
        "from nltk.corpus import stopwords\n",
        "\n",
        "from sklearn.metrics.pairwise import cosine_similarity\n",
        "\n",
        "import networkx as nx"
      ]
    },
    {
      "cell_type": "code",
      "execution_count": 2,
      "metadata": {
        "colab": {
          "base_uri": "https://localhost:8080/",
          "height": 235
        },
        "id": "YOIta7sVJlyf",
        "outputId": "5ea96ce7-c48c-4793-9c00-074bf1f21a4b"
      },
      "outputs": [
        {
          "output_type": "error",
          "ename": "FileNotFoundError",
          "evalue": "ignored",
          "traceback": [
            "\u001b[0;31m---------------------------------------------------------------------------\u001b[0m",
            "\u001b[0;31mFileNotFoundError\u001b[0m                         Traceback (most recent call last)",
            "\u001b[0;32m<ipython-input-2-ea5606c073dd>\u001b[0m in \u001b[0;36m<module>\u001b[0;34m()\u001b[0m\n\u001b[1;32m      1\u001b[0m \u001b[0;31m# Extract word vectors\u001b[0m\u001b[0;34m\u001b[0m\u001b[0;34m\u001b[0m\u001b[0;34m\u001b[0m\u001b[0m\n\u001b[1;32m      2\u001b[0m \u001b[0mword_embeddings\u001b[0m \u001b[0;34m=\u001b[0m \u001b[0;34m{\u001b[0m\u001b[0;34m}\u001b[0m\u001b[0;34m\u001b[0m\u001b[0;34m\u001b[0m\u001b[0m\n\u001b[0;32m----> 3\u001b[0;31m \u001b[0mfile\u001b[0m \u001b[0;34m=\u001b[0m \u001b[0mopen\u001b[0m\u001b[0;34m(\u001b[0m\u001b[0;34m'glove.6B.100d.txt'\u001b[0m\u001b[0;34m,\u001b[0m \u001b[0mencoding\u001b[0m\u001b[0;34m=\u001b[0m\u001b[0;34m'utf-8'\u001b[0m\u001b[0;34m)\u001b[0m\u001b[0;34m\u001b[0m\u001b[0;34m\u001b[0m\u001b[0m\n\u001b[0m\u001b[1;32m      4\u001b[0m \u001b[0;32mfor\u001b[0m \u001b[0mline\u001b[0m \u001b[0;32min\u001b[0m \u001b[0mfile\u001b[0m\u001b[0;34m:\u001b[0m\u001b[0;34m\u001b[0m\u001b[0;34m\u001b[0m\u001b[0m\n\u001b[1;32m      5\u001b[0m     \u001b[0mvalues\u001b[0m \u001b[0;34m=\u001b[0m \u001b[0mline\u001b[0m\u001b[0;34m.\u001b[0m\u001b[0msplit\u001b[0m\u001b[0;34m(\u001b[0m\u001b[0;34m)\u001b[0m\u001b[0;34m\u001b[0m\u001b[0;34m\u001b[0m\u001b[0m\n",
            "\u001b[0;31mFileNotFoundError\u001b[0m: [Errno 2] No such file or directory: 'glove.6B.100d.txt'"
          ]
        }
      ],
      "source": [
        "# Extract word vectors\n",
        "word_embeddings = {}\n",
        "file = open('glove.6B.100d.txt', encoding='utf-8')\n",
        "for line in file:\n",
        "    values = line.split()\n",
        "    word = values[0]\n",
        "    coefs = np.asarray(values[1:], dtype='float32')\n",
        "    word_embeddings[word] = coefs\n",
        "file.close()\n",
        "len(word_embeddings)"
      ]
    },
    {
      "cell_type": "code",
      "execution_count": 3,
      "metadata": {
        "id": "LS8Z4DvjJlyh"
      },
      "outputs": [],
      "source": [
        "# reading the file\n",
        "df = pd.read_excel('TASK.xlsx')"
      ]
    },
    {
      "cell_type": "code",
      "execution_count": 4,
      "metadata": {
        "colab": {
          "base_uri": "https://localhost:8080/",
          "height": 424
        },
        "id": "iGx22jLqJlyi",
        "outputId": "12634266-a182-4df5-c1a2-fed272c455f1"
      },
      "outputs": [
        {
          "output_type": "execute_result",
          "data": {
            "text/plain": [
              "      TEST DATASET                                         Unnamed: 1\n",
              "0              NaN                                       Introduction\n",
              "1              NaN  Acnesol Gel is an antibiotic that fights bacte...\n",
              "2              NaN  Ambrodil Syrup is used for treating various re...\n",
              "3              NaN  Augmentin 625 Duo Tablet is a penicillin-type ...\n",
              "4              NaN  Azithral 500 Tablet is an antibiotic used to t...\n",
              "...            ...                                                ...\n",
              "996            NaN  Azapure Tablet belongs to a group of medicines...\n",
              "997            NaN  Arimidex 1mg Tablet  is used alone or with oth...\n",
              "998            NaN  Arpimune ME 100mg Capsule is used to prevent y...\n",
              "999            NaN  Amlodac CH Tablet is a combination medicine us...\n",
              "1000           NaN  Angizem CD 120 Capsule ER is used to treat ang...\n",
              "\n",
              "[1001 rows x 2 columns]"
            ],
            "text/html": [
              "\n",
              "  <div id=\"df-abe515ac-efce-4e5b-ad74-f621ecf8f35c\">\n",
              "    <div class=\"colab-df-container\">\n",
              "      <div>\n",
              "<style scoped>\n",
              "    .dataframe tbody tr th:only-of-type {\n",
              "        vertical-align: middle;\n",
              "    }\n",
              "\n",
              "    .dataframe tbody tr th {\n",
              "        vertical-align: top;\n",
              "    }\n",
              "\n",
              "    .dataframe thead th {\n",
              "        text-align: right;\n",
              "    }\n",
              "</style>\n",
              "<table border=\"1\" class=\"dataframe\">\n",
              "  <thead>\n",
              "    <tr style=\"text-align: right;\">\n",
              "      <th></th>\n",
              "      <th>TEST DATASET</th>\n",
              "      <th>Unnamed: 1</th>\n",
              "    </tr>\n",
              "  </thead>\n",
              "  <tbody>\n",
              "    <tr>\n",
              "      <th>0</th>\n",
              "      <td>NaN</td>\n",
              "      <td>Introduction</td>\n",
              "    </tr>\n",
              "    <tr>\n",
              "      <th>1</th>\n",
              "      <td>NaN</td>\n",
              "      <td>Acnesol Gel is an antibiotic that fights bacte...</td>\n",
              "    </tr>\n",
              "    <tr>\n",
              "      <th>2</th>\n",
              "      <td>NaN</td>\n",
              "      <td>Ambrodil Syrup is used for treating various re...</td>\n",
              "    </tr>\n",
              "    <tr>\n",
              "      <th>3</th>\n",
              "      <td>NaN</td>\n",
              "      <td>Augmentin 625 Duo Tablet is a penicillin-type ...</td>\n",
              "    </tr>\n",
              "    <tr>\n",
              "      <th>4</th>\n",
              "      <td>NaN</td>\n",
              "      <td>Azithral 500 Tablet is an antibiotic used to t...</td>\n",
              "    </tr>\n",
              "    <tr>\n",
              "      <th>...</th>\n",
              "      <td>...</td>\n",
              "      <td>...</td>\n",
              "    </tr>\n",
              "    <tr>\n",
              "      <th>996</th>\n",
              "      <td>NaN</td>\n",
              "      <td>Azapure Tablet belongs to a group of medicines...</td>\n",
              "    </tr>\n",
              "    <tr>\n",
              "      <th>997</th>\n",
              "      <td>NaN</td>\n",
              "      <td>Arimidex 1mg Tablet  is used alone or with oth...</td>\n",
              "    </tr>\n",
              "    <tr>\n",
              "      <th>998</th>\n",
              "      <td>NaN</td>\n",
              "      <td>Arpimune ME 100mg Capsule is used to prevent y...</td>\n",
              "    </tr>\n",
              "    <tr>\n",
              "      <th>999</th>\n",
              "      <td>NaN</td>\n",
              "      <td>Amlodac CH Tablet is a combination medicine us...</td>\n",
              "    </tr>\n",
              "    <tr>\n",
              "      <th>1000</th>\n",
              "      <td>NaN</td>\n",
              "      <td>Angizem CD 120 Capsule ER is used to treat ang...</td>\n",
              "    </tr>\n",
              "  </tbody>\n",
              "</table>\n",
              "<p>1001 rows × 2 columns</p>\n",
              "</div>\n",
              "      <button class=\"colab-df-convert\" onclick=\"convertToInteractive('df-abe515ac-efce-4e5b-ad74-f621ecf8f35c')\"\n",
              "              title=\"Convert this dataframe to an interactive table.\"\n",
              "              style=\"display:none;\">\n",
              "        \n",
              "  <svg xmlns=\"http://www.w3.org/2000/svg\" height=\"24px\"viewBox=\"0 0 24 24\"\n",
              "       width=\"24px\">\n",
              "    <path d=\"M0 0h24v24H0V0z\" fill=\"none\"/>\n",
              "    <path d=\"M18.56 5.44l.94 2.06.94-2.06 2.06-.94-2.06-.94-.94-2.06-.94 2.06-2.06.94zm-11 1L8.5 8.5l.94-2.06 2.06-.94-2.06-.94L8.5 2.5l-.94 2.06-2.06.94zm10 10l.94 2.06.94-2.06 2.06-.94-2.06-.94-.94-2.06-.94 2.06-2.06.94z\"/><path d=\"M17.41 7.96l-1.37-1.37c-.4-.4-.92-.59-1.43-.59-.52 0-1.04.2-1.43.59L10.3 9.45l-7.72 7.72c-.78.78-.78 2.05 0 2.83L4 21.41c.39.39.9.59 1.41.59.51 0 1.02-.2 1.41-.59l7.78-7.78 2.81-2.81c.8-.78.8-2.07 0-2.86zM5.41 20L4 18.59l7.72-7.72 1.47 1.35L5.41 20z\"/>\n",
              "  </svg>\n",
              "      </button>\n",
              "      \n",
              "  <style>\n",
              "    .colab-df-container {\n",
              "      display:flex;\n",
              "      flex-wrap:wrap;\n",
              "      gap: 12px;\n",
              "    }\n",
              "\n",
              "    .colab-df-convert {\n",
              "      background-color: #E8F0FE;\n",
              "      border: none;\n",
              "      border-radius: 50%;\n",
              "      cursor: pointer;\n",
              "      display: none;\n",
              "      fill: #1967D2;\n",
              "      height: 32px;\n",
              "      padding: 0 0 0 0;\n",
              "      width: 32px;\n",
              "    }\n",
              "\n",
              "    .colab-df-convert:hover {\n",
              "      background-color: #E2EBFA;\n",
              "      box-shadow: 0px 1px 2px rgba(60, 64, 67, 0.3), 0px 1px 3px 1px rgba(60, 64, 67, 0.15);\n",
              "      fill: #174EA6;\n",
              "    }\n",
              "\n",
              "    [theme=dark] .colab-df-convert {\n",
              "      background-color: #3B4455;\n",
              "      fill: #D2E3FC;\n",
              "    }\n",
              "\n",
              "    [theme=dark] .colab-df-convert:hover {\n",
              "      background-color: #434B5C;\n",
              "      box-shadow: 0px 1px 3px 1px rgba(0, 0, 0, 0.15);\n",
              "      filter: drop-shadow(0px 1px 2px rgba(0, 0, 0, 0.3));\n",
              "      fill: #FFFFFF;\n",
              "    }\n",
              "  </style>\n",
              "\n",
              "      <script>\n",
              "        const buttonEl =\n",
              "          document.querySelector('#df-abe515ac-efce-4e5b-ad74-f621ecf8f35c button.colab-df-convert');\n",
              "        buttonEl.style.display =\n",
              "          google.colab.kernel.accessAllowed ? 'block' : 'none';\n",
              "\n",
              "        async function convertToInteractive(key) {\n",
              "          const element = document.querySelector('#df-abe515ac-efce-4e5b-ad74-f621ecf8f35c');\n",
              "          const dataTable =\n",
              "            await google.colab.kernel.invokeFunction('convertToInteractive',\n",
              "                                                     [key], {});\n",
              "          if (!dataTable) return;\n",
              "\n",
              "          const docLinkHtml = 'Like what you see? Visit the ' +\n",
              "            '<a target=\"_blank\" href=https://colab.research.google.com/notebooks/data_table.ipynb>data table notebook</a>'\n",
              "            + ' to learn more about interactive tables.';\n",
              "          element.innerHTML = '';\n",
              "          dataTable['output_type'] = 'display_data';\n",
              "          await google.colab.output.renderOutput(dataTable, element);\n",
              "          const docLink = document.createElement('div');\n",
              "          docLink.innerHTML = docLinkHtml;\n",
              "          element.appendChild(docLink);\n",
              "        }\n",
              "      </script>\n",
              "    </div>\n",
              "  </div>\n",
              "  "
            ]
          },
          "metadata": {},
          "execution_count": 4
        }
      ],
      "source": [
        "df"
      ]
    },
    {
      "cell_type": "code",
      "execution_count": 5,
      "metadata": {
        "colab": {
          "base_uri": "https://localhost:8080/"
        },
        "id": "6tjlpt04Jlyi",
        "outputId": "ddd83b20-cb93-4687-d7b2-f14b6879e7bf"
      },
      "outputs": [
        {
          "output_type": "execute_result",
          "data": {
            "text/plain": [
              "Index(['TEST DATASET', 'Unnamed: 1'], dtype='object')"
            ]
          },
          "metadata": {},
          "execution_count": 5
        }
      ],
      "source": [
        "df.columns"
      ]
    },
    {
      "cell_type": "code",
      "execution_count": 6,
      "metadata": {
        "colab": {
          "base_uri": "https://localhost:8080/",
          "height": 424
        },
        "id": "MeL9Goy2Jlyj",
        "outputId": "150f0f19-20e8-4905-cab3-0bb116a4ba0d"
      },
      "outputs": [
        {
          "output_type": "execute_result",
          "data": {
            "text/plain": [
              "      TEST DATASET                                       Introduction\n",
              "1              NaN  Acnesol Gel is an antibiotic that fights bacte...\n",
              "2              NaN  Ambrodil Syrup is used for treating various re...\n",
              "3              NaN  Augmentin 625 Duo Tablet is a penicillin-type ...\n",
              "4              NaN  Azithral 500 Tablet is an antibiotic used to t...\n",
              "5              NaN  Alkasol Oral Solution is a medicine used in th...\n",
              "...            ...                                                ...\n",
              "996            NaN  Azapure Tablet belongs to a group of medicines...\n",
              "997            NaN  Arimidex 1mg Tablet  is used alone or with oth...\n",
              "998            NaN  Arpimune ME 100mg Capsule is used to prevent y...\n",
              "999            NaN  Amlodac CH Tablet is a combination medicine us...\n",
              "1000           NaN  Angizem CD 120 Capsule ER is used to treat ang...\n",
              "\n",
              "[1000 rows x 2 columns]"
            ],
            "text/html": [
              "\n",
              "  <div id=\"df-6ed838f4-7f7e-4215-a65e-ca1276233005\">\n",
              "    <div class=\"colab-df-container\">\n",
              "      <div>\n",
              "<style scoped>\n",
              "    .dataframe tbody tr th:only-of-type {\n",
              "        vertical-align: middle;\n",
              "    }\n",
              "\n",
              "    .dataframe tbody tr th {\n",
              "        vertical-align: top;\n",
              "    }\n",
              "\n",
              "    .dataframe thead th {\n",
              "        text-align: right;\n",
              "    }\n",
              "</style>\n",
              "<table border=\"1\" class=\"dataframe\">\n",
              "  <thead>\n",
              "    <tr style=\"text-align: right;\">\n",
              "      <th></th>\n",
              "      <th>TEST DATASET</th>\n",
              "      <th>Introduction</th>\n",
              "    </tr>\n",
              "  </thead>\n",
              "  <tbody>\n",
              "    <tr>\n",
              "      <th>1</th>\n",
              "      <td>NaN</td>\n",
              "      <td>Acnesol Gel is an antibiotic that fights bacte...</td>\n",
              "    </tr>\n",
              "    <tr>\n",
              "      <th>2</th>\n",
              "      <td>NaN</td>\n",
              "      <td>Ambrodil Syrup is used for treating various re...</td>\n",
              "    </tr>\n",
              "    <tr>\n",
              "      <th>3</th>\n",
              "      <td>NaN</td>\n",
              "      <td>Augmentin 625 Duo Tablet is a penicillin-type ...</td>\n",
              "    </tr>\n",
              "    <tr>\n",
              "      <th>4</th>\n",
              "      <td>NaN</td>\n",
              "      <td>Azithral 500 Tablet is an antibiotic used to t...</td>\n",
              "    </tr>\n",
              "    <tr>\n",
              "      <th>5</th>\n",
              "      <td>NaN</td>\n",
              "      <td>Alkasol Oral Solution is a medicine used in th...</td>\n",
              "    </tr>\n",
              "    <tr>\n",
              "      <th>...</th>\n",
              "      <td>...</td>\n",
              "      <td>...</td>\n",
              "    </tr>\n",
              "    <tr>\n",
              "      <th>996</th>\n",
              "      <td>NaN</td>\n",
              "      <td>Azapure Tablet belongs to a group of medicines...</td>\n",
              "    </tr>\n",
              "    <tr>\n",
              "      <th>997</th>\n",
              "      <td>NaN</td>\n",
              "      <td>Arimidex 1mg Tablet  is used alone or with oth...</td>\n",
              "    </tr>\n",
              "    <tr>\n",
              "      <th>998</th>\n",
              "      <td>NaN</td>\n",
              "      <td>Arpimune ME 100mg Capsule is used to prevent y...</td>\n",
              "    </tr>\n",
              "    <tr>\n",
              "      <th>999</th>\n",
              "      <td>NaN</td>\n",
              "      <td>Amlodac CH Tablet is a combination medicine us...</td>\n",
              "    </tr>\n",
              "    <tr>\n",
              "      <th>1000</th>\n",
              "      <td>NaN</td>\n",
              "      <td>Angizem CD 120 Capsule ER is used to treat ang...</td>\n",
              "    </tr>\n",
              "  </tbody>\n",
              "</table>\n",
              "<p>1000 rows × 2 columns</p>\n",
              "</div>\n",
              "      <button class=\"colab-df-convert\" onclick=\"convertToInteractive('df-6ed838f4-7f7e-4215-a65e-ca1276233005')\"\n",
              "              title=\"Convert this dataframe to an interactive table.\"\n",
              "              style=\"display:none;\">\n",
              "        \n",
              "  <svg xmlns=\"http://www.w3.org/2000/svg\" height=\"24px\"viewBox=\"0 0 24 24\"\n",
              "       width=\"24px\">\n",
              "    <path d=\"M0 0h24v24H0V0z\" fill=\"none\"/>\n",
              "    <path d=\"M18.56 5.44l.94 2.06.94-2.06 2.06-.94-2.06-.94-.94-2.06-.94 2.06-2.06.94zm-11 1L8.5 8.5l.94-2.06 2.06-.94-2.06-.94L8.5 2.5l-.94 2.06-2.06.94zm10 10l.94 2.06.94-2.06 2.06-.94-2.06-.94-.94-2.06-.94 2.06-2.06.94z\"/><path d=\"M17.41 7.96l-1.37-1.37c-.4-.4-.92-.59-1.43-.59-.52 0-1.04.2-1.43.59L10.3 9.45l-7.72 7.72c-.78.78-.78 2.05 0 2.83L4 21.41c.39.39.9.59 1.41.59.51 0 1.02-.2 1.41-.59l7.78-7.78 2.81-2.81c.8-.78.8-2.07 0-2.86zM5.41 20L4 18.59l7.72-7.72 1.47 1.35L5.41 20z\"/>\n",
              "  </svg>\n",
              "      </button>\n",
              "      \n",
              "  <style>\n",
              "    .colab-df-container {\n",
              "      display:flex;\n",
              "      flex-wrap:wrap;\n",
              "      gap: 12px;\n",
              "    }\n",
              "\n",
              "    .colab-df-convert {\n",
              "      background-color: #E8F0FE;\n",
              "      border: none;\n",
              "      border-radius: 50%;\n",
              "      cursor: pointer;\n",
              "      display: none;\n",
              "      fill: #1967D2;\n",
              "      height: 32px;\n",
              "      padding: 0 0 0 0;\n",
              "      width: 32px;\n",
              "    }\n",
              "\n",
              "    .colab-df-convert:hover {\n",
              "      background-color: #E2EBFA;\n",
              "      box-shadow: 0px 1px 2px rgba(60, 64, 67, 0.3), 0px 1px 3px 1px rgba(60, 64, 67, 0.15);\n",
              "      fill: #174EA6;\n",
              "    }\n",
              "\n",
              "    [theme=dark] .colab-df-convert {\n",
              "      background-color: #3B4455;\n",
              "      fill: #D2E3FC;\n",
              "    }\n",
              "\n",
              "    [theme=dark] .colab-df-convert:hover {\n",
              "      background-color: #434B5C;\n",
              "      box-shadow: 0px 1px 3px 1px rgba(0, 0, 0, 0.15);\n",
              "      filter: drop-shadow(0px 1px 2px rgba(0, 0, 0, 0.3));\n",
              "      fill: #FFFFFF;\n",
              "    }\n",
              "  </style>\n",
              "\n",
              "      <script>\n",
              "        const buttonEl =\n",
              "          document.querySelector('#df-6ed838f4-7f7e-4215-a65e-ca1276233005 button.colab-df-convert');\n",
              "        buttonEl.style.display =\n",
              "          google.colab.kernel.accessAllowed ? 'block' : 'none';\n",
              "\n",
              "        async function convertToInteractive(key) {\n",
              "          const element = document.querySelector('#df-6ed838f4-7f7e-4215-a65e-ca1276233005');\n",
              "          const dataTable =\n",
              "            await google.colab.kernel.invokeFunction('convertToInteractive',\n",
              "                                                     [key], {});\n",
              "          if (!dataTable) return;\n",
              "\n",
              "          const docLinkHtml = 'Like what you see? Visit the ' +\n",
              "            '<a target=\"_blank\" href=https://colab.research.google.com/notebooks/data_table.ipynb>data table notebook</a>'\n",
              "            + ' to learn more about interactive tables.';\n",
              "          element.innerHTML = '';\n",
              "          dataTable['output_type'] = 'display_data';\n",
              "          await google.colab.output.renderOutput(dataTable, element);\n",
              "          const docLink = document.createElement('div');\n",
              "          docLink.innerHTML = docLinkHtml;\n",
              "          element.appendChild(docLink);\n",
              "        }\n",
              "      </script>\n",
              "    </div>\n",
              "  </div>\n",
              "  "
            ]
          },
          "metadata": {},
          "execution_count": 6
        }
      ],
      "source": [
        "df.rename(columns = {'Unnamed: 1' : 'Introduction' }, inplace=True)\n",
        "# Deleting the first row\n",
        "df.drop(0)"
      ]
    },
    {
      "cell_type": "code",
      "execution_count": 7,
      "metadata": {
        "colab": {
          "base_uri": "https://localhost:8080/"
        },
        "id": "yxf3Zp8wJlyj",
        "outputId": "b4e70bfd-abe0-44d0-e202-7c87b14c83ea"
      },
      "outputs": [
        {
          "output_type": "stream",
          "name": "stdout",
          "text": [
            "Acnesol Gel is an antibiotic that fights bacteria. It is used to treat acne, which appears as spots or pimples on your face, chest or back. This medicine works by attacking the bacteria that cause these pimples.Acnesol Gel is only meant for external use and should be used as advised by your doctor. You should normally wash and dry the affected area before applying a thin layer of the medicine. It should not be applied to broken or damaged skin. Avoid any contact with your eyes, nose, or mouth. Rinse it off with water if you accidentally get it in these areas. It may take several weeks for your symptoms to improve, but you should keep using this medicine regularly. Do not stop using it as soon as your acne starts to get better. Ask your doctor when you should stop treatment.Common side effects like minor itching, burning, or redness of the skin and oily skin may be seen in some people. These are usually temporary and resolve on their own. Consult your doctor if they bother you or do not go away.It is a safe medicine, but you should inform your doctor if you have any problems with your bowels (intestines). Also, inform the doctor if you have ever had bloody diarrhea caused by taking antibiotics or if you are using any other medicines to treat skin conditions. Consult your doctor about using this medicine if you are pregnant or breastfeeding.\n"
          ]
        }
      ],
      "source": [
        "# Converting the DataFrame into a dictionary\n",
        "text_dictionary = {}\n",
        "for i in range(1,len(df['TEST DATASET'])):\n",
        "    text_dictionary[i] = df['Introduction'][i]\n",
        "    \n",
        "print(text_dictionary[1])"
      ]
    },
    {
      "cell_type": "markdown",
      "metadata": {
        "id": "ekGDsUviJlyk"
      },
      "source": [
        "**There are 1000 such description of the different medicines. The task is to give summarised form of these description.**"
      ]
    },
    {
      "cell_type": "code",
      "execution_count": 8,
      "metadata": {
        "id": "1AJB6XXOJlyk"
      },
      "outputs": [],
      "source": [
        "# function to remove stopwords\n",
        "def remove_stopwords(sen):\n",
        "    stop_words = stopwords.words('english')\n",
        "    \n",
        "    sen_new = \" \".join([i for i in sen if i not in stop_words])\n",
        "    return sen_new"
      ]
    },
    {
      "cell_type": "code",
      "execution_count": 9,
      "metadata": {
        "id": "nwFHQKq_Jlyl"
      },
      "outputs": [],
      "source": [
        "# function to make vectors out of the sentences\n",
        "def sentence_vector_func (sentences_cleaned) : \n",
        "    sentence_vector = []\n",
        "    for i in sentences_cleaned:\n",
        "        if len(i) != 0:\n",
        "            v = sum([word_embeddings.get(w, np.zeros((100,))) for w in i.split()])/(len(i.split())+0.001)\n",
        "        else:\n",
        "            v = np.zeros((100,))\n",
        "        sentence_vector.append(v)\n",
        "    \n",
        "    return (sentence_vector)"
      ]
    },
    {
      "cell_type": "code",
      "execution_count": null,
      "metadata": {
        "id": "RH6qWmV4Jlyl"
      },
      "outputs": [],
      "source": [
        ""
      ]
    },
    {
      "cell_type": "code",
      "execution_count": 10,
      "metadata": {
        "id": "UMQj7K4fJlyl"
      },
      "outputs": [],
      "source": [
        "# function to get the summary of the articles\n",
        "# NOTE - Remove '#' infront of print statement for displaying the contents at different stages of the text summarisation process\n",
        "def summary_text (test_text, n = 5):\n",
        "    sentences = []\n",
        "    \n",
        "    # tokenising the text \n",
        "    sentences.append(sent_tokenize(test_text))\n",
        "    # print(sentences)\n",
        "    sentences = [y for x in sentences for y in x] # flatten list\n",
        "    # print(sentences)\n",
        "    \n",
        "    # remove punctuations, numbers and special characters\n",
        "    clean_sentences = pd.Series(sentences).str.replace(\"[^a-z A-Z 0-9]\", \" \")\n",
        "\n",
        "    # make alphabets lowercase\n",
        "    clean_sentences = [s.lower() for s in clean_sentences]\n",
        "    #print(clean_sentences)\n",
        "\n",
        "    \n",
        "    # remove stopwords from the sentences\n",
        "    clean_sentences = [remove_stopwords(r.split()) for r in clean_sentences]\n",
        "    #print(clean_sentences)\n",
        "    \n",
        "    sentence_vectors = sentence_vector_func(clean_sentences)\n",
        "    \n",
        "    # similarity matrix\n",
        "    sim_mat = np.zeros([len(sentences), len(sentences)])\n",
        "    #print(sim_mat)\n",
        "    \n",
        "    # Finding the similarities between the sentences \n",
        "    for i in range(len(sentences)):\n",
        "        for j in range(len(sentences)):\n",
        "            if i != j:\n",
        "                sim_mat[i][j] = cosine_similarity(sentence_vectors[i].reshape(1,100), sentence_vectors[j].reshape(1,100))[0,0]\n",
        "    \n",
        "    \n",
        "    nx_graph = nx.from_numpy_array(sim_mat)\n",
        "    scores = nx.pagerank(nx_graph)\n",
        "    #print(scores)\n",
        "    \n",
        "    ranked_sentences = sorted(((scores[i],s) for i,s in enumerate(sentences)))\n",
        "    # Extract sentences as the summary\n",
        "    summarised_string = ''\n",
        "    for i in range(n):\n",
        "        \n",
        "        try:\n",
        "            summarised_string = summarised_string + str(ranked_sentences[i][1])            \n",
        "        except IndexError:\n",
        "            print (\"Summary Not Available\")\n",
        "    \n",
        "    return (summarised_string)"
      ]
    },
    {
      "cell_type": "code",
      "source": [
        "import nltk\n",
        "nltk.download('punkt')\n",
        "nltk.download('stopwords')"
      ],
      "metadata": {
        "colab": {
          "base_uri": "https://localhost:8080/"
        },
        "id": "ytzkHzoAM3Y-",
        "outputId": "135d2278-8250-49d7-daf5-2b6c20c15a79"
      },
      "execution_count": 15,
      "outputs": [
        {
          "output_type": "stream",
          "name": "stdout",
          "text": [
            "[nltk_data] Downloading package punkt to /root/nltk_data...\n",
            "[nltk_data]   Package punkt is already up-to-date!\n",
            "[nltk_data] Downloading package stopwords to /root/nltk_data...\n",
            "[nltk_data]   Unzipping corpora/stopwords.zip.\n"
          ]
        },
        {
          "output_type": "execute_result",
          "data": {
            "text/plain": [
              "True"
            ]
          },
          "metadata": {},
          "execution_count": 15
        }
      ]
    },
    {
      "cell_type": "code",
      "execution_count": 16,
      "metadata": {
        "colab": {
          "base_uri": "https://localhost:8080/"
        },
        "id": "N6ez0CCSJlym",
        "outputId": "aa19411f-0632-4200-839c-48c9bfb4368b"
      },
      "outputs": [
        {
          "output_type": "stream",
          "name": "stdout",
          "text": [
            "Kindly let me know in how many sentences you want the summary - \n",
            "2\n",
            "Summary of the article -  1\n",
            "Acnesol Gel is an antibiotic that fights bacteria.Also, inform the doctor if you have ever had bloody diarrhea caused by taking antibiotics or if you are using any other medicines to treat skin conditions.\n",
            "========================================================================================================================\n",
            "Summary of the article -  2\n",
            "Ambrodil Syrup is used for treating various respiratory tract disorders associated with excessive mucus.For better results, it is suggested to take it at the same time every day.\n",
            "========================================================================================================================\n",
            "Summary of the article -  3\n",
            "Augmentin 625 Duo Tablet is a penicillin-type of antibiotic that helps your body fight infections caused by bacteria.Do not stop taking it until you have finished, even when you feel better.\n",
            "========================================================================================================================\n",
            "Summary of the article -  4\n",
            "Azithral 500 Tablet is an antibiotic used to treat various types of bacterial infections of the respiratory tract, ear, nose, throat, lungs, skin, and eye in adults and children.Consult your doctor if you find these side effects worry you or persist for a longer duration.Inform your doctor if you have any previous history of allergy or heart problems before taking this medicine.\n",
            "========================================================================================================================\n",
            "Summary of the article -  5\n",
            "Alkasol Oral Solution is a medicine used in the treatment of gout and kidney stones.Also tell your doctor if you have any problems with your heart, kidneys, or liver.\n",
            "========================================================================================================================\n",
            "Summary of the article -  6\n"
          ]
        },
        {
          "output_type": "stream",
          "name": "stderr",
          "text": [
            "/usr/local/lib/python3.7/dist-packages/ipykernel_launcher.py:13: FutureWarning: The default value of regex will change from True to False in a future version.\n",
            "  del sys.path[0]\n",
            "/usr/local/lib/python3.7/dist-packages/ipykernel_launcher.py:13: FutureWarning: The default value of regex will change from True to False in a future version.\n",
            "  del sys.path[0]\n",
            "/usr/local/lib/python3.7/dist-packages/ipykernel_launcher.py:13: FutureWarning: The default value of regex will change from True to False in a future version.\n",
            "  del sys.path[0]\n",
            "/usr/local/lib/python3.7/dist-packages/ipykernel_launcher.py:13: FutureWarning: The default value of regex will change from True to False in a future version.\n",
            "  del sys.path[0]\n",
            "/usr/local/lib/python3.7/dist-packages/ipykernel_launcher.py:13: FutureWarning: The default value of regex will change from True to False in a future version.\n",
            "  del sys.path[0]\n",
            "/usr/local/lib/python3.7/dist-packages/ipykernel_launcher.py:13: FutureWarning: The default value of regex will change from True to False in a future version.\n",
            "  del sys.path[0]\n"
          ]
        },
        {
          "output_type": "stream",
          "name": "stdout",
          "text": [
            "Allegra 120mg Tablet belongs to a group of medicines called antihistamines.Avoid drinking alcohol as it can cause excessive drowsiness with this medicine.\n",
            "========================================================================================================================\n",
            "Summary of the article -  7\n",
            "Ascoril LS Syrup is a combination medicine used in the treatment of cough with mucus.Avoid drinking alcohol while taking this medicine as it can make sleepiness worse.Never support self-medication or recommend your medicine to another person.\n",
            "========================================================================================================================\n",
            "Summary of the article -  8\n",
            "Aciloc 150 Tablet is a medicine that reduces the amount of excess acid make by your stomach.Also tell your doctor what other medicines you are taking as some may affect, or be affected by, this medicine.\n",
            "========================================================================================================================\n",
            "Summary of the article -  9\n",
            "Avil 25 Tablet is an antiallergic medication used in the treatment of various allergic conditions.Avoid driving or attention-seeking activity.\n",
            "========================================================================================================================\n",
            "Summary of the article -  10\n"
          ]
        },
        {
          "output_type": "stream",
          "name": "stderr",
          "text": [
            "/usr/local/lib/python3.7/dist-packages/ipykernel_launcher.py:13: FutureWarning: The default value of regex will change from True to False in a future version.\n",
            "  del sys.path[0]\n",
            "/usr/local/lib/python3.7/dist-packages/ipykernel_launcher.py:13: FutureWarning: The default value of regex will change from True to False in a future version.\n",
            "  del sys.path[0]\n",
            "/usr/local/lib/python3.7/dist-packages/ipykernel_launcher.py:13: FutureWarning: The default value of regex will change from True to False in a future version.\n",
            "  del sys.path[0]\n",
            "/usr/local/lib/python3.7/dist-packages/ipykernel_launcher.py:13: FutureWarning: The default value of regex will change from True to False in a future version.\n",
            "  del sys.path[0]\n"
          ]
        },
        {
          "output_type": "stream",
          "name": "stdout",
          "text": [
            "Azee 500 Tablet is an antibiotic used to treat various types of bacterial infections of the respiratory tract, ear, nose, throat, lungs, skin, and eye in adults and children.Consult your doctor if you find these side effects worry you or persist for a longer duration.Inform your doctor if you have any previous history of allergy or heart problems before taking this medicine.\n",
            "========================================================================================================================\n",
            "Summary of the article -  11\n",
            "Aciloc RD 20 Tablet is a prescription medicine used to treat gastroesophageal reflux disease (Acid reflux) and peptic ulcer disease by relieving the symptoms such as heartburn, stomach pain, or irritation.Avoid drinking alcohol while taking this medicine as it can worsen your dizziness.\n",
            "========================================================================================================================\n",
            "Summary of the article -  12\n",
            "Arcolane 2% Scalp Solution belongs to a group of medicines called antifungals.Avoid direct contact with your eyes.\n",
            "========================================================================================================================\n",
            "Summary of the article -  13\n",
            "Atarax 25mg Tablet is an antihistamine used to treat symptoms of skin allergy like itching, swelling, and rashes.Generally, it is advised to avoid alcohol while on treatment.\n",
            "========================================================================================================================\n",
            "Summary of the article -  14\n",
            "Altraday Capsule SR is a combination of two medicines.Do not take more or use it for a longer duration than recommended by the doctor.The most common side effects of this medicine include nausea, flatulence, indigestion, diarrhea, and constipation.\n",
            "========================================================================================================================\n",
            "Summary of the article -  15\n",
            "Anovate Cream is a combination medicine used for the treatment of piles (hemorrhoids).Avoid getting it into your eyes or mouth.\n",
            "========================================================================================================================\n",
            "Summary of the article -  16\n"
          ]
        },
        {
          "output_type": "stream",
          "name": "stderr",
          "text": [
            "/usr/local/lib/python3.7/dist-packages/ipykernel_launcher.py:13: FutureWarning: The default value of regex will change from True to False in a future version.\n",
            "  del sys.path[0]\n",
            "/usr/local/lib/python3.7/dist-packages/ipykernel_launcher.py:13: FutureWarning: The default value of regex will change from True to False in a future version.\n",
            "  del sys.path[0]\n",
            "/usr/local/lib/python3.7/dist-packages/ipykernel_launcher.py:13: FutureWarning: The default value of regex will change from True to False in a future version.\n",
            "  del sys.path[0]\n",
            "/usr/local/lib/python3.7/dist-packages/ipykernel_launcher.py:13: FutureWarning: The default value of regex will change from True to False in a future version.\n",
            "  del sys.path[0]\n",
            "/usr/local/lib/python3.7/dist-packages/ipykernel_launcher.py:13: FutureWarning: The default value of regex will change from True to False in a future version.\n",
            "  del sys.path[0]\n",
            "/usr/local/lib/python3.7/dist-packages/ipykernel_launcher.py:13: FutureWarning: The default value of regex will change from True to False in a future version.\n",
            "  del sys.path[0]\n"
          ]
        },
        {
          "output_type": "stream",
          "name": "stdout",
          "text": [
            "Ambrodil-S Syrup is a combination medicine used in the treatment of cough.Avoid drinking alcohol while taking this medicine as it can worsen your sleepiness.Never support self-medication or recommend your medicine to another person.\n",
            "========================================================================================================================\n",
            "Summary of the article -  17\n",
            "Allegra-M Tablet is a combination medicine used in the treatment of allergy symptoms such as runny nose, stuffy nose, sneezing, watery eyes and congestion or stuffiness.Allegra-M Tablet is taken with or without food in a dose and duration as advised by the doctor.Avoid drinking alcohol while taking this medicine as it can worsen your sleepiness.Never support self-medication or recommend your medicine to another person.\n",
            "========================================================================================================================\n",
            "Summary of the article -  18\n",
            "Ascoril D Plus Syrup Sugar Free is a combination medicine used in the treatment of dry cough.Avoid drinking alcohol while taking this medicine as it can worsen your sleepiness.Never support self-medication or recommend your medicine to another person.\n",
            "========================================================================================================================\n",
            "Summary of the article -  19\n",
            "Also, pregnant women and breastfeeding mothers should consult a doctor before taking it.Arkamin Tablet is a medicine used in the treatment of hypertension (high blood pressure).\n",
            "========================================================================================================================\n",
            "Summary of the article -  20\n",
            "Axcer  90mg Tablet belongs to a group of medicines called antiplatelets or blood thinners.Axcer  90mg Tablet may be taken with or without food and should be taken regularly at the same time each day.\n",
            "========================================================================================================================\n",
            "Summary of the article -  21\n"
          ]
        },
        {
          "output_type": "stream",
          "name": "stderr",
          "text": [
            "/usr/local/lib/python3.7/dist-packages/ipykernel_launcher.py:13: FutureWarning: The default value of regex will change from True to False in a future version.\n",
            "  del sys.path[0]\n",
            "/usr/local/lib/python3.7/dist-packages/ipykernel_launcher.py:13: FutureWarning: The default value of regex will change from True to False in a future version.\n",
            "  del sys.path[0]\n",
            "/usr/local/lib/python3.7/dist-packages/ipykernel_launcher.py:13: FutureWarning: The default value of regex will change from True to False in a future version.\n",
            "  del sys.path[0]\n",
            "/usr/local/lib/python3.7/dist-packages/ipykernel_launcher.py:13: FutureWarning: The default value of regex will change from True to False in a future version.\n",
            "  del sys.path[0]\n",
            "/usr/local/lib/python3.7/dist-packages/ipykernel_launcher.py:13: FutureWarning: The default value of regex will change from True to False in a future version.\n",
            "  del sys.path[0]\n"
          ]
        },
        {
          "output_type": "stream",
          "name": "stdout",
          "text": [
            "Androanagen Solution is used to treat hair loss.Clean and dry your scalp before using it.\n",
            "========================================================================================================================\n",
            "Summary of the article -  22\n",
            ").Before using this medicine, it is important to tell your doctor if you are taking or have recently taken any other medicines for the same disease or other diseases.A thin layer of the medicine should be applied only to the affected areas of the skin with clean and dry hands.\n",
            "========================================================================================================================\n",
            "Summary of the article -  23\n",
            "Asthakind-DX Syrup Sugar Free is a combination medicine used in the treatment of dry cough.Avoid drinking alcohol while taking this medicine as it can worsen your sleepiness.Never support self-medication or recommend your medicine to another person.\n",
            "========================================================================================================================\n",
            "Summary of the article -  24\n",
            "Allegra 180mg Tablet belongs to a group of medicines called antihistamines.Avoid drinking alcohol as it can cause excessive drowsiness with this medicine.\n",
            "========================================================================================================================\n",
            "Summary of the article -  25\n"
          ]
        },
        {
          "output_type": "stream",
          "name": "stderr",
          "text": [
            "/usr/local/lib/python3.7/dist-packages/ipykernel_launcher.py:13: FutureWarning: The default value of regex will change from True to False in a future version.\n",
            "  del sys.path[0]\n",
            "/usr/local/lib/python3.7/dist-packages/ipykernel_launcher.py:13: FutureWarning: The default value of regex will change from True to False in a future version.\n",
            "  del sys.path[0]\n",
            "/usr/local/lib/python3.7/dist-packages/ipykernel_launcher.py:13: FutureWarning: The default value of regex will change from True to False in a future version.\n",
            "  del sys.path[0]\n",
            "/usr/local/lib/python3.7/dist-packages/ipykernel_launcher.py:13: FutureWarning: The default value of regex will change from True to False in a future version.\n",
            "  del sys.path[0]\n"
          ]
        },
        {
          "output_type": "stream",
          "name": "stdout",
          "text": [
            "Amlokind-AT Tablet is used to treat hypertension (high blood pressure).Even if you feel well, do not stop this medicine on your own because high blood pressure often has no symptoms.\n",
            "========================================================================================================================\n",
            "Summary of the article -  26\n",
            "Ativan 2mg Tablet is a prescription medicine used to treat anxiety disorders such as generalized anxiety disorder (excessive worry or restlessness), obsessive compulsive disorder (OCD), panic attacks and social phobias.However, take it at the same time each day as this helps to maintain a consistent level of medicine in the body.\n",
            "========================================================================================================================\n",
            "Summary of the article -  27\n",
            "Atarax 10mg Tablet is an antihistamine used to treat symptoms of skin allergy like itching, swelling, and rashes.Generally, it is advised to avoid alcohol while on treatment.\n",
            "========================================================================================================================\n",
            "Summary of the article -  28\n",
            "Aptimust Syrup is a combination medicine used to treat loss of appetite.Avoid drinking alcohol while taking this medicine as it can worsen your sleepiness.Never support self-medication or recommend your medicine to another person.\n",
            "========================================================================================================================\n",
            "Summary of the article -  29\n",
            "Alex Syrup is a combination medicine used in the treatment of dry cough.Avoid drinking alcohol while taking this medicine as it can worsen your sleepiness.Never support self-medication or recommend your medicine to another person.\n",
            "========================================================================================================================\n",
            "Summary of the article -  30\n"
          ]
        },
        {
          "output_type": "stream",
          "name": "stderr",
          "text": [
            "/usr/local/lib/python3.7/dist-packages/ipykernel_launcher.py:13: FutureWarning: The default value of regex will change from True to False in a future version.\n",
            "  del sys.path[0]\n",
            "/usr/local/lib/python3.7/dist-packages/ipykernel_launcher.py:13: FutureWarning: The default value of regex will change from True to False in a future version.\n",
            "  del sys.path[0]\n",
            "/usr/local/lib/python3.7/dist-packages/ipykernel_launcher.py:13: FutureWarning: The default value of regex will change from True to False in a future version.\n",
            "  del sys.path[0]\n",
            "/usr/local/lib/python3.7/dist-packages/ipykernel_launcher.py:13: FutureWarning: The default value of regex will change from True to False in a future version.\n",
            "  del sys.path[0]\n",
            "/usr/local/lib/python3.7/dist-packages/ipykernel_launcher.py:13: FutureWarning: The default value of regex will change from True to False in a future version.\n",
            "  del sys.path[0]\n"
          ]
        },
        {
          "output_type": "stream",
          "name": "stdout",
          "text": [
            "), you must seek immediate medical help.Before taking this medicine, you should tell your doctor if you are taking any medicines for any health condition.Akt 4 Kit is a combination medicine used in the treatment of tuberculosis.\n",
            "========================================================================================================================\n",
            "Summary of the article -  31\n",
            "Alprax 0.25 Tablet belongs to a class of medicines known as benzodiazepines.However, it is advised to take it at the same time each day as this helps to maintain a consistent level of medicine in the body.\n",
            "========================================================================================================================\n",
            "Summary of the article -  32\n",
            "A-Ret 0.1% Gel is a form of vitamin A that is used to treat acne which appears as spots or pimples on your face, chest or back.Consult your doctor again if you do not notice any improvement after a few weeks.\n",
            "========================================================================================================================\n",
            "Summary of the article -  33\n",
            "Aldactone Tablet is a medicine known as a diuretic (water pill).Also let your healthcare team know about all other medications you are using as they may affect, or be affected by this medicine.\n",
            "========================================================================================================================\n",
            "Summary of the article -  34\n"
          ]
        },
        {
          "output_type": "stream",
          "name": "stderr",
          "text": [
            "/usr/local/lib/python3.7/dist-packages/ipykernel_launcher.py:13: FutureWarning: The default value of regex will change from True to False in a future version.\n",
            "  del sys.path[0]\n",
            "/usr/local/lib/python3.7/dist-packages/ipykernel_launcher.py:13: FutureWarning: The default value of regex will change from True to False in a future version.\n",
            "  del sys.path[0]\n",
            "/usr/local/lib/python3.7/dist-packages/ipykernel_launcher.py:13: FutureWarning: The default value of regex will change from True to False in a future version.\n",
            "  del sys.path[0]\n",
            "/usr/local/lib/python3.7/dist-packages/ipykernel_launcher.py:13: FutureWarning: The default value of regex will change from True to False in a future version.\n",
            "  del sys.path[0]\n"
          ]
        },
        {
          "output_type": "stream",
          "name": "stdout",
          "text": [
            "AF Kit Tablet is a combination medicine used in syndromic management of vaginal discharge.In case you have missed any doses, take it as soon as you remember it.\n",
            "========================================================================================================================\n",
            "Summary of the article -  35\n",
            "Azoran Tablet belongs to a group of medicines called immunosuppressants.Because it suppresses your immune system, you may catch more infections than usual.\n",
            "========================================================================================================================\n",
            "Summary of the article -  36\n",
            "Augmentin DDS Suspension is a penicillin-type of antibiotic that helps your body fight infections caused by bacteria.Do not stop taking it until you have finished, even when you feel better.\n",
            "========================================================================================================================\n",
            "Summary of the article -  37\n",
            "Also, pregnant women and breastfeeding mothers should not take this medicine as it may harm the developing baby.Atorva 40 Tablet belongs to a group of medicines called statins.\n",
            "========================================================================================================================\n",
            "Summary of the article -  38\n"
          ]
        },
        {
          "output_type": "stream",
          "name": "stderr",
          "text": [
            "/usr/local/lib/python3.7/dist-packages/ipykernel_launcher.py:13: FutureWarning: The default value of regex will change from True to False in a future version.\n",
            "  del sys.path[0]\n",
            "/usr/local/lib/python3.7/dist-packages/ipykernel_launcher.py:13: FutureWarning: The default value of regex will change from True to False in a future version.\n",
            "  del sys.path[0]\n",
            "/usr/local/lib/python3.7/dist-packages/ipykernel_launcher.py:13: FutureWarning: The default value of regex will change from True to False in a future version.\n",
            "  del sys.path[0]\n",
            "/usr/local/lib/python3.7/dist-packages/ipykernel_launcher.py:13: FutureWarning: The default value of regex will change from True to False in a future version.\n",
            "  del sys.path[0]\n"
          ]
        },
        {
          "output_type": "stream",
          "name": "stdout",
          "text": [
            "Amlokind 5 Tablet belongs to a class of medicines known as a calcium channel blockers.Consult your doctor if any of these side effects bother you or do not go away.Before taking it, let your doctor know if you have any liver, heart or kidney problems.\n",
            "========================================================================================================================\n",
            "Summary of the article -  39\n",
            "AB Phylline Capsule is used to treat and prevent symptoms of asthma and chronic obstructive pulmonary disorder (a lung disorder in which flow of air to the lung is blocked).But take it at the same time every day to get the most benefit.\n",
            "========================================================================================================================\n",
            "Summary of the article -  40\n",
            "Also, make sure your doctor knows if you are pregnant or breast-feeding before taking this medicine.Asthalin 100mcg Inhaler belongs to a group of medicines called fast-acting bronchodilators or “relievers”.\n",
            "========================================================================================================================\n",
            "Summary of the article -  41\n",
            "Alfoo 10mg Tablet PR is an alpha adrenergic antagonist that is used in the treatment of benign prostatic hyperplasia.However, it does not decrease the size of the prostate.Alfoo 10mg Tablet PR is advised to take it in a dose and duration as per prescription.\n",
            "========================================================================================================================\n",
            "Summary of the article -  42\n",
            "Alprax 0.5mg Tablet SR belongs to a class of medicines known as benzodiazepines.However, it is advised to take it at the same time each day as this helps to maintain a consistent level of medicine in the body.\n",
            "========================================================================================================================\n",
            "Summary of the article -  43\n"
          ]
        },
        {
          "output_type": "stream",
          "name": "stderr",
          "text": [
            "/usr/local/lib/python3.7/dist-packages/ipykernel_launcher.py:13: FutureWarning: The default value of regex will change from True to False in a future version.\n",
            "  del sys.path[0]\n",
            "/usr/local/lib/python3.7/dist-packages/ipykernel_launcher.py:13: FutureWarning: The default value of regex will change from True to False in a future version.\n",
            "  del sys.path[0]\n",
            "/usr/local/lib/python3.7/dist-packages/ipykernel_launcher.py:13: FutureWarning: The default value of regex will change from True to False in a future version.\n",
            "  del sys.path[0]\n",
            "/usr/local/lib/python3.7/dist-packages/ipykernel_launcher.py:13: FutureWarning: The default value of regex will change from True to False in a future version.\n",
            "  del sys.path[0]\n",
            "/usr/local/lib/python3.7/dist-packages/ipykernel_launcher.py:13: FutureWarning: The default value of regex will change from True to False in a future version.\n",
            "  del sys.path[0]\n"
          ]
        },
        {
          "output_type": "stream",
          "name": "stdout",
          "text": [
            "Amoxyclav 625 Tablet is a penicillin-type of antibiotic that helps your body fight infections caused by bacteria.Do not stop taking it until you have finished, even when you feel better.\n",
            "========================================================================================================================\n",
            "Summary of the article -  44\n",
            "Alex Junior Syrup is a combination medicine used in the treatment of dry cough.Avoid drinking alcohol while taking this medicine as it can make dizziness worse.It is beneficial to have plenty of fluids while taking this medication.\n",
            "========================================================================================================================\n",
            "Summary of the article -  45\n",
            "Acitrom 2 Tablet is an oral anticoagulant which helps to prevent formation of harmful blood clots in the legs, lungs, brain and heart.Also, let your doctor know if you are pregnant or breastfeeding and about all the other medications that you are taking regularly.\n",
            "========================================================================================================================\n",
            "Summary of the article -  46\n",
            "Anafortan 25 mg/300 mg Tablet is a combination medicine used in the treatment of abdominal pain.Avoid drinking alcohol while taking this medicine as it can worsen your dizziness.Before taking this medicine, you should tell your doctor if you are pregnant, planning pregnancy or breastfeeding.\n",
            "========================================================================================================================\n",
            "Summary of the article -  47\n",
            "Ascoril LS Junior Syrup is a combination medicine used in the treatment of cough with mucus.Avoid drinking alcohol while taking this medicine as it can make sleepiness worse.Never support self-medication or recommend your medicine to another person.\n",
            "========================================================================================================================\n",
            "Summary of the article -  48\n",
            "Azithral 200 Liquid is an antibiotic used to treat various types of bacterial infections of the respiratory tract, ear, nose, throat, lungs, skin, and eye in adults and children.Consult your doctor if you find these side effects worry you or persist for a longer duration.Inform your doctor if you have any previous history of allergy or heart problems before taking this medicine.\n",
            "========================================================================================================================\n",
            "Summary of the article -  49\n"
          ]
        },
        {
          "output_type": "stream",
          "name": "stderr",
          "text": [
            "/usr/local/lib/python3.7/dist-packages/ipykernel_launcher.py:13: FutureWarning: The default value of regex will change from True to False in a future version.\n",
            "  del sys.path[0]\n",
            "/usr/local/lib/python3.7/dist-packages/ipykernel_launcher.py:13: FutureWarning: The default value of regex will change from True to False in a future version.\n",
            "  del sys.path[0]\n",
            "/usr/local/lib/python3.7/dist-packages/ipykernel_launcher.py:13: FutureWarning: The default value of regex will change from True to False in a future version.\n",
            "  del sys.path[0]\n",
            "/usr/local/lib/python3.7/dist-packages/ipykernel_launcher.py:13: FutureWarning: The default value of regex will change from True to False in a future version.\n",
            "  del sys.path[0]\n",
            "/usr/local/lib/python3.7/dist-packages/ipykernel_launcher.py:13: FutureWarning: The default value of regex will change from True to False in a future version.\n",
            "  del sys.path[0]\n",
            "/usr/local/lib/python3.7/dist-packages/ipykernel_launcher.py:13: FutureWarning: The default value of regex will change from True to False in a future version.\n",
            "  del sys.path[0]\n"
          ]
        },
        {
          "output_type": "stream",
          "name": "stdout",
          "text": [
            "Avomine Tablet used in the treatment of various allergic conditions like runny nose, sneezing, congestion, itching and watery eyes.Generally, it is advised to avoid alcohol while on treatment.\n",
            "========================================================================================================================\n",
            "Summary of the article -  50\n",
            "Also, make sure your doctor knows if you are pregnant or breastfeeding before taking this medicine.Asthalin Syrup is used to relieve symptoms of asthma and chronic obstructive pulmonary disease (COPD) such as coughing, wheezing and breathlessness.\n",
            "========================================================================================================================\n",
            "Summary of the article -  51\n",
            "Acnovate Gel is a combination of two medicines that effectively treats acne.Ask your doctor when you should stop treatment.Side effects like minor itching, burning, or redness of the skin and oily skin may be seen in some people.\n",
            "========================================================================================================================\n",
            "Summary of the article -  52\n",
            "Atarax Syrup is an antihistamine used to treat symptoms of skin allergy like itching, swelling, and rashes.Generally, it is advised to avoid alcohol while on treatment.\n",
            "========================================================================================================================\n",
            "Summary of the article -  53\n",
            "Also, pregnant women and breastfeeding mothers should not take this medicine as it may harm the developing baby.Aztor 10 Tablet belongs to a group of medicines called statins.\n",
            "========================================================================================================================\n",
            "Summary of the article -  54\n"
          ]
        },
        {
          "output_type": "stream",
          "name": "stderr",
          "text": [
            "/usr/local/lib/python3.7/dist-packages/ipykernel_launcher.py:13: FutureWarning: The default value of regex will change from True to False in a future version.\n",
            "  del sys.path[0]\n",
            "/usr/local/lib/python3.7/dist-packages/ipykernel_launcher.py:13: FutureWarning: The default value of regex will change from True to False in a future version.\n",
            "  del sys.path[0]\n",
            "/usr/local/lib/python3.7/dist-packages/ipykernel_launcher.py:13: FutureWarning: The default value of regex will change from True to False in a future version.\n",
            "  del sys.path[0]\n",
            "/usr/local/lib/python3.7/dist-packages/ipykernel_launcher.py:13: FutureWarning: The default value of regex will change from True to False in a future version.\n",
            "  del sys.path[0]\n",
            "/usr/local/lib/python3.7/dist-packages/ipykernel_launcher.py:13: FutureWarning: The default value of regex will change from True to False in a future version.\n",
            "  del sys.path[0]\n"
          ]
        },
        {
          "output_type": "stream",
          "name": "stdout",
          "text": [
            "Amifru 40 Tablet is a combination of two medicines used to reduce excess fluid levels in the body.Before taking this medicine, tell your doctor if you have any liver or  kidney disease.\n",
            "========================================================================================================================\n",
            "Summary of the article -  55\n",
            "), you must seek immediate medical help.Before taking this medicine, you should tell your doctor if you are taking any medicines for any health condition.Akurit 4 Tablet is a combination medicine used in the treatment of tuberculosis.\n",
            "========================================================================================================================\n",
            "Summary of the article -  56\n",
            "Alerid-D Tablet is a combination medicine used in the treatment of allergy symptoms like runny nose, sneezing, throat irritation, watery eyes and congestion or stuffiness in the nose.Alerid-D Tablet is taken with or without food in a dose and duration as advised by the doctor.Also tell your doctor if you are pregnant, planning pregnancy or breastfeeding.\n",
            "========================================================================================================================\n",
            "Summary of the article -  57\n",
            "Althrocin 500 Tablet is an antibiotic used to treat various types of infections.Consult your doctor if you find these side effects do not resolve or persist for a longer duration.Inform your doctor if you have any previous history of allergy or heart problems before taking this medicine.\n",
            "========================================================================================================================\n",
            "Summary of the article -  58\n",
            "Ativan 1mg Tablet is a prescription medicine used to treat anxiety disorders such as generalized anxiety disorder (excessive worry or restlessness), obsessive compulsive disorder (OCD), panic attacks and social phobias.However, take it at the same time each day as this helps to maintain a consistent level of medicine in the body.\n",
            "========================================================================================================================\n",
            "Summary of the article -  59\n",
            "Aceclo Plus Tablet is a pain relieving medicine.Before taking it, let your doctor know if you have any problems with your heart, kidneys, liver, or have stomach ulcers.\n",
            "========================================================================================================================\n",
            "Summary of the article -  60\n",
            "Alaspan Tablet belongs to a group of medicines called antihistamines.Avoid drinking alcohol as it can cause excessive drowsiness with this medicine.\n",
            "========================================================================================================================\n",
            "Summary of the article -  61\n"
          ]
        },
        {
          "output_type": "stream",
          "name": "stderr",
          "text": [
            "/usr/local/lib/python3.7/dist-packages/ipykernel_launcher.py:13: FutureWarning: The default value of regex will change from True to False in a future version.\n",
            "  del sys.path[0]\n",
            "/usr/local/lib/python3.7/dist-packages/ipykernel_launcher.py:13: FutureWarning: The default value of regex will change from True to False in a future version.\n",
            "  del sys.path[0]\n",
            "/usr/local/lib/python3.7/dist-packages/ipykernel_launcher.py:13: FutureWarning: The default value of regex will change from True to False in a future version.\n",
            "  del sys.path[0]\n",
            "/usr/local/lib/python3.7/dist-packages/ipykernel_launcher.py:13: FutureWarning: The default value of regex will change from True to False in a future version.\n",
            "  del sys.path[0]\n",
            "/usr/local/lib/python3.7/dist-packages/ipykernel_launcher.py:13: FutureWarning: The default value of regex will change from True to False in a future version.\n",
            "  del sys.path[0]\n",
            "/usr/local/lib/python3.7/dist-packages/ipykernel_launcher.py:13: FutureWarning: The default value of regex will change from True to False in a future version.\n",
            "  del sys.path[0]\n",
            "/usr/local/lib/python3.7/dist-packages/ipykernel_launcher.py:13: FutureWarning: The default value of regex will change from True to False in a future version.\n",
            "  del sys.path[0]\n"
          ]
        },
        {
          "output_type": "stream",
          "name": "stdout",
          "text": [
            "Amaryl 1mg Tablet is a medicine used to treat type 2 diabetes mellitus in adults.Before taking this medicine, tell your doctor if you have ever had heart disease, thyroid disease, or some hormonal conditions, as it may not be suitable.\n",
            "========================================================================================================================\n",
            "Summary of the article -  62\n",
            ").Before using this medicine, it is important to tell your doctor if you are taking or have recently taken any other medicines for the same disease or other diseases.A thin layer of the medicine should be applied only to the affected areas of the skin with clean and dry hands.\n",
            "========================================================================================================================\n",
            "Summary of the article -  63\n",
            "), you must seek immediate medical help.Before taking this medicine, you should tell your doctor if you are taking any medicines for any health condition.Ampoxin 500 Capsule is a combination medicine that is used to treat various types of bacterial infections.\n",
            "========================================================================================================================\n",
            "Summary of the article -  64\n"
          ]
        },
        {
          "output_type": "stream",
          "name": "stderr",
          "text": [
            "/usr/local/lib/python3.7/dist-packages/ipykernel_launcher.py:13: FutureWarning: The default value of regex will change from True to False in a future version.\n",
            "  del sys.path[0]\n",
            "/usr/local/lib/python3.7/dist-packages/ipykernel_launcher.py:13: FutureWarning: The default value of regex will change from True to False in a future version.\n",
            "  del sys.path[0]\n",
            "/usr/local/lib/python3.7/dist-packages/ipykernel_launcher.py:13: FutureWarning: The default value of regex will change from True to False in a future version.\n",
            "  del sys.path[0]\n"
          ]
        },
        {
          "output_type": "stream",
          "name": "stdout",
          "text": [
            "Allercet-DC Tablet is a combination medicine used in the treatment of allergy symptoms like runny nose, sneezing, throat irritation, watery eyes and congestion or stuffiness in the nose.Allercet-DC Tablet is taken with or without food in a dose and duration as advised by the doctor.Also tell your doctor if you are pregnant, planning pregnancy or breastfeeding.\n",
            "========================================================================================================================\n",
            "Summary of the article -  65\n",
            "Amlong Tablet belongs to a class of medicines known as a calcium channel blockers.Consult your doctor if any of these side effects bother you or do not go away.Before taking it, let your doctor know if you have any liver, heart or kidney problems.\n",
            "========================================================================================================================\n",
            "Summary of the article -  66\n",
            "Acemiz-S Tablet is a combination medicine used to relieve pain and swelling in various conditions like muscle pain, joint pain and postoperative pain.Acemiz-S Tablet is not recommended if you are pregnant or breastfeeding.\n",
            "========================================================================================================================\n",
            "Summary of the article -  67\n",
            "Augmentin Duo Oral Suspension is a penicillin-type of antibiotic that helps your body fight infections caused by bacteria.Do not stop taking it until you have finished, even when you feel better.\n",
            "========================================================================================================================\n",
            "Summary of the article -  68\n",
            "Ascoril SF Expectorant is used in the treatment of cough with mucus.Avoid drinking alcohol while taking this medicine as it can make sleepiness worse.Never support self-medication or recommend your medicine to another person.\n",
            "========================================================================================================================\n",
            "Summary of the article -  69\n",
            "Ambrodil-LX Syrup is a combination medicine used in the treatment of cough with mucus.Avoid drinking alcohol while taking this medicine as it can make sleepiness worse.Never support self-medication or recommend your medicine to another person.\n",
            "========================================================================================================================\n",
            "Summary of the article -  70\n",
            "Acivir 400 DT Tablet is an antiviral medicine.Dissolve it in a glass of water before taking it.\n",
            "========================================================================================================================\n",
            "Summary of the article -  71\n"
          ]
        },
        {
          "output_type": "stream",
          "name": "stderr",
          "text": [
            "/usr/local/lib/python3.7/dist-packages/ipykernel_launcher.py:13: FutureWarning: The default value of regex will change from True to False in a future version.\n",
            "  del sys.path[0]\n",
            "/usr/local/lib/python3.7/dist-packages/ipykernel_launcher.py:13: FutureWarning: The default value of regex will change from True to False in a future version.\n",
            "  del sys.path[0]\n",
            "/usr/local/lib/python3.7/dist-packages/ipykernel_launcher.py:13: FutureWarning: The default value of regex will change from True to False in a future version.\n",
            "  del sys.path[0]\n",
            "/usr/local/lib/python3.7/dist-packages/ipykernel_launcher.py:13: FutureWarning: The default value of regex will change from True to False in a future version.\n",
            "  del sys.path[0]\n",
            "/usr/local/lib/python3.7/dist-packages/ipykernel_launcher.py:13: FutureWarning: The default value of regex will change from True to False in a future version.\n",
            "  del sys.path[0]\n",
            "/usr/local/lib/python3.7/dist-packages/ipykernel_launcher.py:13: FutureWarning: The default value of regex will change from True to False in a future version.\n",
            "  del sys.path[0]\n",
            "/usr/local/lib/python3.7/dist-packages/ipykernel_launcher.py:13: FutureWarning: The default value of regex will change from True to False in a future version.\n",
            "  del sys.path[0]\n"
          ]
        },
        {
          "output_type": "stream",
          "name": "stdout",
          "text": [
            "Amitone 10mg Tablet is used in the treatment of depression.Different doses of this medicine help in treating and preventing different problems such as chronic nerve-related (neuropathic) pain, migraine, tension-type headache and nighttime bedwetting (nocturnal enuresis) by older children (6 years and above).Amitone 10mg Tablet is known as a tricyclic antidepressant.\n",
            "========================================================================================================================\n",
            "Summary of the article -  72\n",
            "Asthakind Expectorant Sugar Free is used in the treatment of cough with mucus.Avoid drinking alcohol while taking this medicine as it can make sleepiness worse.Never support self-medication or recommend your medicine to another person.\n",
            "========================================================================================================================\n",
            "Summary of the article -  73\n",
            "Antiflu 75mg Capsule is an antiviral medicine used to treat and prevent influenza (flu) as well as, swine flu (H1N1 virus).Avoid drinking alcohol as it may increase your risk of liver damage.\n",
            "========================================================================================================================\n",
            "Summary of the article -  74\n",
            "AF 400 Tablet belongs to a group of medicines called antifungals.Avoid taking antacid treatments within one hour before or two hours after you take it.The most common side effects of this medicine include stomach pain, headache and feeling sick (nausea).\n",
            "========================================================================================================================\n",
            "Summary of the article -  75\n",
            "Anobliss Cream is a combination of two medicines used in the treatment anal fissures (tear in the lining of anus).Avoid getting this medicine into your eyes, nose or mouth.\n",
            "========================================================================================================================\n",
            "Summary of the article -  76\n"
          ]
        },
        {
          "output_type": "stream",
          "name": "stderr",
          "text": [
            "/usr/local/lib/python3.7/dist-packages/ipykernel_launcher.py:13: FutureWarning: The default value of regex will change from True to False in a future version.\n",
            "  del sys.path[0]\n",
            "/usr/local/lib/python3.7/dist-packages/ipykernel_launcher.py:13: FutureWarning: The default value of regex will change from True to False in a future version.\n",
            "  del sys.path[0]\n",
            "/usr/local/lib/python3.7/dist-packages/ipykernel_launcher.py:13: FutureWarning: The default value of regex will change from True to False in a future version.\n",
            "  del sys.path[0]\n",
            "/usr/local/lib/python3.7/dist-packages/ipykernel_launcher.py:13: FutureWarning: The default value of regex will change from True to False in a future version.\n",
            "  del sys.path[0]\n",
            "/usr/local/lib/python3.7/dist-packages/ipykernel_launcher.py:13: FutureWarning: The default value of regex will change from True to False in a future version.\n",
            "  del sys.path[0]\n"
          ]
        },
        {
          "output_type": "stream",
          "name": "stdout",
          "text": [
            "Acenac-P  Tablet is a pain relieving medicine.Before taking it, let your doctor know if you have any problems with your heart, kidneys, liver, or have stomach ulcers.\n",
            "========================================================================================================================\n",
            "Summary of the article -  77\n",
            "Additionally, it helps to eliminate a bacteria known as H. pylori in people with peptic ulcer disease.Almox 500 Capsule is a penicillin-type of antibiotic used to treat a variety of bacterial infections.\n",
            "========================================================================================================================\n",
            "Summary of the article -  78\n",
            "Ace-Proxyvon CR Tablet is a combination of two medicines.Do not take more or use it for a longer duration than recommended by the doctor.The most common side effects of this medicine include nausea, flatulence, indigestion, diarrhea, and constipation.\n",
            "========================================================================================================================\n",
            "Summary of the article -  79\n",
            "Arachitol 6L Injection helps your body to absorb a mineral called calcium, which is important for maintaining strong bones.If you are using it to treat osteoporosis you will be prescribed other medicines as well.\n",
            "========================================================================================================================\n",
            "Summary of the article -  80\n",
            "Summary Not Available\n",
            "Anal fissure\n",
            "========================================================================================================================\n",
            "Summary of the article -  81\n",
            "A thin layer of the medicine should be applied only to the affected areas of the skin with clean and dry hands.AF-K Lotion is a combination of two antifungal medicines that effectively treat fungal skin infections and dandruff.\n",
            "========================================================================================================================\n",
            "Summary of the article -  82\n",
            "Acivir Cream is an antiviral medicine which helps in treating skin infections caused by Herpes simplex virus such as herpes labialis.Do not touch the sores unnecessarily with your hands or towel, to avoid spreading the infection.Some common side effects include burning, irritation, itching and redness of the skin, at the site of application.\n",
            "========================================================================================================================\n",
            "Summary of the article -  83\n"
          ]
        },
        {
          "output_type": "stream",
          "name": "stderr",
          "text": [
            "/usr/local/lib/python3.7/dist-packages/ipykernel_launcher.py:13: FutureWarning: The default value of regex will change from True to False in a future version.\n",
            "  del sys.path[0]\n",
            "/usr/local/lib/python3.7/dist-packages/ipykernel_launcher.py:13: FutureWarning: The default value of regex will change from True to False in a future version.\n",
            "  del sys.path[0]\n",
            "/usr/local/lib/python3.7/dist-packages/ipykernel_launcher.py:13: FutureWarning: The default value of regex will change from True to False in a future version.\n",
            "  del sys.path[0]\n",
            "/usr/local/lib/python3.7/dist-packages/ipykernel_launcher.py:13: FutureWarning: The default value of regex will change from True to False in a future version.\n",
            "  del sys.path[0]\n",
            "/usr/local/lib/python3.7/dist-packages/ipykernel_launcher.py:13: FutureWarning: The default value of regex will change from True to False in a future version.\n",
            "  del sys.path[0]\n",
            "/usr/local/lib/python3.7/dist-packages/ipykernel_launcher.py:13: FutureWarning: The default value of regex will change from True to False in a future version.\n",
            "  del sys.path[0]\n",
            "/usr/local/lib/python3.7/dist-packages/ipykernel_launcher.py:13: FutureWarning: The default value of regex will change from True to False in a future version.\n",
            "  del sys.path[0]\n"
          ]
        },
        {
          "output_type": "stream",
          "name": "stdout",
          "text": [
            "Aten 50 Tablet belongs to a group of medicines called beta-blockers.Avoid drinking alcohol as it may increase certain side effects.\n",
            "========================================================================================================================\n",
            "Summary of the article -  84\n",
            "Amaryl M  2mg Tablet PR belongs to a category of medicines known as anti-diabetic drugs.Before taking this medicine, tell your doctor if you have ever had heart disease.\n",
            "========================================================================================================================\n",
            "Summary of the article -  85\n",
            "Ascoril LS Drops is a combination medicine used in the treatment of cough with mucus.Avoid drinking alcohol while taking this medicine as it can make sleepiness worse.Never support self-medication or recommend your medicine to another person.\n",
            "========================================================================================================================\n",
            "Summary of the article -  86\n",
            "Azax 500 Tablet is an antibiotic used to treat various types of bacterial infections of the respiratory tract, ear, nose, throat, lungs, skin, and eye in adults and children.Consult your doctor if you find these side effects worry you or persist for a longer duration.Inform your doctor if you have any previous history of allergy or heart problems before taking this medicine.\n",
            "========================================================================================================================\n",
            "Summary of the article -  87\n"
          ]
        },
        {
          "output_type": "stream",
          "name": "stderr",
          "text": [
            "/usr/local/lib/python3.7/dist-packages/ipykernel_launcher.py:13: FutureWarning: The default value of regex will change from True to False in a future version.\n",
            "  del sys.path[0]\n",
            "/usr/local/lib/python3.7/dist-packages/ipykernel_launcher.py:13: FutureWarning: The default value of regex will change from True to False in a future version.\n",
            "  del sys.path[0]\n",
            "/usr/local/lib/python3.7/dist-packages/ipykernel_launcher.py:13: FutureWarning: The default value of regex will change from True to False in a future version.\n",
            "  del sys.path[0]\n",
            "/usr/local/lib/python3.7/dist-packages/ipykernel_launcher.py:13: FutureWarning: The default value of regex will change from True to False in a future version.\n",
            "  del sys.path[0]\n"
          ]
        },
        {
          "output_type": "stream",
          "name": "stdout",
          "text": [
            "Always tell your doctor what other health conditions you have and what other medicines you are taking.Angina occurs when the heart muscle is not getting enough blood.\n",
            "========================================================================================================================\n",
            "Summary of the article -  88\n",
            "Amlodac 5 Tablet belongs to a class of medicines known as a calcium channel blockers.Consult your doctor if any of these side effects bother you or do not go away.Before taking it, let your doctor know if you have any liver, heart or kidney problems.\n",
            "========================================================================================================================\n",
            "Summary of the article -  89\n",
            "Aceclo-MR Tablet is a combination medicine which helps in relieving muscular pain.Also, tell your doctor if you have any problems with the liver or kidneys.\n",
            "========================================================================================================================\n",
            "Summary of the article -  90\n",
            "Azee 200mg Dry Syrup is an antibiotic used to treat various types of bacterial infections of the respiratory tract, ear, nose, throat, lungs, skin, and eye in adults and children.Consult your doctor if you find these side effects worry you or persist for a longer duration.Inform your doctor if you have any previous history of allergy or heart problems before taking this medicine.\n",
            "========================================================================================================================\n",
            "Summary of the article -  91\n",
            "Apply only to the affected areas.Do not use this medicine more than the recommended dose.Ascabiol Emulsion is a combination medicine that is used to treat scabies.\n",
            "========================================================================================================================\n",
            "Summary of the article -  92\n",
            "AB Phylline SR 200 Tablet is used to treat and prevent symptoms of asthma and chronic obstructive pulmonary disorder (a lung disorder in which flow of air to the lung is blocked).But take it at the same time every day to get the most benefit.\n",
            "========================================================================================================================\n",
            "Summary of the article -  93\n"
          ]
        },
        {
          "output_type": "stream",
          "name": "stderr",
          "text": [
            "/usr/local/lib/python3.7/dist-packages/ipykernel_launcher.py:13: FutureWarning: The default value of regex will change from True to False in a future version.\n",
            "  del sys.path[0]\n",
            "/usr/local/lib/python3.7/dist-packages/ipykernel_launcher.py:13: FutureWarning: The default value of regex will change from True to False in a future version.\n",
            "  del sys.path[0]\n",
            "/usr/local/lib/python3.7/dist-packages/ipykernel_launcher.py:13: FutureWarning: The default value of regex will change from True to False in a future version.\n",
            "  del sys.path[0]\n",
            "/usr/local/lib/python3.7/dist-packages/ipykernel_launcher.py:13: FutureWarning: The default value of regex will change from True to False in a future version.\n",
            "  del sys.path[0]\n",
            "/usr/local/lib/python3.7/dist-packages/ipykernel_launcher.py:13: FutureWarning: The default value of regex will change from True to False in a future version.\n",
            "  del sys.path[0]\n",
            "/usr/local/lib/python3.7/dist-packages/ipykernel_launcher.py:13: FutureWarning: The default value of regex will change from True to False in a future version.\n",
            "  del sys.path[0]\n",
            "/usr/local/lib/python3.7/dist-packages/ipykernel_launcher.py:13: FutureWarning: The default value of regex will change from True to False in a future version.\n",
            "  del sys.path[0]\n"
          ]
        },
        {
          "output_type": "stream",
          "name": "stdout",
          "text": [
            "Ambrolite-S Expectorant is a combination medicine used to treat cough.Avoid drinking alcohol while taking this medicine as it can make sleepiness worse.Never support self-medication or recommend your medicine to another person.\n",
            "========================================================================================================================\n",
            "Summary of the article -  94\n",
            "Acogut Tablet is used in the treatment of indigestion.Before taking this medicine, you should let your doctor know if you have liver and kidney problems.\n",
            "========================================================================================================================\n",
            "Summary of the article -  95\n",
            "Allegra Suspension Raspberry & Vanilla belongs to a group of medicines called antihistamines.Avoid drinking alcohol as it can cause excessive drowsiness with this medicine.\n",
            "========================================================================================================================\n",
            "Summary of the article -  96\n",
            "AB-Flo Capsule is used to treat and prevent symptoms of asthma and chronic obstructive pulmonary disorder (a lung disorder in which flow of air to the lung is blocked).But take it at the same time every day to get the most benefit.\n",
            "========================================================================================================================\n",
            "Summary of the article -  97\n",
            "Acemiz Plus Tablet is a pain relieving medicine.Before taking it, let your doctor know if you have any problems with your heart, kidneys, liver, or have stomach ulcers.\n",
            "========================================================================================================================\n",
            "Summary of the article -  98\n",
            "Amlopres-AT Tablet is used to treat hypertension (high blood pressure).Even if you feel well, do not stop this medicine on your own because high blood pressure often has no symptoms.\n",
            "========================================================================================================================\n",
            "Summary of the article -  99\n"
          ]
        },
        {
          "output_type": "stream",
          "name": "stderr",
          "text": [
            "/usr/local/lib/python3.7/dist-packages/ipykernel_launcher.py:13: FutureWarning: The default value of regex will change from True to False in a future version.\n",
            "  del sys.path[0]\n",
            "/usr/local/lib/python3.7/dist-packages/ipykernel_launcher.py:13: FutureWarning: The default value of regex will change from True to False in a future version.\n",
            "  del sys.path[0]\n",
            "/usr/local/lib/python3.7/dist-packages/ipykernel_launcher.py:13: FutureWarning: The default value of regex will change from True to False in a future version.\n",
            "  del sys.path[0]\n",
            "/usr/local/lib/python3.7/dist-packages/ipykernel_launcher.py:13: FutureWarning: The default value of regex will change from True to False in a future version.\n",
            "  del sys.path[0]\n",
            "/usr/local/lib/python3.7/dist-packages/ipykernel_launcher.py:13: FutureWarning: The default value of regex will change from True to False in a future version.\n",
            "  del sys.path[0]\n",
            "/usr/local/lib/python3.7/dist-packages/ipykernel_launcher.py:13: FutureWarning: The default value of regex will change from True to False in a future version.\n",
            "  del sys.path[0]\n"
          ]
        },
        {
          "output_type": "stream",
          "name": "stdout",
          "text": [
            "Althrocin 250 Tablet is an antibiotic used to treat various types of infections.Consult your doctor if you find these side effects do not resolve or persist for a longer duration.Inform your doctor if you have any previous history of allergy or heart problems before taking this medicine.\n",
            "========================================================================================================================\n",
            "Summary of the article -  100\n",
            "AF 150 Tablet DT belongs to a group of medicines called antifungals.Avoid taking antacid treatments within one hour before or two hours after you take it.The most common side effects of this medicine include stomach pain, headache and feeling sick (nausea).\n",
            "========================================================================================================================\n",
            "Summary of the article -  101\n",
            "Aciloc 300 Tablet is a medicine that reduces the amount of excess acid make by your stomach.Also tell your doctor what other medicines you are taking as some may affect, or be affected by, this medicine.\n",
            "========================================================================================================================\n",
            "Summary of the article -  102\n",
            "Ace-Proxyvon Tablet is a pain relieving medicine.Do not take more or use it for longer duration than recommended by the doctor.The most common side effects of this medicine include nausea, diarrhea, constipation, stomach pain, flatulence, and loss of appetite.\n",
            "========================================================================================================================\n",
            "Summary of the article -  103\n"
          ]
        },
        {
          "output_type": "stream",
          "name": "stderr",
          "text": [
            "/usr/local/lib/python3.7/dist-packages/ipykernel_launcher.py:13: FutureWarning: The default value of regex will change from True to False in a future version.\n",
            "  del sys.path[0]\n",
            "/usr/local/lib/python3.7/dist-packages/ipykernel_launcher.py:13: FutureWarning: The default value of regex will change from True to False in a future version.\n",
            "  del sys.path[0]\n",
            "/usr/local/lib/python3.7/dist-packages/ipykernel_launcher.py:13: FutureWarning: The default value of regex will change from True to False in a future version.\n",
            "  del sys.path[0]\n",
            "/usr/local/lib/python3.7/dist-packages/ipykernel_launcher.py:13: FutureWarning: The default value of regex will change from True to False in a future version.\n",
            "  del sys.path[0]\n",
            "/usr/local/lib/python3.7/dist-packages/ipykernel_launcher.py:13: FutureWarning: The default value of regex will change from True to False in a future version.\n",
            "  del sys.path[0]\n"
          ]
        },
        {
          "output_type": "stream",
          "name": "stdout",
          "text": [
            "Anxit 0.5 Tablet belongs to a class of medicines known as benzodiazepines.However, it is advised to take it at the same time each day as this helps to maintain a consistent level of medicine in the body.\n",
            "========================================================================================================================\n",
            "Summary of the article -  104\n",
            "Additionally, you may notice some injection site reactions like pain, swelling, or redness.Augmentin 1.2gm Injection is a penicillin-type of antibiotic that helps your body fight infections caused by bacteria.\n",
            "========================================================================================================================\n",
            "Summary of the article -  105\n",
            "Alerid Tablet belongs to a group of medicines called antihistamines.Consult your doctor if any of the side effects persist or worry you.\n",
            "========================================================================================================================\n",
            "Summary of the article -  106\n",
            "Amaryl M  1mg Tablet PR belongs to a category of medicines known as anti-diabetic drugs.Before taking this medicine, tell your doctor if you have ever had heart disease.\n",
            "========================================================================================================================\n",
            "Summary of the article -  107\n"
          ]
        },
        {
          "output_type": "stream",
          "name": "stderr",
          "text": [
            "/usr/local/lib/python3.7/dist-packages/ipykernel_launcher.py:13: FutureWarning: The default value of regex will change from True to False in a future version.\n",
            "  del sys.path[0]\n",
            "/usr/local/lib/python3.7/dist-packages/ipykernel_launcher.py:13: FutureWarning: The default value of regex will change from True to False in a future version.\n",
            "  del sys.path[0]\n",
            "/usr/local/lib/python3.7/dist-packages/ipykernel_launcher.py:13: FutureWarning: The default value of regex will change from True to False in a future version.\n",
            "  del sys.path[0]\n",
            "/usr/local/lib/python3.7/dist-packages/ipykernel_launcher.py:13: FutureWarning: The default value of regex will change from True to False in a future version.\n",
            "  del sys.path[0]\n"
          ]
        },
        {
          "output_type": "stream",
          "name": "stdout",
          "text": [
            "Avil Injection is an antiallergic medication.Avoid driving or attention-seeking activity.\n",
            "========================================================================================================================\n",
            "Summary of the article -  108\n",
            "Additionally, it helps to eliminate a bacteria known as H. pylori in people with peptic ulcer disease.Amoxycillin 500mg Capsule is a penicillin-type of antibiotic used to treat a variety of bacterial infections.\n",
            "========================================================================================================================\n",
            "Summary of the article -  109\n",
            "Ambrodil-Plus RF Syrup is a combination medicine used in the treatment of common cold symptoms.Avoid drinking alcohol while taking this medicine as it can make dizziness worse.Never support self-medication or recommend your medicine to another person.\n",
            "========================================================================================================================\n",
            "Summary of the article -  110\n"
          ]
        },
        {
          "output_type": "stream",
          "name": "stderr",
          "text": [
            "/usr/local/lib/python3.7/dist-packages/ipykernel_launcher.py:13: FutureWarning: The default value of regex will change from True to False in a future version.\n",
            "  del sys.path[0]\n",
            "/usr/local/lib/python3.7/dist-packages/ipykernel_launcher.py:13: FutureWarning: The default value of regex will change from True to False in a future version.\n",
            "  del sys.path[0]\n",
            "/usr/local/lib/python3.7/dist-packages/ipykernel_launcher.py:13: FutureWarning: The default value of regex will change from True to False in a future version.\n",
            "  del sys.path[0]\n"
          ]
        },
        {
          "output_type": "stream",
          "name": "stdout",
          "text": [
            "), you must seek immediate medical help.Before taking this medicine, you should tell your doctor if you are taking any medicines for any health condition.Akt 3 Kit is a combination medicine used in the treatment of tuberculosis.\n",
            "========================================================================================================================\n",
            "Summary of the article -  111\n",
            "Ascoril D Junior Cough Syrup is a combination medicine used in the treatment of dry cough.Avoid drinking alcohol while taking this medicine as it can worsen your sleepiness.Never support self-medication or recommend your medicine to another person.\n",
            "========================================================================================================================\n",
            "Summary of the article -  112\n",
            "Ajaduo 25mg/5mg Tablet is a combination medicine that helps control blood sugar levels.Avoid excessive alcohol intake while taking it as this may increase the risk of developing some side effects.\n",
            "========================================================================================================================\n",
            "Summary of the article -  113\n",
            "AB-Flo-N Tablet is used for the prevention of chronic obstructive pulmonary disorder (a lung disorder in which the flow of air to the lungs is blocked).Avoid drinking alcohol while taking this medicine as it can worsen your sleepiness.Never support self-medication or recommend your medicine to another person.\n",
            "========================================================================================================================\n",
            "Summary of the article -  114\n",
            "Acitrom 1 Tablet is an oral anticoagulant which helps to prevent formation of harmful blood clots in the legs, lungs, brain and heart.Also, let your doctor know if you are pregnant or breastfeeding and about all the other medications that you are taking regularly.\n",
            "========================================================================================================================\n",
            "Summary of the article -  115\n",
            "Apply only to the affected areas.Do not use this medicine more than the recommended dose.Ascabiol Emulsion is a combination medicine that is used to treat scabies.\n",
            "========================================================================================================================\n",
            "Summary of the article -  116\n"
          ]
        },
        {
          "output_type": "stream",
          "name": "stderr",
          "text": [
            "/usr/local/lib/python3.7/dist-packages/ipykernel_launcher.py:13: FutureWarning: The default value of regex will change from True to False in a future version.\n",
            "  del sys.path[0]\n",
            "/usr/local/lib/python3.7/dist-packages/ipykernel_launcher.py:13: FutureWarning: The default value of regex will change from True to False in a future version.\n",
            "  del sys.path[0]\n",
            "/usr/local/lib/python3.7/dist-packages/ipykernel_launcher.py:13: FutureWarning: The default value of regex will change from True to False in a future version.\n",
            "  del sys.path[0]\n",
            "/usr/local/lib/python3.7/dist-packages/ipykernel_launcher.py:13: FutureWarning: The default value of regex will change from True to False in a future version.\n",
            "  del sys.path[0]\n",
            "/usr/local/lib/python3.7/dist-packages/ipykernel_launcher.py:13: FutureWarning: The default value of regex will change from True to False in a future version.\n",
            "  del sys.path[0]\n"
          ]
        },
        {
          "output_type": "stream",
          "name": "stdout",
          "text": [
            "Amlovas 5 Tablet belongs to a class of medicines known as a calcium channel blockers.Consult your doctor if any of these side effects bother you or do not go away.Before taking it, let your doctor know if you have any liver, heart or kidney problems.\n",
            "========================================================================================================================\n",
            "Summary of the article -  117\n",
            "Asthakind LS Expectorant Cola Sugar Free is a combination medicine used in the treatment of cough with mucus.Avoid drinking alcohol while taking this medicine as it can make sleepiness worse.Never support self-medication or recommend your medicine to another person.\n",
            "========================================================================================================================\n",
            "Summary of the article -  118\n",
            "Avamys Nasal Spray is a steroid.If you do not see an improvement in your symptoms after a week you should talk to your doctor.The most common side effects of Avamys Nasal Spray include burning or itching in your nose.\n",
            "========================================================================================================================\n",
            "Summary of the article -  119\n",
            "Aten 25 Tablet belongs to a group of medicines called beta-blockers.Avoid drinking alcohol as it may increase certain side effects.\n",
            "========================================================================================================================\n",
            "Summary of the article -  120\n",
            "Avoid contact with eyes.Aziderm 20% Cream is a topical medication used in the treatment of acne (pimples).\n",
            "========================================================================================================================\n",
            "Summary of the article -  121\n"
          ]
        },
        {
          "output_type": "stream",
          "name": "stderr",
          "text": [
            "/usr/local/lib/python3.7/dist-packages/ipykernel_launcher.py:13: FutureWarning: The default value of regex will change from True to False in a future version.\n",
            "  del sys.path[0]\n",
            "/usr/local/lib/python3.7/dist-packages/ipykernel_launcher.py:13: FutureWarning: The default value of regex will change from True to False in a future version.\n",
            "  del sys.path[0]\n",
            "/usr/local/lib/python3.7/dist-packages/ipykernel_launcher.py:13: FutureWarning: The default value of regex will change from True to False in a future version.\n",
            "  del sys.path[0]\n",
            "/usr/local/lib/python3.7/dist-packages/ipykernel_launcher.py:13: FutureWarning: The default value of regex will change from True to False in a future version.\n",
            "  del sys.path[0]\n"
          ]
        },
        {
          "output_type": "stream",
          "name": "stdout",
          "text": [
            "Amixide-H Tablet is a combination of two medicines.However, it is advised to take it at a fixed time each day to maintain a consistent level of medicine in the blood.\n",
            "========================================================================================================================\n",
            "Summary of the article -  122\n",
            "Aerocort Inhaler is used in the treatment of asthma (wheezing and shortness of breath).Before taking it, you should tell your doctor if you have any kidney or liver diseases so that your doctor can prescribe a suitable dose for you.\n",
            "========================================================================================================================\n",
            "Summary of the article -  123\n",
            "Avoid contact with eyes.Aziderm 10% Cream is a topical medication used in the treatment of acne (pimples).\n",
            "========================================================================================================================\n",
            "Summary of the article -  124\n",
            "Azicip 500 Tablet is an antibiotic used to treat various types of bacterial infections of the respiratory tract, ear, nose, throat, lungs, skin, and eye in adults and children.Consult your doctor if you find these side effects worry you or persist for a longer duration.Inform your doctor if you have any previous history of allergy or heart problems before taking this medicine.\n",
            "========================================================================================================================\n",
            "Summary of the article -  125\n"
          ]
        },
        {
          "output_type": "stream",
          "name": "stderr",
          "text": [
            "/usr/local/lib/python3.7/dist-packages/ipykernel_launcher.py:13: FutureWarning: The default value of regex will change from True to False in a future version.\n",
            "  del sys.path[0]\n",
            "/usr/local/lib/python3.7/dist-packages/ipykernel_launcher.py:13: FutureWarning: The default value of regex will change from True to False in a future version.\n",
            "  del sys.path[0]\n",
            "/usr/local/lib/python3.7/dist-packages/ipykernel_launcher.py:13: FutureWarning: The default value of regex will change from True to False in a future version.\n",
            "  del sys.path[0]\n",
            "/usr/local/lib/python3.7/dist-packages/ipykernel_launcher.py:13: FutureWarning: The default value of regex will change from True to False in a future version.\n",
            "  del sys.path[0]\n"
          ]
        },
        {
          "output_type": "stream",
          "name": "stdout",
          "text": [
            "), you must seek immediate medical help.Before taking this medicine, you should tell your doctor if you are taking any medicines for any health condition.Ampilox Capsule is a combination medicine that is used to treat various types of bacterial infections.\n",
            "========================================================================================================================\n",
            "Summary of the article -  126\n",
            "Acuvin Tablet is a pain relieving medicine.If you experience any such side effects that do not go away or get worse, you should let your doctor know.\n",
            "========================================================================================================================\n",
            "Summary of the article -  127\n",
            "Also, make sure your doctor knows if you are pregnant or breastfeeding before taking this medicine.Asthalin 4 Tablet is used to relieve symptoms of asthma and chronic obstructive pulmonary disease (COPD) such as coughing, wheezing and breathlessness.\n",
            "========================================================================================================================\n",
            "Summary of the article -  128\n",
            "Alkacip Syrup is a medicine used in the treatment of gout and kidney stones.Also tell your doctor if you have any problems with your heart, kidneys, or liver.\n",
            "========================================================================================================================\n",
            "Summary of the article -  129\n",
            "Amaryl 2mg Tablet is a medicine used to treat type 2 diabetes mellitus in adults.Before taking this medicine, tell your doctor if you have ever had heart disease, thyroid disease, or some hormonal conditions, as it may not be suitable.\n",
            "========================================================================================================================\n",
            "Summary of the article -  130\n",
            "Aprezo Tablet can be taken with or without food.Aprezo Tablet is used in the treatment of moderate to severe plaque psoriasis which is a type of skin condition.\n",
            "========================================================================================================================\n",
            "Summary of the article -  131\n"
          ]
        },
        {
          "output_type": "stream",
          "name": "stderr",
          "text": [
            "/usr/local/lib/python3.7/dist-packages/ipykernel_launcher.py:13: FutureWarning: The default value of regex will change from True to False in a future version.\n",
            "  del sys.path[0]\n",
            "/usr/local/lib/python3.7/dist-packages/ipykernel_launcher.py:13: FutureWarning: The default value of regex will change from True to False in a future version.\n",
            "  del sys.path[0]\n",
            "/usr/local/lib/python3.7/dist-packages/ipykernel_launcher.py:13: FutureWarning: The default value of regex will change from True to False in a future version.\n",
            "  del sys.path[0]\n",
            "/usr/local/lib/python3.7/dist-packages/ipykernel_launcher.py:13: FutureWarning: The default value of regex will change from True to False in a future version.\n",
            "  del sys.path[0]\n",
            "/usr/local/lib/python3.7/dist-packages/ipykernel_launcher.py:13: FutureWarning: The default value of regex will change from True to False in a future version.\n",
            "  del sys.path[0]\n",
            "/usr/local/lib/python3.7/dist-packages/ipykernel_launcher.py:13: FutureWarning: The default value of regex will change from True to False in a future version.\n",
            "  del sys.path[0]\n"
          ]
        },
        {
          "output_type": "stream",
          "name": "stdout",
          "text": [
            "Aclind BP 2.5% Gel is a combination of medicines that are used to treat acne.Apply only on the affected areas of the skin.\n",
            "========================================================================================================================\n",
            "Summary of the article -  132\n",
            "Acnesol 1% solution is an antibiotic that fights bacteria.Also, inform the doctor if you have ever had bloody diarrhea caused by taking antibiotics or if you are using any other medicines to treat skin conditions.\n",
            "========================================================================================================================\n",
            "Summary of the article -  133\n",
            "Also, pregnant women and breastfeeding mothers should consult doctor before taking it.Aquazide 12.5 Tablet is a diuretic (water pill) medicine used to treat hypertension (high blood pressure).\n",
            "========================================================================================================================\n",
            "Summary of the article -  134\n",
            "Amortive Cream is an antifungal medication.Avoid direct contact of the cream or ointment with your eyes.\n",
            "========================================================================================================================\n",
            "Summary of the article -  135\n",
            "Aldactone 50 Tablet is a medicine known as a diuretic (water pill).Also let your healthcare team know about all other medications you are using as they may affect, or be affected by this medicine.\n",
            "========================================================================================================================\n",
            "Summary of the article -  136\n",
            "Ambrolite D Plus Syrup is a combination medicine used in the treatment of dry cough.Avoid drinking alcohol while taking this medicine as it can worsen your sleepiness.Never support self-medication or recommend your medicine to another person.\n",
            "========================================================================================================================\n",
            "Summary of the article -  137\n"
          ]
        },
        {
          "output_type": "stream",
          "name": "stderr",
          "text": [
            "/usr/local/lib/python3.7/dist-packages/ipykernel_launcher.py:13: FutureWarning: The default value of regex will change from True to False in a future version.\n",
            "  del sys.path[0]\n",
            "/usr/local/lib/python3.7/dist-packages/ipykernel_launcher.py:13: FutureWarning: The default value of regex will change from True to False in a future version.\n",
            "  del sys.path[0]\n",
            "/usr/local/lib/python3.7/dist-packages/ipykernel_launcher.py:13: FutureWarning: The default value of regex will change from True to False in a future version.\n",
            "  del sys.path[0]\n",
            "/usr/local/lib/python3.7/dist-packages/ipykernel_launcher.py:13: FutureWarning: The default value of regex will change from True to False in a future version.\n",
            "  del sys.path[0]\n",
            "/usr/local/lib/python3.7/dist-packages/ipykernel_launcher.py:13: FutureWarning: The default value of regex will change from True to False in a future version.\n",
            "  del sys.path[0]\n",
            "/usr/local/lib/python3.7/dist-packages/ipykernel_launcher.py:13: FutureWarning: The default value of regex will change from True to False in a future version.\n",
            "  del sys.path[0]\n"
          ]
        },
        {
          "output_type": "stream",
          "name": "stdout",
          "text": [
            "Ambrolite Syrup is used for treating various respiratory tract disorders associated with excessive mucus.For better results, it is suggested to take it at the same time every day.\n",
            "========================================================================================================================\n",
            "Summary of the article -  138\n",
            "Amodep AT Tablet is used to treat hypertension (high blood pressure).Even if you feel well, do not stop this medicine on your own because high blood pressure often has no symptoms.\n",
            "========================================================================================================================\n",
            "Summary of the article -  139\n",
            "Alkacitral Liquid is a medicine used in the treatment of gout and kidney stones.Also tell your doctor if you have any problems with your heart, kidneys, or liver.\n",
            "========================================================================================================================\n",
            "Summary of the article -  140\n",
            "Alex Cough Lozenges Lemon Ginger can be taken with or without food, but take it at the same time to get the most benefit.Alex Cough Lozenges Lemon Ginger is an antitussive medicine.\n",
            "========================================================================================================================\n",
            "Summary of the article -  141\n",
            "Amantrel Capsule is used alone, or with other medicines to treat Parkinson’s disease.Amantrel Capsule may be taken with or without food.\n",
            "========================================================================================================================\n",
            "Summary of the article -  142\n",
            "Asthakind Expectorant Sugar Free is used in the treatment of cough with mucus.Avoid drinking alcohol while taking this medicine as it can make sleepiness worse.Never support self-medication or recommend your medicine to another person.\n",
            "========================================================================================================================\n",
            "Summary of the article -  143\n"
          ]
        },
        {
          "output_type": "stream",
          "name": "stderr",
          "text": [
            "/usr/local/lib/python3.7/dist-packages/ipykernel_launcher.py:13: FutureWarning: The default value of regex will change from True to False in a future version.\n",
            "  del sys.path[0]\n",
            "/usr/local/lib/python3.7/dist-packages/ipykernel_launcher.py:13: FutureWarning: The default value of regex will change from True to False in a future version.\n",
            "  del sys.path[0]\n",
            "/usr/local/lib/python3.7/dist-packages/ipykernel_launcher.py:13: FutureWarning: The default value of regex will change from True to False in a future version.\n",
            "  del sys.path[0]\n",
            "/usr/local/lib/python3.7/dist-packages/ipykernel_launcher.py:13: FutureWarning: The default value of regex will change from True to False in a future version.\n",
            "  del sys.path[0]\n",
            "/usr/local/lib/python3.7/dist-packages/ipykernel_launcher.py:13: FutureWarning: The default value of regex will change from True to False in a future version.\n",
            "  del sys.path[0]\n",
            "/usr/local/lib/python3.7/dist-packages/ipykernel_launcher.py:13: FutureWarning: The default value of regex will change from True to False in a future version.\n",
            "  del sys.path[0]\n"
          ]
        },
        {
          "output_type": "stream",
          "name": "stdout",
          "text": [
            "Azee 250 Tablet is an antibiotic used to treat various types of bacterial infections of the respiratory tract, ear, nose, throat, lungs, skin, and eye in adults and children.Consult your doctor if you find these side effects worry you or persist for a longer duration.Inform your doctor if you have any previous history of allergy or heart problems before taking this medicine.\n",
            "========================================================================================================================\n",
            "Summary of the article -  144\n",
            "Add Tears Lubricant Eye Drop is an eye lubricant or artificial tears used to relieve dry eyes.Always wash your hands and do not touch the end of the dropper.\n",
            "========================================================================================================================\n",
            "Summary of the article -  145\n",
            "Ageless Tablet is a prescription medicine.However, if you experience severe diarrhea, vomiting, or constipation, you should consult your doctor without delay.Before taking this medicine, tell your doctor if you have any other health conditions.\n",
            "========================================================================================================================\n",
            "Summary of the article -  146\n",
            "Amrolstar Cream is an antifungal medication.Avoid direct contact of the cream or ointment with your eyes.\n",
            "========================================================================================================================\n",
            "Summary of the article -  147\n",
            "Azulix 2 MF Tablet PR belongs to a category of medicines known as anti-diabetic drugs.Before taking this medicine, tell your doctor if you have ever had heart disease.\n",
            "========================================================================================================================\n",
            "Summary of the article -  148\n"
          ]
        },
        {
          "output_type": "stream",
          "name": "stderr",
          "text": [
            "/usr/local/lib/python3.7/dist-packages/ipykernel_launcher.py:13: FutureWarning: The default value of regex will change from True to False in a future version.\n",
            "  del sys.path[0]\n",
            "/usr/local/lib/python3.7/dist-packages/ipykernel_launcher.py:13: FutureWarning: The default value of regex will change from True to False in a future version.\n",
            "  del sys.path[0]\n",
            "/usr/local/lib/python3.7/dist-packages/ipykernel_launcher.py:13: FutureWarning: The default value of regex will change from True to False in a future version.\n",
            "  del sys.path[0]\n",
            "/usr/local/lib/python3.7/dist-packages/ipykernel_launcher.py:13: FutureWarning: The default value of regex will change from True to False in a future version.\n",
            "  del sys.path[0]\n",
            "/usr/local/lib/python3.7/dist-packages/ipykernel_launcher.py:13: FutureWarning: The default value of regex will change from True to False in a future version.\n",
            "  del sys.path[0]\n"
          ]
        },
        {
          "output_type": "stream",
          "name": "stdout",
          "text": [
            "Acenac-MR Tablet is a combination medicine which helps in relieving muscular pain.Also, tell your doctor if you have any problems with liver or kidneys.\n",
            "========================================================================================================================\n",
            "Summary of the article -  149\n",
            "Asthakind-DX Syrup Sugar Free is a combination medicine used in the treatment of dry cough.Avoid drinking alcohol while taking this medicine as it can worsen your sleepiness.Never support self-medication or recommend your medicine to another person.\n",
            "========================================================================================================================\n",
            "Summary of the article -  150\n",
            "Acnesol A Nano Gel is a combination of two medicines that effectively treats acne.Ask your doctor when you should stop treatment.Side effects like minor itching, burning, or redness of the skin and oily skin may be seen in some people.\n",
            "========================================================================================================================\n",
            "Summary of the article -  151\n",
            "Ascoril D 12 Oral Suspension Orange can be taken with or without food, but take it at the same time to get the most benefit.Ascoril D 12 Oral Suspension Orange is an antitussive medicine.\n",
            "========================================================================================================================\n",
            "Summary of the article -  152\n",
            "Actapro Tablet is used in the treatment of indigestion.Before taking this medicine, you should let your doctor know if you have liver and kidney problems.\n",
            "========================================================================================================================\n",
            "Summary of the article -  153\n"
          ]
        },
        {
          "output_type": "stream",
          "name": "stderr",
          "text": [
            "/usr/local/lib/python3.7/dist-packages/ipykernel_launcher.py:13: FutureWarning: The default value of regex will change from True to False in a future version.\n",
            "  del sys.path[0]\n",
            "/usr/local/lib/python3.7/dist-packages/ipykernel_launcher.py:13: FutureWarning: The default value of regex will change from True to False in a future version.\n",
            "  del sys.path[0]\n",
            "/usr/local/lib/python3.7/dist-packages/ipykernel_launcher.py:13: FutureWarning: The default value of regex will change from True to False in a future version.\n",
            "  del sys.path[0]\n",
            "/usr/local/lib/python3.7/dist-packages/ipykernel_launcher.py:13: FutureWarning: The default value of regex will change from True to False in a future version.\n",
            "  del sys.path[0]\n",
            "/usr/local/lib/python3.7/dist-packages/ipykernel_launcher.py:13: FutureWarning: The default value of regex will change from True to False in a future version.\n",
            "  del sys.path[0]\n"
          ]
        },
        {
          "output_type": "stream",
          "name": "stdout",
          "text": [
            "Also, pregnant women and breastfeeding mothers should not take this medicine as it may harm the developing baby.Atorva Tablet belongs to a group of medicines called statins.\n",
            "========================================================================================================================\n",
            "Summary of the article -  154\n",
            "Augmentin 1000 Duo Tablet is a penicillin-type of antibiotic that helps your body fight infections caused by bacteria.Do not stop taking it until you have finished, even when you feel better.\n",
            "========================================================================================================================\n",
            "Summary of the article -  155\n",
            "Atarax Drops is an antihistamine used to treat symptoms of skin allergy like itching, swelling, and rashes.Generally, it is advised to avoid alcohol while on treatment.\n",
            "========================================================================================================================\n",
            "Summary of the article -  156\n",
            "Always tell your doctor what other health conditions you have and what other medicines you are taking.Angina occurs when the heart muscle is not getting enough blood.\n",
            "========================================================================================================================\n",
            "Summary of the article -  157\n",
            "Alerfix Total Tablet SR is a combination medicine used in the prevention of asthma.Avoid drinking alcohol while taking this medicine as it can worsen your sleepiness.Before taking it, you should tell your doctor if you have any kidney or liver diseases so that your doctor can prescribe a suitable dose for you.\n",
            "========================================================================================================================\n",
            "Summary of the article -  158\n"
          ]
        },
        {
          "output_type": "stream",
          "name": "stderr",
          "text": [
            "/usr/local/lib/python3.7/dist-packages/ipykernel_launcher.py:13: FutureWarning: The default value of regex will change from True to False in a future version.\n",
            "  del sys.path[0]\n",
            "/usr/local/lib/python3.7/dist-packages/ipykernel_launcher.py:13: FutureWarning: The default value of regex will change from True to False in a future version.\n",
            "  del sys.path[0]\n",
            "/usr/local/lib/python3.7/dist-packages/ipykernel_launcher.py:13: FutureWarning: The default value of regex will change from True to False in a future version.\n",
            "  del sys.path[0]\n",
            "/usr/local/lib/python3.7/dist-packages/ipykernel_launcher.py:13: FutureWarning: The default value of regex will change from True to False in a future version.\n",
            "  del sys.path[0]\n",
            "/usr/local/lib/python3.7/dist-packages/ipykernel_launcher.py:13: FutureWarning: The default value of regex will change from True to False in a future version.\n",
            "  del sys.path[0]\n",
            "/usr/local/lib/python3.7/dist-packages/ipykernel_launcher.py:13: FutureWarning: The default value of regex will change from True to False in a future version.\n",
            "  del sys.path[0]\n"
          ]
        },
        {
          "output_type": "stream",
          "name": "stdout",
          "text": [
            "Acivir 800 DT Tablet is an antiviral medicine.Dissolve it in a glass of water before taking it.\n",
            "========================================================================================================================\n",
            "Summary of the article -  159\n",
            "Alcros 200 Capsule belongs to a group of medicines called antifungals.Do not take it if you are pregnant or could become pregnant unless your doctor has told you to.\n",
            "========================================================================================================================\n",
            "Summary of the article -  160\n",
            "Also, pregnant women and breastfeeding mothers should not take this medicine as it may harm the developing baby.Atorlip 10 Tablet belongs to a group of medicines called statins.\n",
            "========================================================================================================================\n",
            "Summary of the article -  161\n"
          ]
        },
        {
          "output_type": "stream",
          "name": "stderr",
          "text": [
            "/usr/local/lib/python3.7/dist-packages/ipykernel_launcher.py:13: FutureWarning: The default value of regex will change from True to False in a future version.\n",
            "  del sys.path[0]\n",
            "/usr/local/lib/python3.7/dist-packages/ipykernel_launcher.py:13: FutureWarning: The default value of regex will change from True to False in a future version.\n",
            "  del sys.path[0]\n",
            "/usr/local/lib/python3.7/dist-packages/ipykernel_launcher.py:13: FutureWarning: The default value of regex will change from True to False in a future version.\n",
            "  del sys.path[0]\n",
            "/usr/local/lib/python3.7/dist-packages/ipykernel_launcher.py:13: FutureWarning: The default value of regex will change from True to False in a future version.\n",
            "  del sys.path[0]\n"
          ]
        },
        {
          "output_type": "stream",
          "name": "stdout",
          "text": [
            "Alex Syrup Sugar Free is a combination medicine used in the treatment of dry cough.Avoid drinking alcohol while taking this medicine as it can worsen your sleepiness.Never support self-medication or recommend your medicine to another person.\n",
            "========================================================================================================================\n",
            "Summary of the article -  162\n",
            ").Before using this medicine, it is important to tell your doctor if you are taking or have recently taken any other medicines for the same disease or other diseases.A thin layer of the medicine should be applied only to the affected areas of the skin with clean and dry hands.\n",
            "========================================================================================================================\n",
            "Summary of the article -  163\n",
            "Amoxyclav 625 Tablet is a penicillin-type of antibiotic that helps your body fight infections caused by bacteria.Do not stop taking it until you have finished, even when you feel better.\n",
            "========================================================================================================================\n",
            "Summary of the article -  164\n",
            "Admenta 5 Tablet is a medicine used in the treatment of Alzheimer's disease.Do not skip any doses and finish the full course of treatment even if you feel better.\n",
            "========================================================================================================================\n",
            "Summary of the article -  165\n",
            "Azithral XL 200 Liquid is an antibiotic used to treat various types of bacterial infections of the respiratory tract, ear, nose, throat, lungs, skin, and eye in adults and children.Consult your doctor if you find these side effects worry you or persist for a longer duration.Inform your doctor if you have any previous history of allergy or heart problems before taking this medicine.\n",
            "========================================================================================================================\n",
            "Summary of the article -  166\n"
          ]
        },
        {
          "output_type": "stream",
          "name": "stderr",
          "text": [
            "/usr/local/lib/python3.7/dist-packages/ipykernel_launcher.py:13: FutureWarning: The default value of regex will change from True to False in a future version.\n",
            "  del sys.path[0]\n",
            "/usr/local/lib/python3.7/dist-packages/ipykernel_launcher.py:13: FutureWarning: The default value of regex will change from True to False in a future version.\n",
            "  del sys.path[0]\n",
            "/usr/local/lib/python3.7/dist-packages/ipykernel_launcher.py:13: FutureWarning: The default value of regex will change from True to False in a future version.\n",
            "  del sys.path[0]\n",
            "/usr/local/lib/python3.7/dist-packages/ipykernel_launcher.py:13: FutureWarning: The default value of regex will change from True to False in a future version.\n",
            "  del sys.path[0]\n",
            "/usr/local/lib/python3.7/dist-packages/ipykernel_launcher.py:13: FutureWarning: The default value of regex will change from True to False in a future version.\n",
            "  del sys.path[0]\n",
            "/usr/local/lib/python3.7/dist-packages/ipykernel_launcher.py:13: FutureWarning: The default value of regex will change from True to False in a future version.\n",
            "  del sys.path[0]\n"
          ]
        },
        {
          "output_type": "stream",
          "name": "stdout",
          "text": [
            "Aceclo Tablet is a pain relieving medicine.Aceclo Tablet is not recommended if you are pregnant or breastfeeding.\n",
            "========================================================================================================================\n",
            "Summary of the article -  167\n",
            "Abhayrab Vaccine is given to people who are at higher risk of coming in contact with rabies like veterinarians.Consult your doctor if any of the side effects persist or worry you.Before having the injection, you should tell your doctor if you have ever had an allergic reaction to a vaccine.\n",
            "========================================================================================================================\n",
            "Summary of the article -  168\n",
            "Avil NU 10mg Tablet belongs to a group of medicines called antihistamines.Consult your doctor if any of the side effects persist or worry you.\n",
            "========================================================================================================================\n",
            "Summary of the article -  169\n",
            "Amlovas-AT Tablet is used to treat hypertension (high blood pressure).Even if you feel well, do not stop this medicine on your own because high blood pressure often has no symptoms.\n",
            "========================================================================================================================\n",
            "Summary of the article -  170\n"
          ]
        },
        {
          "output_type": "stream",
          "name": "stderr",
          "text": [
            "/usr/local/lib/python3.7/dist-packages/ipykernel_launcher.py:13: FutureWarning: The default value of regex will change from True to False in a future version.\n",
            "  del sys.path[0]\n",
            "/usr/local/lib/python3.7/dist-packages/ipykernel_launcher.py:13: FutureWarning: The default value of regex will change from True to False in a future version.\n",
            "  del sys.path[0]\n",
            "/usr/local/lib/python3.7/dist-packages/ipykernel_launcher.py:13: FutureWarning: The default value of regex will change from True to False in a future version.\n",
            "  del sys.path[0]\n",
            "/usr/local/lib/python3.7/dist-packages/ipykernel_launcher.py:13: FutureWarning: The default value of regex will change from True to False in a future version.\n",
            "  del sys.path[0]\n",
            "/usr/local/lib/python3.7/dist-packages/ipykernel_launcher.py:13: FutureWarning: The default value of regex will change from True to False in a future version.\n",
            "  del sys.path[0]\n"
          ]
        },
        {
          "output_type": "stream",
          "name": "stdout",
          "text": [
            "Amlip 5 Tablet belongs to a class of medicines known as a calcium channel blockers.Consult your doctor if any of these side effects bother you or do not go away.Before taking it, let your doctor know if you have any liver, heart or kidney problems.\n",
            "========================================================================================================================\n",
            "Summary of the article -  171\n",
            "Azeflo Nasal Spray is a combination medicine used in the treatment of allergy symptoms such as runny nose, stuffy nose, sneezing, watery eyes and congestion or stuffiness.Azeflo Nasal Spray should be used as you have been advised by your doctor.Before you start taking this medicine it is important to inform your doctor if you are suffering from liver or kidney disease.\n",
            "========================================================================================================================\n",
            "Summary of the article -  172\n",
            "Also make sure your doctor knows if you are pregnant or breastfeeding before taking this medicine.Alupent 10mg Tablet is used to relieve symptoms of asthma and chronic obstructive pulmonary disease (COPD) such as coughing, wheezing and breathlessness.\n",
            "========================================================================================================================\n",
            "Summary of the article -  173\n",
            "Abel 40 Tablet is a medicine used to treat high blood pressure and heart disease.Dizziness, particularly after the first dose, is known to occur in some people.\n",
            "========================================================================================================================\n",
            "Summary of the article -  174\n",
            "Alivher Tablet is used to treat erectile dysfunction in men.Avoid drinking alcohol while taking this medicine as it increases the chances of side effects.\n",
            "========================================================================================================================\n",
            "Summary of the article -  175\n"
          ]
        },
        {
          "output_type": "stream",
          "name": "stderr",
          "text": [
            "/usr/local/lib/python3.7/dist-packages/ipykernel_launcher.py:13: FutureWarning: The default value of regex will change from True to False in a future version.\n",
            "  del sys.path[0]\n",
            "/usr/local/lib/python3.7/dist-packages/ipykernel_launcher.py:13: FutureWarning: The default value of regex will change from True to False in a future version.\n",
            "  del sys.path[0]\n",
            "/usr/local/lib/python3.7/dist-packages/ipykernel_launcher.py:13: FutureWarning: The default value of regex will change from True to False in a future version.\n",
            "  del sys.path[0]\n",
            "/usr/local/lib/python3.7/dist-packages/ipykernel_launcher.py:13: FutureWarning: The default value of regex will change from True to False in a future version.\n",
            "  del sys.path[0]\n",
            "/usr/local/lib/python3.7/dist-packages/ipykernel_launcher.py:13: FutureWarning: The default value of regex will change from True to False in a future version.\n",
            "  del sys.path[0]\n"
          ]
        },
        {
          "output_type": "stream",
          "name": "stdout",
          "text": [
            "Aplazar Tablet is a nutritional supplement that is ketone derivatives of different amino acids.Before taking this medicine, it is important to tell your doctor if you are taking any other medicines for any health conditions.\n",
            "========================================================================================================================\n",
            "Summary of the article -  176\n",
            "Afoglip M  500 Tablet ER is a combination of two medicines that control high blood sugar levels in people with type 2 diabetes mellitus.All diabetes medicines work best when used along with a healthy diet and regular exercise.\n",
            "========================================================================================================================\n",
            "Summary of the article -  177\n",
            "Azibact 500 Tablet is an antibiotic used to treat various types of bacterial infections of the respiratory tract, ear, nose, throat, lungs, skin, and eye in adults and children.Consult your doctor if you find these side effects worry you or persist for a longer duration.Inform your doctor if you have any previous history of allergy or heart problems before taking this medicine.\n",
            "========================================================================================================================\n",
            "Summary of the article -  178\n",
            "Amaryl MV 2mg Tablet SR belongs to a category of medicines known as anti-diabetic drugs.Before taking this medicine, tell your doctor if you have ever had heart disease.\n",
            "========================================================================================================================\n",
            "Summary of the article -  179\n",
            "Ascoril Flu Syrup is a combination medicine used in the treatment of common cold symptoms.Avoid drinking alcohol while taking this medicine as it can worsen your sleepiness.Never support self-medication or recommend your medicine to another person.\n",
            "========================================================================================================================\n",
            "Summary of the article -  180\n"
          ]
        },
        {
          "output_type": "stream",
          "name": "stderr",
          "text": [
            "/usr/local/lib/python3.7/dist-packages/ipykernel_launcher.py:13: FutureWarning: The default value of regex will change from True to False in a future version.\n",
            "  del sys.path[0]\n",
            "/usr/local/lib/python3.7/dist-packages/ipykernel_launcher.py:13: FutureWarning: The default value of regex will change from True to False in a future version.\n",
            "  del sys.path[0]\n",
            "/usr/local/lib/python3.7/dist-packages/ipykernel_launcher.py:13: FutureWarning: The default value of regex will change from True to False in a future version.\n",
            "  del sys.path[0]\n",
            "/usr/local/lib/python3.7/dist-packages/ipykernel_launcher.py:13: FutureWarning: The default value of regex will change from True to False in a future version.\n",
            "  del sys.path[0]\n"
          ]
        },
        {
          "output_type": "stream",
          "name": "stdout",
          "text": [
            "Asthakind-P Drops is used in the treatment of cough.Avoid drinking alcohol while taking this medicine as it can make sleepiness worse.Never support self-medication or recommend your medicine to another person.\n",
            "========================================================================================================================\n",
            "Summary of the article -  181\n",
            "Azulix 1 MF Tablet PR belongs to a category of medicines known as anti-diabetic drugs.Before taking this medicine, tell your doctor if you have ever had heart disease.\n",
            "========================================================================================================================\n",
            "Summary of the article -  182\n",
            "Amlopres 5 Tablet belongs to a class of medicines known as a calcium channel blockers.Consult your doctor if any of these side effects bother you or do not go away.Before taking it, let your doctor know if you have any liver, heart or kidney problems.\n",
            "========================================================================================================================\n",
            "Summary of the article -  183\n",
            "Also, make sure your doctor knows if you are pregnant or breast-feeding before taking this medicine.Asthalin Respules belongs to a group of medicines called fast-acting bronchodilators or “relievers”.\n",
            "========================================================================================================================\n",
            "Summary of the article -  184\n",
            "Acitrom 3 Tablet is an oral anticoagulant which helps to prevent formation of harmful blood clots in the legs, lungs, brain and heart.Also, let your doctor know if you are pregnant or breastfeeding and about all the other medications that you are taking regularly.\n",
            "========================================================================================================================\n",
            "Summary of the article -  185\n"
          ]
        },
        {
          "output_type": "stream",
          "name": "stderr",
          "text": [
            "/usr/local/lib/python3.7/dist-packages/ipykernel_launcher.py:13: FutureWarning: The default value of regex will change from True to False in a future version.\n",
            "  del sys.path[0]\n",
            "/usr/local/lib/python3.7/dist-packages/ipykernel_launcher.py:13: FutureWarning: The default value of regex will change from True to False in a future version.\n",
            "  del sys.path[0]\n",
            "/usr/local/lib/python3.7/dist-packages/ipykernel_launcher.py:13: FutureWarning: The default value of regex will change from True to False in a future version.\n",
            "  del sys.path[0]\n",
            "/usr/local/lib/python3.7/dist-packages/ipykernel_launcher.py:13: FutureWarning: The default value of regex will change from True to False in a future version.\n",
            "  del sys.path[0]\n",
            "/usr/local/lib/python3.7/dist-packages/ipykernel_launcher.py:13: FutureWarning: The default value of regex will change from True to False in a future version.\n",
            "  del sys.path[0]\n",
            "/usr/local/lib/python3.7/dist-packages/ipykernel_launcher.py:13: FutureWarning: The default value of regex will change from True to False in a future version.\n",
            "  del sys.path[0]\n"
          ]
        },
        {
          "output_type": "stream",
          "name": "stdout",
          "text": [
            "Alcros 100 Capsule belongs to a group of medicines called antifungals.Do not take it if you are pregnant or could become pregnant unless your doctor has told you to.\n",
            "========================================================================================================================\n",
            "Summary of the article -  186\n",
            "Alex P Syrup is used in the treatment of common cold symptoms like runny nose, stuffy nose, sneezing, watery eyes and congestion or stuffiness.Avoid drinking alcohol while taking this medicine as it can worsen your sleepiness.Never support self-medication or recommend your medicine to another person.\n",
            "========================================================================================================================\n",
            "Summary of the article -  187\n",
            "Andial 2mg Tablet is used in the treatment of diarrhea.Avoid drinking alcohol while taking this medicine as it can worsen your sleepiness.Diarrhea can cause water loss and electrolyte imbalance, so drink plenty of fluids to help keep yourself hydrated.\n",
            "========================================================================================================================\n",
            "Summary of the article -  188\n",
            "Advent Forte 457mg Syrup Orange is a penicillin-type of antibiotic that helps your body fight infections caused by bacteria.Do not stop taking it until you have finished, even when you feel better.\n",
            "========================================================================================================================\n",
            "Summary of the article -  189\n",
            "Alfusin Tablet PR is an alpha adrenergic antagonist that is used in the treatment of benign prostatic hyperplasia.However, it does not decrease the size of the prostate.Alfusin Tablet PR is advised to take it in a dose and duration as per prescription.\n",
            "========================================================================================================================\n",
            "Summary of the article -  190\n"
          ]
        },
        {
          "output_type": "stream",
          "name": "stderr",
          "text": [
            "/usr/local/lib/python3.7/dist-packages/ipykernel_launcher.py:13: FutureWarning: The default value of regex will change from True to False in a future version.\n",
            "  del sys.path[0]\n",
            "/usr/local/lib/python3.7/dist-packages/ipykernel_launcher.py:13: FutureWarning: The default value of regex will change from True to False in a future version.\n",
            "  del sys.path[0]\n",
            "/usr/local/lib/python3.7/dist-packages/ipykernel_launcher.py:13: FutureWarning: The default value of regex will change from True to False in a future version.\n",
            "  del sys.path[0]\n",
            "/usr/local/lib/python3.7/dist-packages/ipykernel_launcher.py:13: FutureWarning: The default value of regex will change from True to False in a future version.\n",
            "  del sys.path[0]\n",
            "/usr/local/lib/python3.7/dist-packages/ipykernel_launcher.py:13: FutureWarning: The default value of regex will change from True to False in a future version.\n",
            "  del sys.path[0]\n",
            "/usr/local/lib/python3.7/dist-packages/ipykernel_launcher.py:13: FutureWarning: The default value of regex will change from True to False in a future version.\n",
            "  del sys.path[0]\n"
          ]
        },
        {
          "output_type": "stream",
          "name": "stdout",
          "text": [
            "Axcer  90mg Tablet belongs to a group of medicines called antiplatelets or blood thinners.Axcer  90mg Tablet may be taken with or without food and should be taken regularly at the same time each day.\n",
            "========================================================================================================================\n",
            "Summary of the article -  191\n",
            "Aztolet  10 Tablet is a combination of two medicines used to prevent heart attack and stroke.Do not stop taking it until you have finished the complete course, even when you feel better.\n",
            "========================================================================================================================\n",
            "Summary of the article -  192\n",
            "Alerid Syrup belongs to a group of medicines called antihistamines.Consult your doctor if any of the side effects persist or worry you.\n",
            "========================================================================================================================\n",
            "Summary of the article -  193\n",
            "Acnetor AD Gel is a combination of two medicines that effectively treats acne.Ask your doctor when you should stop treatment.Side effects like minor itching, burning, or redness of the skin and oily skin may be seen in some people.\n",
            "========================================================================================================================\n",
            "Summary of the article -  194\n",
            "Anaspas Tablet is a combination medicine used in the treatment of abdominal pain.Avoid drinking alcohol while taking this medicine as it can worsen your sleepiness.Before taking this medicine, you should tell your doctor if you are pregnant, planning pregnancy or breastfeeding.\n",
            "========================================================================================================================\n",
            "Summary of the article -  195\n",
            "All 9 NVP Tablet is a prescription medicine that has a combination of medicines that is used to treat nausea and vomiting during pregnancy.Check the label before use.Do not take this medicine more than the recommended dose.\n",
            "========================================================================================================================\n",
            "Summary of the article -  196\n"
          ]
        },
        {
          "output_type": "stream",
          "name": "stderr",
          "text": [
            "/usr/local/lib/python3.7/dist-packages/ipykernel_launcher.py:13: FutureWarning: The default value of regex will change from True to False in a future version.\n",
            "  del sys.path[0]\n",
            "/usr/local/lib/python3.7/dist-packages/ipykernel_launcher.py:13: FutureWarning: The default value of regex will change from True to False in a future version.\n",
            "  del sys.path[0]\n",
            "/usr/local/lib/python3.7/dist-packages/ipykernel_launcher.py:13: FutureWarning: The default value of regex will change from True to False in a future version.\n",
            "  del sys.path[0]\n",
            "/usr/local/lib/python3.7/dist-packages/ipykernel_launcher.py:13: FutureWarning: The default value of regex will change from True to False in a future version.\n",
            "  del sys.path[0]\n"
          ]
        },
        {
          "output_type": "stream",
          "name": "stdout",
          "text": [
            "Also let your doctor know all other medications you are using as they may affect, or be affected by, this medicine.Azmarda 50mg Tablet is a combination medicine used to treat heart failure.\n",
            "========================================================================================================================\n",
            "Summary of the article -  197\n",
            "Aztor Asp 75 Capsule is a combination of two medicines used to prevent heart attack and stroke.Do not stop taking it until you have finished the complete course, even when you feel better.\n",
            "========================================================================================================================\n",
            "Summary of the article -  198\n",
            "Addnok 0.2mg Tablet is used to treat moderate to severe pain and drug dependence/addiction to opioids.If any of these side effects do not resolve with time or get worse, you should let your doctor know.\n",
            "========================================================================================================================\n",
            "Summary of the article -  199\n",
            "Anasure 5% Solution belongs to a class of drugs known as vasodilators.Clean and dry your scalp before using it.\n",
            "========================================================================================================================\n",
            "Summary of the article -  200\n"
          ]
        },
        {
          "output_type": "stream",
          "name": "stderr",
          "text": [
            "/usr/local/lib/python3.7/dist-packages/ipykernel_launcher.py:13: FutureWarning: The default value of regex will change from True to False in a future version.\n",
            "  del sys.path[0]\n",
            "/usr/local/lib/python3.7/dist-packages/ipykernel_launcher.py:13: FutureWarning: The default value of regex will change from True to False in a future version.\n",
            "  del sys.path[0]\n",
            "/usr/local/lib/python3.7/dist-packages/ipykernel_launcher.py:13: FutureWarning: The default value of regex will change from True to False in a future version.\n",
            "  del sys.path[0]\n",
            "/usr/local/lib/python3.7/dist-packages/ipykernel_launcher.py:13: FutureWarning: The default value of regex will change from True to False in a future version.\n",
            "  del sys.path[0]\n",
            "/usr/local/lib/python3.7/dist-packages/ipykernel_launcher.py:13: FutureWarning: The default value of regex will change from True to False in a future version.\n",
            "  del sys.path[0]\n"
          ]
        },
        {
          "output_type": "stream",
          "name": "stdout",
          "text": [
            "Ambrodil-D Syrup is a combination medicine used in the treatment of dry cough.Avoid drinking alcohol while taking this medicine as it can make dizziness worse.It is beneficial to have plenty of fluids while taking this medication.\n",
            "========================================================================================================================\n",
            "Summary of the article -  201\n",
            "Acotrust  Tablet is used in the treatment of indigestion.Before taking this medicine, you should let your doctor know if you have liver and kidney problems.\n",
            "========================================================================================================================\n",
            "Summary of the article -  202\n",
            "Atorlip-F Tablet is a combination of two lipid (fat) lowering medicines.Before taking it, let your doctor know if you have any kidney-related problems or if you are pregnant, planning a pregnancy, or breastfeeding.\n",
            "========================================================================================================================\n",
            "Summary of the article -  203\n",
            "Acemiz -MR Tablet is a combination medicine which helps in relieving muscular pain.Also, tell your doctor if you have any problems with the liver or kidneys.\n",
            "========================================================================================================================\n",
            "Summary of the article -  204\n",
            "Aerocort Rotacap is used in the treatment of asthma (wheezing and shortness of breath).Before taking it, you should tell your doctor if you have any kidney or liver diseases so that your doctor can prescribe a suitable dose for you.\n",
            "========================================================================================================================\n",
            "Summary of the article -  205\n",
            "Actis C 2 Tablet is a medicine used in the treatment of arthralgia (joint pain).Before taking it, let your doctor know if you have any medical conditions or disorders.\n",
            "========================================================================================================================\n",
            "Summary of the article -  206\n",
            "AB Phylline N Tablet is used for the prevention of chronic obstructive pulmonary disorder (a lung disorder in which the flow of air to the lungs is blocked).Avoid drinking alcohol while taking this medicine as it can worsen your sleepiness.Never support self-medication or recommend your medicine to another person.\n",
            "========================================================================================================================\n",
            "Summary of the article -  207\n",
            "Admenta 10 Tablet is a medicine used in the treatment of Alzheimer's disease.Do not skip any doses and finish the full course of treatment even if you feel better.\n",
            "========================================================================================================================\n",
            "Summary of the article -  208\n",
            "Aflox Eye Drop is an antibiotic, used in the treatment of bacterial infections of the eye.Avoid skipping any doses and finish the full course of treatment even if you feel better.It may cause eye discomfort, immediately following application.\n",
            "========================================================================================================================\n",
            "Summary of the article -  209\n",
            "Aziwok 500 Tablet is an antibiotic used to treat various types of bacterial infections of the respiratory tract, ear, nose, throat, lungs, skin, and eye in adults and children.Consult your doctor if you find these side effects worry you or persist for a longer duration.Inform your doctor if you have any previous history of allergy or heart problems before taking this medicine.\n",
            "========================================================================================================================\n",
            "Summary of the article -  210\n"
          ]
        },
        {
          "output_type": "stream",
          "name": "stderr",
          "text": [
            "/usr/local/lib/python3.7/dist-packages/ipykernel_launcher.py:13: FutureWarning: The default value of regex will change from True to False in a future version.\n",
            "  del sys.path[0]\n",
            "/usr/local/lib/python3.7/dist-packages/ipykernel_launcher.py:13: FutureWarning: The default value of regex will change from True to False in a future version.\n",
            "  del sys.path[0]\n",
            "/usr/local/lib/python3.7/dist-packages/ipykernel_launcher.py:13: FutureWarning: The default value of regex will change from True to False in a future version.\n",
            "  del sys.path[0]\n",
            "/usr/local/lib/python3.7/dist-packages/ipykernel_launcher.py:13: FutureWarning: The default value of regex will change from True to False in a future version.\n",
            "  del sys.path[0]\n",
            "/usr/local/lib/python3.7/dist-packages/ipykernel_launcher.py:13: FutureWarning: The default value of regex will change from True to False in a future version.\n",
            "  del sys.path[0]\n",
            "/usr/local/lib/python3.7/dist-packages/ipykernel_launcher.py:13: FutureWarning: The default value of regex will change from True to False in a future version.\n",
            "  del sys.path[0]\n"
          ]
        },
        {
          "output_type": "stream",
          "name": "stdout",
          "text": [
            "Actibile 300 Tablet is a medicine used to dissolve certain types of gallstones, to prevent them from forming and to treat a type of liver disease called primary biliary cirrhosis.During the treatment, you may need ultrasound scans, or frequent blood tests to check your liver function.\n",
            "========================================================================================================================\n",
            "Summary of the article -  211\n",
            "Asomex 2.5 Tablet is a medicine used to treat high blood pressure (hypertension) and to prevent angina (heart-related chest pain).Consult your doctor If any of these bother you, or get worse, or won't go away.Before taking it, let your doctor know if you have any liver or kidney problems.\n",
            "========================================================================================================================\n",
            "Summary of the article -  212\n",
            "Augmentin 375 Tablet is a penicillin-type of antibiotic that helps your body fight infections caused by bacteria.Do not stop taking it until you have finished, even when you feel better.\n",
            "========================================================================================================================\n",
            "Summary of the article -  213\n",
            "AB-Flo SR Tablet is used to treat and prevent symptoms of asthma and chronic obstructive pulmonary disorder (a lung disorder in which flow of air to the lung is blocked).But take it at the same time every day to get the most benefit.\n",
            "========================================================================================================================\n",
            "Summary of the article -  214\n",
            "Airz Capsule is used to treat Chronic obstructive pulmonary disease (COPD).If you get these, do not stop taking it but do talk to your doctor.\n",
            "========================================================================================================================\n",
            "Summary of the article -  215\n"
          ]
        },
        {
          "output_type": "stream",
          "name": "stderr",
          "text": [
            "/usr/local/lib/python3.7/dist-packages/ipykernel_launcher.py:13: FutureWarning: The default value of regex will change from True to False in a future version.\n",
            "  del sys.path[0]\n",
            "/usr/local/lib/python3.7/dist-packages/ipykernel_launcher.py:13: FutureWarning: The default value of regex will change from True to False in a future version.\n",
            "  del sys.path[0]\n",
            "/usr/local/lib/python3.7/dist-packages/ipykernel_launcher.py:13: FutureWarning: The default value of regex will change from True to False in a future version.\n",
            "  del sys.path[0]\n",
            "/usr/local/lib/python3.7/dist-packages/ipykernel_launcher.py:13: FutureWarning: The default value of regex will change from True to False in a future version.\n",
            "  del sys.path[0]\n",
            "/usr/local/lib/python3.7/dist-packages/ipykernel_launcher.py:13: FutureWarning: The default value of regex will change from True to False in a future version.\n",
            "  del sys.path[0]\n"
          ]
        },
        {
          "output_type": "stream",
          "name": "stdout",
          "text": [
            "Axogurd-SR Tablet is a prescription medicine used for the treatment of neuropathic pain.Finish the full course of treatment even if you feel better.\n",
            "========================================================================================================================\n",
            "Summary of the article -  216\n",
            "Amicobal 10mg/1500mcg Tablet is a combination of two medicines used to treat neuropathic pain.Finish the full course of the treatment even if you feel better.\n",
            "========================================================================================================================\n",
            "Summary of the article -  217\n",
            "Ambrolite Levo Syrup is a combination medicine used in the treatment of cough with mucus.Avoid drinking alcohol while taking this medicine as it can make sleepiness worse.Never support self-medication or recommend your medicine to another person.\n",
            "========================================================================================================================\n",
            "Summary of the article -  218\n",
            "Ambrodil-S Plus Syrup is a combination medicine used in the treatment of cough.Avoid drinking alcohol while taking this medicine as it can make sleepiness worse.Never support self-medication or recommend your medicine to another person.\n",
            "========================================================================================================================\n",
            "Summary of the article -  219\n",
            "Alex Plus Paediatric Oral Drops is a combination medicine used in the treatment of common cold symptoms.Avoid drinking alcohol while taking this medicine as it can worsen your sleepiness.Never support self-medication or recommend your medicine to another person.\n",
            "========================================================================================================================\n",
            "Summary of the article -  220\n"
          ]
        },
        {
          "output_type": "stream",
          "name": "stderr",
          "text": [
            "/usr/local/lib/python3.7/dist-packages/ipykernel_launcher.py:13: FutureWarning: The default value of regex will change from True to False in a future version.\n",
            "  del sys.path[0]\n",
            "/usr/local/lib/python3.7/dist-packages/ipykernel_launcher.py:13: FutureWarning: The default value of regex will change from True to False in a future version.\n",
            "  del sys.path[0]\n",
            "/usr/local/lib/python3.7/dist-packages/ipykernel_launcher.py:13: FutureWarning: The default value of regex will change from True to False in a future version.\n",
            "  del sys.path[0]\n",
            "/usr/local/lib/python3.7/dist-packages/ipykernel_launcher.py:13: FutureWarning: The default value of regex will change from True to False in a future version.\n",
            "  del sys.path[0]\n",
            "/usr/local/lib/python3.7/dist-packages/ipykernel_launcher.py:13: FutureWarning: The default value of regex will change from True to False in a future version.\n",
            "  del sys.path[0]\n"
          ]
        },
        {
          "output_type": "stream",
          "name": "stdout",
          "text": [
            "Avil Injection is an antiallergic medication.Avoid driving or attention-seeking activity.\n",
            "========================================================================================================================\n",
            "Summary of the article -  221\n",
            "Azimax 500 Tablet is an antibiotic used to treat various types of bacterial infections of the respiratory tract, ear, nose, throat, lungs, skin, and eye in adults and children.Consult your doctor if you find these side effects worry you or persist for a longer duration.Inform your doctor if you have any previous history of allergy or heart problems before taking this medicine.\n",
            "========================================================================================================================\n",
            "Summary of the article -  222\n",
            "Anxit 0.25mg Tablet belongs to a class of medicines known as benzodiazepines.However, it is advised to take it at the same time each day as this helps to maintain a consistent level of medicine in the body.\n",
            "========================================================================================================================\n",
            "Summary of the article -  223\n",
            "Avil 50mg Tablet is an antiallergic medication used in the treatment of various allergic conditions.Avoid driving or attention-seeking activity.\n",
            "========================================================================================================================\n",
            "Summary of the article -  224\n",
            "Also, pregnant women and breastfeeding mothers should not take this medicine as it may harm the developing baby.Aztor 40 Tablet belongs to a group of medicines called statins.\n",
            "========================================================================================================================\n",
            "Summary of the article -  225\n",
            "Aceclo Sera 100mg/325mg/15mg Tablet is a combination medicine used to relieve pain and swelling in various conditions like muscle pain, joint pain and postoperative pain.Aceclo Sera 100mg/325mg/15mg Tablet is not recommended if you are pregnant or breastfeeding.\n",
            "========================================================================================================================\n",
            "Summary of the article -  226\n"
          ]
        },
        {
          "output_type": "stream",
          "name": "stderr",
          "text": [
            "/usr/local/lib/python3.7/dist-packages/ipykernel_launcher.py:13: FutureWarning: The default value of regex will change from True to False in a future version.\n",
            "  del sys.path[0]\n",
            "/usr/local/lib/python3.7/dist-packages/ipykernel_launcher.py:13: FutureWarning: The default value of regex will change from True to False in a future version.\n",
            "  del sys.path[0]\n",
            "/usr/local/lib/python3.7/dist-packages/ipykernel_launcher.py:13: FutureWarning: The default value of regex will change from True to False in a future version.\n",
            "  del sys.path[0]\n",
            "/usr/local/lib/python3.7/dist-packages/ipykernel_launcher.py:13: FutureWarning: The default value of regex will change from True to False in a future version.\n",
            "  del sys.path[0]\n",
            "/usr/local/lib/python3.7/dist-packages/ipykernel_launcher.py:13: FutureWarning: The default value of regex will change from True to False in a future version.\n",
            "  del sys.path[0]\n",
            "/usr/local/lib/python3.7/dist-packages/ipykernel_launcher.py:13: FutureWarning: The default value of regex will change from True to False in a future version.\n",
            "  del sys.path[0]\n"
          ]
        },
        {
          "output_type": "stream",
          "name": "stdout",
          "text": [
            "Atorfit CV 10 Capsule is a combination of two medicines used to prevent heart attack and stroke.Do not stop taking it until you have finished the complete course, even when you feel better.\n",
            "========================================================================================================================\n",
            "Summary of the article -  227\n",
            "Amluck Cream is an antifungal medication.Avoid direct contact of the cream or ointment with your eyes.\n",
            "========================================================================================================================\n",
            "Summary of the article -  228\n",
            "Ambrodil-Plus Syrup is a combination medicine used in the treatment of common cold symptoms.Avoid drinking alcohol while taking this medicine as it can make dizziness worse.Never support self-medication or recommend your medicine to another person.\n",
            "========================================================================================================================\n",
            "Summary of the article -  229\n",
            "Also, pregnant women and breastfeeding mothers should not take this medicine as it may harm the developing baby.Atorva 20 Tablet belongs to a group of medicines called statins.\n",
            "========================================================================================================================\n",
            "Summary of the article -  230\n",
            "Apresol Tablet belongs to a class of drugs known as vasodilators and is used for the treatment of hypertension (high blood pressure).Do not skip any doses.\n",
            "========================================================================================================================\n",
            "Summary of the article -  231\n",
            "Additionally, it helps to eliminate a bacteria known as H. pylori in people with peptic ulcer disease.Almox 250 Capsule is a penicillin-type of antibiotic used to treat a variety of bacterial infections.\n",
            "========================================================================================================================\n",
            "Summary of the article -  232\n"
          ]
        },
        {
          "output_type": "stream",
          "name": "stderr",
          "text": [
            "/usr/local/lib/python3.7/dist-packages/ipykernel_launcher.py:13: FutureWarning: The default value of regex will change from True to False in a future version.\n",
            "  del sys.path[0]\n",
            "/usr/local/lib/python3.7/dist-packages/ipykernel_launcher.py:13: FutureWarning: The default value of regex will change from True to False in a future version.\n",
            "  del sys.path[0]\n",
            "/usr/local/lib/python3.7/dist-packages/ipykernel_launcher.py:13: FutureWarning: The default value of regex will change from True to False in a future version.\n",
            "  del sys.path[0]\n",
            "/usr/local/lib/python3.7/dist-packages/ipykernel_launcher.py:13: FutureWarning: The default value of regex will change from True to False in a future version.\n",
            "  del sys.path[0]\n",
            "/usr/local/lib/python3.7/dist-packages/ipykernel_launcher.py:13: FutureWarning: The default value of regex will change from True to False in a future version.\n",
            "  del sys.path[0]\n",
            "/usr/local/lib/python3.7/dist-packages/ipykernel_launcher.py:13: FutureWarning: The default value of regex will change from True to False in a future version.\n",
            "  del sys.path[0]\n"
          ]
        },
        {
          "output_type": "stream",
          "name": "stdout",
          "text": [
            "Acnedap Gel belongs to a class of drugs known as anti-leprotic medicines.Avoid getting it into your eyes, nose or mouth.\n",
            "========================================================================================================================\n",
            "Summary of the article -  233\n",
            "Alday 10mg Tablet belongs to a group of medicines called antihistamines.Consult your doctor if any of the side effects persist or worry you.\n",
            "========================================================================================================================\n",
            "Summary of the article -  234\n",
            "ATM 500 Tablet is an antibiotic used to treat various types of bacterial infections of the respiratory tract, ear, nose, throat, lungs, skin, and eye in adults and children.Consult your doctor if you find these side effects worry you or persist for a longer duration.Inform your doctor if you have any previous history of allergy or heart problems before taking this medicine.\n",
            "========================================================================================================================\n",
            "Summary of the article -  235\n",
            "Amtas 5 Tablet belongs to a class of medicines known as a calcium channel blockers.Consult your doctor if any of these side effects bother you or do not go away.Before taking it, let your doctor know if you have any liver, heart or kidney problems.\n",
            "========================================================================================================================\n",
            "Summary of the article -  236\n",
            "Abiways Tablet is used for the prevention of chronic obstructive pulmonary disorder (a lung disorder in which the flow of air to the lungs is blocked).Avoid drinking alcohol while taking this medicine as it can worsen your sleepiness.Never support self-medication or recommend your medicine to another person.\n",
            "========================================================================================================================\n",
            "Summary of the article -  237\n",
            "Amlopin 5 Tablet belongs to a class of medicines known as a calcium channel blockers.Consult your doctor if any of these side effects bother you or do not go away.Before taking it, let your doctor know if you have any liver, heart or kidney problems.\n",
            "========================================================================================================================\n",
            "Summary of the article -  238\n"
          ]
        },
        {
          "output_type": "stream",
          "name": "stderr",
          "text": [
            "/usr/local/lib/python3.7/dist-packages/ipykernel_launcher.py:13: FutureWarning: The default value of regex will change from True to False in a future version.\n",
            "  del sys.path[0]\n",
            "/usr/local/lib/python3.7/dist-packages/ipykernel_launcher.py:13: FutureWarning: The default value of regex will change from True to False in a future version.\n",
            "  del sys.path[0]\n",
            "/usr/local/lib/python3.7/dist-packages/ipykernel_launcher.py:13: FutureWarning: The default value of regex will change from True to False in a future version.\n",
            "  del sys.path[0]\n",
            "/usr/local/lib/python3.7/dist-packages/ipykernel_launcher.py:13: FutureWarning: The default value of regex will change from True to False in a future version.\n",
            "  del sys.path[0]\n",
            "/usr/local/lib/python3.7/dist-packages/ipykernel_launcher.py:13: FutureWarning: The default value of regex will change from True to False in a future version.\n",
            "  del sys.path[0]\n",
            "/usr/local/lib/python3.7/dist-packages/ipykernel_launcher.py:13: FutureWarning: The default value of regex will change from True to False in a future version.\n",
            "  del sys.path[0]\n",
            "/usr/local/lib/python3.7/dist-packages/ipykernel_launcher.py:13: FutureWarning: The default value of regex will change from True to False in a future version.\n",
            "  del sys.path[0]\n"
          ]
        },
        {
          "output_type": "stream",
          "name": "stdout",
          "text": [
            "Ascoril D Lozenges Ginger can be taken with or without food, but take it at the same time to get the most benefit.Ascoril D Lozenges Ginger is an antitussive medicine.\n",
            "========================================================================================================================\n",
            "Summary of the article -  239\n",
            "Alzolam 0.5mg Tablet belongs to a class of medicines known as benzodiazepines.However, it is advised to take it at the same time each day as this helps to maintain a consistent level of medicine in the body.\n",
            "========================================================================================================================\n",
            "Summary of the article -  240\n",
            "Amluck Cream is an antifungal medication.Avoid direct contact of the cream or ointment with your eyes.\n",
            "========================================================================================================================\n",
            "Summary of the article -  241\n",
            "Almox-CV 625 Tablet is a penicillin-type of antibiotic that helps your body fight infections caused by bacteria.Do not stop taking it until you have finished, even when you feel better.\n",
            "========================================================================================================================\n",
            "Summary of the article -  242\n",
            "Afogatran 110 Capsule is a medicine known as an anticoagulant or blood thinner.Do not stop taking it or change the dose without guidance from your doctor.\n",
            "========================================================================================================================\n",
            "Summary of the article -  243\n",
            "Alcarex Eye Drop is an antihistaminic medication.Consult your doctor if these side effects persist or if your condition worsens.\n",
            "========================================================================================================================\n",
            "Summary of the article -  244\n"
          ]
        },
        {
          "output_type": "stream",
          "name": "stderr",
          "text": [
            "/usr/local/lib/python3.7/dist-packages/ipykernel_launcher.py:13: FutureWarning: The default value of regex will change from True to False in a future version.\n",
            "  del sys.path[0]\n",
            "/usr/local/lib/python3.7/dist-packages/ipykernel_launcher.py:13: FutureWarning: The default value of regex will change from True to False in a future version.\n",
            "  del sys.path[0]\n",
            "/usr/local/lib/python3.7/dist-packages/ipykernel_launcher.py:13: FutureWarning: The default value of regex will change from True to False in a future version.\n",
            "  del sys.path[0]\n",
            "/usr/local/lib/python3.7/dist-packages/ipykernel_launcher.py:13: FutureWarning: The default value of regex will change from True to False in a future version.\n",
            "  del sys.path[0]\n",
            "/usr/local/lib/python3.7/dist-packages/ipykernel_launcher.py:13: FutureWarning: The default value of regex will change from True to False in a future version.\n",
            "  del sys.path[0]\n",
            "/usr/local/lib/python3.7/dist-packages/ipykernel_launcher.py:13: FutureWarning: The default value of regex will change from True to False in a future version.\n",
            "  del sys.path[0]\n",
            "/usr/local/lib/python3.7/dist-packages/ipykernel_launcher.py:13: FutureWarning: The default value of regex will change from True to False in a future version.\n",
            "  del sys.path[0]\n"
          ]
        },
        {
          "output_type": "stream",
          "name": "stdout",
          "text": [
            "Atonide Gel is a topical steroid use for treatment of skin conditions with inflammation and itching.Avoid any contact with your eyes, nose, or mouth.\n",
            "========================================================================================================================\n",
            "Summary of the article -  245\n",
            "Apdrops LP  Eye Drop is a prescription medicine having a combination of medicines that is used to treat bacterial infections.Do not skip any doses and finish the full course of treatment even if you feel better.\n",
            "========================================================================================================================\n",
            "Summary of the article -  246\n",
            "AF 200 Tablet belongs to a group of medicines called antifungals.Avoid taking antacid treatments within one hour before or two hours after you take it.The most common side effects of this medicine include stomach pain, headache and feeling sick (nausea).\n",
            "========================================================================================================================\n",
            "Summary of the article -  247\n",
            "Asthalin AX Syrup is a combination medicine used in the treatment of cough with mucus.Avoid drinking alcohol while taking this medicine as it can make sleepiness worse.Never support self-medication or recommend your medicine to another person.\n",
            "========================================================================================================================\n",
            "Summary of the article -  248\n"
          ]
        },
        {
          "output_type": "stream",
          "name": "stderr",
          "text": [
            "/usr/local/lib/python3.7/dist-packages/ipykernel_launcher.py:13: FutureWarning: The default value of regex will change from True to False in a future version.\n",
            "  del sys.path[0]\n",
            "/usr/local/lib/python3.7/dist-packages/ipykernel_launcher.py:13: FutureWarning: The default value of regex will change from True to False in a future version.\n",
            "  del sys.path[0]\n",
            "/usr/local/lib/python3.7/dist-packages/ipykernel_launcher.py:13: FutureWarning: The default value of regex will change from True to False in a future version.\n",
            "  del sys.path[0]\n",
            "/usr/local/lib/python3.7/dist-packages/ipykernel_launcher.py:13: FutureWarning: The default value of regex will change from True to False in a future version.\n",
            "  del sys.path[0]\n"
          ]
        },
        {
          "output_type": "stream",
          "name": "stdout",
          "text": [
            "ALERGIN L TABLET belongs to a group of medicines called antihistamines.Consult your doctor if any of the side effects persist or worry you.Before taking it, tell your doctor if you have any kidney problems or epilepsy (seizures).\n",
            "========================================================================================================================\n",
            "Summary of the article -  249\n",
            "Afdura Tablet ER is a combination of two medicines which work in different ways to treat men with an enlarged prostate gland.Before taking it, tell your doctor if you have low blood pressure or liver or kidney disease.\n",
            "========================================================================================================================\n",
            "Summary of the article -  250\n",
            "Azithral 250mg DT Tablet is an antibiotic used to treat various types of bacterial infections of the respiratory tract, ear, nose, throat, lungs, skin, and eye in adults and children.Consult your doctor if you find these side effects worry you or persist for a longer duration.Inform your doctor if you have any previous history of allergy or heart problems before taking this medicine.\n",
            "========================================================================================================================\n",
            "Summary of the article -  251\n",
            "Amlosafe 5 Tablet belongs to a class of medicines known as a calcium channel blockers.Consult your doctor if any of these side effects bother you or do not go away.Before taking it, let your doctor know if you have any liver, heart or kidney problems.\n",
            "========================================================================================================================\n",
            "Summary of the article -  252\n"
          ]
        },
        {
          "output_type": "stream",
          "name": "stderr",
          "text": [
            "/usr/local/lib/python3.7/dist-packages/ipykernel_launcher.py:13: FutureWarning: The default value of regex will change from True to False in a future version.\n",
            "  del sys.path[0]\n",
            "/usr/local/lib/python3.7/dist-packages/ipykernel_launcher.py:13: FutureWarning: The default value of regex will change from True to False in a future version.\n",
            "  del sys.path[0]\n",
            "/usr/local/lib/python3.7/dist-packages/ipykernel_launcher.py:13: FutureWarning: The default value of regex will change from True to False in a future version.\n",
            "  del sys.path[0]\n",
            "/usr/local/lib/python3.7/dist-packages/ipykernel_launcher.py:13: FutureWarning: The default value of regex will change from True to False in a future version.\n",
            "  del sys.path[0]\n"
          ]
        },
        {
          "output_type": "stream",
          "name": "stdout",
          "text": [
            "Alaspan AM Tablet is a combination medicine used in the treatment of cough.Avoid drinking alcohol while taking this medicine as it can make dizziness worse.Never support self-medication or recommend your medicine to another person.\n",
            "========================================================================================================================\n",
            "Summary of the article -  253\n",
            "Also, pregnant women and breastfeeding mothers should not take this medicine as it may harm the developing baby.Atocor 10 Tablet belongs to a group of medicines called statins.\n",
            "========================================================================================================================\n",
            "Summary of the article -  254\n",
            "Advent 228.5mg Dry Syrup is a penicillin-type of antibiotic that helps your body fight infections caused by bacteria.Do not stop taking it until you have finished, even when you feel better.\n",
            "========================================================================================================================\n",
            "Summary of the article -  255\n",
            "Ask your doctor if it is safe.Auxerg Cream is an antifungal medicine used to treat fungal infections of the skin.\n",
            "========================================================================================================================\n",
            "Summary of the article -  256\n"
          ]
        },
        {
          "output_type": "stream",
          "name": "stderr",
          "text": [
            "/usr/local/lib/python3.7/dist-packages/ipykernel_launcher.py:13: FutureWarning: The default value of regex will change from True to False in a future version.\n",
            "  del sys.path[0]\n",
            "/usr/local/lib/python3.7/dist-packages/ipykernel_launcher.py:13: FutureWarning: The default value of regex will change from True to False in a future version.\n",
            "  del sys.path[0]\n",
            "/usr/local/lib/python3.7/dist-packages/ipykernel_launcher.py:13: FutureWarning: The default value of regex will change from True to False in a future version.\n",
            "  del sys.path[0]\n"
          ]
        },
        {
          "output_type": "stream",
          "name": "stdout",
          "text": [
            "Aquaviron Injection 1ml is a medicine used in the treatment of male hypogonadism caused due to low testosterone levels.If these bother you or appear serious, let your doctor know.\n",
            "========================================================================================================================\n",
            "Summary of the article -  257\n",
            "Adalene Nanogel Gel is a combination of two medicines that effectively treats acne.Ask your doctor when you should stop treatment.Side effects like minor itching, burning, or redness of the skin and oily skin may be seen in some people.\n",
            "========================================================================================================================\n",
            "Summary of the article -  258\n",
            "Always wash your hands and do not touch the end of the dropper.Aqualube Eye Drop is an eye lubricant or artificial tears used to relieve dry eyes.\n",
            "========================================================================================================================\n",
            "Summary of the article -  259\n",
            "Also, pregnant women and breastfeeding mothers should not take this medicine as it may harm the developing baby.Aztor 20 Tablet belongs to a group of medicines called statins.\n",
            "========================================================================================================================\n",
            "Summary of the article -  260\n",
            "Amlong-A Tablet is used to treat hypertension (high blood pressure).Even if you feel well, do not stop this medicine on your own because high blood pressure often has no symptoms.\n",
            "========================================================================================================================\n",
            "Summary of the article -  261\n",
            "Augpen 625 BID Tablet is a penicillin-type of antibiotic that helps your body fight infections caused by bacteria.Do not stop taking it until you have finished, even when you feel better.\n",
            "========================================================================================================================\n",
            "Summary of the article -  262\n"
          ]
        },
        {
          "output_type": "stream",
          "name": "stderr",
          "text": [
            "/usr/local/lib/python3.7/dist-packages/ipykernel_launcher.py:13: FutureWarning: The default value of regex will change from True to False in a future version.\n",
            "  del sys.path[0]\n",
            "/usr/local/lib/python3.7/dist-packages/ipykernel_launcher.py:13: FutureWarning: The default value of regex will change from True to False in a future version.\n",
            "  del sys.path[0]\n",
            "/usr/local/lib/python3.7/dist-packages/ipykernel_launcher.py:13: FutureWarning: The default value of regex will change from True to False in a future version.\n",
            "  del sys.path[0]\n",
            "/usr/local/lib/python3.7/dist-packages/ipykernel_launcher.py:13: FutureWarning: The default value of regex will change from True to False in a future version.\n",
            "  del sys.path[0]\n",
            "/usr/local/lib/python3.7/dist-packages/ipykernel_launcher.py:13: FutureWarning: The default value of regex will change from True to False in a future version.\n",
            "  del sys.path[0]\n"
          ]
        },
        {
          "output_type": "stream",
          "name": "stdout",
          "text": [
            "Afoglip Tablet is a medicine used to treat type 2 diabetes mellitus.Contact your doctor if the side effects worry you or if they do not go away.Before taking this medicine, let your doctor know if you have ever had kidney disease, heart or pancreas problems, or if you drink a lot of alcohol.\n",
            "========================================================================================================================\n",
            "Summary of the article -  263\n",
            "Acogut Tablet is used in the treatment of indigestion.Before taking this medicine, you should let your doctor know if you have liver and kidney problems.\n",
            "========================================================================================================================\n",
            "Summary of the article -  264\n",
            "Alkamax MB 6 Syrup is a combination of three medicines.Before taking it, let your doctor know if you have any medical conditions or disorders such as problems with your heart, liver, or kidneys.\n",
            "========================================================================================================================\n",
            "Summary of the article -  265\n",
            "Acuvert Tablet is used to treat nausea, vomiting and dizziness due to ear diseases (Meniere’s syndrome).Avoid drinking alcohol while taking this medicine as it can worsen your sleepiness.Before taking this medicine you should let your doctor know if you have jaundice (yellowing of the skin or eyes), epilepsy, muscle weakness (myasthenia gravis), and increased pressure in the eye (glaucoma).\n",
            "========================================================================================================================\n",
            "Summary of the article -  266\n",
            "Acton-OR Tablet SR is a medicine used in the treatment of pain and fever.Consult your doctor if any of these side effects bother you or do not go away.Before taking it, let your doctor know if you have liver or kidney problems or are using blood-thinning medicines.\n",
            "========================================================================================================================\n",
            "Summary of the article -  267\n",
            "Acitrom 4 Tablet is an oral anticoagulant which helps to prevent formation of harmful blood clots in the legs, lungs, brain and heart.Also, let your doctor know if you are pregnant or breastfeeding and about all the other medications that you are taking regularly.\n",
            "========================================================================================================================\n",
            "Summary of the article -  268\n",
            "Amnurite  10 Tablet SR is a combination of two medicines used to treat neuropathic pain.Finish the full course of the treatment even if you feel better.\n",
            "========================================================================================================================\n",
            "Summary of the article -  269\n"
          ]
        },
        {
          "output_type": "stream",
          "name": "stderr",
          "text": [
            "/usr/local/lib/python3.7/dist-packages/ipykernel_launcher.py:13: FutureWarning: The default value of regex will change from True to False in a future version.\n",
            "  del sys.path[0]\n",
            "/usr/local/lib/python3.7/dist-packages/ipykernel_launcher.py:13: FutureWarning: The default value of regex will change from True to False in a future version.\n",
            "  del sys.path[0]\n",
            "/usr/local/lib/python3.7/dist-packages/ipykernel_launcher.py:13: FutureWarning: The default value of regex will change from True to False in a future version.\n",
            "  del sys.path[0]\n",
            "/usr/local/lib/python3.7/dist-packages/ipykernel_launcher.py:13: FutureWarning: The default value of regex will change from True to False in a future version.\n",
            "  del sys.path[0]\n",
            "/usr/local/lib/python3.7/dist-packages/ipykernel_launcher.py:13: FutureWarning: The default value of regex will change from True to False in a future version.\n",
            "  del sys.path[0]\n",
            "/usr/local/lib/python3.7/dist-packages/ipykernel_launcher.py:13: FutureWarning: The default value of regex will change from True to False in a future version.\n",
            "  del sys.path[0]\n",
            "/usr/local/lib/python3.7/dist-packages/ipykernel_launcher.py:13: FutureWarning: The default value of regex will change from True to False in a future version.\n",
            "  del sys.path[0]\n"
          ]
        },
        {
          "output_type": "stream",
          "name": "stdout",
          "text": [
            "Amaryl M Forte 2mg Tablet PR belongs to a category of medicines known as anti-diabetic drugs.Before taking this medicine, tell your doctor if you have ever had heart disease.\n",
            "========================================================================================================================\n",
            "Summary of the article -  270\n",
            "A-Ret 0.05% Gel is a form of vitamin A that is used to treat acne which appears as spots or pimples on your face, chest or back.Consult your doctor again if you do not notice any improvement after a few weeks.\n",
            "========================================================================================================================\n",
            "Summary of the article -  271\n",
            "Arcalion Tablet is a prescription medicine indicated for the treatment of asthenia.Asthenia is a condition in which there is generalized tiredness and weakness that persists for a long term.\n",
            "========================================================================================================================\n",
            "Summary of the article -  272\n",
            "Althrocin Liquid is an antibiotic used to treat various types of infections.Consult your doctor if you find these side effects do not resolve or persist for a longer duration.Inform your doctor if you have any previous history of allergy or heart problems before taking this medicine.\n",
            "========================================================================================================================\n",
            "Summary of the article -  273\n",
            "Anabel Liquid Gel is a combination of two medicines is used to treat mouth ulcers.Apply it only in the mouth with clean hands.\n",
            "========================================================================================================================\n",
            "Summary of the article -  274\n",
            "Assurans Tablet is a medicine used to treat high blood pressure in the blood vessels that supply the lungs (pulmonary arterial hypertension).Avoid drinking alcohol while taking this medicine as it increases the chances of side effects.\n",
            "========================================================================================================================\n",
            "Summary of the article -  275\n"
          ]
        },
        {
          "output_type": "stream",
          "name": "stderr",
          "text": [
            "/usr/local/lib/python3.7/dist-packages/ipykernel_launcher.py:13: FutureWarning: The default value of regex will change from True to False in a future version.\n",
            "  del sys.path[0]\n",
            "/usr/local/lib/python3.7/dist-packages/ipykernel_launcher.py:13: FutureWarning: The default value of regex will change from True to False in a future version.\n",
            "  del sys.path[0]\n",
            "/usr/local/lib/python3.7/dist-packages/ipykernel_launcher.py:13: FutureWarning: The default value of regex will change from True to False in a future version.\n",
            "  del sys.path[0]\n",
            "/usr/local/lib/python3.7/dist-packages/ipykernel_launcher.py:13: FutureWarning: The default value of regex will change from True to False in a future version.\n",
            "  del sys.path[0]\n",
            "/usr/local/lib/python3.7/dist-packages/ipykernel_launcher.py:13: FutureWarning: The default value of regex will change from True to False in a future version.\n",
            "  del sys.path[0]\n",
            "/usr/local/lib/python3.7/dist-packages/ipykernel_launcher.py:13: FutureWarning: The default value of regex will change from True to False in a future version.\n",
            "  del sys.path[0]\n"
          ]
        },
        {
          "output_type": "stream",
          "name": "stdout",
          "text": [
            "), you must seek immediate medical help.Before taking this medicine, you should tell your doctor if you are taking any medicines for any health condition.Augpen LB 625 Tablet is a combination medicine that is used to treat various types of bacterial infections.\n",
            "========================================================================================================================\n",
            "Summary of the article -  276\n",
            "Also, pregnant women and breastfeeding mothers should not take this medicine as it may harm the developing baby.Atorva 20 Tablet belongs to a group of medicines called statins.\n",
            "========================================================================================================================\n",
            "Summary of the article -  277\n",
            "Arbitel 40 Tablet is a medicine used to treat high blood pressure and heart disease.Before taking this medicine, let your doctor know if you have any kidney or liver problems.\n",
            "========================================================================================================================\n",
            "Summary of the article -  278\n",
            "Azithral 100 Liquid is an antibiotic used to treat various types of bacterial infections of the respiratory tract, ear, nose, throat, lungs, skin, and eye in adults and children.Consult your doctor if you find these side effects worry you or persist for a longer duration.Inform your doctor if you have any previous history of allergy or heart problems before taking this medicine.\n",
            "========================================================================================================================\n",
            "Summary of the article -  279\n"
          ]
        },
        {
          "output_type": "stream",
          "name": "stderr",
          "text": [
            "/usr/local/lib/python3.7/dist-packages/ipykernel_launcher.py:13: FutureWarning: The default value of regex will change from True to False in a future version.\n",
            "  del sys.path[0]\n",
            "/usr/local/lib/python3.7/dist-packages/ipykernel_launcher.py:13: FutureWarning: The default value of regex will change from True to False in a future version.\n",
            "  del sys.path[0]\n",
            "/usr/local/lib/python3.7/dist-packages/ipykernel_launcher.py:13: FutureWarning: The default value of regex will change from True to False in a future version.\n",
            "  del sys.path[0]\n",
            "/usr/local/lib/python3.7/dist-packages/ipykernel_launcher.py:13: FutureWarning: The default value of regex will change from True to False in a future version.\n",
            "  del sys.path[0]\n"
          ]
        },
        {
          "output_type": "stream",
          "name": "stdout",
          "text": [
            "Amlogard 5mg Tablet belongs to a class of medicines known as a calcium channel blockers.Consult your doctor if any of these side effects bother you or do not go away.Before taking it, let your doctor know if you have any liver, heart or kidney problems.\n",
            "========================================================================================================================\n",
            "Summary of the article -  280\n",
            "Airtab-FX Tablet is a combination medicine used in the treatment of allergy symptoms such as runny nose, stuffy nose, sneezing, watery eyes and congestion or stuffiness.Airtab-FX Tablet is taken with or without food in a dose and duration as advised by the doctor.Avoid drinking alcohol while taking this medicine as it can worsen your sleepiness.Never support self-medication or recommend your medicine to another person.\n",
            "========================================================================================================================\n",
            "Summary of the article -  281\n",
            "Am-Exidil 5 Topical Solution is used to treat hair loss.Clean and dry your scalp before using it.\n",
            "========================================================================================================================\n",
            "Summary of the article -  282\n",
            "Anxipan Capsule is a combination of two medicines used to treat anxiety, acidity, and heartburn.Finish the full course of the treatment even if you feel better.\n",
            "========================================================================================================================\n",
            "Summary of the article -  283\n",
            "Allegra 30mg Tablet belongs to a group of medicines called antihistamines.Avoid drinking alcohol as it can cause excessive drowsiness with this medicine.\n",
            "========================================================================================================================\n",
            "Summary of the article -  284\n",
            "Amlokind-L Tablet contains two medicines, both of which help to control high blood pressure.By lowering your blood pressure, it is reducing your risk of heart attack or stroke so do not stop taking it unless your doctor tells you to.\n",
            "========================================================================================================================\n",
            "Summary of the article -  285\n"
          ]
        },
        {
          "output_type": "stream",
          "name": "stderr",
          "text": [
            "/usr/local/lib/python3.7/dist-packages/ipykernel_launcher.py:13: FutureWarning: The default value of regex will change from True to False in a future version.\n",
            "  del sys.path[0]\n",
            "/usr/local/lib/python3.7/dist-packages/ipykernel_launcher.py:13: FutureWarning: The default value of regex will change from True to False in a future version.\n",
            "  del sys.path[0]\n",
            "/usr/local/lib/python3.7/dist-packages/ipykernel_launcher.py:13: FutureWarning: The default value of regex will change from True to False in a future version.\n",
            "  del sys.path[0]\n",
            "/usr/local/lib/python3.7/dist-packages/ipykernel_launcher.py:13: FutureWarning: The default value of regex will change from True to False in a future version.\n",
            "  del sys.path[0]\n",
            "/usr/local/lib/python3.7/dist-packages/ipykernel_launcher.py:13: FutureWarning: The default value of regex will change from True to False in a future version.\n",
            "  del sys.path[0]\n",
            "/usr/local/lib/python3.7/dist-packages/ipykernel_launcher.py:13: FutureWarning: The default value of regex will change from True to False in a future version.\n",
            "  del sys.path[0]\n"
          ]
        },
        {
          "output_type": "stream",
          "name": "stdout",
          "text": [
            "Amlosafe 3D Tablet is a combination of medicines used to treat hypertension (high blood pressure) when a single medication is not effective.Consult your doctor If any of these bother you, or get worse, or won't go away.\n",
            "========================================================================================================================\n",
            "Summary of the article -  286\n",
            ").Before taking this medicine, it is important to tell your doctor if you are taking or have recently taken any other medicines.A thin layer of the medicine should be applied only to the affected areas of the skin with clean and dry hands.\n",
            "========================================================================================================================\n",
            "Summary of the article -  287\n",
            "Amodep 5 Tablet belongs to a class of medicines known as a calcium channel blockers.Consult your doctor if any of these side effects bother you or do not go away.Before taking it, let your doctor know if you have any liver, heart or kidney problems.\n",
            "========================================================================================================================\n",
            "Summary of the article -  288\n",
            "Apgel is a medication used in the treatment of mild to moderate acne.Avoid direct contact of the cream or ointment with your eyes.\n",
            "========================================================================================================================\n",
            "Summary of the article -  289\n",
            "Ascoril Flu Drops is a combination medicine used in the treatment of common cold symptoms.Avoid drinking alcohol while taking this medicine as it can worsen your sleepiness.Never support self-medication or recommend your medicine to another person.\n",
            "========================================================================================================================\n",
            "Summary of the article -  290\n",
            "Azikem 500mg Tablet is an antibiotic used to treat various types of bacterial infections of the respiratory tract, ear, nose, throat, lungs, skin, and eye in adults and children.Consult your doctor if you find these side effects worry you or persist for a longer duration.Inform your doctor if you have any previous history of allergy or heart problems before taking this medicine.\n",
            "========================================================================================================================\n",
            "Summary of the article -  291\n",
            "Amitop 10 Tablet is used in the treatment of depression.Different doses of this medicine help in treating and preventing different problems such as chronic nerve-related (neuropathic) pain, migraine, tension-type headache and nighttime bedwetting (nocturnal enuresis) by older children (6 years and above).Amitop 10 Tablet is known as a tricyclic antidepressant.\n",
            "========================================================================================================================\n"
          ]
        },
        {
          "output_type": "stream",
          "name": "stderr",
          "text": [
            "/usr/local/lib/python3.7/dist-packages/ipykernel_launcher.py:13: FutureWarning: The default value of regex will change from True to False in a future version.\n",
            "  del sys.path[0]\n",
            "/usr/local/lib/python3.7/dist-packages/ipykernel_launcher.py:13: FutureWarning: The default value of regex will change from True to False in a future version.\n",
            "  del sys.path[0]\n",
            "/usr/local/lib/python3.7/dist-packages/ipykernel_launcher.py:13: FutureWarning: The default value of regex will change from True to False in a future version.\n",
            "  del sys.path[0]\n",
            "/usr/local/lib/python3.7/dist-packages/ipykernel_launcher.py:13: FutureWarning: The default value of regex will change from True to False in a future version.\n",
            "  del sys.path[0]\n",
            "/usr/local/lib/python3.7/dist-packages/ipykernel_launcher.py:13: FutureWarning: The default value of regex will change from True to False in a future version.\n",
            "  del sys.path[0]\n",
            "/usr/local/lib/python3.7/dist-packages/ipykernel_launcher.py:13: FutureWarning: The default value of regex will change from True to False in a future version.\n",
            "  del sys.path[0]\n"
          ]
        },
        {
          "output_type": "stream",
          "name": "stdout",
          "text": [
            "Summary of the article -  292\n",
            "Ajaduo 10mg/5mg Tablet is a combination medicine that helps control blood sugar levels.Avoid excessive alcohol intake while taking it as this may increase the risk of developing some side effects.\n",
            "========================================================================================================================\n",
            "Summary of the article -  293\n",
            "Anafortan Injection is used to treat abdominal cramps.Contact your doctor straight away if you are at all concerned about any of these side effects.Inform your doctor before taking Anafortan Injection if you are suffering from overactive thyroid, obstructive airway disease, or inflammation of the intestine (ulcerative colitis).\n",
            "========================================================================================================================\n",
            "Summary of the article -  294\n",
            "Amlong MT 50 Tablet PR contains two medicines, both of which help to control high blood pressure and heart rate.Even if you feel well, do not stop this medicine on your own because high blood pressure often has no symptoms.\n",
            "========================================================================================================================\n",
            "Summary of the article -  295\n",
            "Also, pregnant women and breastfeeding mothers should not take this medicine as it may harm the developing baby.Avas 10 Tablet belongs to a group of medicines called statins.\n",
            "========================================================================================================================\n",
            "Summary of the article -  296\n",
            "Allercet Cold Tablet is used in the treatment of common cold symptoms like runny nose, stuffy nose, sneezing, watery eyes and congestion or stuffiness.Avoid drinking alcohol while taking this medicine as it can worsen your sleepiness.Never support self-medication or recommend your medicine to another person.\n",
            "========================================================================================================================\n",
            "Summary of the article -  297\n"
          ]
        },
        {
          "output_type": "stream",
          "name": "stderr",
          "text": [
            "/usr/local/lib/python3.7/dist-packages/ipykernel_launcher.py:13: FutureWarning: The default value of regex will change from True to False in a future version.\n",
            "  del sys.path[0]\n",
            "/usr/local/lib/python3.7/dist-packages/ipykernel_launcher.py:13: FutureWarning: The default value of regex will change from True to False in a future version.\n",
            "  del sys.path[0]\n",
            "/usr/local/lib/python3.7/dist-packages/ipykernel_launcher.py:13: FutureWarning: The default value of regex will change from True to False in a future version.\n",
            "  del sys.path[0]\n",
            "/usr/local/lib/python3.7/dist-packages/ipykernel_launcher.py:13: FutureWarning: The default value of regex will change from True to False in a future version.\n",
            "  del sys.path[0]\n",
            "/usr/local/lib/python3.7/dist-packages/ipykernel_launcher.py:13: FutureWarning: The default value of regex will change from True to False in a future version.\n",
            "  del sys.path[0]\n",
            "/usr/local/lib/python3.7/dist-packages/ipykernel_launcher.py:13: FutureWarning: The default value of regex will change from True to False in a future version.\n",
            "  del sys.path[0]\n"
          ]
        },
        {
          "output_type": "stream",
          "name": "stdout",
          "text": [
            "Air 180 Tablet belongs to a group of medicines called antihistamines.Avoid drinking alcohol as it can cause excessive drowsiness with this medicine.\n",
            "========================================================================================================================\n",
            "Summary of the article -  298\n",
            "Amlopres TL Tablet contains two medicines, both of which help to control high blood pressure.By lowering your blood pressure, it is reducing your risk of heart attack or stroke so do not stop taking it unless your doctor tells you to.\n",
            "========================================================================================================================\n",
            "Summary of the article -  299\n",
            "Amitryn 10 Tablet is used in the treatment of depression.Different doses of this medicine help in treating and preventing different problems such as chronic nerve-related (neuropathic) pain, migraine, tension-type headache and nighttime bedwetting (nocturnal enuresis) by older children (6 years and above).Amitryn 10 Tablet is known as a tricyclic antidepressant.\n",
            "========================================================================================================================\n",
            "Summary of the article -  300\n",
            "Additionally, it helps to eliminate a bacteria known as H. pylori in people with peptic ulcer disease.Alkem Amoxicillin 250mg Capsule is a penicillin-type of antibiotic used to treat a variety of bacterial infections.\n",
            "========================================================================================================================\n",
            "Summary of the article -  301\n",
            "Amlosafe-AT Tablet is used to treat hypertension (high blood pressure).Even if you feel well, do not stop this medicine on your own because high blood pressure often has no symptoms.\n",
            "========================================================================================================================\n",
            "Summary of the article -  302\n"
          ]
        },
        {
          "output_type": "stream",
          "name": "stderr",
          "text": [
            "/usr/local/lib/python3.7/dist-packages/ipykernel_launcher.py:13: FutureWarning: The default value of regex will change from True to False in a future version.\n",
            "  del sys.path[0]\n",
            "/usr/local/lib/python3.7/dist-packages/ipykernel_launcher.py:13: FutureWarning: The default value of regex will change from True to False in a future version.\n",
            "  del sys.path[0]\n",
            "/usr/local/lib/python3.7/dist-packages/ipykernel_launcher.py:13: FutureWarning: The default value of regex will change from True to False in a future version.\n",
            "  del sys.path[0]\n",
            "/usr/local/lib/python3.7/dist-packages/ipykernel_launcher.py:13: FutureWarning: The default value of regex will change from True to False in a future version.\n",
            "  del sys.path[0]\n",
            "/usr/local/lib/python3.7/dist-packages/ipykernel_launcher.py:13: FutureWarning: The default value of regex will change from True to False in a future version.\n",
            "  del sys.path[0]\n"
          ]
        },
        {
          "output_type": "stream",
          "name": "stdout",
          "text": [
            "Advent 625 Tablet is a penicillin-type of antibiotic that helps your body fight infections caused by bacteria.Do not stop taking it until you have finished, even when you feel better.\n",
            "========================================================================================================================\n",
            "Summary of the article -  303\n",
            "Alex-L Cough Syrup Mango can be taken with or without food, but take it at the same time to get the most benefit.Alex-L Cough Syrup Mango is an antitussive medicine.\n",
            "========================================================================================================================\n",
            "Summary of the article -  304\n",
            "Asprin Tablet DT is an antiplatelet medicine used to treat and prevent heart attacks, strokes and heart-related chest pain (angina).Avoid drinking alcohol while you are taking this medicine.\n",
            "========================================================================================================================\n",
            "Summary of the article -  305\n",
            "Acrotac 25mg Capsule is a medicine that is similar to vitamin A and is involved in the normal growth of skin cells.Avoid drinking alcohol while taking this medicine as it can make dizziness worse.Avoid sun exposure and cover the treated areas with clothing or use a sunscreen before stepping out in the sun.\n",
            "========================================================================================================================\n",
            "Summary of the article -  306\n",
            "Aciloc Injection is a medicine that reduces the amount of excess acid made by your stomach.Also tell your doctor what other medicines you are taking as some may affect, or be affected by, this medicine.\n",
            "========================================================================================================================\n",
            "Summary of the article -  307\n"
          ]
        },
        {
          "output_type": "stream",
          "name": "stderr",
          "text": [
            "/usr/local/lib/python3.7/dist-packages/ipykernel_launcher.py:13: FutureWarning: The default value of regex will change from True to False in a future version.\n",
            "  del sys.path[0]\n",
            "/usr/local/lib/python3.7/dist-packages/ipykernel_launcher.py:13: FutureWarning: The default value of regex will change from True to False in a future version.\n",
            "  del sys.path[0]\n",
            "/usr/local/lib/python3.7/dist-packages/ipykernel_launcher.py:13: FutureWarning: The default value of regex will change from True to False in a future version.\n",
            "  del sys.path[0]\n",
            "/usr/local/lib/python3.7/dist-packages/ipykernel_launcher.py:13: FutureWarning: The default value of regex will change from True to False in a future version.\n",
            "  del sys.path[0]\n",
            "/usr/local/lib/python3.7/dist-packages/ipykernel_launcher.py:13: FutureWarning: The default value of regex will change from True to False in a future version.\n",
            "  del sys.path[0]\n",
            "/usr/local/lib/python3.7/dist-packages/ipykernel_launcher.py:13: FutureWarning: The default value of regex will change from True to False in a future version.\n",
            "  del sys.path[0]\n"
          ]
        },
        {
          "output_type": "stream",
          "name": "stdout",
          "text": [
            "Advanced LCF Kid Expectorant is a combination medicine used to treat cough.Avoid drinking alcohol while taking this medicine as it can make sleepiness worse.Never support self-medication or recommend your medicine to another person.\n",
            "========================================================================================================================\n",
            "Summary of the article -  308\n",
            "Additionally, it helps to eliminate a bacteria known as H. pylori in people with peptic ulcer disease.Amoxil 250mg Capsule is a penicillin-type of antibiotic used to treat a variety of bacterial infections.\n",
            "========================================================================================================================\n",
            "Summary of the article -  309\n",
            "Azee 250 Tablet is an antibiotic used to treat various types of bacterial infections of the respiratory tract, ear, nose, throat, lungs, skin, and eye in adults and children.Consult your doctor if you find these side effects worry you or persist for a longer duration.Inform your doctor if you have any previous history of allergy or heart problems before taking this medicine.\n",
            "========================================================================================================================\n",
            "Summary of the article -  310\n",
            "Acutret 20 Capsule belongs to a group of medicines called retinoids, which are closely related to vitamin A derivative.Acutret 20 Capsule should be used in the dose and duration as advised by your doctor.\n",
            "========================================================================================================================\n",
            "Summary of the article -  311\n",
            "Actrapid HM 100IU/ml Penfill is a short-acting insulin used to treat type 1 and type 2 diabetes mellitus.Check your blood sugar levels regularly, keep track of your results and share them with your doctor.\n",
            "========================================================================================================================\n",
            "Summary of the article -  312\n"
          ]
        },
        {
          "output_type": "stream",
          "name": "stderr",
          "text": [
            "/usr/local/lib/python3.7/dist-packages/ipykernel_launcher.py:13: FutureWarning: The default value of regex will change from True to False in a future version.\n",
            "  del sys.path[0]\n",
            "/usr/local/lib/python3.7/dist-packages/ipykernel_launcher.py:13: FutureWarning: The default value of regex will change from True to False in a future version.\n",
            "  del sys.path[0]\n",
            "/usr/local/lib/python3.7/dist-packages/ipykernel_launcher.py:13: FutureWarning: The default value of regex will change from True to False in a future version.\n",
            "  del sys.path[0]\n",
            "/usr/local/lib/python3.7/dist-packages/ipykernel_launcher.py:13: FutureWarning: The default value of regex will change from True to False in a future version.\n",
            "  del sys.path[0]\n"
          ]
        },
        {
          "output_type": "stream",
          "name": "stdout",
          "text": [
            "Aricep 5 Tablet is used to treat mild to moderate dementia in Alzheimer’s disease, a progressive illness which gradually affects memory and thinking.Drink plenty of fluids to keep yourself hydrated.\n",
            "========================================================================================================================\n",
            "Summary of the article -  313\n",
            "Aisa  Tablet is a prescription medicine.However, if you experience severe diarrhea, vomiting, or constipation, you should consult your doctor without delay.Before taking this medicine, tell your doctor if you have any other health conditions.\n",
            "========================================================================================================================\n",
            "Summary of the article -  314\n",
            "Andre I-Kul Eye Drop is a prescription medicine having a combination of medicines that is used to treat allergic diseases of the eye.Do not skip any doses and finish the full course of treatment even if you feel better.\n",
            "========================================================================================================================\n",
            "Summary of the article -  315\n",
            "Amlong 2.5 Tablet belongs to a class of medicines known as a calcium channel blockers.Consult your doctor if any of these side effects bother you or do not go away.Before taking it, let your doctor know if you have any liver, heart or kidney problems.\n",
            "========================================================================================================================\n",
            "Summary of the article -  316\n",
            "Ambrodil Drop is used for treating various respiratory tract disorders associated with excessive mucus.For better results, it is suggested to take it at the same time every day.\n",
            "========================================================================================================================\n",
            "Summary of the article -  317\n",
            "AD 100mg Capsule is used in the treatment of symptoms of acute diarrhea.Contact your doctor straight away if you are at all concerned about any of these side effects.AD 100mg Capsule should not be used in children if they have blood or pus in stools, chronic diarrhea, diarrhea caused by antibiotics, and suffering from kidney or liver disease.\n",
            "========================================================================================================================\n",
            "Summary of the article -  318\n",
            "Adiza Tablet is a medicine that reduces the amount of acid produced in your stomach.For instance, using this medicine for more than 1 year may increase your risk for bone fractures, especially with higher doses.\n",
            "========================================================================================================================\n",
            "Summary of the article -  319\n"
          ]
        },
        {
          "output_type": "stream",
          "name": "stderr",
          "text": [
            "/usr/local/lib/python3.7/dist-packages/ipykernel_launcher.py:13: FutureWarning: The default value of regex will change from True to False in a future version.\n",
            "  del sys.path[0]\n",
            "/usr/local/lib/python3.7/dist-packages/ipykernel_launcher.py:13: FutureWarning: The default value of regex will change from True to False in a future version.\n",
            "  del sys.path[0]\n",
            "/usr/local/lib/python3.7/dist-packages/ipykernel_launcher.py:13: FutureWarning: The default value of regex will change from True to False in a future version.\n",
            "  del sys.path[0]\n",
            "/usr/local/lib/python3.7/dist-packages/ipykernel_launcher.py:13: FutureWarning: The default value of regex will change from True to False in a future version.\n",
            "  del sys.path[0]\n",
            "/usr/local/lib/python3.7/dist-packages/ipykernel_launcher.py:13: FutureWarning: The default value of regex will change from True to False in a future version.\n",
            "  del sys.path[0]\n",
            "/usr/local/lib/python3.7/dist-packages/ipykernel_launcher.py:13: FutureWarning: The default value of regex will change from True to False in a future version.\n",
            "  del sys.path[0]\n",
            "/usr/local/lib/python3.7/dist-packages/ipykernel_launcher.py:13: FutureWarning: The default value of regex will change from True to False in a future version.\n",
            "  del sys.path[0]\n",
            "/usr/local/lib/python3.7/dist-packages/ipykernel_launcher.py:13: FutureWarning: The default value of regex will change from True to False in a future version.\n",
            "  del sys.path[0]\n"
          ]
        },
        {
          "output_type": "stream",
          "name": "stdout",
          "text": [
            "Acamprol Tablet is a prescription medicine used in the treatment of alcohol addiction.Do not skip any doses and finish the full course of treatment.\n",
            "========================================================================================================================\n",
            "Summary of the article -  320\n",
            "Acupat Ophthalmic Solution is a prescription medicine having a combination of medicines that is used to treat allergic diseases of the eye.Do not skip any doses and finish the full course of treatment even if you feel better.\n",
            "========================================================================================================================\n",
            "Summary of the article -  321\n",
            "Amaryl MV 1mg Tablet SR belongs to a category of medicines known as anti-diabetic drugs.Before taking this medicine, tell your doctor if you have ever had heart disease.\n",
            "========================================================================================================================\n",
            "Summary of the article -  322\n",
            "Alfusin D Tablet ER is a combination of two medicines which work in different ways to treat men with an enlarged prostate gland.Before taking it, tell your doctor if you have low blood pressure or liver or kidney disease.\n",
            "========================================================================================================================\n",
            "Summary of the article -  323\n"
          ]
        },
        {
          "output_type": "stream",
          "name": "stderr",
          "text": [
            "/usr/local/lib/python3.7/dist-packages/ipykernel_launcher.py:13: FutureWarning: The default value of regex will change from True to False in a future version.\n",
            "  del sys.path[0]\n",
            "/usr/local/lib/python3.7/dist-packages/ipykernel_launcher.py:13: FutureWarning: The default value of regex will change from True to False in a future version.\n",
            "  del sys.path[0]\n",
            "/usr/local/lib/python3.7/dist-packages/ipykernel_launcher.py:13: FutureWarning: The default value of regex will change from True to False in a future version.\n",
            "  del sys.path[0]\n",
            "/usr/local/lib/python3.7/dist-packages/ipykernel_launcher.py:13: FutureWarning: The default value of regex will change from True to False in a future version.\n",
            "  del sys.path[0]\n"
          ]
        },
        {
          "output_type": "stream",
          "name": "stdout",
          "text": [
            "Additionally, it helps to eliminate a bacteria known as H. pylori in people with peptic ulcer disease.Amoxycillin  250mg Capsule is a penicillin-type of antibiotic used to treat a variety of bacterial infections.\n",
            "========================================================================================================================\n",
            "Summary of the article -  324\n",
            "Also, pregnant women and breastfeeding mothers should not take this medicine as it may harm the developing baby.Atorva Tablet belongs to a group of medicines called statins.\n",
            "========================================================================================================================\n",
            "Summary of the article -  325\n",
            "Aceclo SR Tablet is a pain relieving medicine.Aceclo SR Tablet is not recommended if you are pregnant or breastfeeding.\n",
            "========================================================================================================================\n",
            "Summary of the article -  326\n",
            "Ascoril C  Syrup is a combination medicine used in the treatment of dry cough.Avoid drinking alcohol while taking this medicine as it can make dizziness worse.Never support self-medication or recommend your medicine to another person.\n",
            "========================================================================================================================\n",
            "Summary of the article -  327\n",
            "Also, make sure your doctor knows if you are pregnant or breast-feeding before taking this medicine.Asthalin Rotacaps belongs to a group of medicines called fast-acting bronchodilators or “relievers”.\n",
            "========================================================================================================================\n",
            "Summary of the article -  328\n"
          ]
        },
        {
          "output_type": "stream",
          "name": "stderr",
          "text": [
            "/usr/local/lib/python3.7/dist-packages/ipykernel_launcher.py:13: FutureWarning: The default value of regex will change from True to False in a future version.\n",
            "  del sys.path[0]\n",
            "/usr/local/lib/python3.7/dist-packages/ipykernel_launcher.py:13: FutureWarning: The default value of regex will change from True to False in a future version.\n",
            "  del sys.path[0]\n",
            "/usr/local/lib/python3.7/dist-packages/ipykernel_launcher.py:13: FutureWarning: The default value of regex will change from True to False in a future version.\n",
            "  del sys.path[0]\n",
            "/usr/local/lib/python3.7/dist-packages/ipykernel_launcher.py:13: FutureWarning: The default value of regex will change from True to False in a future version.\n",
            "  del sys.path[0]\n",
            "/usr/local/lib/python3.7/dist-packages/ipykernel_launcher.py:13: FutureWarning: The default value of regex will change from True to False in a future version.\n",
            "  del sys.path[0]\n"
          ]
        },
        {
          "output_type": "stream",
          "name": "stdout",
          "text": [
            "Azulix 2 MF Forte Tablet PR belongs to a category of medicines known as anti-diabetic drugs.Before taking this medicine, tell your doctor if you have ever had heart disease.\n",
            "========================================================================================================================\n",
            "Summary of the article -  329\n",
            "Also, pregnant women and breastfeeding mothers should not take this medicine as it may harm the developing baby.Atchol 40 Tablet belongs to a group of medicines called statins.\n",
            "========================================================================================================================\n",
            "Summary of the article -  330\n",
            "Amlong 10 Tablet belongs to a class of medicines known as a calcium channel blockers.Consult your doctor if any of these side effects bother you or do not go away.Before taking it, let your doctor know if you have any liver, heart or kidney problems.\n",
            "========================================================================================================================\n",
            "Summary of the article -  331\n",
            "Anfoe 10000IU Injection is a medicine that helps your bone marrow to produce more red blood cells.Anfoe 10000IU Injection needs to be stored in a fridge but used at room temperature.The most common side effects of taking this medicine include nausea, vomiting, and increased blood pressure.\n",
            "========================================================================================================================\n",
            "Summary of the article -  332\n"
          ]
        },
        {
          "output_type": "stream",
          "name": "stderr",
          "text": [
            "/usr/local/lib/python3.7/dist-packages/ipykernel_launcher.py:13: FutureWarning: The default value of regex will change from True to False in a future version.\n",
            "  del sys.path[0]\n",
            "/usr/local/lib/python3.7/dist-packages/ipykernel_launcher.py:13: FutureWarning: The default value of regex will change from True to False in a future version.\n",
            "  del sys.path[0]\n",
            "/usr/local/lib/python3.7/dist-packages/ipykernel_launcher.py:13: FutureWarning: The default value of regex will change from True to False in a future version.\n",
            "  del sys.path[0]\n",
            "/usr/local/lib/python3.7/dist-packages/ipykernel_launcher.py:13: FutureWarning: The default value of regex will change from True to False in a future version.\n",
            "  del sys.path[0]\n",
            "/usr/local/lib/python3.7/dist-packages/ipykernel_launcher.py:13: FutureWarning: The default value of regex will change from True to False in a future version.\n",
            "  del sys.path[0]\n"
          ]
        },
        {
          "output_type": "stream",
          "name": "stdout",
          "text": [
            "Albumin 20% Injection is used to treat blood volume loss.Before taking it, inform the doctor you are suffering from any severe heart disease.Your doctor may check your blood pressure and ask you to get regular blood tests done while you are using this injection.\n",
            "========================================================================================================================\n",
            "Summary of the article -  333\n",
            "Amikacin 250mg Injection is an antibiotic used to prevent or treat a wide variety of bacterial infections.Consult your doctor if any of these side effects persist or if your condition does not improve despite treatment.Some patients receiving high doses may develop balance disorder (loss of balance), kidney damage and hearing loss.\n",
            "========================================================================================================================\n",
            "Summary of the article -  334\n",
            "Always wash your hands and do not touch the end of the dropper.Aquasurge  Eye Drop is an eye lubricant or artificial tears used to relieve dry eyes.\n",
            "========================================================================================================================\n",
            "Summary of the article -  335\n",
            "Always tell your doctor what other health conditions you have and what other medicines you are taking.Angina occurs when the heart muscle is not getting enough blood.\n",
            "========================================================================================================================\n",
            "Summary of the article -  336\n",
            "Ancool  Oral Suspension Sugar Free is a combination medicine used in the treatment of acidity, stomach ulcer and heartburn.Contact your doctor straight away if you are at all concerned about any side effects.\n",
            "========================================================================================================================\n",
            "Summary of the article -  337\n"
          ]
        },
        {
          "output_type": "stream",
          "name": "stderr",
          "text": [
            "/usr/local/lib/python3.7/dist-packages/ipykernel_launcher.py:13: FutureWarning: The default value of regex will change from True to False in a future version.\n",
            "  del sys.path[0]\n",
            "/usr/local/lib/python3.7/dist-packages/ipykernel_launcher.py:13: FutureWarning: The default value of regex will change from True to False in a future version.\n",
            "  del sys.path[0]\n",
            "/usr/local/lib/python3.7/dist-packages/ipykernel_launcher.py:13: FutureWarning: The default value of regex will change from True to False in a future version.\n",
            "  del sys.path[0]\n",
            "/usr/local/lib/python3.7/dist-packages/ipykernel_launcher.py:13: FutureWarning: The default value of regex will change from True to False in a future version.\n",
            "  del sys.path[0]\n"
          ]
        },
        {
          "output_type": "stream",
          "name": "stdout",
          "text": [
            "Amikacin Sulphate 500mg Injection is an antibiotic used to prevent or treat a wide variety of bacterial infections.Consult your doctor if any of these side effects persist or if your condition does not improve despite treatment.Some patients receiving high doses may develop balance disorder (loss of balance), kidney damage and hearing loss.\n",
            "========================================================================================================================\n",
            "Summary of the article -  338\n",
            "Adaferin Gel is a medication used in the treatment of mild to moderate acne.Avoid direct contact of the cream or ointment with your eyes.\n",
            "========================================================================================================================\n",
            "Summary of the article -  339\n",
            "Amrolmac Cream is an antifungal medication.Avoid direct contact of the cream or ointment with your eyes.\n",
            "========================================================================================================================\n",
            "Summary of the article -  340\n",
            "A-Ret 0.025% Gel is a form of vitamin A that is used to treat acne which appears as spots or pimples on your face, chest or back.Consult your doctor again if you do not notice any improvement after a few weeks.\n",
            "========================================================================================================================\n",
            "Summary of the article -  341\n",
            "Amlopres AT 25 Tablet is used to treat hypertension (high blood pressure).Even if you feel well, do not stop this medicine on your own because high blood pressure often has no symptoms.\n",
            "========================================================================================================================\n",
            "Summary of the article -  342\n"
          ]
        },
        {
          "output_type": "stream",
          "name": "stderr",
          "text": [
            "/usr/local/lib/python3.7/dist-packages/ipykernel_launcher.py:13: FutureWarning: The default value of regex will change from True to False in a future version.\n",
            "  del sys.path[0]\n",
            "/usr/local/lib/python3.7/dist-packages/ipykernel_launcher.py:13: FutureWarning: The default value of regex will change from True to False in a future version.\n",
            "  del sys.path[0]\n",
            "/usr/local/lib/python3.7/dist-packages/ipykernel_launcher.py:13: FutureWarning: The default value of regex will change from True to False in a future version.\n",
            "  del sys.path[0]\n",
            "/usr/local/lib/python3.7/dist-packages/ipykernel_launcher.py:13: FutureWarning: The default value of regex will change from True to False in a future version.\n",
            "  del sys.path[0]\n",
            "/usr/local/lib/python3.7/dist-packages/ipykernel_launcher.py:13: FutureWarning: The default value of regex will change from True to False in a future version.\n",
            "  del sys.path[0]\n"
          ]
        },
        {
          "output_type": "stream",
          "name": "stdout",
          "text": [
            "Also, pregnant women and breastfeeding mothers should not take this medicine as it may harm the developing baby.Arvast 10 Tablet belongs to a group of medicines called statins.\n",
            "========================================================================================================================\n",
            "Summary of the article -  343\n",
            "Also, tell your doctor if you have any problems with liver or kidneys.Anaflam TH  4  Tablet is a combination medicine which helps in relieving muscular pain.\n",
            "========================================================================================================================\n",
            "Summary of the article -  344\n",
            "), you must seek immediate medical help.Before taking this medicine, you should tell your doctor if you are taking any medicines for any health condition.Ampoxin 250 Capsule is a combination medicine that is used to treat various types of bacterial infections.\n",
            "========================================================================================================================\n",
            "Summary of the article -  345\n",
            "Augpen -DS Suspension is a penicillin-type of antibiotic that helps your body fight infections caused by bacteria.Do not stop taking it until you have finished, even when you feel better.\n",
            "========================================================================================================================\n",
            "Summary of the article -  346\n",
            "Atropine Sulphate Injection is used to treat bradycardia(slow heart rate).Dry mouth may also occur while using this medicine so, try to do frequent mouth rinses, maintain good oral hygiene and increase water intake.Pregnant or breastfeeding women should also consult their doctor before taking this medicine.\n",
            "========================================================================================================================\n",
            "Summary of the article -  347\n",
            "Acivir 200 DT Tablet is an antiviral medicine.Dissolve it in a glass of water before taking it.\n",
            "========================================================================================================================\n",
            "Summary of the article -  348\n",
            "Aspirin  50mg Tablet DR is an antiplatelet medicine used to treat and prevent heart attacks, strokes and heart-related chest pain (angina).Avoid drinking alcohol while you are taking this medicine.\n",
            "========================================================================================================================\n",
            "Summary of the article -  349\n"
          ]
        },
        {
          "output_type": "stream",
          "name": "stderr",
          "text": [
            "/usr/local/lib/python3.7/dist-packages/ipykernel_launcher.py:13: FutureWarning: The default value of regex will change from True to False in a future version.\n",
            "  del sys.path[0]\n",
            "/usr/local/lib/python3.7/dist-packages/ipykernel_launcher.py:13: FutureWarning: The default value of regex will change from True to False in a future version.\n",
            "  del sys.path[0]\n",
            "/usr/local/lib/python3.7/dist-packages/ipykernel_launcher.py:13: FutureWarning: The default value of regex will change from True to False in a future version.\n",
            "  del sys.path[0]\n",
            "/usr/local/lib/python3.7/dist-packages/ipykernel_launcher.py:13: FutureWarning: The default value of regex will change from True to False in a future version.\n",
            "  del sys.path[0]\n",
            "/usr/local/lib/python3.7/dist-packages/ipykernel_launcher.py:13: FutureWarning: The default value of regex will change from True to False in a future version.\n",
            "  del sys.path[0]\n",
            "/usr/local/lib/python3.7/dist-packages/ipykernel_launcher.py:13: FutureWarning: The default value of regex will change from True to False in a future version.\n",
            "  del sys.path[0]\n"
          ]
        },
        {
          "output_type": "stream",
          "name": "stdout",
          "text": [
            "Air 120 Tablet belongs to a group of medicines called antihistamines.Avoid drinking alcohol as it can cause excessive drowsiness with this medicine.\n",
            "========================================================================================================================\n",
            "Summary of the article -  350\n",
            "Alkof Junior Syrup is a combination medicine used in the treatment of dry cough.Avoid drinking alcohol while taking this medicine as it can worsen your sleepiness.Never support self-medication or recommend your medicine to another person.\n",
            "========================================================================================================================\n",
            "Summary of the article -  351\n",
            "Aerodil SF Expectorant is used in the treatment of cough.Avoid drinking alcohol while taking this medicine as it can make sleepiness worse.Never support self-medication or recommend your medicine to another person.\n",
            "========================================================================================================================\n",
            "Summary of the article -  352\n",
            "Azax 250 Tablet is an antibiotic used to treat various types of bacterial infections of the respiratory tract, ear, nose, throat, lungs, skin, and eye in adults and children.Consult your doctor if you find these side effects worry you or persist for a longer duration.Inform your doctor if you have any previous history of allergy or heart problems before taking this medicine.\n",
            "========================================================================================================================\n",
            "Summary of the article -  353\n",
            "Abzorb Syndet Bar is an antifungal medication.Do not use more than you need as instead of clearing the infection faster, it may cause increased side effects.\n",
            "========================================================================================================================\n",
            "Summary of the article -  354\n"
          ]
        },
        {
          "output_type": "stream",
          "name": "stderr",
          "text": [
            "/usr/local/lib/python3.7/dist-packages/ipykernel_launcher.py:13: FutureWarning: The default value of regex will change from True to False in a future version.\n",
            "  del sys.path[0]\n",
            "/usr/local/lib/python3.7/dist-packages/ipykernel_launcher.py:13: FutureWarning: The default value of regex will change from True to False in a future version.\n",
            "  del sys.path[0]\n",
            "/usr/local/lib/python3.7/dist-packages/ipykernel_launcher.py:13: FutureWarning: The default value of regex will change from True to False in a future version.\n",
            "  del sys.path[0]\n",
            "/usr/local/lib/python3.7/dist-packages/ipykernel_launcher.py:13: FutureWarning: The default value of regex will change from True to False in a future version.\n",
            "  del sys.path[0]\n",
            "/usr/local/lib/python3.7/dist-packages/ipykernel_launcher.py:13: FutureWarning: The default value of regex will change from True to False in a future version.\n",
            "  del sys.path[0]\n"
          ]
        },
        {
          "output_type": "stream",
          "name": "stdout",
          "text": [
            "Aceclo Spas Tablet is a combination medicine used in the treatment of abdominal pain.Avoid drinking alcohol while taking this medicine as it can worsen your dizziness.Before taking this medicine, you should tell your doctor if you are pregnant, planning pregnancy or breastfeeding.\n",
            "========================================================================================================================\n",
            "Summary of the article -  355\n",
            "Azithral Tablet is an antibiotic used to treat various types of bacterial infections of the respiratory tract, ear, nose, throat, lungs, skin, and eye in adults and children.Consult your doctor if you find these side effects worry you or persist for a longer duration.Inform your doctor if you have any previous history of allergy or heart problems before taking this medicine.\n",
            "========================================================================================================================\n",
            "Summary of the article -  356\n",
            "AZR Tablet belongs to a group of medicines called immunosuppressants.Because it suppresses your immune system, you may catch more infections than usual.\n",
            "========================================================================================================================\n",
            "Summary of the article -  357\n",
            "Aztogold 20 Capsule is used for prevention of heart attack.Do not stop taking it until you have finished the complete course, even when you feel better.\n",
            "========================================================================================================================\n",
            "Summary of the article -  358\n",
            "Axepta 10 Tablet is a medicine used in the treatment of attention deficit hyperactivity disorder (a behavioral disorder in children marked by poor concentration, hyperactivity, and learning difficulties).Do not skip any doses and finish the full course of treatment even if you feel better.\n",
            "========================================================================================================================\n",
            "Summary of the article -  359\n"
          ]
        },
        {
          "output_type": "stream",
          "name": "stderr",
          "text": [
            "/usr/local/lib/python3.7/dist-packages/ipykernel_launcher.py:13: FutureWarning: The default value of regex will change from True to False in a future version.\n",
            "  del sys.path[0]\n",
            "/usr/local/lib/python3.7/dist-packages/ipykernel_launcher.py:13: FutureWarning: The default value of regex will change from True to False in a future version.\n",
            "  del sys.path[0]\n",
            "/usr/local/lib/python3.7/dist-packages/ipykernel_launcher.py:13: FutureWarning: The default value of regex will change from True to False in a future version.\n",
            "  del sys.path[0]\n",
            "/usr/local/lib/python3.7/dist-packages/ipykernel_launcher.py:13: FutureWarning: The default value of regex will change from True to False in a future version.\n",
            "  del sys.path[0]\n",
            "/usr/local/lib/python3.7/dist-packages/ipykernel_launcher.py:13: FutureWarning: The default value of regex will change from True to False in a future version.\n",
            "  del sys.path[0]\n"
          ]
        },
        {
          "output_type": "stream",
          "name": "stdout",
          "text": [
            "Azee 100mg Dry Syrup Peppermint is an antibiotic used to treat various types of bacterial infections of the respiratory tract, ear, nose, throat, lungs, skin, and eye in adults and children.Consult your doctor if you find these side effects worry you or persist for a longer duration.Inform your doctor if you have any previous history of allergy or heart problems before taking this medicine.\n",
            "========================================================================================================================\n",
            "Summary of the article -  360\n",
            "Asomex 5 Tablet is a medicine used to treat high blood pressure (hypertension) and to prevent angina (heart-related chest pain).Consult your doctor If any of these bother you, or get worse, or won't go away.Before taking it, let your doctor know if you have any liver or kidney problems.\n",
            "========================================================================================================================\n",
            "Summary of the article -  361\n",
            "Azee 500 Tablet is an antibiotic used to treat various types of bacterial infections of the respiratory tract, ear, nose, throat, lungs, skin, and eye in adults and children.Consult your doctor if you find these side effects worry you or persist for a longer duration.Inform your doctor if you have any previous history of allergy or heart problems before taking this medicine.\n",
            "========================================================================================================================\n",
            "Summary of the article -  362\n",
            "Adesam 400 Tablet is a medicine used for the treatment of liver disease associated with reduced bile formation (intrahepatic cholestasis).Avoid drinking alcohol as it might increase side effects.\n",
            "========================================================================================================================\n",
            "Summary of the article -  363\n",
            "Arpizol 5 Tablet is an antipsychotic medicine.Before taking the medicine you should tell your doctor if you are pregnant, planning to become pregnant, or breastfeeding.\n",
            "========================================================================================================================\n",
            "Summary of the article -  364\n"
          ]
        },
        {
          "output_type": "stream",
          "name": "stderr",
          "text": [
            "/usr/local/lib/python3.7/dist-packages/ipykernel_launcher.py:13: FutureWarning: The default value of regex will change from True to False in a future version.\n",
            "  del sys.path[0]\n",
            "/usr/local/lib/python3.7/dist-packages/ipykernel_launcher.py:13: FutureWarning: The default value of regex will change from True to False in a future version.\n",
            "  del sys.path[0]\n",
            "/usr/local/lib/python3.7/dist-packages/ipykernel_launcher.py:13: FutureWarning: The default value of regex will change from True to False in a future version.\n",
            "  del sys.path[0]\n",
            "/usr/local/lib/python3.7/dist-packages/ipykernel_launcher.py:13: FutureWarning: The default value of regex will change from True to False in a future version.\n",
            "  del sys.path[0]\n",
            "/usr/local/lib/python3.7/dist-packages/ipykernel_launcher.py:13: FutureWarning: The default value of regex will change from True to False in a future version.\n",
            "  del sys.path[0]\n",
            "/usr/local/lib/python3.7/dist-packages/ipykernel_launcher.py:13: FutureWarning: The default value of regex will change from True to False in a future version.\n",
            "  del sys.path[0]\n"
          ]
        },
        {
          "output_type": "stream",
          "name": "stdout",
          "text": [
            "Amrosys Cream is an antifungal medication.Avoid direct contact of the cream or ointment with your eyes.\n",
            "========================================================================================================================\n",
            "Summary of the article -  365\n",
            "), you must seek immediate medical help.Before taking this medicine, you should tell your doctor if you are taking any medicines for any health condition.Akurit-3 Tablet is a combination medicine used in the treatment of tuberculosis.\n",
            "========================================================================================================================\n",
            "Summary of the article -  366\n",
            "), you must seek immediate medical help.Before taking this medicine, you should tell your doctor if you are taking any medicines for any health condition.Ampilox DS Tablet is a combination medicine that is used to treat various types of bacterial infections.\n",
            "========================================================================================================================\n",
            "Summary of the article -  367\n",
            "Anabel-CT Gel is a combination of two medicines is used to treat mouth ulcers.Apply it only in the mouth with clean hands.\n",
            "========================================================================================================================\n"
          ]
        },
        {
          "output_type": "stream",
          "name": "stderr",
          "text": [
            "/usr/local/lib/python3.7/dist-packages/ipykernel_launcher.py:13: FutureWarning: The default value of regex will change from True to False in a future version.\n",
            "  del sys.path[0]\n",
            "/usr/local/lib/python3.7/dist-packages/ipykernel_launcher.py:13: FutureWarning: The default value of regex will change from True to False in a future version.\n",
            "  del sys.path[0]\n",
            "/usr/local/lib/python3.7/dist-packages/ipykernel_launcher.py:13: FutureWarning: The default value of regex will change from True to False in a future version.\n",
            "  del sys.path[0]\n",
            "/usr/local/lib/python3.7/dist-packages/ipykernel_launcher.py:13: FutureWarning: The default value of regex will change from True to False in a future version.\n",
            "  del sys.path[0]\n"
          ]
        },
        {
          "output_type": "stream",
          "name": "stdout",
          "text": [
            "Summary of the article -  368\n",
            "Apdrops PD Eye Drop is a prescription medicine having a combination of medicines that is used to treat bacterial infections.Do not skip any doses and finish the full course of treatment even if you feel better.\n",
            "========================================================================================================================\n",
            "Summary of the article -  369\n",
            "Also, pregnant women and breastfeeding mothers should not take this medicine as it may harm the developing baby.Avas 40 Tablet belongs to a group of medicines called statins.\n",
            "========================================================================================================================\n",
            "Summary of the article -  370\n",
            "A missed dose should be taken as soon as you remember.Arte Plus CD Tablet is a combination medicine that is prescribed to treat malaria.\n",
            "========================================================================================================================\n",
            "Summary of the article -  371\n",
            "Ambrodil-LX Drop is a combination medicine used in the treatment of cough with mucus.Avoid drinking alcohol while taking this medicine as it can make sleepiness worse.Never support self-medication or recommend your medicine to another person.\n",
            "========================================================================================================================\n",
            "Summary of the article -  372\n"
          ]
        },
        {
          "output_type": "stream",
          "name": "stderr",
          "text": [
            "/usr/local/lib/python3.7/dist-packages/ipykernel_launcher.py:13: FutureWarning: The default value of regex will change from True to False in a future version.\n",
            "  del sys.path[0]\n",
            "/usr/local/lib/python3.7/dist-packages/ipykernel_launcher.py:13: FutureWarning: The default value of regex will change from True to False in a future version.\n",
            "  del sys.path[0]\n",
            "/usr/local/lib/python3.7/dist-packages/ipykernel_launcher.py:13: FutureWarning: The default value of regex will change from True to False in a future version.\n",
            "  del sys.path[0]\n",
            "/usr/local/lib/python3.7/dist-packages/ipykernel_launcher.py:13: FutureWarning: The default value of regex will change from True to False in a future version.\n",
            "  del sys.path[0]\n",
            "/usr/local/lib/python3.7/dist-packages/ipykernel_launcher.py:13: FutureWarning: The default value of regex will change from True to False in a future version.\n",
            "  del sys.path[0]\n"
          ]
        },
        {
          "output_type": "stream",
          "name": "stdout",
          "text": [
            "Acera-D Capsule SR is a combination medicine used to treat gastroesophageal reflux disease (Acid reflux) and peptic ulcer disease by relieving the symptoms of acidity such as heartburn, stomach pain, or irritation.Avoid drinking alcohol while taking this medicine as it can worsen your sleepiness.\n",
            "========================================================================================================================\n",
            "Summary of the article -  373\n",
            "Acnicin Gel is a combination of two medicines that effectively treats acne.Ask your doctor when you should stop treatment.Side effects like minor itching, burning, or redness of the skin and oily skin may be seen in some people.\n",
            "========================================================================================================================\n",
            "Summary of the article -  374\n",
            "Also, pregnant women and breastfeeding mothers should not take this medicine as it may harm the developing baby.Atocor 20 Tablet belongs to a group of medicines called statins.\n",
            "========================================================================================================================\n",
            "Summary of the article -  375\n",
            "Anacin Tablet is combination medicine used in the treatment of headache.Do not take more or use it for longer duration than recommended by the doctor.The most common side effects of this medicine include nausea, stomach pain, indigestion, increased heart rate, restlessness, and heartburn.\n",
            "========================================================================================================================\n",
            "Summary of the article -  376\n"
          ]
        },
        {
          "output_type": "stream",
          "name": "stderr",
          "text": [
            "/usr/local/lib/python3.7/dist-packages/ipykernel_launcher.py:13: FutureWarning: The default value of regex will change from True to False in a future version.\n",
            "  del sys.path[0]\n",
            "/usr/local/lib/python3.7/dist-packages/ipykernel_launcher.py:13: FutureWarning: The default value of regex will change from True to False in a future version.\n",
            "  del sys.path[0]\n",
            "/usr/local/lib/python3.7/dist-packages/ipykernel_launcher.py:13: FutureWarning: The default value of regex will change from True to False in a future version.\n",
            "  del sys.path[0]\n",
            "/usr/local/lib/python3.7/dist-packages/ipykernel_launcher.py:13: FutureWarning: The default value of regex will change from True to False in a future version.\n",
            "  del sys.path[0]\n",
            "/usr/local/lib/python3.7/dist-packages/ipykernel_launcher.py:13: FutureWarning: The default value of regex will change from True to False in a future version.\n",
            "  del sys.path[0]\n"
          ]
        },
        {
          "output_type": "stream",
          "name": "stdout",
          "text": [
            "Adilip 135 Tablet DR is a medicine used to treat high cholesterol.Also, pregnant women and breastfeeding mothers should not take this medicine without consulting the doctor.\n",
            "========================================================================================================================\n",
            "Summary of the article -  377\n",
            "Acuclav 625 Tablet is a penicillin-type of antibiotic that helps your body fight infections caused by bacteria.Do not stop taking it until you have finished, even when you feel better.\n",
            "========================================================================================================================\n",
            "Summary of the article -  378\n",
            "Amicin 500mg Injection is an antibiotic used to prevent or treat a wide variety of bacterial infections.Consult your doctor if any of these side effects persist or if your condition does not improve despite treatment.Some patients receiving high doses may develop balance disorder (loss of balance), kidney damage and hearing loss.\n",
            "========================================================================================================================\n",
            "Summary of the article -  379\n",
            "Also, pregnant women and breastfeeding mothers should not take this medicine as it may harm the developing baby.Atorva 80 Tablet belongs to a group of medicines called statins.\n",
            "========================================================================================================================\n",
            "Summary of the article -  380\n",
            "Amoxyclav 200mg/28.5mg Syrup is a penicillin-type of antibiotic that helps your body fight infections caused by bacteria.Do not stop taking it until you have finished, even when you feel better.\n",
            "========================================================================================================================\n",
            "Summary of the article -  381\n"
          ]
        },
        {
          "output_type": "stream",
          "name": "stderr",
          "text": [
            "/usr/local/lib/python3.7/dist-packages/ipykernel_launcher.py:13: FutureWarning: The default value of regex will change from True to False in a future version.\n",
            "  del sys.path[0]\n",
            "/usr/local/lib/python3.7/dist-packages/ipykernel_launcher.py:13: FutureWarning: The default value of regex will change from True to False in a future version.\n",
            "  del sys.path[0]\n",
            "/usr/local/lib/python3.7/dist-packages/ipykernel_launcher.py:13: FutureWarning: The default value of regex will change from True to False in a future version.\n",
            "  del sys.path[0]\n",
            "/usr/local/lib/python3.7/dist-packages/ipykernel_launcher.py:13: FutureWarning: The default value of regex will change from True to False in a future version.\n",
            "  del sys.path[0]\n",
            "/usr/local/lib/python3.7/dist-packages/ipykernel_launcher.py:13: FutureWarning: The default value of regex will change from True to False in a future version.\n",
            "  del sys.path[0]\n"
          ]
        },
        {
          "output_type": "stream",
          "name": "stdout",
          "text": [
            "Also, make sure your doctor knows if you are pregnant or breastfeeding before taking this medicine.Asthalin 2 Tablet is used to relieve symptoms of asthma and chronic obstructive pulmonary disease (COPD) such as coughing, wheezing and breathlessness.\n",
            "========================================================================================================================\n",
            "Summary of the article -  382\n",
            "Acular LS Ophthalmic Solution is a pain relieving medicine.Gently squeeze the dropper and place the medicine inside the lower eyelid.\n",
            "========================================================================================================================\n",
            "Summary of the article -  383\n",
            "Altraz Tablet  is used alone or with other treatments, such as surgery or radiation, to treat early breast cancer in postmenopausal women.If these bother you or appear serious, let your doctor know.\n",
            "========================================================================================================================\n",
            "Summary of the article -  384\n",
            "Angicam-Beta Tablet is used to treat hypertension (high blood pressure).Even if you feel well, do not stop this medicine on your own because high blood pressure often has no symptoms.\n",
            "========================================================================================================================\n",
            "Summary of the article -  385\n"
          ]
        },
        {
          "output_type": "stream",
          "name": "stderr",
          "text": [
            "/usr/local/lib/python3.7/dist-packages/ipykernel_launcher.py:13: FutureWarning: The default value of regex will change from True to False in a future version.\n",
            "  del sys.path[0]\n",
            "/usr/local/lib/python3.7/dist-packages/ipykernel_launcher.py:13: FutureWarning: The default value of regex will change from True to False in a future version.\n",
            "  del sys.path[0]\n",
            "/usr/local/lib/python3.7/dist-packages/ipykernel_launcher.py:13: FutureWarning: The default value of regex will change from True to False in a future version.\n",
            "  del sys.path[0]\n"
          ]
        },
        {
          "output_type": "stream",
          "name": "stdout",
          "text": [
            "Azoran 25 Tablet belongs to a group of medicines called immunosuppressants.Because it suppresses your immune system, you may catch more infections than usual.\n",
            "========================================================================================================================\n",
            "Summary of the article -  386\n",
            "Amitone 25mg Tablet is used in the treatment of depression.Different doses of this medicine help in treating and preventing different problems such as chronic nerve-related (neuropathic) pain, migraine, tension-type headache and nighttime bedwetting (nocturnal enuresis) by older children (6 years and above).Amitone 25mg Tablet is known as a tricyclic antidepressant.\n",
            "========================================================================================================================\n",
            "Summary of the article -  387\n",
            "Apetamin Syrup belongs to a group of medicines called antihistamines.Avoid drinking alcohol as it can cause excessive drowsiness with this medicine.\n",
            "========================================================================================================================\n",
            "Summary of the article -  388\n",
            "Avillin 25mg Injection is a medicine used in the treatment of osteoporosis in post-menopausal women.Do not stop using the medicine even if you feel better unless the doctor tells you so.Using this medicine may cause few common side effects such as swelling of legs, ankle swelling, swelling of feet, fluid retention, and breast enlargement.\n",
            "========================================================================================================================\n",
            "Summary of the article -  389\n",
            "Amifru Plus Tablet is a combination of two medicines used to reduce excess fluid levels in the body.For better results, it is suggested to take it at the same time everyday.\n",
            "========================================================================================================================\n",
            "Summary of the article -  390\n",
            "Azilide 500 Tablet is an antibiotic used to treat various types of bacterial infections of the respiratory tract, ear, nose, throat, lungs, skin, and eye in adults and children.Consult your doctor if you find these side effects worry you or persist for a longer duration.Inform your doctor if you have any previous history of allergy or heart problems before taking this medicine.\n",
            "========================================================================================================================\n",
            "Summary of the article -  391\n"
          ]
        },
        {
          "output_type": "stream",
          "name": "stderr",
          "text": [
            "/usr/local/lib/python3.7/dist-packages/ipykernel_launcher.py:13: FutureWarning: The default value of regex will change from True to False in a future version.\n",
            "  del sys.path[0]\n",
            "/usr/local/lib/python3.7/dist-packages/ipykernel_launcher.py:13: FutureWarning: The default value of regex will change from True to False in a future version.\n",
            "  del sys.path[0]\n",
            "/usr/local/lib/python3.7/dist-packages/ipykernel_launcher.py:13: FutureWarning: The default value of regex will change from True to False in a future version.\n",
            "  del sys.path[0]\n",
            "/usr/local/lib/python3.7/dist-packages/ipykernel_launcher.py:13: FutureWarning: The default value of regex will change from True to False in a future version.\n",
            "  del sys.path[0]\n",
            "/usr/local/lib/python3.7/dist-packages/ipykernel_launcher.py:13: FutureWarning: The default value of regex will change from True to False in a future version.\n",
            "  del sys.path[0]\n",
            "/usr/local/lib/python3.7/dist-packages/ipykernel_launcher.py:13: FutureWarning: The default value of regex will change from True to False in a future version.\n",
            "  del sys.path[0]\n",
            "/usr/local/lib/python3.7/dist-packages/ipykernel_launcher.py:13: FutureWarning: The default value of regex will change from True to False in a future version.\n",
            "  del sys.path[0]\n"
          ]
        },
        {
          "output_type": "stream",
          "name": "stdout",
          "text": [
            "Alerfix-M Tablet is a combination medicine used in the treatment of allergic symptoms such as runny nose, stuffy nose, sneezing, itching, swelling, watery eyes and congestion or stuffiness.Avoid drinking alcohol while taking this medicine as it can worsen your sleepiness.Never support self-medication or recommend your medicine to another person.\n",
            "========================================================================================================================\n",
            "Summary of the article -  392\n",
            "Ascovent -SR Tablet is used to treat and prevent symptoms of asthma and chronic obstructive pulmonary disorder (a lung disorder in which flow of air to the lung is blocked).But take it at the same time every day to get the most benefit.\n",
            "========================================================================================================================\n",
            "Summary of the article -  393\n",
            "Amlong-H Tablet is a combination medicine used in the treatment of hypertension (high blood pressure).Inform doctor if you develop extreme thirst and muscle weakness.\n",
            "========================================================================================================================\n",
            "Summary of the article -  394\n",
            "Alensol-D Tablet is prescribed to treat osteoporosis.Do not stop taking the medicine until your doctor tells you it is alright to stop.\n",
            "========================================================================================================================\n",
            "Summary of the article -  395\n",
            "Acenac SP 100mg/325mg/15mg Tablet is a combination medicine used to relieve pain and swelling in various conditions like muscle pain, joint pain and postoperative pain.Acenac SP 100mg/325mg/15mg Tablet is not recommended if you are pregnant or breastfeeding.\n",
            "========================================================================================================================\n",
            "Summary of the article -  396\n",
            "Assurans Tablet is a medicine used to treat high blood pressure in the blood vessels that supply the lungs (pulmonary arterial hypertension).Avoid drinking alcohol while taking this medicine as it increases the chances of side effects.\n",
            "========================================================================================================================\n",
            "Summary of the article -  397\n",
            "Akostol Tablet is used in the treatment of indigestion.Before taking this medicine, you should let your doctor know if you have liver and kidney problems.\n",
            "========================================================================================================================\n",
            "Summary of the article -  398\n"
          ]
        },
        {
          "output_type": "stream",
          "name": "stderr",
          "text": [
            "/usr/local/lib/python3.7/dist-packages/ipykernel_launcher.py:13: FutureWarning: The default value of regex will change from True to False in a future version.\n",
            "  del sys.path[0]\n",
            "/usr/local/lib/python3.7/dist-packages/ipykernel_launcher.py:13: FutureWarning: The default value of regex will change from True to False in a future version.\n",
            "  del sys.path[0]\n",
            "/usr/local/lib/python3.7/dist-packages/ipykernel_launcher.py:13: FutureWarning: The default value of regex will change from True to False in a future version.\n",
            "  del sys.path[0]\n",
            "/usr/local/lib/python3.7/dist-packages/ipykernel_launcher.py:13: FutureWarning: The default value of regex will change from True to False in a future version.\n",
            "  del sys.path[0]\n",
            "/usr/local/lib/python3.7/dist-packages/ipykernel_launcher.py:13: FutureWarning: The default value of regex will change from True to False in a future version.\n",
            "  del sys.path[0]\n"
          ]
        },
        {
          "output_type": "stream",
          "name": "stdout",
          "text": [
            "Allercet Tablet belongs to a group of medicines called antihistamines.Consult your doctor if any of the side effects persist or worry you.\n",
            "========================================================================================================================\n",
            "Summary of the article -  399\n",
            "Acutret 10 Capsule belongs to a group of medicines called retinoids, which are closely related to vitamin A derivative.Acutret 10 Capsule should be used in the dose and duration as advised by your doctor.\n",
            "========================================================================================================================\n",
            "Summary of the article -  400\n",
            "Apidra 100IU Cartridge is used for the treatment of blood sugar control in people with type 1 and type 2 diabetes mellitus.Do not stop taking it unless your doctor tells you to.\n",
            "========================================================================================================================\n",
            "Summary of the article -  401\n",
            "Alkanil Syrup is a medicine used in the treatment of gout and kidney stones.Also tell your doctor if you have any problems with your heart, kidneys, or liver.\n",
            "========================================================================================================================\n",
            "Summary of the article -  402\n",
            "Alkasol Oral Solution is a medicine used in the treatment of gout and kidney stones.Also tell your doctor if you have any problems with your heart, kidneys, or liver.\n",
            "========================================================================================================================\n",
            "Summary of the article -  403\n",
            "Alphagan Z Ophthalmic Solution has a combination of medicines that is used to treat glaucoma.Do not skip any doses and finish the full course of treatment even if you feel better.\n",
            "========================================================================================================================\n",
            "Summary of the article -  404\n"
          ]
        },
        {
          "output_type": "stream",
          "name": "stderr",
          "text": [
            "/usr/local/lib/python3.7/dist-packages/ipykernel_launcher.py:13: FutureWarning: The default value of regex will change from True to False in a future version.\n",
            "  del sys.path[0]\n",
            "/usr/local/lib/python3.7/dist-packages/ipykernel_launcher.py:13: FutureWarning: The default value of regex will change from True to False in a future version.\n",
            "  del sys.path[0]\n",
            "/usr/local/lib/python3.7/dist-packages/ipykernel_launcher.py:13: FutureWarning: The default value of regex will change from True to False in a future version.\n",
            "  del sys.path[0]\n",
            "/usr/local/lib/python3.7/dist-packages/ipykernel_launcher.py:13: FutureWarning: The default value of regex will change from True to False in a future version.\n",
            "  del sys.path[0]\n",
            "/usr/local/lib/python3.7/dist-packages/ipykernel_launcher.py:13: FutureWarning: The default value of regex will change from True to False in a future version.\n",
            "  del sys.path[0]\n",
            "/usr/local/lib/python3.7/dist-packages/ipykernel_launcher.py:13: FutureWarning: The default value of regex will change from True to False in a future version.\n",
            "  del sys.path[0]\n"
          ]
        },
        {
          "output_type": "stream",
          "name": "stdout",
          "text": [
            "Amtas-AT Tablet is used to treat hypertension (high blood pressure).Even if you feel well, do not stop this medicine on your own because high blood pressure often has no symptoms.\n",
            "========================================================================================================================\n",
            "Summary of the article -  405\n",
            "Amtas-M 50 Tablet PR contains two medicines, both of which help to control high blood pressure and heart rate.Even if you feel well, do not stop this medicine on your own because high blood pressure often has no symptoms.\n",
            "========================================================================================================================\n",
            "Summary of the article -  406\n",
            "Abz 400mg Tablet is an antiparasitic medicine, used for the treatment of parasitic worm infections.Avoid skipping any doses and finish the full course of treatment even if you feel better.\n",
            "========================================================================================================================\n",
            "Summary of the article -  407\n",
            "AB Phylline Syrup is used to treat and prevent symptoms of asthma and chronic obstructive pulmonary disorder (a lung disorder in which flow of air to the lung is blocked).But take it at the same time every day to get the most benefit.\n",
            "========================================================================================================================\n",
            "Summary of the article -  408\n",
            "Aqsusten  25 Injection is used to restore menstrual cycles in women whose periods have stopped.Check with your doctor about all other medicines which may affect, or be affected by, this medicine.\n",
            "========================================================================================================================\n",
            "Summary of the article -  409\n"
          ]
        },
        {
          "output_type": "stream",
          "name": "stderr",
          "text": [
            "/usr/local/lib/python3.7/dist-packages/ipykernel_launcher.py:13: FutureWarning: The default value of regex will change from True to False in a future version.\n",
            "  del sys.path[0]\n",
            "/usr/local/lib/python3.7/dist-packages/ipykernel_launcher.py:13: FutureWarning: The default value of regex will change from True to False in a future version.\n",
            "  del sys.path[0]\n",
            "/usr/local/lib/python3.7/dist-packages/ipykernel_launcher.py:13: FutureWarning: The default value of regex will change from True to False in a future version.\n",
            "  del sys.path[0]\n",
            "/usr/local/lib/python3.7/dist-packages/ipykernel_launcher.py:13: FutureWarning: The default value of regex will change from True to False in a future version.\n",
            "  del sys.path[0]\n",
            "/usr/local/lib/python3.7/dist-packages/ipykernel_launcher.py:13: FutureWarning: The default value of regex will change from True to False in a future version.\n",
            "  del sys.path[0]\n"
          ]
        },
        {
          "output_type": "stream",
          "name": "stdout",
          "text": [
            "Asthakind Tablet is used in the treatment of cough with mucus.Avoid drinking alcohol while taking this medicine as it can make sleepiness worse.Never support self-medication or recommend your medicine to another person.\n",
            "========================================================================================================================\n",
            "Summary of the article -  410\n",
            "Adrenaline Tartrate Injection is used in the treatment of life-threatening emergencies like severe allergic reaction and cardiac arrest.Also, let your doctor know if you are pregnant or breastfeeding and about all the other medications that you are taking regularly.\n",
            "========================================================================================================================\n",
            "Summary of the article -  411\n",
            "Amicon 10 Tablet is used in the treatment of depression.Different doses of this medicine help in treating and preventing different problems such as chronic nerve-related (neuropathic) pain, migraine, tension-type headache and nighttime bedwetting (nocturnal enuresis) by older children (6 years and above).Amicon 10 Tablet is known as a tricyclic antidepressant.\n",
            "========================================================================================================================\n",
            "Summary of the article -  412\n",
            "Amicline Tablet belongs to the class of medications called luminal amebicide.Avoid skipping any doses and finish the full course of treatment even if you feel better.\n",
            "========================================================================================================================\n",
            "Summary of the article -  413\n",
            "Arpizol 10 Tablet is an antipsychotic medicine.Before taking the medicine you should tell your doctor if you are pregnant, planning to become pregnant, or breastfeeding.\n",
            "========================================================================================================================\n",
            "Summary of the article -  414\n",
            "Amlokind-H Tablet is a combination medicine used in the treatment of hypertension (high blood pressure).Inform doctor if you develop extreme thirst and muscle weakness.\n",
            "========================================================================================================================\n",
            "Summary of the article -  415\n"
          ]
        },
        {
          "output_type": "stream",
          "name": "stderr",
          "text": [
            "/usr/local/lib/python3.7/dist-packages/ipykernel_launcher.py:13: FutureWarning: The default value of regex will change from True to False in a future version.\n",
            "  del sys.path[0]\n",
            "/usr/local/lib/python3.7/dist-packages/ipykernel_launcher.py:13: FutureWarning: The default value of regex will change from True to False in a future version.\n",
            "  del sys.path[0]\n",
            "/usr/local/lib/python3.7/dist-packages/ipykernel_launcher.py:13: FutureWarning: The default value of regex will change from True to False in a future version.\n",
            "  del sys.path[0]\n",
            "/usr/local/lib/python3.7/dist-packages/ipykernel_launcher.py:13: FutureWarning: The default value of regex will change from True to False in a future version.\n",
            "  del sys.path[0]\n",
            "/usr/local/lib/python3.7/dist-packages/ipykernel_launcher.py:13: FutureWarning: The default value of regex will change from True to False in a future version.\n",
            "  del sys.path[0]\n"
          ]
        },
        {
          "output_type": "stream",
          "name": "stdout",
          "text": [
            "Amlodac 2.5 Tablet belongs to a class of medicines known as a calcium channel blockers.Consult your doctor if any of these side effects bother you or do not go away.Before taking it, let your doctor know if you have any liver, heart or kidney problems.\n",
            "========================================================================================================================\n",
            "Summary of the article -  416\n",
            "), you must seek immediate medical help.Before taking this medicine, you should tell your doctor if you are taking any medicines for any health condition.Akt 2 Tablet is a combination medicine used in the treatment of tuberculosis.\n",
            "========================================================================================================================\n",
            "Summary of the article -  417\n",
            "Adesam 200 Tablet is a medicine used for the treatment of liver disease associated with reduced bile formation (intrahepatic cholestasis).Avoid drinking alcohol as it might increase side effects.\n",
            "========================================================================================================================\n",
            "Summary of the article -  418\n",
            "Arachitol 3L Injection helps your body to absorb a mineral called calcium, which is important for maintaining strong bones.If you are using it to treat osteoporosis you will be prescribed other medicines as well.\n",
            "========================================================================================================================\n",
            "Summary of the article -  419\n",
            "Atorva Asp 75 Capsule is a combination of two medicines used to prevent heart attack and stroke.Do not stop taking it until you have finished the complete course, even when you feel better.\n",
            "========================================================================================================================\n",
            "Summary of the article -  420\n"
          ]
        },
        {
          "output_type": "stream",
          "name": "stderr",
          "text": [
            "/usr/local/lib/python3.7/dist-packages/ipykernel_launcher.py:13: FutureWarning: The default value of regex will change from True to False in a future version.\n",
            "  del sys.path[0]\n",
            "/usr/local/lib/python3.7/dist-packages/ipykernel_launcher.py:13: FutureWarning: The default value of regex will change from True to False in a future version.\n",
            "  del sys.path[0]\n",
            "/usr/local/lib/python3.7/dist-packages/ipykernel_launcher.py:13: FutureWarning: The default value of regex will change from True to False in a future version.\n",
            "  del sys.path[0]\n",
            "/usr/local/lib/python3.7/dist-packages/ipykernel_launcher.py:13: FutureWarning: The default value of regex will change from True to False in a future version.\n",
            "  del sys.path[0]\n",
            "/usr/local/lib/python3.7/dist-packages/ipykernel_launcher.py:13: FutureWarning: The default value of regex will change from True to False in a future version.\n",
            "  del sys.path[0]\n"
          ]
        },
        {
          "output_type": "stream",
          "name": "stdout",
          "text": [
            "Alzil 5 Tablet is used to treat mild to moderate dementia in Alzheimer’s disease, a progressive illness which gradually affects memory and thinking.Drink plenty of fluids to keep yourself hydrated.\n",
            "========================================================================================================================\n",
            "Summary of the article -  421\n",
            "Amlodac AT Tablet is used to treat hypertension (high blood pressure).Even if you feel well, do not stop this medicine on your own because high blood pressure often has no symptoms.\n",
            "========================================================================================================================\n",
            "Summary of the article -  422\n",
            "Anafortan Syrup is a combination medicine used in the treatment of abdominal pain.Avoid drinking alcohol while taking this medicine as it can worsen your dizziness.Before taking this medicine, you should tell your doctor if you are pregnant, planning pregnancy or breastfeeding.\n",
            "========================================================================================================================\n",
            "Summary of the article -  423\n",
            "Ascoril Plus Expectorant is used in the treatment of cough with mucus.Avoid drinking alcohol while taking this medicine as it can make sleepiness worse.Never support self-medication or recommend your medicine to another person.\n",
            "========================================================================================================================\n",
            "Summary of the article -  424\n",
            "Ascoril Plus Expectorant is used in the treatment of cough with mucus.Avoid drinking alcohol while taking this medicine as it can make sleepiness worse.Never support self-medication or recommend your medicine to another person.\n",
            "========================================================================================================================\n",
            "Summary of the article -  425\n"
          ]
        },
        {
          "output_type": "stream",
          "name": "stderr",
          "text": [
            "/usr/local/lib/python3.7/dist-packages/ipykernel_launcher.py:13: FutureWarning: The default value of regex will change from True to False in a future version.\n",
            "  del sys.path[0]\n",
            "/usr/local/lib/python3.7/dist-packages/ipykernel_launcher.py:13: FutureWarning: The default value of regex will change from True to False in a future version.\n",
            "  del sys.path[0]\n",
            "/usr/local/lib/python3.7/dist-packages/ipykernel_launcher.py:13: FutureWarning: The default value of regex will change from True to False in a future version.\n",
            "  del sys.path[0]\n",
            "/usr/local/lib/python3.7/dist-packages/ipykernel_launcher.py:13: FutureWarning: The default value of regex will change from True to False in a future version.\n",
            "  del sys.path[0]\n",
            "/usr/local/lib/python3.7/dist-packages/ipykernel_launcher.py:13: FutureWarning: The default value of regex will change from True to False in a future version.\n",
            "  del sys.path[0]\n"
          ]
        },
        {
          "output_type": "stream",
          "name": "stdout",
          "text": [
            "Alkof DX Syrup is a combination medicine used in the treatment of dry cough.Avoid drinking alcohol while taking this medicine as it can make dizziness worse.It is beneficial to have plenty of fluids while taking this medication.\n",
            "========================================================================================================================\n",
            "Summary of the article -  426\n",
            "Aspisol 75 Tablet is a combination of two medicine used for prevention of heart attack and stroke.Do not stop taking it until you have finished the complete course, even when you feel better.\n",
            "========================================================================================================================\n",
            "Summary of the article -  427\n",
            "), you must consult your doctor immediately.Before taking this medicine, you should tell your doctor if you are taking any medicines for any health condition.Amicline Plus Tablet is a combination of two antibiotics which is used to treat diarrhea and dysentery.\n",
            "========================================================================================================================\n",
            "Summary of the article -  428\n",
            "Additionally, avoid drinking alcohol while taking this medicine as it can make drowsiness worse.Anxiset 0.5 Tablet is a prescription medicine used in the treatment of schizophrenia.\n",
            "========================================================================================================================\n",
            "Summary of the article -  429\n",
            "Additionally, it helps to eliminate a bacteria known as H. pylori in people with peptic ulcer disease.Amoxycillin 125mg Syrup is a penicillin-type of antibiotic used to treat a variety of bacterial infections.\n",
            "========================================================================================================================\n",
            "Summary of the article -  430\n"
          ]
        },
        {
          "output_type": "stream",
          "name": "stderr",
          "text": [
            "/usr/local/lib/python3.7/dist-packages/ipykernel_launcher.py:13: FutureWarning: The default value of regex will change from True to False in a future version.\n",
            "  del sys.path[0]\n",
            "/usr/local/lib/python3.7/dist-packages/ipykernel_launcher.py:13: FutureWarning: The default value of regex will change from True to False in a future version.\n",
            "  del sys.path[0]\n",
            "/usr/local/lib/python3.7/dist-packages/ipykernel_launcher.py:13: FutureWarning: The default value of regex will change from True to False in a future version.\n",
            "  del sys.path[0]\n",
            "/usr/local/lib/python3.7/dist-packages/ipykernel_launcher.py:13: FutureWarning: The default value of regex will change from True to False in a future version.\n",
            "  del sys.path[0]\n",
            "/usr/local/lib/python3.7/dist-packages/ipykernel_launcher.py:13: FutureWarning: The default value of regex will change from True to False in a future version.\n",
            "  del sys.path[0]\n"
          ]
        },
        {
          "output_type": "stream",
          "name": "stdout",
          "text": [
            "Also, pregnant women and breastfeeding mothers should not take this medicine as it may harm the developing baby.Atchol 10 Tablet belongs to a group of medicines called statins.\n",
            "========================================================================================================================\n",
            "Summary of the article -  431\n",
            ").Before using this medicine, it is important to tell your doctor if you are taking or have recently taken any other medicines for the same disease or other diseases.A thin layer of the medicine should be applied only to the affected areas of the skin with clean and dry hands.\n",
            "========================================================================================================================\n",
            "Summary of the article -  432\n"
          ]
        },
        {
          "output_type": "stream",
          "name": "stderr",
          "text": [
            "/usr/local/lib/python3.7/dist-packages/ipykernel_launcher.py:13: FutureWarning: The default value of regex will change from True to False in a future version.\n",
            "  del sys.path[0]\n",
            "/usr/local/lib/python3.7/dist-packages/ipykernel_launcher.py:13: FutureWarning: The default value of regex will change from True to False in a future version.\n",
            "  del sys.path[0]\n"
          ]
        },
        {
          "output_type": "stream",
          "name": "stdout",
          "text": [
            "Actrapid 100 IU/ml Flexpen is a short-acting insulin used to treat type 1 and type 2 diabetes mellitus.Check your blood sugar levels regularly, keep track of your results and share them with your doctor.\n",
            "========================================================================================================================\n",
            "Summary of the article -  433\n",
            "Aldigesic-SP Tablet is a combination medicine used to relieve pain and swelling in various conditions like muscle pain, joint pain and postoperative pain.Aldigesic-SP Tablet is not recommended if you are pregnant or breastfeeding.\n",
            "========================================================================================================================\n",
            "Summary of the article -  434\n",
            "Atormac CV10 Capsule is a combination of two medicines used to prevent heart attack and stroke.Do not stop taking it until you have finished the complete course, even when you feel better.\n",
            "========================================================================================================================\n",
            "Summary of the article -  435\n",
            "Also let your doctor know all other medications you are using as they may affect, or be affected by, this medicine.Azmarda 100mg Tablet is a combination medicine used to treat heart failure.\n",
            "========================================================================================================================\n",
            "Summary of the article -  436\n"
          ]
        },
        {
          "output_type": "stream",
          "name": "stderr",
          "text": [
            "/usr/local/lib/python3.7/dist-packages/ipykernel_launcher.py:13: FutureWarning: The default value of regex will change from True to False in a future version.\n",
            "  del sys.path[0]\n",
            "/usr/local/lib/python3.7/dist-packages/ipykernel_launcher.py:13: FutureWarning: The default value of regex will change from True to False in a future version.\n",
            "  del sys.path[0]\n",
            "/usr/local/lib/python3.7/dist-packages/ipykernel_launcher.py:13: FutureWarning: The default value of regex will change from True to False in a future version.\n",
            "  del sys.path[0]\n",
            "/usr/local/lib/python3.7/dist-packages/ipykernel_launcher.py:13: FutureWarning: The default value of regex will change from True to False in a future version.\n",
            "  del sys.path[0]\n"
          ]
        },
        {
          "output_type": "stream",
          "name": "stdout",
          "text": [
            "Aldactone 100 Tablet is a medicine known as a diuretic (water pill).Also let your healthcare team know about all other medications you are using as they may affect, or be affected by this medicine.\n",
            "========================================================================================================================\n",
            "Summary of the article -  437\n",
            "App UP 4mg Tablet belongs to a group of medicines called antihistamines.Avoid drinking alcohol as it can cause excessive drowsiness with this medicine.\n",
            "========================================================================================================================\n",
            "Summary of the article -  438\n",
            "Acamptas 333 Tablet is a prescription medicine used in the treatment of alcohol addiction.Do not skip any doses and finish the full course of treatment.\n",
            "========================================================================================================================\n",
            "Summary of the article -  439\n",
            "Atropin Injection is used to treat bradycardia(slow heart rate).Dry mouth may also occur while using this medicine so, try to do frequent mouth rinses, maintain good oral hygiene and increase water intake.Pregnant or breastfeeding women should also consult their doctor before taking this medicine.\n",
            "========================================================================================================================\n",
            "Summary of the article -  440\n",
            "), you must seek immediate medical help.Before taking this medicine, you should tell your doctor if you are taking any medicines for any health condition.Ampiclox 250 mg/250 mg Tablet is a combination medicine that is used to treat various types of bacterial infections.\n",
            "========================================================================================================================\n",
            "Summary of the article -  441\n"
          ]
        },
        {
          "output_type": "stream",
          "name": "stderr",
          "text": [
            "/usr/local/lib/python3.7/dist-packages/ipykernel_launcher.py:13: FutureWarning: The default value of regex will change from True to False in a future version.\n",
            "  del sys.path[0]\n",
            "/usr/local/lib/python3.7/dist-packages/ipykernel_launcher.py:13: FutureWarning: The default value of regex will change from True to False in a future version.\n",
            "  del sys.path[0]\n",
            "/usr/local/lib/python3.7/dist-packages/ipykernel_launcher.py:13: FutureWarning: The default value of regex will change from True to False in a future version.\n",
            "  del sys.path[0]\n",
            "/usr/local/lib/python3.7/dist-packages/ipykernel_launcher.py:13: FutureWarning: The default value of regex will change from True to False in a future version.\n",
            "  del sys.path[0]\n",
            "/usr/local/lib/python3.7/dist-packages/ipykernel_launcher.py:13: FutureWarning: The default value of regex will change from True to False in a future version.\n",
            "  del sys.path[0]\n",
            "/usr/local/lib/python3.7/dist-packages/ipykernel_launcher.py:13: FutureWarning: The default value of regex will change from True to False in a future version.\n",
            "  del sys.path[0]\n"
          ]
        },
        {
          "output_type": "stream",
          "name": "stdout",
          "text": [
            "Ambrolite D Syrup is a combination medicine used in the treatment of dry cough.Avoid drinking alcohol while taking this medicine as it can worsen your sleepiness.Never support self-medication or recommend your medicine to another person.\n",
            "========================================================================================================================\n",
            "Summary of the article -  442\n",
            "Ambistryn-S 0.75gm Injection is an antibiotic used in the treatment of tuberculosis, in combination with other medicines.Consult your doctor if your condition does not improve or if any of the side effects bother you.Use caution while driving or doing anything that requires concentration as this medicine may cause dizziness.\n",
            "========================================================================================================================\n",
            "Summary of the article -  443\n",
            "Amlopin-M Tablet PR contains two medicines, both of which help to control high blood pressure and heart rate.Even if you feel well, do not stop this medicine on your own because high blood pressure often has no symptoms.\n",
            "========================================================================================================================\n",
            "Summary of the article -  444\n",
            "Amlovas-M 5/50 Tablet PR contains two medicines, both of which help to control high blood pressure and heart rate.Even if you feel well, do not stop this medicine on your own because high blood pressure often has no symptoms.\n",
            "========================================================================================================================\n",
            "Summary of the article -  445\n",
            "Alzolam 0.25mg Tablet belongs to a class of medicines known as benzodiazepines.However, it is advised to take it at the same time each day as this helps to maintain a consistent level of medicine in the body.\n",
            "========================================================================================================================\n",
            "Summary of the article -  446\n"
          ]
        },
        {
          "output_type": "stream",
          "name": "stderr",
          "text": [
            "/usr/local/lib/python3.7/dist-packages/ipykernel_launcher.py:13: FutureWarning: The default value of regex will change from True to False in a future version.\n",
            "  del sys.path[0]\n",
            "/usr/local/lib/python3.7/dist-packages/ipykernel_launcher.py:13: FutureWarning: The default value of regex will change from True to False in a future version.\n",
            "  del sys.path[0]\n",
            "/usr/local/lib/python3.7/dist-packages/ipykernel_launcher.py:13: FutureWarning: The default value of regex will change from True to False in a future version.\n",
            "  del sys.path[0]\n",
            "/usr/local/lib/python3.7/dist-packages/ipykernel_launcher.py:13: FutureWarning: The default value of regex will change from True to False in a future version.\n",
            "  del sys.path[0]\n",
            "/usr/local/lib/python3.7/dist-packages/ipykernel_launcher.py:13: FutureWarning: The default value of regex will change from True to False in a future version.\n",
            "  del sys.path[0]\n"
          ]
        },
        {
          "output_type": "stream",
          "name": "stdout",
          "text": [
            "Also, pregnant women and breastfeeding mothers should not take this medicine as it may harm the developing baby.Atocor 40 Tablet belongs to a group of medicines called statins.\n",
            "========================================================================================================================\n",
            "Summary of the article -  447\n",
            "Azulix 1 MF Forte Tablet PR belongs to a category of medicines known as anti-diabetic drugs.Before taking this medicine, tell your doctor if you have ever had heart disease.\n",
            "========================================================================================================================\n",
            "Summary of the article -  448\n",
            "Asomex-AT Tablet is used to treat hypertension (high blood pressure).Even if you feel well, do not stop this medicine on your own because high blood pressure often has no symptoms.\n",
            "========================================================================================================================\n",
            "Summary of the article -  449\n",
            "Ambrodil Tablet is used for treating various respiratory tract disorders associated with excessive mucus.For better results, it is suggested to take it at the same time every day.\n",
            "========================================================================================================================\n",
            "Summary of the article -  450\n"
          ]
        },
        {
          "output_type": "stream",
          "name": "stderr",
          "text": [
            "/usr/local/lib/python3.7/dist-packages/ipykernel_launcher.py:13: FutureWarning: The default value of regex will change from True to False in a future version.\n",
            "  del sys.path[0]\n",
            "/usr/local/lib/python3.7/dist-packages/ipykernel_launcher.py:13: FutureWarning: The default value of regex will change from True to False in a future version.\n",
            "  del sys.path[0]\n",
            "/usr/local/lib/python3.7/dist-packages/ipykernel_launcher.py:13: FutureWarning: The default value of regex will change from True to False in a future version.\n",
            "  del sys.path[0]\n",
            "/usr/local/lib/python3.7/dist-packages/ipykernel_launcher.py:13: FutureWarning: The default value of regex will change from True to False in a future version.\n",
            "  del sys.path[0]\n"
          ]
        },
        {
          "output_type": "stream",
          "name": "stdout",
          "text": [
            "Amaryl M Forte 1mg Tablet PR belongs to a category of medicines known as anti-diabetic drugs.Before taking this medicine, tell your doctor if you have ever had heart disease.\n",
            "========================================================================================================================\n",
            "Summary of the article -  451\n",
            "Aldonil Tablet is used to treat diabetic nerve pain.Avoid any alcohol intake while taking it as this may increase the risk of developing some side effects.\n",
            "========================================================================================================================\n",
            "Summary of the article -  452\n",
            "Amnurite  5 mg/1500 mcg Tablet is a combination of two medicines used to treat neuropathic pain.Finish the full course of the treatment even if you feel better.\n",
            "========================================================================================================================\n",
            "Summary of the article -  453\n",
            "Alprax 1mg Tablet belongs to a class of medicines known as benzodiazepines.However, it is advised to take it at the same time each day as this helps to maintain a consistent level of medicine in the body.\n",
            "========================================================================================================================\n",
            "Summary of the article -  454\n",
            "Apdrops Eye Drop is an antibiotic, used in the treatment of bacterial infections of the eye.Avoid skipping any doses and finish the full course of treatment even if you feel better.It may cause eye discomfort, dry eyes and burning sensation in the eyes immediately following application.\n",
            "========================================================================================================================\n",
            "Summary of the article -  455\n"
          ]
        },
        {
          "output_type": "stream",
          "name": "stderr",
          "text": [
            "/usr/local/lib/python3.7/dist-packages/ipykernel_launcher.py:13: FutureWarning: The default value of regex will change from True to False in a future version.\n",
            "  del sys.path[0]\n",
            "/usr/local/lib/python3.7/dist-packages/ipykernel_launcher.py:13: FutureWarning: The default value of regex will change from True to False in a future version.\n",
            "  del sys.path[0]\n",
            "/usr/local/lib/python3.7/dist-packages/ipykernel_launcher.py:13: FutureWarning: The default value of regex will change from True to False in a future version.\n",
            "  del sys.path[0]\n",
            "/usr/local/lib/python3.7/dist-packages/ipykernel_launcher.py:13: FutureWarning: The default value of regex will change from True to False in a future version.\n",
            "  del sys.path[0]\n",
            "/usr/local/lib/python3.7/dist-packages/ipykernel_launcher.py:13: FutureWarning: The default value of regex will change from True to False in a future version.\n",
            "  del sys.path[0]\n",
            "/usr/local/lib/python3.7/dist-packages/ipykernel_launcher.py:13: FutureWarning: The default value of regex will change from True to False in a future version.\n",
            "  del sys.path[0]\n"
          ]
        },
        {
          "output_type": "stream",
          "name": "stdout",
          "text": [
            "Arip MT 5 Tablet is an antipsychotic medicine.Before taking the medicine you should tell your doctor if you are pregnant, planning to become pregnant, or breastfeeding.\n",
            "========================================================================================================================\n",
            "Summary of the article -  456\n",
            "Azifast 500 Tablet is an antibiotic used to treat various types of bacterial infections of the respiratory tract, ear, nose, throat, lungs, skin, and eye in adults and children.Consult your doctor if you find these side effects worry you or persist for a longer duration.Inform your doctor if you have any previous history of allergy or heart problems before taking this medicine.\n",
            "========================================================================================================================\n",
            "Summary of the article -  457\n",
            "Aminophylin Injection is used to treat and prevent symptoms of asthma and chronic obstructive pulmonary disorder (a lung disorder in which flow of air to the lung is blocked).Do not miss even a single dose, if in any case, you missed a dose, take it as soon as you remember or better to skip the missed dose and continue with regular dosing.\n",
            "========================================================================================================================\n",
            "Summary of the article -  458\n",
            "Asthakind LS Drop is a combination medicine used in the treatment of cough with mucus.Avoid drinking alcohol while taking this medicine as it can make sleepiness worse.Never support self-medication or recommend your medicine to another person.\n",
            "========================================================================================================================\n",
            "Summary of the article -  459\n",
            "Auxisoda Tablet is a prescription medicine used in the treatment of Indigestion.If you stop treatment too early your symptoms may come back and your condition may worsen.\n",
            "========================================================================================================================\n",
            "Summary of the article -  460\n",
            "Alkarate Liquid is a medicine used in the treatment of gout and kidney stones.Also tell your doctor if you have any problems with your heart, kidneys, or liver.\n",
            "========================================================================================================================\n",
            "Summary of the article -  461\n"
          ]
        },
        {
          "output_type": "stream",
          "name": "stderr",
          "text": [
            "/usr/local/lib/python3.7/dist-packages/ipykernel_launcher.py:13: FutureWarning: The default value of regex will change from True to False in a future version.\n",
            "  del sys.path[0]\n",
            "/usr/local/lib/python3.7/dist-packages/ipykernel_launcher.py:13: FutureWarning: The default value of regex will change from True to False in a future version.\n",
            "  del sys.path[0]\n",
            "/usr/local/lib/python3.7/dist-packages/ipykernel_launcher.py:13: FutureWarning: The default value of regex will change from True to False in a future version.\n",
            "  del sys.path[0]\n",
            "/usr/local/lib/python3.7/dist-packages/ipykernel_launcher.py:13: FutureWarning: The default value of regex will change from True to False in a future version.\n",
            "  del sys.path[0]\n",
            "/usr/local/lib/python3.7/dist-packages/ipykernel_launcher.py:13: FutureWarning: The default value of regex will change from True to False in a future version.\n",
            "  del sys.path[0]\n",
            "/usr/local/lib/python3.7/dist-packages/ipykernel_launcher.py:13: FutureWarning: The default value of regex will change from True to False in a future version.\n",
            "  del sys.path[0]\n"
          ]
        },
        {
          "output_type": "stream",
          "name": "stdout",
          "text": [
            "Aldonil OD Tablet is used to treat diabetic nerve pain.Avoid any alcohol intake while taking it as this may increase the risk of developing some side effects.\n",
            "========================================================================================================================\n",
            "Summary of the article -  462\n",
            "Actapro Tablet is used in the treatment of indigestion.Before taking this medicine, you should let your doctor know if you have liver and kidney problems.\n",
            "========================================================================================================================\n",
            "Summary of the article -  463\n",
            "Acemiz 100mg Tablet is a pain relieving medicine.Acemiz 100mg Tablet is not recommended if you are pregnant or breastfeeding.\n",
            "========================================================================================================================\n",
            "Summary of the article -  464\n",
            "Ambronac Tablet is used for the prevention of chronic obstructive pulmonary disorder (a lung disorder in which the flow of air to the lungs is blocked).Before taking this medicine, you should tell your doctor if you have any kidney stomach or liver diseases.Never support self-medication or recommend your medicine to another person.\n",
            "========================================================================================================================\n",
            "Summary of the article -  465\n",
            "Alkof Syrup is used in the treatment of cough with mucus.Avoid drinking alcohol while taking this medicine as it can make sleepiness worse.Never support self-medication or recommend your medicine to another person.\n",
            "========================================================================================================================\n",
            "Summary of the article -  466\n",
            "), you must seek immediate medical help.Before taking this medicine, you should tell your doctor if you are taking any medicines for any health condition.Ampoxin 1gm Injection is a combination medicine that is used to treat various types of bacterial infections.\n",
            "========================================================================================================================\n",
            "Summary of the article -  467\n"
          ]
        },
        {
          "output_type": "stream",
          "name": "stderr",
          "text": [
            "/usr/local/lib/python3.7/dist-packages/ipykernel_launcher.py:13: FutureWarning: The default value of regex will change from True to False in a future version.\n",
            "  del sys.path[0]\n",
            "/usr/local/lib/python3.7/dist-packages/ipykernel_launcher.py:13: FutureWarning: The default value of regex will change from True to False in a future version.\n",
            "  del sys.path[0]\n",
            "/usr/local/lib/python3.7/dist-packages/ipykernel_launcher.py:13: FutureWarning: The default value of regex will change from True to False in a future version.\n",
            "  del sys.path[0]\n",
            "/usr/local/lib/python3.7/dist-packages/ipykernel_launcher.py:13: FutureWarning: The default value of regex will change from True to False in a future version.\n",
            "  del sys.path[0]\n",
            "/usr/local/lib/python3.7/dist-packages/ipykernel_launcher.py:13: FutureWarning: The default value of regex will change from True to False in a future version.\n",
            "  del sys.path[0]\n"
          ]
        },
        {
          "output_type": "stream",
          "name": "stdout",
          "text": [
            "Amtas 10 Tablet belongs to a class of medicines known as a calcium channel blockers.Consult your doctor if any of these side effects bother you or do not go away.Before taking it, let your doctor know if you have any liver, heart or kidney problems.\n",
            "========================================================================================================================\n",
            "Summary of the article -  468\n",
            "Azopt Opthalmic Suspension is a medicine used to reduce increased pressure in the eye, in people with glaucoma or ocular hypertension(high pressure in the eye).Azopt Opthalmic Suspension works by decreasing the amount of fluid inside the eye.Never use Azopt Opthalmic Suspension if the seal is broken before you use it for the first time.\n",
            "========================================================================================================================\n",
            "Summary of the article -  469\n",
            "Alburel 20gm Solution for Infusion is used to treat blood volume loss.Before taking it, inform the doctor you are suffering from any severe heart disease.Your doctor may check your blood pressure and ask you to get regular blood tests done while you are using this injection.\n",
            "========================================================================================================================\n",
            "Summary of the article -  470\n",
            "Avoid contact with eyes.Aziderm 10% Gel is a topical medication used in the treatment of acne (pimples).\n",
            "========================================================================================================================\n",
            "Summary of the article -  471\n",
            "Adaple-C Gel is a combination of two medicines that effectively treats acne.Ask your doctor when you should stop treatment.Side effects like minor itching, burning, or redness of the skin and oily skin may be seen in some people.\n",
            "========================================================================================================================\n",
            "Summary of the article -  472\n"
          ]
        },
        {
          "output_type": "stream",
          "name": "stderr",
          "text": [
            "/usr/local/lib/python3.7/dist-packages/ipykernel_launcher.py:13: FutureWarning: The default value of regex will change from True to False in a future version.\n",
            "  del sys.path[0]\n",
            "/usr/local/lib/python3.7/dist-packages/ipykernel_launcher.py:13: FutureWarning: The default value of regex will change from True to False in a future version.\n",
            "  del sys.path[0]\n",
            "/usr/local/lib/python3.7/dist-packages/ipykernel_launcher.py:13: FutureWarning: The default value of regex will change from True to False in a future version.\n",
            "  del sys.path[0]\n",
            "/usr/local/lib/python3.7/dist-packages/ipykernel_launcher.py:13: FutureWarning: The default value of regex will change from True to False in a future version.\n",
            "  del sys.path[0]\n",
            "/usr/local/lib/python3.7/dist-packages/ipykernel_launcher.py:13: FutureWarning: The default value of regex will change from True to False in a future version.\n",
            "  del sys.path[0]\n"
          ]
        },
        {
          "output_type": "stream",
          "name": "stdout",
          "text": [
            "Also, pregnant women and breastfeeding mothers should not take this medicine as it may harm the developing baby.Avas 20 Tablet belongs to a group of medicines called statins.\n",
            "========================================================================================================================\n",
            "Summary of the article -  473\n",
            "), you must seek immediate medical help.Before taking this medicine, you should tell your doctor if you are taking any medicines for any health condition.Amyclox-LB Capsule is a combination medicine that is used to treat various types of bacterial infections.\n",
            "========================================================================================================================\n",
            "Summary of the article -  474\n",
            "Azivent 500 Tablet is an antibiotic used to treat various types of bacterial infections of the respiratory tract, ear, nose, throat, lungs, skin, and eye in adults and children.Consult your doctor if you find these side effects worry you or persist for a longer duration.Inform your doctor if you have any previous history of allergy or heart problems before taking this medicine.\n",
            "========================================================================================================================\n",
            "Summary of the article -  475\n",
            "Also, it is not safe to drive or operate heavy machinery while on medication, unless your doctor permits you to do so.Anawin Heavy 5mg Injection is a prescription medication used as a local anesthetic.\n",
            "========================================================================================================================\n",
            "Summary of the article -  476\n",
            "Amplinak Opthalmic Suspension is a pain relieving medicine.However, if they persist or get worse, you should let your doctor know.\n",
            "========================================================================================================================\n",
            "Summary of the article -  477\n",
            "Astymin-SN Infusion is a prescription medicine.Inform your doctor if you are suffering from any disease or are taking any medicines.\n",
            "========================================================================================================================\n",
            "Summary of the article -  478\n"
          ]
        },
        {
          "output_type": "stream",
          "name": "stderr",
          "text": [
            "/usr/local/lib/python3.7/dist-packages/ipykernel_launcher.py:13: FutureWarning: The default value of regex will change from True to False in a future version.\n",
            "  del sys.path[0]\n",
            "/usr/local/lib/python3.7/dist-packages/ipykernel_launcher.py:13: FutureWarning: The default value of regex will change from True to False in a future version.\n",
            "  del sys.path[0]\n",
            "/usr/local/lib/python3.7/dist-packages/ipykernel_launcher.py:13: FutureWarning: The default value of regex will change from True to False in a future version.\n",
            "  del sys.path[0]\n",
            "/usr/local/lib/python3.7/dist-packages/ipykernel_launcher.py:13: FutureWarning: The default value of regex will change from True to False in a future version.\n",
            "  del sys.path[0]\n",
            "/usr/local/lib/python3.7/dist-packages/ipykernel_launcher.py:13: FutureWarning: The default value of regex will change from True to False in a future version.\n",
            "  del sys.path[0]\n",
            "/usr/local/lib/python3.7/dist-packages/ipykernel_launcher.py:13: FutureWarning: The default value of regex will change from True to False in a future version.\n",
            "  del sys.path[0]\n",
            "/usr/local/lib/python3.7/dist-packages/ipykernel_launcher.py:13: FutureWarning: The default value of regex will change from True to False in a future version.\n",
            "  del sys.path[0]\n"
          ]
        },
        {
          "output_type": "stream",
          "name": "stdout",
          "text": [
            "Alcipro 500mg Tablet is an antibiotic, used in the treatment of bacterial infections.Avoid skipping any doses and finish the full course of treatment even if you feel better.\n",
            "========================================================================================================================\n",
            "Summary of the article -  479\n",
            "Abd 400mg Tablet is an antiparasitic medicine, used for the treatment of parasitic worm infections.Avoid skipping any doses and finish the full course of treatment even if you feel better.\n",
            "========================================================================================================================\n",
            "Summary of the article -  480\n",
            "Anfoe 4000IU Injection is a medicine that helps your bone marrow to produce more red blood cells.Anfoe 4000IU Injection needs to be stored in a fridge but used at room temperature.The most common side effects of taking this medicine include nausea, vomiting, and increased blood pressure.\n",
            "========================================================================================================================\n",
            "Summary of the article -  481\n",
            "Asthalin Plus Expectorant is a combination medicine used in the treatment of cough with mucus.Avoid drinking alcohol while taking this medicine as it can make sleepiness worse.Never support self-medication or recommend your medicine to another person.\n",
            "========================================================================================================================\n",
            "Summary of the article -  482\n",
            "Also, pregnant women and breastfeeding mothers should not take this medicine as it may harm the developing baby.Atorlip 40 Tablet belongs to a group of medicines called statins.\n",
            "========================================================================================================================\n",
            "Summary of the article -  483\n"
          ]
        },
        {
          "output_type": "stream",
          "name": "stderr",
          "text": [
            "/usr/local/lib/python3.7/dist-packages/ipykernel_launcher.py:13: FutureWarning: The default value of regex will change from True to False in a future version.\n",
            "  del sys.path[0]\n",
            "/usr/local/lib/python3.7/dist-packages/ipykernel_launcher.py:13: FutureWarning: The default value of regex will change from True to False in a future version.\n",
            "  del sys.path[0]\n",
            "/usr/local/lib/python3.7/dist-packages/ipykernel_launcher.py:13: FutureWarning: The default value of regex will change from True to False in a future version.\n",
            "  del sys.path[0]\n",
            "/usr/local/lib/python3.7/dist-packages/ipykernel_launcher.py:13: FutureWarning: The default value of regex will change from True to False in a future version.\n",
            "  del sys.path[0]\n",
            "/usr/local/lib/python3.7/dist-packages/ipykernel_launcher.py:13: FutureWarning: The default value of regex will change from True to False in a future version.\n",
            "  del sys.path[0]\n"
          ]
        },
        {
          "output_type": "stream",
          "name": "stdout",
          "text": [
            "Addwize 10mg Tablet is a medicine used in the treatment of attention deficit hyperactivity disorder (a behavioral disorder in children marked by poor concentration, hyperactivity, and learning difficulties).Do not skip any doses and finish the full course of treatment even if you feel better.\n",
            "========================================================================================================================\n",
            "Summary of the article -  484\n",
            "AF -C Dusting Powder is an antifungal medication.Do not use more than you need as instead of clearing the infection faster, it may cause increased side effects.\n",
            "========================================================================================================================\n",
            "Summary of the article -  485\n",
            "Actilyse 50mg Injection is a medicine which dissolves the clots that have formed in blood vessels.It has many serious side effects.\n",
            "========================================================================================================================\n",
            "Summary of the article -  486\n",
            "Asthalin DX Syrup is a combination medicine used in the treatment of dry cough.Avoid drinking alcohol while taking this medicine as it can worsen your sleepiness.Never support self-medication or recommend your medicine to another person.\n",
            "========================================================================================================================\n",
            "Summary of the article -  487\n",
            "Alevo 500 Tablet is an antibiotic, used in the treatment of bacterial infections.Avoid skipping any doses and finish the full course of treatment even if you feel better.\n",
            "========================================================================================================================\n",
            "Summary of the article -  488\n"
          ]
        },
        {
          "output_type": "stream",
          "name": "stderr",
          "text": [
            "/usr/local/lib/python3.7/dist-packages/ipykernel_launcher.py:13: FutureWarning: The default value of regex will change from True to False in a future version.\n",
            "  del sys.path[0]\n",
            "/usr/local/lib/python3.7/dist-packages/ipykernel_launcher.py:13: FutureWarning: The default value of regex will change from True to False in a future version.\n",
            "  del sys.path[0]\n",
            "/usr/local/lib/python3.7/dist-packages/ipykernel_launcher.py:13: FutureWarning: The default value of regex will change from True to False in a future version.\n",
            "  del sys.path[0]\n",
            "/usr/local/lib/python3.7/dist-packages/ipykernel_launcher.py:13: FutureWarning: The default value of regex will change from True to False in a future version.\n",
            "  del sys.path[0]\n",
            "/usr/local/lib/python3.7/dist-packages/ipykernel_launcher.py:13: FutureWarning: The default value of regex will change from True to False in a future version.\n",
            "  del sys.path[0]\n",
            "/usr/local/lib/python3.7/dist-packages/ipykernel_launcher.py:13: FutureWarning: The default value of regex will change from True to False in a future version.\n",
            "  del sys.path[0]\n"
          ]
        },
        {
          "output_type": "stream",
          "name": "stdout",
          "text": [
            "Atocor-CV 10 Capsule is a combination of two medicines used to prevent heart attack and stroke.Do not stop taking it until you have finished the complete course, even when you feel better.\n",
            "========================================================================================================================\n",
            "Summary of the article -  489\n",
            "Amfy Gel is an antifungal medication.Avoid direct contact of the cream or ointment with your eyes.\n",
            "========================================================================================================================\n",
            "Summary of the article -  490\n",
            "Aplex 30mg Tablet can be taken with or without food.Aplex 30mg Tablet is used in the treatment of moderate to severe plaque psoriasis which is a type of skin condition.\n",
            "========================================================================================================================\n",
            "Summary of the article -  491\n",
            "Alzil-M 5 Tablet is a prescription medicine used to treat Alzheimer's disease.Do not skip any doses, but if you miss a dose of this medicine, take it as soon as you remember.\n",
            "========================================================================================================================\n",
            "Summary of the article -  492\n",
            "ATM 100 Oral Suspension is an antibiotic used to treat various types of bacterial infections of the respiratory tract, ear, nose, throat, lungs, skin, and eye in adults and children.Consult your doctor if you find these side effects worry you or persist for a longer duration.Inform your doctor if you have any previous history of allergy or heart problems before taking this medicine.\n",
            "========================================================================================================================\n",
            "Summary of the article -  493\n",
            "Also, make sure your doctor knows if you are pregnant or breast-feeding before taking this medicine.Asthalin Respirator Solution belongs to a group of medicines called fast-acting bronchodilators or “relievers”.\n",
            "========================================================================================================================\n",
            "Summary of the article -  494\n",
            "Arflur 3D Tablet is a combination medicine used to relieve pain and swelling in various conditions like muscle pain, joint pain and postoperative pain.Arflur 3D Tablet is not recommended if you are pregnant or breastfeeding.\n",
            "========================================================================================================================\n",
            "Summary of the article -  495\n",
            "Acutrol C 400 Tablet is used to treat increased phosphate level in the blood.It inhibits the absorption of phosphate from the intestine and lower the phosphate levels in the blood.Acutrol C 400 Tablet should be taken with food.\n",
            "========================================================================================================================\n",
            "Summary of the article -  496\n"
          ]
        },
        {
          "output_type": "stream",
          "name": "stderr",
          "text": [
            "/usr/local/lib/python3.7/dist-packages/ipykernel_launcher.py:13: FutureWarning: The default value of regex will change from True to False in a future version.\n",
            "  del sys.path[0]\n",
            "/usr/local/lib/python3.7/dist-packages/ipykernel_launcher.py:13: FutureWarning: The default value of regex will change from True to False in a future version.\n",
            "  del sys.path[0]\n",
            "/usr/local/lib/python3.7/dist-packages/ipykernel_launcher.py:13: FutureWarning: The default value of regex will change from True to False in a future version.\n",
            "  del sys.path[0]\n",
            "/usr/local/lib/python3.7/dist-packages/ipykernel_launcher.py:13: FutureWarning: The default value of regex will change from True to False in a future version.\n",
            "  del sys.path[0]\n",
            "/usr/local/lib/python3.7/dist-packages/ipykernel_launcher.py:13: FutureWarning: The default value of regex will change from True to False in a future version.\n",
            "  del sys.path[0]\n",
            "/usr/local/lib/python3.7/dist-packages/ipykernel_launcher.py:13: FutureWarning: The default value of regex will change from True to False in a future version.\n",
            "  del sys.path[0]\n",
            "/usr/local/lib/python3.7/dist-packages/ipykernel_launcher.py:13: FutureWarning: The default value of regex will change from True to False in a future version.\n",
            "  del sys.path[0]\n"
          ]
        },
        {
          "output_type": "stream",
          "name": "stdout",
          "text": [
            "Azithral Eye Ointment is an antibiotic used to treat bacterial infections of the eyes.Consult your doctor if these side effects persist or if your condition worsens.\n",
            "========================================================================================================================\n",
            "Summary of the article -  497\n",
            "Acivir Eye Ointment is an antiviral medicine which treats eye infections caused by Herpes simplex virus.Do not wear contact lenses while using it.\n",
            "========================================================================================================================\n",
            "Summary of the article -  498\n",
            "Acolate Tablet is used to treat common cold symptoms.Also tell your doctor if you are pregnant, planning pregnancy or breastfeeding.\n",
            "========================================================================================================================\n",
            "Summary of the article -  499\n",
            "Agna 10000 Capsule DR is used to treat pancreatic enzyme deficiency.Agna 10000 Capsule DR may only be a part of your treatment which could include a special diet.The most common side effects of this medicine include stomach pain, abdominal bloating, and diarrhea.\n",
            "========================================================================================================================\n",
            "Summary of the article -  500\n",
            "Amlong MT 25 Tablet PR contains two medicines, both of which help to control high blood pressure and heart rate.Even if you feel well, do not stop this medicine on your own because high blood pressure often has no symptoms.\n",
            "========================================================================================================================\n",
            "Summary of the article -  501\n"
          ]
        },
        {
          "output_type": "stream",
          "name": "stderr",
          "text": [
            "/usr/local/lib/python3.7/dist-packages/ipykernel_launcher.py:13: FutureWarning: The default value of regex will change from True to False in a future version.\n",
            "  del sys.path[0]\n",
            "/usr/local/lib/python3.7/dist-packages/ipykernel_launcher.py:13: FutureWarning: The default value of regex will change from True to False in a future version.\n",
            "  del sys.path[0]\n",
            "/usr/local/lib/python3.7/dist-packages/ipykernel_launcher.py:13: FutureWarning: The default value of regex will change from True to False in a future version.\n",
            "  del sys.path[0]\n",
            "/usr/local/lib/python3.7/dist-packages/ipykernel_launcher.py:13: FutureWarning: The default value of regex will change from True to False in a future version.\n",
            "  del sys.path[0]\n",
            "/usr/local/lib/python3.7/dist-packages/ipykernel_launcher.py:13: FutureWarning: The default value of regex will change from True to False in a future version.\n",
            "  del sys.path[0]\n"
          ]
        },
        {
          "output_type": "stream",
          "name": "stdout",
          "text": [
            "Anti-Thyrox 10 Tablet belongs to a group of medicine called anti-thyroid agents.Do not stop taking the medicine even if you feel better unless the doctor tells you so.Taking this medicine may cause few common side effects such as skin rash, headache, skin pigmentation, and muscle pain or weakness.\n",
            "========================================================================================================================\n",
            "Summary of the article -  502\n",
            "Altacef 500 Tablet is an antibiotic medicine used to treat bacterial infections in your body.Do not stop taking it until you have finished, even when you feel better.\n",
            "========================================================================================================================\n",
            "Summary of the article -  503\n",
            "Acinil-O Oral Suspension is a combination medicine used in the treatment of acidity, stomach ulcer and heartburn.Contact your doctor straight away if you are at all concerned about any side effects.\n",
            "========================================================================================================================\n",
            "Summary of the article -  504\n",
            "Amfocin Cream is an antifungal medication.Avoid direct contact of the cream or ointment with your eyes.\n",
            "========================================================================================================================\n",
            "Summary of the article -  505\n",
            "Airtec FB 400 Instacap is a combination of two medicines in one inhaler.However, before using it, inform doctor if you are suffering from any severe medical condition.\n",
            "========================================================================================================================\n",
            "Summary of the article -  506\n",
            "Alerid Cold Tablet is used in the treatment of common cold symptoms like runny nose, stuffy nose, sneezing, watery eyes and congestion or stuffiness.Avoid drinking alcohol while taking this medicine as it can worsen your sleepiness.Never support self-medication or recommend your medicine to another person.\n",
            "========================================================================================================================\n",
            "Summary of the article -  507\n"
          ]
        },
        {
          "output_type": "stream",
          "name": "stderr",
          "text": [
            "/usr/local/lib/python3.7/dist-packages/ipykernel_launcher.py:13: FutureWarning: The default value of regex will change from True to False in a future version.\n",
            "  del sys.path[0]\n",
            "/usr/local/lib/python3.7/dist-packages/ipykernel_launcher.py:13: FutureWarning: The default value of regex will change from True to False in a future version.\n",
            "  del sys.path[0]\n",
            "/usr/local/lib/python3.7/dist-packages/ipykernel_launcher.py:13: FutureWarning: The default value of regex will change from True to False in a future version.\n",
            "  del sys.path[0]\n",
            "/usr/local/lib/python3.7/dist-packages/ipykernel_launcher.py:13: FutureWarning: The default value of regex will change from True to False in a future version.\n",
            "  del sys.path[0]\n",
            "/usr/local/lib/python3.7/dist-packages/ipykernel_launcher.py:13: FutureWarning: The default value of regex will change from True to False in a future version.\n",
            "  del sys.path[0]\n",
            "/usr/local/lib/python3.7/dist-packages/ipykernel_launcher.py:13: FutureWarning: The default value of regex will change from True to False in a future version.\n",
            "  del sys.path[0]\n",
            "/usr/local/lib/python3.7/dist-packages/ipykernel_launcher.py:13: FutureWarning: The default value of regex will change from True to False in a future version.\n",
            "  del sys.path[0]\n"
          ]
        },
        {
          "output_type": "stream",
          "name": "stdout",
          "text": [
            "Anorelief Cream is a combination of two medicines used in the treatment anal fissures (tear in the lining of anus).Avoid getting this medicine into your eyes, nose or mouth.\n",
            "========================================================================================================================\n",
            "Summary of the article -  508\n",
            "Azee XL 200mg Dry Syrup Peppermint is an antibiotic used to treat various types of bacterial infections of the respiratory tract, ear, nose, throat, lungs, skin, and eye in adults and children.Consult your doctor if you find these side effects worry you or persist for a longer duration.Inform your doctor if you have any previous history of allergy or heart problems before taking this medicine.\n",
            "========================================================================================================================\n",
            "Summary of the article -  509\n",
            "ATM 250 Tablet is an antibiotic used to treat various types of bacterial infections of the respiratory tract, ear, nose, throat, lungs, skin, and eye in adults and children.Consult your doctor if you find these side effects worry you or persist for a longer duration.Inform your doctor if you have any previous history of allergy or heart problems before taking this medicine.\n",
            "========================================================================================================================\n",
            "Summary of the article -  510\n",
            "Androtas Gel is a medicine used in the treatment of male hypogonadism caused due to low testosterone levels.Do not use the gel too often and avoid applying it over genital's area.\n",
            "========================================================================================================================\n",
            "Summary of the article -  511\n",
            ").Before taking this medicine, it is important to tell your doctor if you are taking or have recently taken any other medicines.A thin layer of the medicine should be applied only to the affected areas of the skin with clean and dry hands.\n",
            "========================================================================================================================\n",
            "Summary of the article -  512\n",
            "Allrite DC Tablet ER is a combination medicine used in the treatment of allergy symptoms like runny nose, sneezing, throat irritation, watery eyes and congestion or stuffiness in the nose.Allrite DC Tablet ER is taken with or without food in a dose and duration as advised by the doctor.Also tell your doctor if you are pregnant, planning pregnancy or breastfeeding.\n",
            "========================================================================================================================\n",
            "Summary of the article -  513\n"
          ]
        },
        {
          "output_type": "stream",
          "name": "stderr",
          "text": [
            "/usr/local/lib/python3.7/dist-packages/ipykernel_launcher.py:13: FutureWarning: The default value of regex will change from True to False in a future version.\n",
            "  del sys.path[0]\n",
            "/usr/local/lib/python3.7/dist-packages/ipykernel_launcher.py:13: FutureWarning: The default value of regex will change from True to False in a future version.\n",
            "  del sys.path[0]\n",
            "/usr/local/lib/python3.7/dist-packages/ipykernel_launcher.py:13: FutureWarning: The default value of regex will change from True to False in a future version.\n",
            "  del sys.path[0]\n",
            "/usr/local/lib/python3.7/dist-packages/ipykernel_launcher.py:13: FutureWarning: The default value of regex will change from True to False in a future version.\n",
            "  del sys.path[0]\n"
          ]
        },
        {
          "output_type": "stream",
          "name": "stdout",
          "text": [
            "Aztric 40 Tablet is a medicine used to treat high blood pressure and heart disease.Dizziness, particularly after the first dose, is known to occur in some people.\n",
            "========================================================================================================================\n",
            "Summary of the article -  514\n",
            "Aten-D Tablet is a combination of two medicines used to treat hypertension (high blood pressure).Consult your doctor If any of these bother you, or get worse, or Do not go away.\n",
            "========================================================================================================================\n",
            "Summary of the article -  515\n",
            "Afoglip M  1000 Tablet ER is a combination of two medicines that control high blood sugar levels in people with type 2 diabetes mellitus.All diabetes medicines work best when used along with a healthy diet and regular exercise.\n",
            "========================================================================================================================\n",
            "Summary of the article -  516\n",
            "Alerid Syrup belongs to a group of medicines called antihistamines.Consult your doctor if any of the side effects persist or worry you.\n",
            "========================================================================================================================\n",
            "Summary of the article -  517\n",
            "Acivir IV Injection is an antiviral medicine.Inform your doctor if these side effects persist for a longer duration.\n",
            "========================================================================================================================"
          ]
        },
        {
          "output_type": "stream",
          "name": "stderr",
          "text": [
            "/usr/local/lib/python3.7/dist-packages/ipykernel_launcher.py:13: FutureWarning: The default value of regex will change from True to False in a future version.\n",
            "  del sys.path[0]\n",
            "/usr/local/lib/python3.7/dist-packages/ipykernel_launcher.py:13: FutureWarning: The default value of regex will change from True to False in a future version.\n",
            "  del sys.path[0]\n",
            "/usr/local/lib/python3.7/dist-packages/ipykernel_launcher.py:13: FutureWarning: The default value of regex will change from True to False in a future version.\n",
            "  del sys.path[0]\n",
            "/usr/local/lib/python3.7/dist-packages/ipykernel_launcher.py:13: FutureWarning: The default value of regex will change from True to False in a future version.\n",
            "  del sys.path[0]\n",
            "/usr/local/lib/python3.7/dist-packages/ipykernel_launcher.py:13: FutureWarning: The default value of regex will change from True to False in a future version.\n",
            "  del sys.path[0]\n",
            "/usr/local/lib/python3.7/dist-packages/ipykernel_launcher.py:13: FutureWarning: The default value of regex will change from True to False in a future version.\n",
            "  del sys.path[0]\n"
          ]
        },
        {
          "output_type": "stream",
          "name": "stdout",
          "text": [
            "\n",
            "Summary of the article -  518\n",
            "App UP 2mg/275mg Syrup is a combination medicine used to treat loss of appetite.Avoid drinking alcohol while taking this medicine as it can worsen your sleepiness.Never support self-medication or recommend your medicine to another person.\n",
            "========================================================================================================================\n",
            "Summary of the article -  519\n",
            "Alcoliv Tablet is an antioxidant medicine used to treat alcoholic fatty liver.Drink enough water or fluids to stay hydrated in case of severe diarrhea.Before taking this medicine, you should tell your doctor if you are pregnant, planning pregnancy or breastfeeding.\n",
            "========================================================================================================================\n",
            "Summary of the article -  520\n",
            "Acemyoset Tablet SR is a combination medicine used in the treatment of pain due to muscle spasm.Before taking it, let your doctor know if you have any problems with your heart, kidneys, and liver.\n",
            "========================================================================================================================\n",
            "Summary of the article -  521\n",
            "Summary Not Available\n",
            "Anal fissure\n",
            "========================================================================================================================\n",
            "Summary of the article -  522\n",
            "Always tell your doctor what other health conditions you have and what other medicines you are taking.Angina occurs when the heart muscle is not getting enough blood.\n",
            "========================================================================================================================\n",
            "Summary of the article -  523\n",
            "Atropine 1% Eye Drop is used to treat myopia and inflammation in the eyes (uveitis or iritis).Do not touch the tip of the dropper or bottle.\n",
            "========================================================================================================================\n",
            "Summary of the article -  524\n"
          ]
        },
        {
          "output_type": "stream",
          "name": "stderr",
          "text": [
            "/usr/local/lib/python3.7/dist-packages/ipykernel_launcher.py:13: FutureWarning: The default value of regex will change from True to False in a future version.\n",
            "  del sys.path[0]\n",
            "/usr/local/lib/python3.7/dist-packages/ipykernel_launcher.py:13: FutureWarning: The default value of regex will change from True to False in a future version.\n",
            "  del sys.path[0]\n",
            "/usr/local/lib/python3.7/dist-packages/ipykernel_launcher.py:13: FutureWarning: The default value of regex will change from True to False in a future version.\n",
            "  del sys.path[0]\n",
            "/usr/local/lib/python3.7/dist-packages/ipykernel_launcher.py:13: FutureWarning: The default value of regex will change from True to False in a future version.\n",
            "  del sys.path[0]\n",
            "/usr/local/lib/python3.7/dist-packages/ipykernel_launcher.py:13: FutureWarning: The default value of regex will change from True to False in a future version.\n",
            "  del sys.path[0]\n",
            "/usr/local/lib/python3.7/dist-packages/ipykernel_launcher.py:13: FutureWarning: The default value of regex will change from True to False in a future version.\n",
            "  del sys.path[0]\n",
            "/usr/local/lib/python3.7/dist-packages/ipykernel_launcher.py:13: FutureWarning: The default value of regex will change from True to False in a future version.\n",
            "  del sys.path[0]\n"
          ]
        },
        {
          "output_type": "stream",
          "name": "stdout",
          "text": [
            "Aravon Injection is a prescription medicine used in the treatment of amyotrophic lateral sclerosis (a nervous system disease that weakens the muscles and impairs physical functions).However, these are temporary and usually resolve on their own.\n",
            "========================================================================================================================\n",
            "Summary of the article -  525\n",
            "Anafortan-MF 50mg/250mg Tablet is a combination medicine used in the treatment of abdominal pain.Avoid drinking alcohol while taking this medicine as it can worsen your sleepiness.Before taking this medicine, you should tell your doctor if you are pregnant, planning pregnancy or breastfeeding.\n",
            "========================================================================================================================\n",
            "Summary of the article -  526\n",
            "Azibact 250 Tablet is an antibiotic used to treat various types of bacterial infections of the respiratory tract, ear, nose, throat, lungs, skin, and eye in adults and children.Consult your doctor if you find these side effects worry you or persist for a longer duration.Inform your doctor if you have any previous history of allergy or heart problems before taking this medicine.\n",
            "========================================================================================================================\n",
            "Summary of the article -  527\n",
            "Alkazip Syrup is a medicine used in the treatment of gout and kidney stones.Also tell your doctor if you have any problems with your heart, kidneys, or liver.\n",
            "========================================================================================================================\n",
            "Summary of the article -  528\n",
            "Arbitel-AM Tablet contains two medicines, both of which help to control high blood pressure.By lowering your blood pressure, it is reducing your risk of heart attack or stroke so do not stop taking it unless your doctor tells you to.\n",
            "========================================================================================================================\n",
            "Summary of the article -  529\n",
            "Amlokind 2.5 Tablet belongs to a class of medicines known as a calcium channel blockers.Consult your doctor if any of these side effects bother you or do not go away.Before taking it, let your doctor know if you have any liver, heart or kidney problems.\n",
            "========================================================================================================================\n",
            "Summary of the article -  530\n"
          ]
        },
        {
          "output_type": "stream",
          "name": "stderr",
          "text": [
            "/usr/local/lib/python3.7/dist-packages/ipykernel_launcher.py:13: FutureWarning: The default value of regex will change from True to False in a future version.\n",
            "  del sys.path[0]\n",
            "/usr/local/lib/python3.7/dist-packages/ipykernel_launcher.py:13: FutureWarning: The default value of regex will change from True to False in a future version.\n",
            "  del sys.path[0]\n",
            "/usr/local/lib/python3.7/dist-packages/ipykernel_launcher.py:13: FutureWarning: The default value of regex will change from True to False in a future version.\n",
            "  del sys.path[0]\n",
            "/usr/local/lib/python3.7/dist-packages/ipykernel_launcher.py:13: FutureWarning: The default value of regex will change from True to False in a future version.\n",
            "  del sys.path[0]\n",
            "/usr/local/lib/python3.7/dist-packages/ipykernel_launcher.py:13: FutureWarning: The default value of regex will change from True to False in a future version.\n",
            "  del sys.path[0]\n"
          ]
        },
        {
          "output_type": "stream",
          "name": "stdout",
          "text": [
            "Avastin 100mg Injection is an anticancer medication.Inform your doctor that you are taking this medication before undergoing any surgical procedure, as the drug has ability to lower the ability of wound healing.\n",
            "========================================================================================================================\n",
            "Summary of the article -  531\n",
            "Acidose 500mg Tablet is a prescription medicine used in the treatment of Indigestion.If you stop treatment too early your symptoms may come back and your condition may worsen.\n",
            "========================================================================================================================\n",
            "Summary of the article -  532\n",
            "Ascoril Plus Tablet is used in the treatment of cough with mucus.Avoid drinking alcohol while taking this medicine as it can make sleepiness worse.Never support self-medication or recommend your medicine to another person.\n",
            "========================================================================================================================\n",
            "Summary of the article -  533\n",
            "Airz-F Capsule is a combination of two medicines that makes breathing easier for patients with chronic obstructive pulmonary disease (COPD).Ask your doctor whether it’s safe to take this medicine if you're pregnant or breastfeeding.\n",
            "========================================================================================================================\n",
            "Summary of the article -  534\n",
            "Amlosafe TM 40 Tablet contains two medicines, both of which help to control high blood pressure.By lowering your blood pressure, it is reducing your risk of heart attack or stroke so do not stop taking it unless your doctor tells you to.\n",
            "========================================================================================================================\n",
            "Summary of the article -  535\n"
          ]
        },
        {
          "output_type": "stream",
          "name": "stderr",
          "text": [
            "/usr/local/lib/python3.7/dist-packages/ipykernel_launcher.py:13: FutureWarning: The default value of regex will change from True to False in a future version.\n",
            "  del sys.path[0]\n",
            "/usr/local/lib/python3.7/dist-packages/ipykernel_launcher.py:13: FutureWarning: The default value of regex will change from True to False in a future version.\n",
            "  del sys.path[0]\n",
            "/usr/local/lib/python3.7/dist-packages/ipykernel_launcher.py:13: FutureWarning: The default value of regex will change from True to False in a future version.\n",
            "  del sys.path[0]\n",
            "/usr/local/lib/python3.7/dist-packages/ipykernel_launcher.py:13: FutureWarning: The default value of regex will change from True to False in a future version.\n",
            "  del sys.path[0]\n",
            "/usr/local/lib/python3.7/dist-packages/ipykernel_launcher.py:13: FutureWarning: The default value of regex will change from True to False in a future version.\n",
            "  del sys.path[0]\n"
          ]
        },
        {
          "output_type": "stream",
          "name": "stdout",
          "text": [
            "Amoxilin CV 500mg/125mg Tablet is a penicillin-type of antibiotic that helps your body fight infections caused by bacteria.Do not stop taking it until you have finished, even when you feel better.\n",
            "========================================================================================================================\n",
            "Summary of the article -  536\n",
            "Accentrix Solution for Injection is used for the treatment of eye diseases which are caused by diabetes, macular degeneration, and macular swelling.It is not advised to drive after administration of this injection as it may cause blurring of vision.\n",
            "========================================================================================================================\n",
            "Summary of the article -  537\n",
            "Alaspan Oral Solution belongs to a group of medicines called antihistamines.Avoid drinking alcohol as it can cause excessive drowsiness with this medicine.\n",
            "========================================================================================================================\n",
            "Summary of the article -  538\n",
            "Aprecap 125/80 Capsule is a prescription medicine used in the treatment of nausea or vomiting experienced as a side effect of chemotherapy or anti-cancer treatment.Avoid drinking alcohol while taking this medicine as it can worsen your sleepiness.\n",
            "========================================================================================================================\n",
            "Summary of the article -  539\n",
            "Akilos-P Tablet is a pain relieving medicine.Before taking it, let your doctor know if you have any problems with your heart, kidneys, liver, or have stomach ulcers.\n",
            "========================================================================================================================\n",
            "Summary of the article -  540\n",
            "Ara Eye Drop is a prescription medicine having a combination of medicines that is used to treat allergic diseases of the eye.Do not skip any doses and finish the full course of treatment even if you feel better.\n",
            "========================================================================================================================\n",
            "Summary of the article -  541\n"
          ]
        },
        {
          "output_type": "stream",
          "name": "stderr",
          "text": [
            "/usr/local/lib/python3.7/dist-packages/ipykernel_launcher.py:13: FutureWarning: The default value of regex will change from True to False in a future version.\n",
            "  del sys.path[0]\n",
            "/usr/local/lib/python3.7/dist-packages/ipykernel_launcher.py:13: FutureWarning: The default value of regex will change from True to False in a future version.\n",
            "  del sys.path[0]\n",
            "/usr/local/lib/python3.7/dist-packages/ipykernel_launcher.py:13: FutureWarning: The default value of regex will change from True to False in a future version.\n",
            "  del sys.path[0]\n",
            "/usr/local/lib/python3.7/dist-packages/ipykernel_launcher.py:13: FutureWarning: The default value of regex will change from True to False in a future version.\n",
            "  del sys.path[0]\n",
            "/usr/local/lib/python3.7/dist-packages/ipykernel_launcher.py:13: FutureWarning: The default value of regex will change from True to False in a future version.\n",
            "  del sys.path[0]\n",
            "/usr/local/lib/python3.7/dist-packages/ipykernel_launcher.py:13: FutureWarning: The default value of regex will change from True to False in a future version.\n",
            "  del sys.path[0]\n"
          ]
        },
        {
          "output_type": "stream",
          "name": "stdout",
          "text": [
            "Alphadopa Tablet is a medicine used in the treatment of high blood pressure (hypertension).Also, pregnant women and breastfeeding mothers should consult a doctor before taking it.\n",
            "========================================================================================================================\n",
            "Summary of the article -  542\n",
            "Acolate P Plus Tablet is a combination medicine used to treat common cold symptoms.Also tell your doctor if you are pregnant, planning pregnancy or breastfeeding.\n",
            "========================================================================================================================\n",
            "Summary of the article -  543\n",
            "Alprasafe 0.5mg Tablet belongs to a class of medicines known as benzodiazepines.However, it is advised to take it at the same time each day as this helps to maintain a consistent level of medicine in the body.\n",
            "========================================================================================================================\n",
            "Summary of the article -  544\n",
            "Altonil 3mg Tablet is a prescription medicine used in the treatment of insomnia and jet lag (a sleep disorder due to frequent travel to different time zones).However, if the need arises, please consult your doctor before using it.\n",
            "========================================================================================================================\n",
            "Summary of the article -  545\n",
            "Acenac Tablet is a pain relieving medicine.Acenac Tablet is not recommended if you are pregnant or breastfeeding.\n",
            "========================================================================================================================\n",
            "Summary of the article -  546\n"
          ]
        },
        {
          "output_type": "stream",
          "name": "stderr",
          "text": [
            "/usr/local/lib/python3.7/dist-packages/ipykernel_launcher.py:13: FutureWarning: The default value of regex will change from True to False in a future version.\n",
            "  del sys.path[0]\n",
            "/usr/local/lib/python3.7/dist-packages/ipykernel_launcher.py:13: FutureWarning: The default value of regex will change from True to False in a future version.\n",
            "  del sys.path[0]\n",
            "/usr/local/lib/python3.7/dist-packages/ipykernel_launcher.py:13: FutureWarning: The default value of regex will change from True to False in a future version.\n",
            "  del sys.path[0]\n",
            "/usr/local/lib/python3.7/dist-packages/ipykernel_launcher.py:13: FutureWarning: The default value of regex will change from True to False in a future version.\n",
            "  del sys.path[0]\n",
            "/usr/local/lib/python3.7/dist-packages/ipykernel_launcher.py:13: FutureWarning: The default value of regex will change from True to False in a future version.\n",
            "  del sys.path[0]\n"
          ]
        },
        {
          "output_type": "stream",
          "name": "stdout",
          "text": [
            "Azulix 2 Tablet is a medicine used to treat type 2 diabetes mellitus in adults.Before taking this medicine, tell your doctor if you have ever had heart disease, thyroid disease, or some hormonal conditions, as it may not be suitable.\n",
            "========================================================================================================================\n",
            "Summary of the article -  547\n",
            "Azulix 3 MF Tablet PR belongs to a category of medicines known as anti-diabetic drugs.Before taking this medicine, tell your doctor if you have ever had heart disease.\n",
            "========================================================================================================================\n",
            "Summary of the article -  548\n",
            "Aztolet  20 Tablet is a combination of two medicines used to prevent heart attack and stroke.Do not stop taking it until you have finished the complete course, even when you feel better.\n",
            "========================================================================================================================\n",
            "Summary of the article -  549\n",
            "Amlovas H  Tablet is a combination medicine used in the treatment of hypertension (high blood pressure).Inform doctor if you develop extreme thirst and muscle weakness.\n",
            "========================================================================================================================\n",
            "Summary of the article -  550\n"
          ]
        },
        {
          "output_type": "stream",
          "name": "stderr",
          "text": [
            "/usr/local/lib/python3.7/dist-packages/ipykernel_launcher.py:13: FutureWarning: The default value of regex will change from True to False in a future version.\n",
            "  del sys.path[0]\n",
            "/usr/local/lib/python3.7/dist-packages/ipykernel_launcher.py:13: FutureWarning: The default value of regex will change from True to False in a future version.\n",
            "  del sys.path[0]\n",
            "/usr/local/lib/python3.7/dist-packages/ipykernel_launcher.py:13: FutureWarning: The default value of regex will change from True to False in a future version.\n",
            "  del sys.path[0]\n",
            "/usr/local/lib/python3.7/dist-packages/ipykernel_launcher.py:13: FutureWarning: The default value of regex will change from True to False in a future version.\n",
            "  del sys.path[0]\n",
            "/usr/local/lib/python3.7/dist-packages/ipykernel_launcher.py:13: FutureWarning: The default value of regex will change from True to False in a future version.\n",
            "  del sys.path[0]\n"
          ]
        },
        {
          "output_type": "stream",
          "name": "stdout",
          "text": [
            "Arip MT 15 Tablet is an antipsychotic medicine.Before taking the medicine you should tell your doctor if you are pregnant, planning to become pregnant, or breastfeeding.\n",
            "========================================================================================================================\n",
            "Summary of the article -  551\n",
            "A dose of this medicine must not be missed as it can affect your recovery.As it can also make you feel dizzy or drowsy, it is advised to avoid driving.\n",
            "========================================================================================================================\n",
            "Summary of the article -  552\n",
            "Also, tell your doctor if you are taking any other medicines which may affect the way this medicine works.Aplevant 0.75mg Pre-filled Pen is an injectable medicine used to lower blood glucose levels in adults with type 2 diabetes.\n",
            "========================================================================================================================\n",
            "Summary of the article -  553\n",
            "Azibact LR Readymix 200 is an antibiotic used to treat various types of bacterial infections of the respiratory tract, ear, nose, throat, lungs, skin, and eye in adults and children.Consult your doctor if you find these side effects worry you or persist for a longer duration.Inform your doctor if you have any previous history of allergy or heart problems before taking this medicine.\n",
            "========================================================================================================================\n",
            "Summary of the article -  554\n",
            "Azibest 500mg Tablet is an antibiotic used to treat various types of bacterial infections of the respiratory tract, ear, nose, throat, lungs, skin, and eye in adults and children.Consult your doctor if you find these side effects worry you or persist for a longer duration.Inform your doctor if you have any previous history of allergy or heart problems before taking this medicine.\n",
            "========================================================================================================================\n",
            "Summary of the article -  555\n",
            "Ampoxin-CV 500mg/125mg Tablet is a penicillin-type of antibiotic that helps your body fight infections caused by bacteria.Do not stop taking it until you have finished, even when you feel better.\n",
            "========================================================================================================================\n",
            "Summary of the article -  556\n"
          ]
        },
        {
          "output_type": "stream",
          "name": "stderr",
          "text": [
            "/usr/local/lib/python3.7/dist-packages/ipykernel_launcher.py:13: FutureWarning: The default value of regex will change from True to False in a future version.\n",
            "  del sys.path[0]\n",
            "/usr/local/lib/python3.7/dist-packages/ipykernel_launcher.py:13: FutureWarning: The default value of regex will change from True to False in a future version.\n",
            "  del sys.path[0]\n",
            "/usr/local/lib/python3.7/dist-packages/ipykernel_launcher.py:13: FutureWarning: The default value of regex will change from True to False in a future version.\n",
            "  del sys.path[0]\n",
            "/usr/local/lib/python3.7/dist-packages/ipykernel_launcher.py:13: FutureWarning: The default value of regex will change from True to False in a future version.\n",
            "  del sys.path[0]\n",
            "/usr/local/lib/python3.7/dist-packages/ipykernel_launcher.py:13: FutureWarning: The default value of regex will change from True to False in a future version.\n",
            "  del sys.path[0]\n",
            "/usr/local/lib/python3.7/dist-packages/ipykernel_launcher.py:13: FutureWarning: The default value of regex will change from True to False in a future version.\n",
            "  del sys.path[0]\n"
          ]
        },
        {
          "output_type": "stream",
          "name": "stdout",
          "text": [
            "Amlozaar Tablet contains two medicines, both of which help to control high blood pressure.By lowering your blood pressure, it is reducing your risk of heart attack or stroke so do not stop taking it unless your doctor tells you to.\n",
            "========================================================================================================================\n",
            "Summary of the article -  557\n",
            "Arbitel-MT 25 Tablet ER is a medicine used for treating high blood pressure.By lowering the blood pressure, it helps in preventing future heart attack and stroke.\n",
            "========================================================================================================================\n",
            "Summary of the article -  558\n",
            "Antiflu 12mg/ml Syrup is an antiviral medicine used to treat and prevent influenza (flu) as well as, swine flu (H1N1 virus).Avoid drinking alcohol as it may increase your risk of liver damage.\n",
            "========================================================================================================================\n",
            "Summary of the article -  559\n",
            "Ascodex Cough Syrup is a combination medicine used to treat cough.Avoid drinking alcohol while taking this medicine as it can make sleepiness worse.Never support self-medication or recommend your medicine to another person.\n",
            "========================================================================================================================\n",
            "Summary of the article -  560\n",
            "Alkaliser Syrup is a medicine used in the treatment of gout and kidney stones.Also tell your doctor if you have any problems with your heart, kidneys, or liver.\n",
            "========================================================================================================================\n",
            "Summary of the article -  561\n"
          ]
        },
        {
          "output_type": "stream",
          "name": "stderr",
          "text": [
            "/usr/local/lib/python3.7/dist-packages/ipykernel_launcher.py:13: FutureWarning: The default value of regex will change from True to False in a future version.\n",
            "  del sys.path[0]\n",
            "/usr/local/lib/python3.7/dist-packages/ipykernel_launcher.py:13: FutureWarning: The default value of regex will change from True to False in a future version.\n",
            "  del sys.path[0]\n",
            "/usr/local/lib/python3.7/dist-packages/ipykernel_launcher.py:13: FutureWarning: The default value of regex will change from True to False in a future version.\n",
            "  del sys.path[0]\n",
            "/usr/local/lib/python3.7/dist-packages/ipykernel_launcher.py:13: FutureWarning: The default value of regex will change from True to False in a future version.\n",
            "  del sys.path[0]\n",
            "/usr/local/lib/python3.7/dist-packages/ipykernel_launcher.py:13: FutureWarning: The default value of regex will change from True to False in a future version.\n",
            "  del sys.path[0]\n",
            "/usr/local/lib/python3.7/dist-packages/ipykernel_launcher.py:13: FutureWarning: The default value of regex will change from True to False in a future version.\n",
            "  del sys.path[0]\n"
          ]
        },
        {
          "output_type": "stream",
          "name": "stdout",
          "text": [
            "Also, pregnant women and breastfeeding mothers should not take this medicine as it may harm the developing baby.Atchol 20 Tablet belongs to a group of medicines called statins.\n",
            "========================================================================================================================\n",
            "Summary of the article -  562\n",
            "Apdrops KT 0.4 Eye Drops is a combination of two medicines.Apply it only on the affected eye.\n",
            "========================================================================================================================\n",
            "Summary of the article -  563\n",
            "Ambrican 5 Tablet is a prescription medicine used to treat pulmonary arterial hypertension (high pressure in the blood vessels that carry blood from the heart to the lungs).Dizziness may occur as its side effect, so do not drive or do anything that requires mental focus.\n",
            "========================================================================================================================\n",
            "Summary of the article -  564\n",
            "Avoid contact with eyes.Azac Soap is a topical medication used in the treatment of acne (pimples).\n",
            "========================================================================================================================\n",
            "Summary of the article -  565\n",
            "Amaryl 3mg Tablet is a medicine used to treat type 2 diabetes mellitus in adults.Before taking this medicine, tell your doctor if you have ever had heart disease, thyroid disease, or some hormonal conditions, as it may not be suitable.\n",
            "========================================================================================================================\n",
            "Summary of the article -  566\n",
            "Allercet-M Tablet is a combination medicine used in the treatment of allergic symptoms such as runny nose, stuffy nose, sneezing, itching, swelling, watery eyes and congestion or stuffiness.Avoid drinking alcohol while taking this medicine as it can worsen your sleepiness.Never support self-medication or recommend your medicine to another person.\n",
            "========================================================================================================================\n",
            "Summary of the article -  567\n"
          ]
        },
        {
          "output_type": "stream",
          "name": "stderr",
          "text": [
            "/usr/local/lib/python3.7/dist-packages/ipykernel_launcher.py:13: FutureWarning: The default value of regex will change from True to False in a future version.\n",
            "  del sys.path[0]\n",
            "/usr/local/lib/python3.7/dist-packages/ipykernel_launcher.py:13: FutureWarning: The default value of regex will change from True to False in a future version.\n",
            "  del sys.path[0]\n",
            "/usr/local/lib/python3.7/dist-packages/ipykernel_launcher.py:13: FutureWarning: The default value of regex will change from True to False in a future version.\n",
            "  del sys.path[0]\n",
            "/usr/local/lib/python3.7/dist-packages/ipykernel_launcher.py:13: FutureWarning: The default value of regex will change from True to False in a future version.\n",
            "  del sys.path[0]\n",
            "/usr/local/lib/python3.7/dist-packages/ipykernel_launcher.py:13: FutureWarning: The default value of regex will change from True to False in a future version.\n",
            "  del sys.path[0]\n",
            "/usr/local/lib/python3.7/dist-packages/ipykernel_launcher.py:13: FutureWarning: The default value of regex will change from True to False in a future version.\n",
            "  del sys.path[0]\n"
          ]
        },
        {
          "output_type": "stream",
          "name": "stdout",
          "text": [
            "Azibact 200 Readymix Oral Suspension is an antibiotic used to treat various types of bacterial infections of the respiratory tract, ear, nose, throat, lungs, skin, and eye in adults and children.Consult your doctor if you find these side effects worry you or persist for a longer duration.Inform your doctor if you have any previous history of allergy or heart problems before taking this medicine.\n",
            "========================================================================================================================\n",
            "Summary of the article -  568\n",
            "Aziwok 200 Liquid Mango is an antibiotic used to treat various types of bacterial infections of the respiratory tract, ear, nose, throat, lungs, skin, and eye in adults and children.Consult your doctor if you find these side effects worry you or persist for a longer duration.Inform your doctor if you have any previous history of allergy or heart problems before taking this medicine.\n",
            "========================================================================================================================\n",
            "Summary of the article -  569\n",
            "Advent 457mg Tablet DT is a penicillin-type of antibiotic that helps your body fight infections caused by bacteria.Do not stop taking it until you have finished, even when you feel better.\n",
            "========================================================================================================================\n",
            "Summary of the article -  570\n",
            "Asthakind LS Expectorant Cola Sugar Free is a combination medicine used in the treatment of cough with mucus.Avoid drinking alcohol while taking this medicine as it can make sleepiness worse.Never support self-medication or recommend your medicine to another person.\n",
            "========================================================================================================================\n",
            "Summary of the article -  571\n",
            "Amitone Plus Tablet is a combination of two medicines.However, it is advised to take it at a fixed time each day to maintain a consistent level of medicine in the blood.\n",
            "========================================================================================================================\n",
            "Summary of the article -  572\n"
          ]
        },
        {
          "output_type": "stream",
          "name": "stderr",
          "text": [
            "/usr/local/lib/python3.7/dist-packages/ipykernel_launcher.py:13: FutureWarning: The default value of regex will change from True to False in a future version.\n",
            "  del sys.path[0]\n",
            "/usr/local/lib/python3.7/dist-packages/ipykernel_launcher.py:13: FutureWarning: The default value of regex will change from True to False in a future version.\n",
            "  del sys.path[0]\n",
            "/usr/local/lib/python3.7/dist-packages/ipykernel_launcher.py:13: FutureWarning: The default value of regex will change from True to False in a future version.\n",
            "  del sys.path[0]\n",
            "/usr/local/lib/python3.7/dist-packages/ipykernel_launcher.py:13: FutureWarning: The default value of regex will change from True to False in a future version.\n",
            "  del sys.path[0]\n"
          ]
        },
        {
          "output_type": "stream",
          "name": "stdout",
          "text": [
            "Also, pregnant women and breastfeeding mothers should not take this medicine as it may harm the developing baby.Atorlip 20 Tablet belongs to a group of medicines called statins.\n",
            "========================================================================================================================\n",
            "Summary of the article -  573\n",
            "Alorti Tablet belongs to a group of medicines called antihistamines.Avoid drinking alcohol as it can cause excessive drowsiness with this medicine.\n",
            "========================================================================================================================\n",
            "Summary of the article -  574\n",
            "Alaspan AG Syrup is a combination medicine used in the treatment of cough with mucus.Avoid drinking alcohol while taking this medicine as it can make dizziness worse.Never support self-medication or recommend your medicine to another person.\n",
            "========================================================================================================================\n",
            "Summary of the article -  575\n",
            "Amoxyclav 375 Tablet is a penicillin-type of antibiotic that helps your body fight infections caused by bacteria.Do not stop taking it until you have finished, even when you feel better.\n",
            "========================================================================================================================\n",
            "Summary of the article -  576\n"
          ]
        },
        {
          "output_type": "stream",
          "name": "stderr",
          "text": [
            "/usr/local/lib/python3.7/dist-packages/ipykernel_launcher.py:13: FutureWarning: The default value of regex will change from True to False in a future version.\n",
            "  del sys.path[0]\n",
            "/usr/local/lib/python3.7/dist-packages/ipykernel_launcher.py:13: FutureWarning: The default value of regex will change from True to False in a future version.\n",
            "  del sys.path[0]\n",
            "/usr/local/lib/python3.7/dist-packages/ipykernel_launcher.py:13: FutureWarning: The default value of regex will change from True to False in a future version.\n",
            "  del sys.path[0]\n"
          ]
        },
        {
          "output_type": "stream",
          "name": "stdout",
          "text": [
            "Also, remember to take this medicine as advised by the doctor as an overdose of this medication may lead to a serious health emergency.Antidep 25mg Tablet is known as a tricyclic antidepressant.\n",
            "========================================================================================================================\n",
            "Summary of the article -  577\n",
            "Aclopar 100mg/500mg Tablet is a pain relieving medicine.Before taking it, let your doctor know if you have any problems with your heart, kidneys, liver, or have stomach ulcers.\n",
            "========================================================================================================================\n",
            "Summary of the article -  578\n",
            "Aricep 10 Tablet is used to treat mild to moderate dementia in Alzheimer’s disease, a progressive illness which gradually affects memory and thinking.Drink plenty of fluids to keep yourself hydrated.\n",
            "========================================================================================================================\n",
            "Summary of the article -  579\n",
            "Aquaviron Injection 1ml is a medicine used in the treatment of male hypogonadism caused due to low testosterone levels.If these bother you or appear serious, let your doctor know.\n",
            "========================================================================================================================\n",
            "Summary of the article -  580\n",
            "Apxenta Tablet can be taken with or without food.Apxenta Tablet is used in the treatment of moderate to severe plaque psoriasis which is a type of skin condition.\n",
            "========================================================================================================================\n",
            "Summary of the article -  581\n"
          ]
        },
        {
          "output_type": "stream",
          "name": "stderr",
          "text": [
            "/usr/local/lib/python3.7/dist-packages/ipykernel_launcher.py:13: FutureWarning: The default value of regex will change from True to False in a future version.\n",
            "  del sys.path[0]\n",
            "/usr/local/lib/python3.7/dist-packages/ipykernel_launcher.py:13: FutureWarning: The default value of regex will change from True to False in a future version.\n",
            "  del sys.path[0]\n",
            "/usr/local/lib/python3.7/dist-packages/ipykernel_launcher.py:13: FutureWarning: The default value of regex will change from True to False in a future version.\n",
            "  del sys.path[0]\n",
            "/usr/local/lib/python3.7/dist-packages/ipykernel_launcher.py:13: FutureWarning: The default value of regex will change from True to False in a future version.\n",
            "  del sys.path[0]\n"
          ]
        },
        {
          "output_type": "stream",
          "name": "stdout",
          "text": [
            "ACIFIX 20MG TABLET is a medicine that reduces the amount of acid produced in your stomach.Avoid drinking alcohol as it makes your stomach produce excessive acid and can worsen your symptoms.\n",
            "========================================================================================================================\n",
            "Summary of the article -  582\n",
            "Aim7 60 XR Tablet belongs to a category of medicines known as anti-diabetic drugs.Before taking this medicine, tell your doctor if you have ever had heart disease.\n",
            "========================================================================================================================\n",
            "Summary of the article -  583\n",
            "Actibile 150 Tablet is a medicine used to dissolve certain types of gallstones, to prevent them from forming and to treat a type of liver disease called primary biliary cirrhosis.During the treatment, you may need ultrasound scans, or frequent blood tests to check your liver function.\n",
            "========================================================================================================================\n",
            "Summary of the article -  584\n"
          ]
        },
        {
          "output_type": "stream",
          "name": "stderr",
          "text": [
            "/usr/local/lib/python3.7/dist-packages/ipykernel_launcher.py:13: FutureWarning: The default value of regex will change from True to False in a future version.\n",
            "  del sys.path[0]\n",
            "/usr/local/lib/python3.7/dist-packages/ipykernel_launcher.py:13: FutureWarning: The default value of regex will change from True to False in a future version.\n",
            "  del sys.path[0]\n",
            "/usr/local/lib/python3.7/dist-packages/ipykernel_launcher.py:13: FutureWarning: The default value of regex will change from True to False in a future version.\n",
            "  del sys.path[0]\n"
          ]
        },
        {
          "output_type": "stream",
          "name": "stdout",
          "text": [
            "Aerocort Forte Rotacap is used in the treatment of asthma (wheezing and shortness of breath).Before taking it, you should tell your doctor if you have any kidney or liver diseases so that your doctor can prescribe a suitable dose for you.\n",
            "========================================================================================================================\n",
            "Summary of the article -  585\n",
            "), you must consult your doctor immediately.Before taking this medicine, you should tell your doctor if you have any problems with your liver or kidneys.Also, tell your doctor if you are on any medication for any health condition.\n",
            "========================================================================================================================\n",
            "Summary of the article -  586\n",
            "Asar-CT 40/12.5 Tablet is a combination medicine used in the treatment of hypertension (high blood pressure).It also removes extra water and certain electrolytes from the body.Asar-CT 40/12.5 Tablet can be taken with or without food, but take it at the same time to get the most benefit.\n",
            "========================================================================================================================\n",
            "Summary of the article -  587\n",
            "Adenosine 3mg Injection is an anti-arrhythmic medicine used to treat life-threatening arrhythmia (abnormal heart rhythm).Also, let your doctor know if you are pregnant or breastfeeding and about all the other medications that you are taking regularly.\n",
            "========================================================================================================================\n",
            "Summary of the article -  588\n"
          ]
        },
        {
          "output_type": "stream",
          "name": "stderr",
          "text": [
            "/usr/local/lib/python3.7/dist-packages/ipykernel_launcher.py:13: FutureWarning: The default value of regex will change from True to False in a future version.\n",
            "  del sys.path[0]\n",
            "/usr/local/lib/python3.7/dist-packages/ipykernel_launcher.py:13: FutureWarning: The default value of regex will change from True to False in a future version.\n",
            "  del sys.path[0]\n",
            "/usr/local/lib/python3.7/dist-packages/ipykernel_launcher.py:13: FutureWarning: The default value of regex will change from True to False in a future version.\n",
            "  del sys.path[0]\n",
            "/usr/local/lib/python3.7/dist-packages/ipykernel_launcher.py:13: FutureWarning: The default value of regex will change from True to False in a future version.\n",
            "  del sys.path[0]\n",
            "/usr/local/lib/python3.7/dist-packages/ipykernel_launcher.py:13: FutureWarning: The default value of regex will change from True to False in a future version.\n",
            "  del sys.path[0]\n"
          ]
        },
        {
          "output_type": "stream",
          "name": "stdout",
          "text": [
            "), you must seek immediate medical help.Before taking this medicine, you should tell your doctor if you are taking any medicines for any health condition.Ampilox 500 mg/500 mg Injection is a combination medicine that is used to treat various types of bacterial infections.\n",
            "========================================================================================================================\n",
            "Summary of the article -  589\n",
            "Anafortan N 100 mg/50 mg Tablet is a medicine used in the treatment of abdominal cramps.Do not take more or use it for a longer duration than recommended by the doctor.The most common side effects of this medicine include nausea, vomiting, constipation, dryness in mouth, increased liver enzymes, blurred vision, and increased heart rate.\n",
            "========================================================================================================================\n",
            "Summary of the article -  590\n",
            "Amlip AT Tablet is used to treat hypertension (high blood pressure).Even if you feel well, do not stop this medicine on your own because high blood pressure often has no symptoms.\n",
            "========================================================================================================================\n",
            "Summary of the article -  591\n",
            "Always wash your hands and do not touch the end of the dropper.Ara Eye Gel is an eye lubricant or artificial tears used to relieve dry eyes.\n",
            "========================================================================================================================\n",
            "Summary of the article -  592\n",
            "Anticold  Tablet is a combination medicine used in the treatment of common cold symptoms.Avoid drinking alcohol while taking this medicine as it can worsen your sleepiness.Never support self-medication or recommend your medicine to another person.\n",
            "========================================================================================================================\n",
            "Summary of the article -  593\n",
            "Arkamin H Tablet is a medicine used to treat hypertension (high blood pressure).It is a combination of two medicines that effectively controls blood pressure when a single medication is not effective.Arkamin H Tablet can be taken with or without food, but take it at the same time to get the most benefit.\n",
            "========================================================================================================================\n",
            "Summary of the article -  594\n"
          ]
        },
        {
          "output_type": "stream",
          "name": "stderr",
          "text": [
            "/usr/local/lib/python3.7/dist-packages/ipykernel_launcher.py:13: FutureWarning: The default value of regex will change from True to False in a future version.\n",
            "  del sys.path[0]\n",
            "/usr/local/lib/python3.7/dist-packages/ipykernel_launcher.py:13: FutureWarning: The default value of regex will change from True to False in a future version.\n",
            "  del sys.path[0]\n",
            "/usr/local/lib/python3.7/dist-packages/ipykernel_launcher.py:13: FutureWarning: The default value of regex will change from True to False in a future version.\n",
            "  del sys.path[0]\n",
            "/usr/local/lib/python3.7/dist-packages/ipykernel_launcher.py:13: FutureWarning: The default value of regex will change from True to False in a future version.\n",
            "  del sys.path[0]\n",
            "/usr/local/lib/python3.7/dist-packages/ipykernel_launcher.py:13: FutureWarning: The default value of regex will change from True to False in a future version.\n",
            "  del sys.path[0]\n",
            "/usr/local/lib/python3.7/dist-packages/ipykernel_launcher.py:13: FutureWarning: The default value of regex will change from True to False in a future version.\n",
            "  del sys.path[0]\n"
          ]
        },
        {
          "output_type": "stream",
          "name": "stdout",
          "text": [
            "Anaflam Xps  Tablet is a combination medicine used to relieve pain and swelling in various conditions like muscle pain, joint pain and postoperative pain.Anaflam Xps  Tablet is not recommended if you are pregnant or breastfeeding.\n",
            "========================================================================================================================\n",
            "Summary of the article -  595\n",
            "Azee 500 Injection is an antibiotic used to treat various types of bacterial infections.Consult your doctor if you find these side effects worry you or persist for a longer duration.Inform your doctor if you have any previous history of allergy or heart problems before taking this medicine.\n",
            "========================================================================================================================\n",
            "Summary of the article -  596\n",
            "Arpizol 2mg Tablet is an antipsychotic medicine.Before taking the medicine you should tell your doctor if you are pregnant, planning to become pregnant, or breastfeeding.\n",
            "========================================================================================================================\n",
            "Summary of the article -  597\n"
          ]
        },
        {
          "output_type": "stream",
          "name": "stderr",
          "text": [
            "/usr/local/lib/python3.7/dist-packages/ipykernel_launcher.py:13: FutureWarning: The default value of regex will change from True to False in a future version.\n",
            "  del sys.path[0]\n",
            "/usr/local/lib/python3.7/dist-packages/ipykernel_launcher.py:13: FutureWarning: The default value of regex will change from True to False in a future version.\n",
            "  del sys.path[0]\n",
            "/usr/local/lib/python3.7/dist-packages/ipykernel_launcher.py:13: FutureWarning: The default value of regex will change from True to False in a future version.\n",
            "  del sys.path[0]\n",
            "/usr/local/lib/python3.7/dist-packages/ipykernel_launcher.py:13: FutureWarning: The default value of regex will change from True to False in a future version.\n",
            "  del sys.path[0]\n"
          ]
        },
        {
          "output_type": "stream",
          "name": "stdout",
          "text": [
            "Abirapro 250mg Tablet is used in the treatment of cancer of the prostate gland.If these bother you or appear serious, let your doctor know.\n",
            "========================================================================================================================\n",
            "Summary of the article -  598\n",
            "Amlozaar-H Tablet is a combination of medicines used to treat hypertension (high blood pressure) when a single medication is not effective.Consult your doctor If any of these bother you, or get worse, or won't go away.\n",
            "========================================================================================================================\n",
            "Summary of the article -  599\n",
            "Avoid drinking alcohol while taking this medicine as it can make sleepiness worse.Never support self-medication or recommend your medicine to another person.Axalin  Expectorant is a combination medicine used to treat cough.\n",
            "========================================================================================================================\n",
            "Summary of the article -  600\n",
            "Azimax 250 Tablet is an antibiotic used to treat various types of bacterial infections of the respiratory tract, ear, nose, throat, lungs, skin, and eye in adults and children.Consult your doctor if you find these side effects worry you or persist for a longer duration.Inform your doctor if you have any previous history of allergy or heart problems before taking this medicine.\n",
            "========================================================================================================================\n",
            "Summary of the article -  601\n",
            "Alex+ Syrup Sugar Free is used to treat cough.Avoid drinking alcohol while taking this medicine as it can make sleepiness worse.Never support self-medication or recommend your medicine to another person.\n",
            "========================================================================================================================\n",
            "Summary of the article -  602\n"
          ]
        },
        {
          "output_type": "stream",
          "name": "stderr",
          "text": [
            "/usr/local/lib/python3.7/dist-packages/ipykernel_launcher.py:13: FutureWarning: The default value of regex will change from True to False in a future version.\n",
            "  del sys.path[0]\n",
            "/usr/local/lib/python3.7/dist-packages/ipykernel_launcher.py:13: FutureWarning: The default value of regex will change from True to False in a future version.\n",
            "  del sys.path[0]\n",
            "/usr/local/lib/python3.7/dist-packages/ipykernel_launcher.py:13: FutureWarning: The default value of regex will change from True to False in a future version.\n",
            "  del sys.path[0]\n",
            "/usr/local/lib/python3.7/dist-packages/ipykernel_launcher.py:13: FutureWarning: The default value of regex will change from True to False in a future version.\n",
            "  del sys.path[0]\n"
          ]
        },
        {
          "output_type": "stream",
          "name": "stdout",
          "text": [
            "Also, pregnant women and breastfeeding mothers should not take this medicine as it may harm the developing baby.Atorfit 10 Tablet belongs to a group of medicines called statins.\n",
            "========================================================================================================================\n",
            "Summary of the article -  603\n",
            "Also tell your doctor if you have any problems with your heart, kidneys, or liver.Alto's Citrasol Liquid is a medicine used in the treatment of gout and kidney stones.\n",
            "========================================================================================================================\n",
            "Summary of the article -  604\n",
            ").Before using this medicine, it is important to tell your doctor if you are taking or have recently taken any other medicines for the same disease or other diseases.A thin layer of the medicine should be applied only to the affected areas of the skin with clean and dry hands.\n",
            "========================================================================================================================\n",
            "Summary of the article -  605\n"
          ]
        },
        {
          "output_type": "stream",
          "name": "stderr",
          "text": [
            "/usr/local/lib/python3.7/dist-packages/ipykernel_launcher.py:13: FutureWarning: The default value of regex will change from True to False in a future version.\n",
            "  del sys.path[0]\n",
            "/usr/local/lib/python3.7/dist-packages/ipykernel_launcher.py:13: FutureWarning: The default value of regex will change from True to False in a future version.\n",
            "  del sys.path[0]\n",
            "/usr/local/lib/python3.7/dist-packages/ipykernel_launcher.py:13: FutureWarning: The default value of regex will change from True to False in a future version.\n",
            "  del sys.path[0]\n",
            "/usr/local/lib/python3.7/dist-packages/ipykernel_launcher.py:13: FutureWarning: The default value of regex will change from True to False in a future version.\n",
            "  del sys.path[0]\n",
            "/usr/local/lib/python3.7/dist-packages/ipykernel_launcher.py:13: FutureWarning: The default value of regex will change from True to False in a future version.\n",
            "  del sys.path[0]\n"
          ]
        },
        {
          "output_type": "stream",
          "name": "stdout",
          "text": [
            "Arbitel-H Tablet contains two medicines, both of which help to control high blood pressure.Drinking alcohol can further lower your blood pressure and may cause side effects.\n",
            "========================================================================================================================\n",
            "Summary of the article -  606\n",
            "Acotrust  Tablet is used in the treatment of indigestion.Before taking this medicine, you should let your doctor know if you have liver and kidney problems.\n",
            "========================================================================================================================\n",
            "Summary of the article -  607\n",
            "Amcard-AT Tablet is used to treat hypertension (high blood pressure).Even if you feel well, do not stop this medicine on your own because high blood pressure often has no symptoms.\n",
            "========================================================================================================================\n",
            "Summary of the article -  608\n",
            "Anaflam XP 100mg/325mg Tablet is a pain relieving medicine.Before taking it, let your doctor know if you have any problems with your heart, kidneys, liver, or have stomach ulcers.\n",
            "========================================================================================================================\n",
            "Summary of the article -  609\n",
            "Agna 25000 Capsule DR is used to treat pancreatic enzyme deficiency.Agna 25000 Capsule DR may only be a part of your treatment which could include a special diet.The most common side effects of this medicine include stomach pain, abdominal bloating, and diarrhea.\n",
            "========================================================================================================================\n",
            "Summary of the article -  610\n"
          ]
        },
        {
          "output_type": "stream",
          "name": "stderr",
          "text": [
            "/usr/local/lib/python3.7/dist-packages/ipykernel_launcher.py:13: FutureWarning: The default value of regex will change from True to False in a future version.\n",
            "  del sys.path[0]\n",
            "/usr/local/lib/python3.7/dist-packages/ipykernel_launcher.py:13: FutureWarning: The default value of regex will change from True to False in a future version.\n",
            "  del sys.path[0]\n",
            "/usr/local/lib/python3.7/dist-packages/ipykernel_launcher.py:13: FutureWarning: The default value of regex will change from True to False in a future version.\n",
            "  del sys.path[0]\n",
            "/usr/local/lib/python3.7/dist-packages/ipykernel_launcher.py:13: FutureWarning: The default value of regex will change from True to False in a future version.\n",
            "  del sys.path[0]\n",
            "/usr/local/lib/python3.7/dist-packages/ipykernel_launcher.py:13: FutureWarning: The default value of regex will change from True to False in a future version.\n",
            "  del sys.path[0]\n"
          ]
        },
        {
          "output_type": "stream",
          "name": "stdout",
          "text": [
            "Amitryn 25 Tablet is used in the treatment of depression.Different doses of this medicine help in treating and preventing different problems such as chronic nerve-related (neuropathic) pain, migraine, tension-type headache and nighttime bedwetting (nocturnal enuresis) by older children (6 years and above).Amitryn 25 Tablet is known as a tricyclic antidepressant.\n",
            "========================================================================================================================\n",
            "Summary of the article -  611\n",
            "Amlovas 2.5 Tablet belongs to a class of medicines known as a calcium channel blockers.Consult your doctor if any of these side effects bother you or do not go away.Before taking it, let your doctor know if you have any liver, heart or kidney problems.\n",
            "========================================================================================================================\n",
            "Summary of the article -  612\n",
            "Actnew Tablet is used in the treatment of indigestion.Before taking this medicine, you should let your doctor know if you have liver and kidney problems.\n",
            "========================================================================================================================\n",
            "Summary of the article -  613\n",
            "Also, pregnant women and breastfeeding mothers should not take this medicine as it may harm the developing baby.Atorsave 10 Tablet belongs to a group of medicines called statins.\n",
            "========================================================================================================================\n",
            "Summary of the article -  614\n",
            "Asomex-TM Tablet is a combination medicine used in the treatment of hypertension (high blood pressure).Even if you feel well, do not stop this medicine on your own because high blood pressure often has no symptoms.\n",
            "========================================================================================================================\n",
            "Summary of the article -  615\n"
          ]
        },
        {
          "output_type": "stream",
          "name": "stderr",
          "text": [
            "/usr/local/lib/python3.7/dist-packages/ipykernel_launcher.py:13: FutureWarning: The default value of regex will change from True to False in a future version.\n",
            "  del sys.path[0]\n",
            "/usr/local/lib/python3.7/dist-packages/ipykernel_launcher.py:13: FutureWarning: The default value of regex will change from True to False in a future version.\n",
            "  del sys.path[0]\n"
          ]
        },
        {
          "output_type": "stream",
          "name": "stdout",
          "text": [
            "Amiject 500mg Injection is an antibiotic used to prevent or treat a wide variety of bacterial infections.Consult your doctor if any of these side effects persist or if your condition does not improve despite treatment.Some patients receiving high doses may develop balance disorder (loss of balance), kidney damage and hearing loss.\n",
            "========================================================================================================================\n",
            "Summary of the article -  616\n",
            "), you must seek immediate medical help.Before taking this medicine, you should tell your doctor if you are taking any medicine for any health condition.Act Nvp Tablet is a combination medicine used to treat nausea and vomiting during pregnancy.\n",
            "========================================================================================================================\n",
            "Summary of the article -  617\n",
            "Ambrodil-XP Syrup is used to treat and prevent symptoms of asthma and chronic obstructive pulmonary disorder (a lung disorder in which flow of air to the lung is blocked).But take it at the same time every day to get the most benefit.\n",
            "========================================================================================================================\n",
            "Summary of the article -  618\n"
          ]
        },
        {
          "output_type": "stream",
          "name": "stderr",
          "text": [
            "/usr/local/lib/python3.7/dist-packages/ipykernel_launcher.py:13: FutureWarning: The default value of regex will change from True to False in a future version.\n",
            "  del sys.path[0]\n",
            "/usr/local/lib/python3.7/dist-packages/ipykernel_launcher.py:13: FutureWarning: The default value of regex will change from True to False in a future version.\n",
            "  del sys.path[0]\n",
            "/usr/local/lib/python3.7/dist-packages/ipykernel_launcher.py:13: FutureWarning: The default value of regex will change from True to False in a future version.\n",
            "  del sys.path[0]\n",
            "/usr/local/lib/python3.7/dist-packages/ipykernel_launcher.py:13: FutureWarning: The default value of regex will change from True to False in a future version.\n",
            "  del sys.path[0]\n",
            "/usr/local/lib/python3.7/dist-packages/ipykernel_launcher.py:13: FutureWarning: The default value of regex will change from True to False in a future version.\n",
            "  del sys.path[0]\n"
          ]
        },
        {
          "output_type": "stream",
          "name": "stdout",
          "text": [
            "Anthocyn-TX Tablet is a prescription medicine.Contact your doctor immediately if you notice any symptoms of allergic reactions like swelling, itching, difficulty in breathing, hives, etc.Before taking this medicine, tell your doctor if you have any other health conditions like kidney diseases as a dose adjustment may be required.\n",
            "========================================================================================================================\n",
            "Summary of the article -  619\n",
            "Arvast-A 75 Capsule is a combination of two medicines used to prevent heart attack and stroke.Do not stop taking it until you have finished the complete course, even when you feel better.\n",
            "========================================================================================================================\n",
            "Summary of the article -  620\n",
            "Acceclowoc-P Tablet is a pain relieving medicine.Before taking it, let your doctor know if you have any problems with your heart, kidneys, liver, or have stomach ulcers.\n",
            "========================================================================================================================\n",
            "Summary of the article -  621\n",
            "Avoid contact with eyes.Aziderm 20% Gel is a topical medication used in the treatment of acne (pimples).\n",
            "========================================================================================================================\n",
            "Summary of the article -  622\n",
            "Amixide 10mg Tablet is a combination of two medicines.However, it is advised to take it at a fixed time each day to maintain a consistent level of medicine in the blood.\n",
            "========================================================================================================================\n",
            "Summary of the article -  623\n"
          ]
        },
        {
          "output_type": "stream",
          "name": "stderr",
          "text": [
            "/usr/local/lib/python3.7/dist-packages/ipykernel_launcher.py:13: FutureWarning: The default value of regex will change from True to False in a future version.\n",
            "  del sys.path[0]\n",
            "/usr/local/lib/python3.7/dist-packages/ipykernel_launcher.py:13: FutureWarning: The default value of regex will change from True to False in a future version.\n",
            "  del sys.path[0]\n",
            "/usr/local/lib/python3.7/dist-packages/ipykernel_launcher.py:13: FutureWarning: The default value of regex will change from True to False in a future version.\n",
            "  del sys.path[0]\n",
            "/usr/local/lib/python3.7/dist-packages/ipykernel_launcher.py:13: FutureWarning: The default value of regex will change from True to False in a future version.\n",
            "  del sys.path[0]\n"
          ]
        },
        {
          "output_type": "stream",
          "name": "stdout",
          "text": [
            "Amantex Tablet is used alone, or with other medicines to treat Parkinson’s disease.Amantex Tablet may be taken with or without food.\n",
            "========================================================================================================================\n",
            "Summary of the article -  624\n",
            "Aztogold 10 Capsule is used for prevention of heart attack.Do not stop taking it until you have finished the complete course, even when you feel better.\n",
            "========================================================================================================================\n",
            "Summary of the article -  625\n",
            "Ascoril Plus LS Expectorant is a combination medicine used in the treatment of cough with mucus.Avoid drinking alcohol while taking this medicine as it can make sleepiness worse.Never support self-medication or recommend your medicine to another person.\n",
            "========================================================================================================================\n",
            "Summary of the article -  626\n",
            "Aclind BP 5% Gel is a combination of medicines that are used to treat acne.Apply only on the affected areas of the skin.\n",
            "========================================================================================================================\n",
            "Summary of the article -  627\n"
          ]
        },
        {
          "output_type": "stream",
          "name": "stderr",
          "text": [
            "/usr/local/lib/python3.7/dist-packages/ipykernel_launcher.py:13: FutureWarning: The default value of regex will change from True to False in a future version.\n",
            "  del sys.path[0]\n",
            "/usr/local/lib/python3.7/dist-packages/ipykernel_launcher.py:13: FutureWarning: The default value of regex will change from True to False in a future version.\n",
            "  del sys.path[0]\n",
            "/usr/local/lib/python3.7/dist-packages/ipykernel_launcher.py:13: FutureWarning: The default value of regex will change from True to False in a future version.\n",
            "  del sys.path[0]\n",
            "/usr/local/lib/python3.7/dist-packages/ipykernel_launcher.py:13: FutureWarning: The default value of regex will change from True to False in a future version.\n",
            "  del sys.path[0]\n"
          ]
        },
        {
          "output_type": "stream",
          "name": "stdout",
          "text": [
            "Anin Tablet is a synthetic progesterone derivative that is used in the treatment of recurrent miscarriages (pregnancy loss) and premature labor.Anin Tablet can be taken with or without food, but take it at the same time to get the most benefit.Do not miss even a single dose, if in any case you missed dose, take it as soon as you remember or better to skip the missed dose and continue with regular dosing.The most common side effects of this medicine include edema (selling), abdominal bloating, nausea, and vomiting.\n",
            "========================================================================================================================\n",
            "Summary of the article -  628\n",
            "Adiff Gel is a medication used in the treatment of mild to moderate acne.Avoid direct contact of the cream or ointment with your eyes.\n",
            "========================================================================================================================\n",
            "Summary of the article -  629\n",
            "Always tell your doctor what other health conditions you have and what other medicines you are taking.Angina occurs when the heart muscle is not getting enough blood.\n",
            "========================================================================================================================\n",
            "Summary of the article -  630\n",
            "Afitra 200 Capsule belongs to a group of medicines called antifungals.Do not take it if you are pregnant or could become pregnant unless your doctor has told you to.\n",
            "========================================================================================================================\n",
            "Summary of the article -  631\n",
            "Arflur-P Tablet is a pain relieving medicine.Before taking it, let your doctor know if you have any problems with your heart, kidneys, liver, or have stomach ulcers.\n",
            "========================================================================================================================\n",
            "Summary of the article -  632\n"
          ]
        },
        {
          "output_type": "stream",
          "name": "stderr",
          "text": [
            "/usr/local/lib/python3.7/dist-packages/ipykernel_launcher.py:13: FutureWarning: The default value of regex will change from True to False in a future version.\n",
            "  del sys.path[0]\n",
            "/usr/local/lib/python3.7/dist-packages/ipykernel_launcher.py:13: FutureWarning: The default value of regex will change from True to False in a future version.\n",
            "  del sys.path[0]\n",
            "/usr/local/lib/python3.7/dist-packages/ipykernel_launcher.py:13: FutureWarning: The default value of regex will change from True to False in a future version.\n",
            "  del sys.path[0]\n",
            "/usr/local/lib/python3.7/dist-packages/ipykernel_launcher.py:13: FutureWarning: The default value of regex will change from True to False in a future version.\n",
            "  del sys.path[0]\n",
            "/usr/local/lib/python3.7/dist-packages/ipykernel_launcher.py:13: FutureWarning: The default value of regex will change from True to False in a future version.\n",
            "  del sys.path[0]\n"
          ]
        },
        {
          "output_type": "stream",
          "name": "stdout",
          "text": [
            "Amlopin-AT Tablet is used to treat hypertension (high blood pressure).Even if you feel well, do not stop this medicine on your own because high blood pressure often has no symptoms.\n",
            "========================================================================================================================\n",
            "Summary of the article -  633\n",
            "Acivir 500 Infusion is an antiviral medicine.Inform your doctor if these side effects persist for a longer duration.\n",
            "========================================================================================================================\n",
            "Summary of the article -  634\n",
            "Anxozap 10 Tablet is a prescription medicine that relieves symptoms of anxiety such as irritability, restlessness, lack of concentration, fatigue, sweating, increased heart rate, and unwanted or racing thoughts.However, take it at the same time each day as this helps to maintain a consistent level of medicine in the body.\n",
            "========================================================================================================================\n",
            "Summary of the article -  635\n",
            "Armotraz Tablet  is used alone or with other treatments, such as surgery or radiation, to treat early breast cancer in postmenopausal women.If these bother you or appear serious, let your doctor know.\n",
            "========================================================================================================================\n",
            "Summary of the article -  636\n",
            "Always wash your hands and do not touch the end of the dropper.Artificial Tears BP Eye Drop is an eye lubricant or artificial tears used to relieve dry eyes.\n",
            "========================================================================================================================\n",
            "Summary of the article -  637\n"
          ]
        },
        {
          "output_type": "stream",
          "name": "stderr",
          "text": [
            "/usr/local/lib/python3.7/dist-packages/ipykernel_launcher.py:13: FutureWarning: The default value of regex will change from True to False in a future version.\n",
            "  del sys.path[0]\n",
            "/usr/local/lib/python3.7/dist-packages/ipykernel_launcher.py:13: FutureWarning: The default value of regex will change from True to False in a future version.\n",
            "  del sys.path[0]\n",
            "/usr/local/lib/python3.7/dist-packages/ipykernel_launcher.py:13: FutureWarning: The default value of regex will change from True to False in a future version.\n",
            "  del sys.path[0]\n",
            "/usr/local/lib/python3.7/dist-packages/ipykernel_launcher.py:13: FutureWarning: The default value of regex will change from True to False in a future version.\n",
            "  del sys.path[0]\n",
            "/usr/local/lib/python3.7/dist-packages/ipykernel_launcher.py:13: FutureWarning: The default value of regex will change from True to False in a future version.\n",
            "  del sys.path[0]\n",
            "/usr/local/lib/python3.7/dist-packages/ipykernel_launcher.py:13: FutureWarning: The default value of regex will change from True to False in a future version.\n",
            "  del sys.path[0]\n"
          ]
        },
        {
          "output_type": "stream",
          "name": "stdout",
          "text": [
            "Avoid contact with eyes.Azobril Cream is a topical medication used in the treatment of acne (pimples).\n",
            "========================================================================================================================\n",
            "Summary of the article -  638\n",
            "Aminowel Infusion are organic compounds that are chained together to form proteins.Before initiating this treatment, you must consult your doctor if you have any health conditions or your ongoing medications.\n",
            "========================================================================================================================\n",
            "Summary of the article -  639\n",
            "Azithrorite 500mg Tablet is an antibiotic used to treat various types of bacterial infections of the respiratory tract, ear, nose, throat, lungs, skin, and eye in adults and children.Consult your doctor if you find these side effects worry you or persist for a longer duration.Inform your doctor if you have any previous history of allergy or heart problems before taking this medicine.\n",
            "========================================================================================================================\n",
            "Summary of the article -  640\n",
            "Axogurd NT Tablet SR is a combination medicine used for the treatment of neuropathic pain.Finish the full course of treatment even if you feel better.\n",
            "========================================================================================================================\n",
            "Summary of the article -  641\n",
            "Alphadopa L Tablet is a medicine used for treating high blood pressure (hypertension) and heart-related chest pain (angina).Also, pregnant women and breastfeeding mothers should consult doctor before taking it.\n",
            "========================================================================================================================\n",
            "Summary of the article -  642\n",
            "Atorfit CV 20 Capsule is a combination of two medicines used to prevent heart attack and stroke.Do not stop taking it until you have finished the complete course, even when you feel better.\n",
            "========================================================================================================================\n",
            "Summary of the article -  643\n"
          ]
        },
        {
          "output_type": "stream",
          "name": "stderr",
          "text": [
            "/usr/local/lib/python3.7/dist-packages/ipykernel_launcher.py:13: FutureWarning: The default value of regex will change from True to False in a future version.\n",
            "  del sys.path[0]\n",
            "/usr/local/lib/python3.7/dist-packages/ipykernel_launcher.py:13: FutureWarning: The default value of regex will change from True to False in a future version.\n",
            "  del sys.path[0]\n",
            "/usr/local/lib/python3.7/dist-packages/ipykernel_launcher.py:13: FutureWarning: The default value of regex will change from True to False in a future version.\n",
            "  del sys.path[0]\n",
            "/usr/local/lib/python3.7/dist-packages/ipykernel_launcher.py:13: FutureWarning: The default value of regex will change from True to False in a future version.\n",
            "  del sys.path[0]\n",
            "/usr/local/lib/python3.7/dist-packages/ipykernel_launcher.py:13: FutureWarning: The default value of regex will change from True to False in a future version.\n",
            "  del sys.path[0]\n"
          ]
        },
        {
          "output_type": "stream",
          "name": "stdout",
          "text": [
            "Aculip H 12.5 mg/5 mg Tablet is a combination of two medicines.However, it is advised to take it at a fixed time each day to maintain a consistent level of medicine in the blood.\n",
            "========================================================================================================================\n",
            "Summary of the article -  644\n",
            "Also, pregnant women and breastfeeding mothers should consult doctor before taking it.Aquazide 25 Tablet is a diuretic (water pill) medicine used to treat hypertension (high blood pressure).\n",
            "========================================================================================================================\n",
            "Summary of the article -  645\n",
            "Atorva Gold 10 Capsule is used for prevention of heart attack.Do not stop taking it until you have finished the complete course, even when you feel better.\n",
            "========================================================================================================================\n",
            "Summary of the article -  646\n",
            "Azildac 40 Tablet is a medicine used to treat high blood pressure and heart disease.Dizziness, particularly after the first dose, is known to occur in some people.\n",
            "========================================================================================================================\n",
            "Summary of the article -  647\n"
          ]
        },
        {
          "output_type": "stream",
          "name": "stderr",
          "text": [
            "/usr/local/lib/python3.7/dist-packages/ipykernel_launcher.py:13: FutureWarning: The default value of regex will change from True to False in a future version.\n",
            "  del sys.path[0]\n",
            "/usr/local/lib/python3.7/dist-packages/ipykernel_launcher.py:13: FutureWarning: The default value of regex will change from True to False in a future version.\n",
            "  del sys.path[0]\n",
            "/usr/local/lib/python3.7/dist-packages/ipykernel_launcher.py:13: FutureWarning: The default value of regex will change from True to False in a future version.\n",
            "  del sys.path[0]\n",
            "/usr/local/lib/python3.7/dist-packages/ipykernel_launcher.py:13: FutureWarning: The default value of regex will change from True to False in a future version.\n",
            "  del sys.path[0]\n"
          ]
        },
        {
          "output_type": "stream",
          "name": "stdout",
          "text": [
            "Albucel 20% Infusion is used to treat blood volume loss.Before taking it, inform the doctor you are suffering from any severe heart disease.Your doctor may check your blood pressure and ask you to get regular blood tests done while you are using this injection.\n",
            "========================================================================================================================\n",
            "Summary of the article -  648\n",
            "Additionally, it helps to eliminate a bacteria known as H. pylori in people with peptic ulcer disease.Amox 500mg Capsule is a penicillin-type of antibiotic used to treat a variety of bacterial infections.\n",
            "========================================================================================================================\n",
            "Summary of the article -  649\n",
            "Adapen Gel is a medication used in the treatment of mild to moderate acne.Avoid direct contact of the cream or ointment with your eyes.\n",
            "========================================================================================================================\n",
            "Summary of the article -  650\n",
            "Altonil 5mg Tablet is a prescription medicine used in the treatment of insomnia and jet lag (a sleep disorder due to frequent travel to different time zones).However, if the need arises, please consult your doctor before using it.\n",
            "========================================================================================================================\n",
            "Summary of the article -  651\n",
            "Arigaba Ointment is a prescription medicine used for the treatment of neuropathic pain.Clean and dry the affected area before applying this medicine to the skin.\n",
            "========================================================================================================================\n",
            "Summary of the article -  652\n",
            "Azithral-XL 100 Liquid is an antibiotic used to treat various types of bacterial infections of the respiratory tract, ear, nose, throat, lungs, skin, and eye in adults and children.Consult your doctor if you find these side effects worry you or persist for a longer duration.Inform your doctor if you have any previous history of allergy or heart problems before taking this medicine."
          ]
        },
        {
          "output_type": "stream",
          "name": "stderr",
          "text": [
            "/usr/local/lib/python3.7/dist-packages/ipykernel_launcher.py:13: FutureWarning: The default value of regex will change from True to False in a future version.\n",
            "  del sys.path[0]\n",
            "/usr/local/lib/python3.7/dist-packages/ipykernel_launcher.py:13: FutureWarning: The default value of regex will change from True to False in a future version.\n",
            "  del sys.path[0]\n",
            "/usr/local/lib/python3.7/dist-packages/ipykernel_launcher.py:13: FutureWarning: The default value of regex will change from True to False in a future version.\n",
            "  del sys.path[0]\n",
            "/usr/local/lib/python3.7/dist-packages/ipykernel_launcher.py:13: FutureWarning: The default value of regex will change from True to False in a future version.\n",
            "  del sys.path[0]\n",
            "/usr/local/lib/python3.7/dist-packages/ipykernel_launcher.py:13: FutureWarning: The default value of regex will change from True to False in a future version.\n",
            "  del sys.path[0]\n",
            "/usr/local/lib/python3.7/dist-packages/ipykernel_launcher.py:13: FutureWarning: The default value of regex will change from True to False in a future version.\n",
            "  del sys.path[0]\n"
          ]
        },
        {
          "output_type": "stream",
          "name": "stdout",
          "text": [
            "\n",
            "========================================================================================================================\n",
            "Summary of the article -  653\n",
            "Anafortan Drop is used to treat abdominal cramps.Contact your doctor straight away if you are at all concerned about any of these side effects.Inform your doctor before taking Anafortan Drop if you are suffering from overactive thyroid, obstructive airway disease, or inflammation of the intestine (ulcerative colitis).\n",
            "========================================================================================================================\n",
            "Summary of the article -  654\n",
            "Asar 40 Tablet is a medicine used to treat high blood pressure and heart disease.Dizziness, particularly after the first dose, is known to occur in some people.\n",
            "========================================================================================================================\n",
            "Summary of the article -  655\n",
            "Always wash your hands and do not touch the end of the dropper.Aquasurge  Max Eye Drop is an eye lubricant or artificial tears used to relieve dry eyes.\n",
            "========================================================================================================================\n",
            "Summary of the article -  656\n",
            "Aziwok 250 Tablet is an antibiotic used to treat various types of bacterial infections of the respiratory tract, ear, nose, throat, lungs, skin, and eye in adults and children.Consult your doctor if you find these side effects worry you or persist for a longer duration.Inform your doctor if you have any previous history of allergy or heart problems before taking this medicine.\n",
            "========================================================================================================================\n",
            "Summary of the article -  657\n",
            "Ace-Proxyvon SP Tablet is a combination medicine used to relieve pain and swelling in various conditions like muscle pain, joint pain and postoperative pain.Ace-Proxyvon SP Tablet is not recommended if you are pregnant or breastfeeding.\n",
            "========================================================================================================================\n",
            "Summary of the article -  658\n"
          ]
        },
        {
          "output_type": "stream",
          "name": "stderr",
          "text": [
            "/usr/local/lib/python3.7/dist-packages/ipykernel_launcher.py:13: FutureWarning: The default value of regex will change from True to False in a future version.\n",
            "  del sys.path[0]\n",
            "/usr/local/lib/python3.7/dist-packages/ipykernel_launcher.py:13: FutureWarning: The default value of regex will change from True to False in a future version.\n",
            "  del sys.path[0]\n",
            "/usr/local/lib/python3.7/dist-packages/ipykernel_launcher.py:13: FutureWarning: The default value of regex will change from True to False in a future version.\n",
            "  del sys.path[0]\n",
            "/usr/local/lib/python3.7/dist-packages/ipykernel_launcher.py:13: FutureWarning: The default value of regex will change from True to False in a future version.\n",
            "  del sys.path[0]\n",
            "/usr/local/lib/python3.7/dist-packages/ipykernel_launcher.py:13: FutureWarning: The default value of regex will change from True to False in a future version.\n",
            "  del sys.path[0]\n",
            "/usr/local/lib/python3.7/dist-packages/ipykernel_launcher.py:13: FutureWarning: The default value of regex will change from True to False in a future version.\n",
            "  del sys.path[0]\n"
          ]
        },
        {
          "output_type": "stream",
          "name": "stdout",
          "text": [
            "Alerflo Nasal Spray is a steroid.If you use this medicine for a long time, your doctor may want to carry out certain medical tests to check your progress.\n",
            "========================================================================================================================\n",
            "Summary of the article -  659\n",
            "Altoran 40 Tablet is a medicine used to treat high blood pressure and heart disease.Dizziness, particularly after the first dose, is known to occur in some people.\n",
            "========================================================================================================================\n",
            "Summary of the article -  660\n",
            "Advent 91.4mg Drops Tangy Orange is a penicillin-type of antibiotic that helps your body fight infections caused by bacteria.Do not stop taking it until you have finished, even when you feel better.\n",
            "========================================================================================================================\n",
            "Summary of the article -  661\n",
            "Alerfri Tablet is a medicine used in the treatment of common cold symptoms.Also, tell your doctor if you have any problems with liver or kidneys.\n",
            "========================================================================================================================\n",
            "Summary of the article -  662\n",
            "Azenam 1gm Injection is an antibiotic used to prevent or treat a wide variety of bacterial infections.Consult your doctor if any of these side effects persist or if your condition does not improve despite treatment.Inform your doctor if you have any previous history of allergy or heart problems before taking this medicine.\n",
            "========================================================================================================================\n",
            "Summary of the article -  663\n"
          ]
        },
        {
          "output_type": "stream",
          "name": "stderr",
          "text": [
            "/usr/local/lib/python3.7/dist-packages/ipykernel_launcher.py:13: FutureWarning: The default value of regex will change from True to False in a future version.\n",
            "  del sys.path[0]\n",
            "/usr/local/lib/python3.7/dist-packages/ipykernel_launcher.py:13: FutureWarning: The default value of regex will change from True to False in a future version.\n",
            "  del sys.path[0]\n",
            "/usr/local/lib/python3.7/dist-packages/ipykernel_launcher.py:13: FutureWarning: The default value of regex will change from True to False in a future version.\n",
            "  del sys.path[0]\n",
            "/usr/local/lib/python3.7/dist-packages/ipykernel_launcher.py:13: FutureWarning: The default value of regex will change from True to False in a future version.\n",
            "  del sys.path[0]\n",
            "/usr/local/lib/python3.7/dist-packages/ipykernel_launcher.py:13: FutureWarning: The default value of regex will change from True to False in a future version.\n",
            "  del sys.path[0]\n",
            "/usr/local/lib/python3.7/dist-packages/ipykernel_launcher.py:13: FutureWarning: The default value of regex will change from True to False in a future version.\n",
            "  del sys.path[0]\n",
            "/usr/local/lib/python3.7/dist-packages/ipykernel_launcher.py:13: FutureWarning: The default value of regex will change from True to False in a future version.\n",
            "  del sys.path[0]\n"
          ]
        },
        {
          "output_type": "stream",
          "name": "stdout",
          "text": [
            "Agoprex Tablet is a prescription medicine that treats depression.Be vigilant about unusual darkening or any changes in the color of your urine, light colored stools, yellowing of skin or eyes, pain in the upper right part of your stomach and unusual fatigue as this could be signs of liver problems.It is important to inform your doctor if you develop any unusual changes in mood or behavior, new or worsening depression, or suicidal thoughts.\n",
            "========================================================================================================================\n",
            "Summary of the article -  664\n",
            "Azipro 500 Tablet is an antibiotic used to treat various types of bacterial infections of the respiratory tract, ear, nose, throat, lungs, skin, and eye in adults and children.Consult your doctor if you find these side effects worry you or persist for a longer duration.Inform your doctor if you have any previous history of allergy or heart problems before taking this medicine.\n",
            "========================================================================================================================\n",
            "Summary of the article -  665\n",
            "Acetamide 250mg Tablet is a medicine used to reduce pressure in the eyes.Acetamide 250mg Tablet works by decreasing the amount of fluid inside the eye.You can take Acetamide 250mg Tablet with or without food.\n",
            "========================================================================================================================\n",
            "Summary of the article -  666\n",
            "Akilos-SP Tablet is a combination medicine used to relieve pain and swelling in various conditions like muscle pain, joint pain and postoperative pain.Akilos-SP Tablet is not recommended if you are pregnant or breastfeeding.\n",
            "========================================================================================================================\n",
            "Summary of the article -  667\n",
            "Azicip 250 Tablet is an antibiotic used to treat various types of bacterial infections of the respiratory tract, ear, nose, throat, lungs, skin, and eye in adults and children.Consult your doctor if you find these side effects worry you or persist for a longer duration.Inform your doctor if you have any previous history of allergy or heart problems before taking this medicine.\n",
            "========================================================================================================================\n",
            "Summary of the article -  668\n",
            "Androgel is a medicine used in the treatment of male hypogonadism caused due to low testosterone levels.Do not use the gel too often and avoid applying it over genital's area.\n",
            "========================================================================================================================\n",
            "Summary of the article -  669\n",
            "Adfrar Injection is a medicine used to treat a variety of conditions such as ankylosing spondylitis, rheumatoid arthritis, psoriasis, ulcerative colitis, and Crohn’s disease.Continue using it as recommended by your doctor and complete the dose even if you feel better.Some of the common side effects of this medicine include headache, sinus inflammation, rash upper respiratory tract infection, and injection site reactions such as pain, redness, and swelling.\n",
            "========================================================================================================================\n",
            "Summary of the article -  670\n"
          ]
        },
        {
          "output_type": "stream",
          "name": "stderr",
          "text": [
            "/usr/local/lib/python3.7/dist-packages/ipykernel_launcher.py:13: FutureWarning: The default value of regex will change from True to False in a future version.\n",
            "  del sys.path[0]\n",
            "/usr/local/lib/python3.7/dist-packages/ipykernel_launcher.py:13: FutureWarning: The default value of regex will change from True to False in a future version.\n",
            "  del sys.path[0]\n",
            "/usr/local/lib/python3.7/dist-packages/ipykernel_launcher.py:13: FutureWarning: The default value of regex will change from True to False in a future version.\n",
            "  del sys.path[0]\n",
            "/usr/local/lib/python3.7/dist-packages/ipykernel_launcher.py:13: FutureWarning: The default value of regex will change from True to False in a future version.\n",
            "  del sys.path[0]\n",
            "/usr/local/lib/python3.7/dist-packages/ipykernel_launcher.py:13: FutureWarning: The default value of regex will change from True to False in a future version.\n",
            "  del sys.path[0]\n"
          ]
        },
        {
          "output_type": "stream",
          "name": "stdout",
          "text": [
            "AF 300 Tablet belongs to a group of medicines called antifungals.Avoid taking antacid treatments within one hour before or two hours after you take it.The most common side effects of this medicine include stomach pain, headache and feeling sick (nausea).\n",
            "========================================================================================================================\n",
            "Summary of the article -  671\n",
            "Aricef O 200mg Tablet is an antibiotic belonging to the cephalosporin group, which is used to treat a variety of bacterial infections.Do not stop taking it until you have finished, even when you feel better.\n",
            "========================================================================================================================\n",
            "Summary of the article -  672\n",
            "Amisant 200 Tablet is a prescription medicine used in the treatment of schizophrenia, a mental disorder that can result in hallucinations or delusions and also adversely affects a person’s ability to think and behave.Amisant 200 Tablet may be taken with or without food, preferably before bedtime.Do not skip any doses and finish the full course of treatment even if you feel better.\n",
            "========================================================================================================================\n",
            "Summary of the article -  673\n",
            "Alex Cough Lozenges Sugar Free can be taken with or without food, but take it at the same time to get the most benefit.Alex Cough Lozenges Sugar Free is an antitussive medicine.\n",
            "========================================================================================================================\n",
            "Summary of the article -  674\n",
            "Anaspas 25mg Injection is a combination medicine used in the treatment of abdominal pain.Avoid drinking alcohol while taking this medicine as it can worsen your sleepiness.Before taking this medicine, you should tell your doctor if you are pregnant, planning pregnancy or breastfeeding.\n",
            "========================================================================================================================\n",
            "Summary of the article -  675\n"
          ]
        },
        {
          "output_type": "stream",
          "name": "stderr",
          "text": [
            "/usr/local/lib/python3.7/dist-packages/ipykernel_launcher.py:13: FutureWarning: The default value of regex will change from True to False in a future version.\n",
            "  del sys.path[0]\n",
            "/usr/local/lib/python3.7/dist-packages/ipykernel_launcher.py:13: FutureWarning: The default value of regex will change from True to False in a future version.\n",
            "  del sys.path[0]\n",
            "/usr/local/lib/python3.7/dist-packages/ipykernel_launcher.py:13: FutureWarning: The default value of regex will change from True to False in a future version.\n",
            "  del sys.path[0]\n",
            "/usr/local/lib/python3.7/dist-packages/ipykernel_launcher.py:13: FutureWarning: The default value of regex will change from True to False in a future version.\n",
            "  del sys.path[0]\n"
          ]
        },
        {
          "output_type": "stream",
          "name": "stdout",
          "text": [
            "Adacin Gel is a combination of two medicines that effectively treats acne.Ask your doctor when you should stop treatment.Side effects like minor itching, burning, or redness of the skin and oily skin may be seen in some people.\n",
            "========================================================================================================================\n",
            "Summary of the article -  676\n",
            "Azulix 1 Tablet is a medicine used to treat type 2 diabetes mellitus in adults.Before taking this medicine, tell your doctor if you have ever had heart disease, thyroid disease, or some hormonal conditions, as it may not be suitable.\n",
            "========================================================================================================================\n",
            "Summary of the article -  677\n",
            "Aten AM Tablet is used to treat hypertension (high blood pressure).Even if you feel well, do not stop this medicine on your own because high blood pressure often has no symptoms.\n",
            "========================================================================================================================\n",
            "Summary of the article -  678\n",
            "Amloz 5 Tablet belongs to a class of medicines known as a calcium channel blockers.Consult your doctor if any of these side effects bother you or do not go away.Before taking it, let your doctor know if you have any liver, heart or kidney problems.\n",
            "========================================================================================================================\n",
            "Summary of the article -  679\n"
          ]
        },
        {
          "output_type": "stream",
          "name": "stderr",
          "text": [
            "/usr/local/lib/python3.7/dist-packages/ipykernel_launcher.py:13: FutureWarning: The default value of regex will change from True to False in a future version.\n",
            "  del sys.path[0]\n",
            "/usr/local/lib/python3.7/dist-packages/ipykernel_launcher.py:13: FutureWarning: The default value of regex will change from True to False in a future version.\n",
            "  del sys.path[0]\n",
            "/usr/local/lib/python3.7/dist-packages/ipykernel_launcher.py:13: FutureWarning: The default value of regex will change from True to False in a future version.\n",
            "  del sys.path[0]\n",
            "/usr/local/lib/python3.7/dist-packages/ipykernel_launcher.py:13: FutureWarning: The default value of regex will change from True to False in a future version.\n",
            "  del sys.path[0]\n"
          ]
        },
        {
          "output_type": "stream",
          "name": "stdout",
          "text": [
            "Amitrip 10mg Tablet is used in the treatment of depression.Different doses of this medicine help in treating and preventing different problems such as chronic nerve-related (neuropathic) pain, migraine, tension-type headache and nighttime bedwetting (nocturnal enuresis) by older children (6 years and above).Amitrip 10mg Tablet is known as a tricyclic antidepressant.\n",
            "========================================================================================================================\n",
            "Summary of the article -  680\n",
            "Alex-L Cough Syrup Mango Sugar Free can be taken with or without food, but take it at the same time to get the most benefit.Alex-L Cough Syrup Mango Sugar Free is an antitussive medicine.\n",
            "========================================================================================================================\n",
            "Summary of the article -  681\n",
            "Alkel Liquid is a medicine used in the treatment of gout and kidney stones.Also tell your doctor if you have any problems with your heart, kidneys, or liver.\n",
            "========================================================================================================================\n",
            "Summary of the article -  682\n",
            "Aerodil-DX Syrup Sugar Free is a combination medicine used in the treatment of dry cough.Avoid drinking alcohol while taking this medicine as it can make dizziness worse.It is beneficial to have plenty of fluids while taking this medication.\n",
            "========================================================================================================================\n",
            "Summary of the article -  683\n",
            "Azithro 250mg Tablet is an antibiotic used to treat various types of bacterial infections of the respiratory tract, ear, nose, throat, lungs, skin, and eye in adults and children.Consult your doctor if you find these side effects worry you or persist for a longer duration.Inform your doctor if you have any previous history of allergy or heart problems before taking this medicine.\n",
            "========================================================================================================================\n",
            "Summary of the article -  684\n",
            "Arzep Nasal Spray belongs to a group of medicines called antihistamines.Before using it, inform your doctor if you have an infection, injury or ulceration in the inside of the nose.Since it is a nasal spray, it does not expose the rest of your body to the medicine and hence gives you minimal side effects.\n",
            "========================================================================================================================\n",
            "Summary of the article -  685\n"
          ]
        },
        {
          "output_type": "stream",
          "name": "stderr",
          "text": [
            "/usr/local/lib/python3.7/dist-packages/ipykernel_launcher.py:13: FutureWarning: The default value of regex will change from True to False in a future version.\n",
            "  del sys.path[0]\n",
            "/usr/local/lib/python3.7/dist-packages/ipykernel_launcher.py:13: FutureWarning: The default value of regex will change from True to False in a future version.\n",
            "  del sys.path[0]\n",
            "/usr/local/lib/python3.7/dist-packages/ipykernel_launcher.py:13: FutureWarning: The default value of regex will change from True to False in a future version.\n",
            "  del sys.path[0]\n",
            "/usr/local/lib/python3.7/dist-packages/ipykernel_launcher.py:13: FutureWarning: The default value of regex will change from True to False in a future version.\n",
            "  del sys.path[0]\n",
            "/usr/local/lib/python3.7/dist-packages/ipykernel_launcher.py:13: FutureWarning: The default value of regex will change from True to False in a future version.\n",
            "  del sys.path[0]\n",
            "/usr/local/lib/python3.7/dist-packages/ipykernel_launcher.py:13: FutureWarning: The default value of regex will change from True to False in a future version.\n",
            "  del sys.path[0]\n",
            "/usr/local/lib/python3.7/dist-packages/ipykernel_launcher.py:13: FutureWarning: The default value of regex will change from True to False in a future version.\n",
            "  del sys.path[0]\n"
          ]
        },
        {
          "output_type": "stream",
          "name": "stdout",
          "text": [
            "Amortive Cream is an antifungal medication.Avoid direct contact of the cream or ointment with your eyes.\n",
            "========================================================================================================================\n",
            "Summary of the article -  686\n",
            "Amoxclav 500 mg/125 mg Tablet is a penicillin-type of antibiotic that helps your body fight infections caused by bacteria.Do not stop taking it until you have finished, even when you feel better.\n",
            "========================================================================================================================\n",
            "Summary of the article -  687\n",
            "Amlosafe MT 50 Tablet PR contains two medicines, both of which help to control high blood pressure and heart rate.Even if you feel well, do not stop this medicine on your own because high blood pressure often has no symptoms.\n",
            "========================================================================================================================\n",
            "Summary of the article -  688\n",
            "Alrista Plus Tablet SR is a medicine used in the treatment of diabetic nerve disease.Avoid excessive alcohol intake while taking it as this may increase the risk of developing some side effects.\n",
            "========================================================================================================================\n",
            "Summary of the article -  689\n",
            "Axunil Nasal Spray is a steroid.If you use this medicine for a long time, your doctor may want to carry out certain medical tests to check your progress.\n",
            "========================================================================================================================\n",
            "Summary of the article -  690\n",
            "Aspirin 300mg Tablet is an anti-inflammatory type of medicine.Avoid drinking alcohol while you are taking this medicine.\n",
            "========================================================================================================================\n",
            "Summary of the article -  691\n"
          ]
        },
        {
          "output_type": "stream",
          "name": "stderr",
          "text": [
            "/usr/local/lib/python3.7/dist-packages/ipykernel_launcher.py:13: FutureWarning: The default value of regex will change from True to False in a future version.\n",
            "  del sys.path[0]\n",
            "/usr/local/lib/python3.7/dist-packages/ipykernel_launcher.py:13: FutureWarning: The default value of regex will change from True to False in a future version.\n",
            "  del sys.path[0]\n",
            "/usr/local/lib/python3.7/dist-packages/ipykernel_launcher.py:13: FutureWarning: The default value of regex will change from True to False in a future version.\n",
            "  del sys.path[0]\n",
            "/usr/local/lib/python3.7/dist-packages/ipykernel_launcher.py:13: FutureWarning: The default value of regex will change from True to False in a future version.\n",
            "  del sys.path[0]\n",
            "/usr/local/lib/python3.7/dist-packages/ipykernel_launcher.py:13: FutureWarning: The default value of regex will change from True to False in a future version.\n",
            "  del sys.path[0]\n"
          ]
        },
        {
          "output_type": "stream",
          "name": "stdout",
          "text": [
            "Apraize 30mg Tablet can be taken with or without food.Apraize 30mg Tablet is used in the treatment of moderate to severe plaque psoriasis which is a type of skin condition.\n",
            "========================================================================================================================\n",
            "Summary of the article -  692\n",
            "Alrista SR Tablet is used to treat diabetic nerve pain.Avoid any alcohol intake while taking it as this may increase the risk of developing some side effects.\n",
            "========================================================================================================================\n",
            "Summary of the article -  693\n",
            "Arvast F 10 Tablet is a combination of two lipid (fat) lowering medicines.Before taking it, let your doctor know if you have any kidney-related problems or if you are pregnant, planning a pregnancy, or breastfeeding.\n",
            "========================================================================================================================\n",
            "Summary of the article -  694\n"
          ]
        },
        {
          "output_type": "stream",
          "name": "stderr",
          "text": [
            "/usr/local/lib/python3.7/dist-packages/ipykernel_launcher.py:13: FutureWarning: The default value of regex will change from True to False in a future version.\n",
            "  del sys.path[0]\n",
            "/usr/local/lib/python3.7/dist-packages/ipykernel_launcher.py:13: FutureWarning: The default value of regex will change from True to False in a future version.\n",
            "  del sys.path[0]\n",
            "/usr/local/lib/python3.7/dist-packages/ipykernel_launcher.py:13: FutureWarning: The default value of regex will change from True to False in a future version.\n",
            "  del sys.path[0]\n",
            "/usr/local/lib/python3.7/dist-packages/ipykernel_launcher.py:13: FutureWarning: The default value of regex will change from True to False in a future version.\n",
            "  del sys.path[0]\n",
            "/usr/local/lib/python3.7/dist-packages/ipykernel_launcher.py:13: FutureWarning: The default value of regex will change from True to False in a future version.\n",
            "  del sys.path[0]\n"
          ]
        },
        {
          "output_type": "stream",
          "name": "stdout",
          "text": [
            "Ambulax 0.25 mg/20 mg Tablet is a prescription medicine used to treat anxiety.Avoid consuming alcohol while taking this medicine as this may reduce its effectiveness.Some common side effects of this medicine include confusion, memory impairment, slow heart rate, tiredness, and nightmare.\n",
            "========================================================================================================================\n",
            "Summary of the article -  695\n",
            "Aceloflam SP Tablet is a combination medicine used to relieve pain and swelling in various conditions like muscle pain, joint pain and postoperative pain.Aceloflam SP Tablet is not recommended if you are pregnant or breastfeeding.\n",
            "========================================================================================================================\n",
            "Summary of the article -  696\n",
            "Angicam 5mg Tablet belongs to a class of medicines known as a calcium channel blockers.Consult your doctor if any of these side effects bother you or do not go away.Before taking it, let your doctor know if you have any liver, heart or kidney problems.\n",
            "========================================================================================================================\n",
            "Summary of the article -  697\n",
            "Alcinac P 100mg/325mg Tablet is a pain relieving medicine.Before taking it, let your doctor know if you have any problems with your heart, kidneys, liver, or have stomach ulcers.\n",
            "========================================================================================================================\n",
            "Summary of the article -  698\n",
            "Acenext P 100 mg/500 mg Tablet is a pain relieving medicine.Before taking it, let your doctor know if you have any problems with your heart, kidneys, liver, or have stomach ulcers.\n",
            "========================================================================================================================\n",
            "Summary of the article -  699\n",
            "Also, inform your doctor if you have very low blood pressure (hypotension), heart failure, or if you recently had a heart attack and have fluid in your lungs.Angizem CD 90 Capsule ER is used to treat angina (heart-related chest pain), high blood pressure and some types of irregular heartbeats (arrhythmia).\n",
            "========================================================================================================================\n",
            "Summary of the article -  700\n",
            "Alamin Injection is used in the treatment of nutritional deficiencies.Inform your doctor if you are taking any other medicines.Inform your doctor if you are pregnant or breastfeeding mother or if you are suffering from liver or kidney disease.\n",
            "========================================================================================================================\n",
            "Summary of the article -  701\n"
          ]
        },
        {
          "output_type": "stream",
          "name": "stderr",
          "text": [
            "/usr/local/lib/python3.7/dist-packages/ipykernel_launcher.py:13: FutureWarning: The default value of regex will change from True to False in a future version.\n",
            "  del sys.path[0]\n",
            "/usr/local/lib/python3.7/dist-packages/ipykernel_launcher.py:13: FutureWarning: The default value of regex will change from True to False in a future version.\n",
            "  del sys.path[0]\n",
            "/usr/local/lib/python3.7/dist-packages/ipykernel_launcher.py:13: FutureWarning: The default value of regex will change from True to False in a future version.\n",
            "  del sys.path[0]\n",
            "/usr/local/lib/python3.7/dist-packages/ipykernel_launcher.py:13: FutureWarning: The default value of regex will change from True to False in a future version.\n",
            "  del sys.path[0]\n",
            "/usr/local/lib/python3.7/dist-packages/ipykernel_launcher.py:13: FutureWarning: The default value of regex will change from True to False in a future version.\n",
            "  del sys.path[0]\n"
          ]
        },
        {
          "output_type": "stream",
          "name": "stdout",
          "text": [
            "Also, pregnant women and breastfeeding mothers should not take this medicine as it may harm the developing baby.Arvast 20 Tablet belongs to a group of medicines called statins.\n",
            "========================================================================================================================\n",
            "Summary of the article -  702\n",
            ").Before using this medicine, it is important to tell your doctor if you are taking or have recently taken any other medicines for the same disease or other diseases.A thin layer of the medicine should be applied only to the affected areas of the skin with clean and dry hands.\n",
            "========================================================================================================================\n",
            "Summary of the article -  703\n",
            "Azibact LR 100 Readymix is an antibiotic used to treat various types of bacterial infections of the respiratory tract, ear, nose, throat, lungs, skin, and eye in adults and children.Consult your doctor if you find these side effects worry you or persist for a longer duration.Inform your doctor if you have any previous history of allergy or heart problems before taking this medicine.\n",
            "========================================================================================================================\n",
            "Summary of the article -  704\n"
          ]
        },
        {
          "output_type": "stream",
          "name": "stderr",
          "text": [
            "/usr/local/lib/python3.7/dist-packages/ipykernel_launcher.py:13: FutureWarning: The default value of regex will change from True to False in a future version.\n",
            "  del sys.path[0]\n",
            "/usr/local/lib/python3.7/dist-packages/ipykernel_launcher.py:13: FutureWarning: The default value of regex will change from True to False in a future version.\n",
            "  del sys.path[0]\n",
            "/usr/local/lib/python3.7/dist-packages/ipykernel_launcher.py:13: FutureWarning: The default value of regex will change from True to False in a future version.\n",
            "  del sys.path[0]\n",
            "/usr/local/lib/python3.7/dist-packages/ipykernel_launcher.py:13: FutureWarning: The default value of regex will change from True to False in a future version.\n",
            "  del sys.path[0]\n",
            "/usr/local/lib/python3.7/dist-packages/ipykernel_launcher.py:13: FutureWarning: The default value of regex will change from True to False in a future version.\n",
            "  del sys.path[0]\n"
          ]
        },
        {
          "output_type": "stream",
          "name": "stdout",
          "text": [
            "Airol Cream is a form of vitamin A that is used to treat acne which appears as spots or pimples on your face, chest or back.Consult your doctor again if you do not notice any improvement after a few weeks.\n",
            "========================================================================================================================\n",
            "Summary of the article -  705\n",
            "Adenomac 400 Tablet is a medicine used for the treatment of liver disease associated with reduced bile formation (intrahepatic cholestasis).Avoid drinking alcohol as it might increase side effects.\n",
            "========================================================================================================================\n",
            "Summary of the article -  706\n",
            "Alex P Paed Drop is a medicine used in the treatment of common cold symptoms.Also, tell your doctor if you have any problems with liver or kidneys.\n",
            "========================================================================================================================\n",
            "Summary of the article -  707\n",
            "Afderm-MN Plus Cream is a combination of three medicines that effectively treats skin infections.Applying it at the same time every day will help you remember to use it.\n",
            "========================================================================================================================\n",
            "Summary of the article -  708\n",
            "Asprito 2 Tablet is an antipsychotic medicine.Before taking the medicine you should tell your doctor if you are pregnant, planning to become pregnant, or breastfeeding.\n",
            "========================================================================================================================\n",
            "Summary of the article -  709\n"
          ]
        },
        {
          "output_type": "stream",
          "name": "stderr",
          "text": [
            "/usr/local/lib/python3.7/dist-packages/ipykernel_launcher.py:13: FutureWarning: The default value of regex will change from True to False in a future version.\n",
            "  del sys.path[0]\n",
            "/usr/local/lib/python3.7/dist-packages/ipykernel_launcher.py:13: FutureWarning: The default value of regex will change from True to False in a future version.\n",
            "  del sys.path[0]\n",
            "/usr/local/lib/python3.7/dist-packages/ipykernel_launcher.py:13: FutureWarning: The default value of regex will change from True to False in a future version.\n",
            "  del sys.path[0]\n",
            "/usr/local/lib/python3.7/dist-packages/ipykernel_launcher.py:13: FutureWarning: The default value of regex will change from True to False in a future version.\n",
            "  del sys.path[0]\n"
          ]
        },
        {
          "output_type": "stream",
          "name": "stdout",
          "text": [
            "), you must seek immediate medical help.Before taking this medicine, you should tell your doctor if you are taking any medicines for any health condition.Augxetil CV 500 Tablet is a combination medicine that is used to treat various types of bacterial infections.\n",
            "========================================================================================================================\n",
            "Summary of the article -  710\n",
            "Alnex NT 75mg/10mg Tablet is a combination medicine used for the treatment of neuropathic pain.Finish the full course of treatment even if you feel better.\n",
            "========================================================================================================================\n",
            "Summary of the article -  711\n",
            "Alciflox 500mg Tablet is an antibiotic, used in the treatment of bacterial infections.Avoid skipping any doses and finish the full course of treatment even if you feel better.\n",
            "========================================================================================================================\n",
            "Summary of the article -  712\n",
            "Amitriptyline Hcl 25mg Tablet is used in the treatment of depression.Different doses of this medicine help in treating and preventing different problems such as chronic nerve-related (neuropathic) pain, migraine, tension-type headache and nighttime bedwetting (nocturnal enuresis) by older children (6 years and above).Amitriptyline Hcl 25mg Tablet is known as a tricyclic antidepressant.\n",
            "========================================================================================================================\n",
            "Summary of the article -  713\n",
            "Anti-Thyrox 20 Tablet belongs to a group of medicine called anti-thyroid agents.Do not stop taking the medicine even if you feel better unless the doctor tells you so.Taking this medicine may cause few common side effects such as skin rash, headache, skin pigmentation, and muscle pain or weakness.\n",
            "========================================================================================================================\n",
            "Summary of the article -  714\n"
          ]
        },
        {
          "output_type": "stream",
          "name": "stderr",
          "text": [
            "/usr/local/lib/python3.7/dist-packages/ipykernel_launcher.py:13: FutureWarning: The default value of regex will change from True to False in a future version.\n",
            "  del sys.path[0]\n",
            "/usr/local/lib/python3.7/dist-packages/ipykernel_launcher.py:13: FutureWarning: The default value of regex will change from True to False in a future version.\n",
            "  del sys.path[0]\n",
            "/usr/local/lib/python3.7/dist-packages/ipykernel_launcher.py:13: FutureWarning: The default value of regex will change from True to False in a future version.\n",
            "  del sys.path[0]\n",
            "/usr/local/lib/python3.7/dist-packages/ipykernel_launcher.py:13: FutureWarning: The default value of regex will change from True to False in a future version.\n",
            "  del sys.path[0]\n",
            "/usr/local/lib/python3.7/dist-packages/ipykernel_launcher.py:13: FutureWarning: The default value of regex will change from True to False in a future version.\n",
            "  del sys.path[0]\n"
          ]
        },
        {
          "output_type": "stream",
          "name": "stdout",
          "text": [
            "Ambrolite 2S Expectorant is a combination medicine used to treat cough.Avoid drinking alcohol while taking this medicine as it can make sleepiness worse.Never support self-medication or recommend your medicine to another person.\n",
            "========================================================================================================================\n",
            "Summary of the article -  715\n",
            "Above 5-D Capsule is a combination medicine used to treat gastroesophageal reflux disease (Acid reflux) and peptic ulcer disease by relieving the symptoms of acidity such as heartburn, stomach pain, or irritation.Avoid drinking alcohol while taking this medicine as it can worsen your sleepiness.\n",
            "========================================================================================================================\n",
            "Summary of the article -  716\n",
            "Aromasin 25mg Tablet is an aromatase inhibitor.It is used in the treatment of breast cancer in women who have gone through menopause.\n",
            "========================================================================================================================\n",
            "Summary of the article -  717\n",
            "Alkalith Syrup is a medicine used in the treatment of gout and kidney stones.Also tell your doctor if you have any problems with your heart, kidneys, or liver.\n",
            "========================================================================================================================\n",
            "Summary of the article -  718\n",
            ").Before taking this medicine, it is important to tell your doctor if you are taking or have recently taken any other medicines.A thin layer of the medicine should be applied only to the affected areas of the skin with clean and dry hands.\n",
            "========================================================================================================================\n",
            "Summary of the article -  719\n",
            "Amtas-M 25 Tablet PR contains two medicines, both of which help to control high blood pressure and heart rate.Even if you feel well, do not stop this medicine on your own because high blood pressure often has no symptoms.\n",
            "========================================================================================================================\n",
            "Summary of the article -  720\n",
            "Ambisome Injection is an antifungal medication.Before you take this medicine, inform your doctor if you suffer from diabetes, liver/kidney problems or are on dialysis or have low potassium level in blood.It may lead to a few common side effects like headache, vomiting, nausea, stomach cramps and fever.\n",
            "========================================================================================================================\n",
            "Summary of the article -  721\n"
          ]
        },
        {
          "output_type": "stream",
          "name": "stderr",
          "text": [
            "/usr/local/lib/python3.7/dist-packages/ipykernel_launcher.py:13: FutureWarning: The default value of regex will change from True to False in a future version.\n",
            "  del sys.path[0]\n",
            "/usr/local/lib/python3.7/dist-packages/ipykernel_launcher.py:13: FutureWarning: The default value of regex will change from True to False in a future version.\n",
            "  del sys.path[0]\n",
            "/usr/local/lib/python3.7/dist-packages/ipykernel_launcher.py:13: FutureWarning: The default value of regex will change from True to False in a future version.\n",
            "  del sys.path[0]\n",
            "/usr/local/lib/python3.7/dist-packages/ipykernel_launcher.py:13: FutureWarning: The default value of regex will change from True to False in a future version.\n",
            "  del sys.path[0]\n",
            "/usr/local/lib/python3.7/dist-packages/ipykernel_launcher.py:13: FutureWarning: The default value of regex will change from True to False in a future version.\n",
            "  del sys.path[0]\n",
            "/usr/local/lib/python3.7/dist-packages/ipykernel_launcher.py:13: FutureWarning: The default value of regex will change from True to False in a future version.\n",
            "  del sys.path[0]\n"
          ]
        },
        {
          "output_type": "stream",
          "name": "stdout",
          "text": [
            "Atorva Gold 20 Capsule is used for prevention of heart attack.Do not stop taking it until you have finished the complete course, even when you feel better.\n",
            "========================================================================================================================\n",
            "Summary of the article -  722\n",
            "Alprax Plus Tablet SR is a prescription medicine used to treat depression.Finish the full course of treatment even if you feel better.\n",
            "========================================================================================================================\n",
            "Summary of the article -  723\n",
            "Amloz AT Tablet is used to treat hypertension (high blood pressure).Even if you feel well, do not stop this medicine on your own because high blood pressure often has no symptoms.\n",
            "========================================================================================================================\n",
            "Summary of the article -  724\n",
            "Amitryptyline 10mg Tablet is used in the treatment of depression.Different doses of this medicine help in treating and preventing different problems such as chronic nerve-related (neuropathic) pain, migraine, tension-type headache and nighttime bedwetting (nocturnal enuresis) by older children (6 years and above).Amitryptyline 10mg Tablet is known as a tricyclic antidepressant.\n",
            "========================================================================================================================\n",
            "Summary of the article -  725\n"
          ]
        },
        {
          "output_type": "stream",
          "name": "stderr",
          "text": [
            "/usr/local/lib/python3.7/dist-packages/ipykernel_launcher.py:13: FutureWarning: The default value of regex will change from True to False in a future version.\n",
            "  del sys.path[0]\n",
            "/usr/local/lib/python3.7/dist-packages/ipykernel_launcher.py:13: FutureWarning: The default value of regex will change from True to False in a future version.\n",
            "  del sys.path[0]\n",
            "/usr/local/lib/python3.7/dist-packages/ipykernel_launcher.py:13: FutureWarning: The default value of regex will change from True to False in a future version.\n",
            "  del sys.path[0]\n"
          ]
        },
        {
          "output_type": "stream",
          "name": "stdout",
          "text": [
            "Actifed Plus Tablet is a medicine used in the treatment of common cold symptoms.Also, tell your doctor if you have any problems with liver or kidneys.\n",
            "========================================================================================================================\n",
            "Summary of the article -  726\n",
            "), you must seek immediate medical help.Before taking this medicine, you should tell your doctor if you are taking any medicines for any health condition.Akurit Tablet is a combination medicine used in the treatment of tuberculosis.\n",
            "========================================================================================================================\n",
            "Summary of the article -  727\n",
            "Acecloren Tablet is a combination medicine used to relieve pain and swelling in various conditions like muscle pain, joint pain and postoperative pain.Acecloren Tablet is not recommended if you are pregnant or breastfeeding.\n",
            "========================================================================================================================\n",
            "Summary of the article -  728\n",
            "Azunate 60mg Injection is an antiparasitic medication.It is given in cases where oral administration is not possible.Some people may experience a headache, dizziness, weakness, and loss of appetite, as the side effects of this medicine.\n",
            "========================================================================================================================\n",
            "Summary of the article -  729\n",
            "Atorlip-ASP 10 Capsule is a combination of two medicines used to prevent heart attack and stroke.Do not stop taking it until you have finished the complete course, even when you feel better.\n",
            "========================================================================================================================\n",
            "Summary of the article -  730\n"
          ]
        },
        {
          "output_type": "stream",
          "name": "stderr",
          "text": [
            "/usr/local/lib/python3.7/dist-packages/ipykernel_launcher.py:13: FutureWarning: The default value of regex will change from True to False in a future version.\n",
            "  del sys.path[0]\n",
            "/usr/local/lib/python3.7/dist-packages/ipykernel_launcher.py:13: FutureWarning: The default value of regex will change from True to False in a future version.\n",
            "  del sys.path[0]\n",
            "/usr/local/lib/python3.7/dist-packages/ipykernel_launcher.py:13: FutureWarning: The default value of regex will change from True to False in a future version.\n",
            "  del sys.path[0]\n",
            "/usr/local/lib/python3.7/dist-packages/ipykernel_launcher.py:13: FutureWarning: The default value of regex will change from True to False in a future version.\n",
            "  del sys.path[0]\n",
            "/usr/local/lib/python3.7/dist-packages/ipykernel_launcher.py:13: FutureWarning: The default value of regex will change from True to False in a future version.\n",
            "  del sys.path[0]\n",
            "/usr/local/lib/python3.7/dist-packages/ipykernel_launcher.py:13: FutureWarning: The default value of regex will change from True to False in a future version.\n",
            "  del sys.path[0]\n"
          ]
        },
        {
          "output_type": "stream",
          "name": "stdout",
          "text": [
            "Axcer  60mg Tablet belongs to a group of medicines called antiplatelets or blood thinners.Axcer  60mg Tablet may be taken with or without food and should be taken regularly at the same time each day.\n",
            "========================================================================================================================\n",
            "Summary of the article -  731\n",
            "Also, pregnant women and breastfeeding mothers should not take this medicine as it may harm the developing baby.Atormac 10 Tablet belongs to a group of medicines called statins.\n",
            "========================================================================================================================\n",
            "Summary of the article -  732\n",
            "Aldonil Plus Tablet SR is a medicine used in the treatment of diabetic nerve disease.Avoid excessive alcohol intake while taking it as this may increase the risk of developing some side effects.\n",
            "========================================================================================================================\n",
            "Summary of the article -  733\n",
            "), you must seek immediate medical help.Before taking this medicine, you should tell your doctor if you are taking any medicines for any health condition.Ampoxin Dry syrup is a combination medicine that is used to treat various types of bacterial infections.\n",
            "========================================================================================================================\n",
            "Summary of the article -  734\n"
          ]
        },
        {
          "output_type": "stream",
          "name": "stderr",
          "text": [
            "/usr/local/lib/python3.7/dist-packages/ipykernel_launcher.py:13: FutureWarning: The default value of regex will change from True to False in a future version.\n",
            "  del sys.path[0]\n",
            "/usr/local/lib/python3.7/dist-packages/ipykernel_launcher.py:13: FutureWarning: The default value of regex will change from True to False in a future version.\n",
            "  del sys.path[0]\n",
            "/usr/local/lib/python3.7/dist-packages/ipykernel_launcher.py:13: FutureWarning: The default value of regex will change from True to False in a future version.\n",
            "  del sys.path[0]\n",
            "/usr/local/lib/python3.7/dist-packages/ipykernel_launcher.py:13: FutureWarning: The default value of regex will change from True to False in a future version.\n",
            "  del sys.path[0]\n"
          ]
        },
        {
          "output_type": "stream",
          "name": "stdout",
          "text": [
            "), you must call for immediate medical help.Before taking this medicine, you should tell your doctor if you have any kidney disease.Also, tell your doctor if you are on any medication for any health condition.\n",
            "========================================================================================================================\n",
            "Summary of the article -  735\n",
            "Arbitel-MT 50 Tablet ER is a medicine used for treating high blood pressure.By lowering the blood pressure, it helps in preventing future heart attack and stroke.\n",
            "========================================================================================================================\n",
            "Summary of the article -  736\n",
            "Acenac-SR Tablet is a pain relieving medicine.Acenac-SR Tablet is not recommended if you are pregnant or breastfeeding.\n",
            "========================================================================================================================\n",
            "Summary of the article -  737\n",
            "Ace Proxyvon TH 4 Tablet is a combination medicine which helps in relieving muscular pain.Also, tell your doctor if you have any problems with liver or kidneys.\n",
            "========================================================================================================================\n",
            "Summary of the article -  738\n"
          ]
        },
        {
          "output_type": "stream",
          "name": "stderr",
          "text": [
            "/usr/local/lib/python3.7/dist-packages/ipykernel_launcher.py:13: FutureWarning: The default value of regex will change from True to False in a future version.\n",
            "  del sys.path[0]\n",
            "/usr/local/lib/python3.7/dist-packages/ipykernel_launcher.py:13: FutureWarning: The default value of regex will change from True to False in a future version.\n",
            "  del sys.path[0]\n",
            "/usr/local/lib/python3.7/dist-packages/ipykernel_launcher.py:13: FutureWarning: The default value of regex will change from True to False in a future version.\n",
            "  del sys.path[0]\n",
            "/usr/local/lib/python3.7/dist-packages/ipykernel_launcher.py:13: FutureWarning: The default value of regex will change from True to False in a future version.\n",
            "  del sys.path[0]\n"
          ]
        },
        {
          "output_type": "stream",
          "name": "stdout",
          "text": [
            "Alprax Forte 0.5 mg/50 mg Tablet is a prescription medicine used to treat depression.Finish the full course of treatment even if you feel better.\n",
            "========================================================================================================================\n",
            "Summary of the article -  739\n",
            "Amrox-LS Syrup is a combination medicine used in the treatment of cough with mucus.Avoid drinking alcohol while taking this medicine as it can make sleepiness worse.Never support self-medication or recommend your medicine to another person.\n",
            "========================================================================================================================\n",
            "Summary of the article -  740\n",
            "Acimol 100 mg/325 mg Tablet is a pain relieving medicine.Before taking it, let your doctor know if you have any problems with your heart, kidneys, liver, or have stomach ulcers.\n",
            "========================================================================================================================\n",
            "Summary of the article -  741\n",
            "Additionally, it helps to eliminate a bacteria known as H. pylori in people with peptic ulcer disease.Amoxycillin 125mg Tablet is a penicillin-type of antibiotic used to treat a variety of bacterial infections.\n",
            "========================================================================================================================\n",
            "Summary of the article -  742\n"
          ]
        },
        {
          "output_type": "stream",
          "name": "stderr",
          "text": [
            "/usr/local/lib/python3.7/dist-packages/ipykernel_launcher.py:13: FutureWarning: The default value of regex will change from True to False in a future version.\n",
            "  del sys.path[0]\n",
            "/usr/local/lib/python3.7/dist-packages/ipykernel_launcher.py:13: FutureWarning: The default value of regex will change from True to False in a future version.\n",
            "  del sys.path[0]\n",
            "/usr/local/lib/python3.7/dist-packages/ipykernel_launcher.py:13: FutureWarning: The default value of regex will change from True to False in a future version.\n",
            "  del sys.path[0]\n",
            "/usr/local/lib/python3.7/dist-packages/ipykernel_launcher.py:13: FutureWarning: The default value of regex will change from True to False in a future version.\n",
            "  del sys.path[0]\n"
          ]
        },
        {
          "output_type": "stream",
          "name": "stdout",
          "text": [
            "Asprito 5 Tablet is an antipsychotic medicine.Before taking the medicine you should tell your doctor if you are pregnant, planning to become pregnant, or breastfeeding.\n",
            "========================================================================================================================\n",
            "Summary of the article -  743\n",
            "Alfakit Tablet is a nutritional supplement that is ketone derivatives of different amino acids.Before taking this medicine, it is important to tell your doctor if you are taking any other medicines for any health conditions.\n",
            "========================================================================================================================\n",
            "Summary of the article -  744\n",
            "Asprito 10 Tablet is an antipsychotic medicine.Before taking the medicine you should tell your doctor if you are pregnant, planning to become pregnant, or breastfeeding.\n",
            "========================================================================================================================\n",
            "Summary of the article -  745\n",
            "), you must seek immediate medical help.Before taking this medicine, you should tell your doctor if you are taking any medicines for any health condition.Ampilox LB Capsule is a combination medicine that is used to treat various types of bacterial infections.\n",
            "========================================================================================================================\n",
            "Summary of the article -  746\n"
          ]
        },
        {
          "output_type": "stream",
          "name": "stderr",
          "text": [
            "/usr/local/lib/python3.7/dist-packages/ipykernel_launcher.py:13: FutureWarning: The default value of regex will change from True to False in a future version.\n",
            "  del sys.path[0]\n",
            "/usr/local/lib/python3.7/dist-packages/ipykernel_launcher.py:13: FutureWarning: The default value of regex will change from True to False in a future version.\n",
            "  del sys.path[0]\n",
            "/usr/local/lib/python3.7/dist-packages/ipykernel_launcher.py:13: FutureWarning: The default value of regex will change from True to False in a future version.\n",
            "  del sys.path[0]\n",
            "/usr/local/lib/python3.7/dist-packages/ipykernel_launcher.py:13: FutureWarning: The default value of regex will change from True to False in a future version.\n",
            "  del sys.path[0]\n",
            "/usr/local/lib/python3.7/dist-packages/ipykernel_launcher.py:13: FutureWarning: The default value of regex will change from True to False in a future version.\n",
            "  del sys.path[0]\n"
          ]
        },
        {
          "output_type": "stream",
          "name": "stdout",
          "text": [
            "Anti-Thyrox 5 Tablet belongs to a group of medicine called anti-thyroid agents.Do not stop taking the medicine even if you feel better unless the doctor tells you so.Taking this medicine may cause few common side effects such as skin rash, headache, skin pigmentation, and muscle pain or weakness.\n",
            "========================================================================================================================\n",
            "Summary of the article -  747\n",
            "Alenix 5 Tablet belongs to a group of medicines called antihistamines.Avoid drinking alcohol as it can cause excessive drowsiness with this medicine.\n",
            "========================================================================================================================\n",
            "Summary of the article -  748\n",
            "Adilip 45 Tablet DR is a medicine used to treat high cholesterol.Also, pregnant women and breastfeeding mothers should not take this medicine without consulting the doctor.\n",
            "========================================================================================================================\n",
            "Summary of the article -  749\n",
            "Aldigesic P 100 mg/500 mg Suspension is a pain relieving medicine.Before taking it, let your doctor know if you have any problems with your heart, kidneys, liver, or have stomach ulcers.\n",
            "========================================================================================================================\n",
            "Summary of the article -  750\n",
            "Additionally, it helps to eliminate a bacteria known as H. pylori in people with peptic ulcer disease.Amoxy 500mg Capsule is a penicillin-type of antibiotic used to treat a variety of bacterial infections.\n",
            "========================================================================================================================\n",
            "Summary of the article -  751\n",
            "Summary Not Available\n",
            "Not Available\n",
            "========================================================================================================================\n",
            "Summary of the article -  752\n"
          ]
        },
        {
          "output_type": "stream",
          "name": "stderr",
          "text": [
            "/usr/local/lib/python3.7/dist-packages/ipykernel_launcher.py:13: FutureWarning: The default value of regex will change from True to False in a future version.\n",
            "  del sys.path[0]\n",
            "/usr/local/lib/python3.7/dist-packages/ipykernel_launcher.py:13: FutureWarning: The default value of regex will change from True to False in a future version.\n",
            "  del sys.path[0]\n",
            "/usr/local/lib/python3.7/dist-packages/ipykernel_launcher.py:13: FutureWarning: The default value of regex will change from True to False in a future version.\n",
            "  del sys.path[0]\n",
            "/usr/local/lib/python3.7/dist-packages/ipykernel_launcher.py:13: FutureWarning: The default value of regex will change from True to False in a future version.\n",
            "  del sys.path[0]\n",
            "/usr/local/lib/python3.7/dist-packages/ipykernel_launcher.py:13: FutureWarning: The default value of regex will change from True to False in a future version.\n",
            "  del sys.path[0]\n"
          ]
        },
        {
          "output_type": "stream",
          "name": "stdout",
          "text": [
            "Allercet-M Syrup is a combination medicine used in the treatment of allergic symptoms such as runny nose, stuffy nose, sneezing, itching, swelling, watery eyes and congestion or stuffiness.Avoid drinking alcohol while taking this medicine as it can worsen your sleepiness.Never support self-medication or recommend your medicine to another person.\n",
            "========================================================================================================================\n",
            "Summary of the article -  753\n",
            "Amlodepin 5mg Tablet belongs to a class of medicines known as a calcium channel blockers.Consult your doctor if any of these side effects bother you or do not go away.Before taking it, let your doctor know if you have any liver, heart or kidney problems.\n",
            "========================================================================================================================\n",
            "Summary of the article -  754\n",
            "Avoid contact with eyes.Aziderm 15% Gel is a topical medication used in the treatment of acne (pimples).\n",
            "========================================================================================================================\n",
            "Summary of the article -  755\n",
            "Acirab-DSR Capsule is a combination medicine used to treat gastroesophageal reflux disease (Acid reflux) and peptic ulcer disease by relieving the symptoms of acidity such as heartburn, stomach pain, or irritation.Avoid drinking alcohol while taking this medicine as it can worsen your sleepiness.\n",
            "========================================================================================================================\n",
            "Summary of the article -  756\n"
          ]
        },
        {
          "output_type": "stream",
          "name": "stderr",
          "text": [
            "/usr/local/lib/python3.7/dist-packages/ipykernel_launcher.py:13: FutureWarning: The default value of regex will change from True to False in a future version.\n",
            "  del sys.path[0]\n",
            "/usr/local/lib/python3.7/dist-packages/ipykernel_launcher.py:13: FutureWarning: The default value of regex will change from True to False in a future version.\n",
            "  del sys.path[0]\n",
            "/usr/local/lib/python3.7/dist-packages/ipykernel_launcher.py:13: FutureWarning: The default value of regex will change from True to False in a future version.\n",
            "  del sys.path[0]\n",
            "/usr/local/lib/python3.7/dist-packages/ipykernel_launcher.py:13: FutureWarning: The default value of regex will change from True to False in a future version.\n",
            "  del sys.path[0]\n",
            "/usr/local/lib/python3.7/dist-packages/ipykernel_launcher.py:13: FutureWarning: The default value of regex will change from True to False in a future version.\n",
            "  del sys.path[0]\n"
          ]
        },
        {
          "output_type": "stream",
          "name": "stdout",
          "text": [
            "AF Luli Cream is an antifungal medicine used to treat fungal  infections of the skin.Ask your doctor if it is safe.\n",
            "========================================================================================================================\n",
            "Summary of the article -  757\n",
            "Azilide 250 Tablet is an antibiotic used to treat various types of bacterial infections of the respiratory tract, ear, nose, throat, lungs, skin, and eye in adults and children.Consult your doctor if you find these side effects worry you or persist for a longer duration.Inform your doctor if you have any previous history of allergy or heart problems before taking this medicine.\n",
            "========================================================================================================================\n",
            "Summary of the article -  758\n",
            "Atocor-F Tablet is a combination of two lipid (fat) lowering medicines.Before taking it, let your doctor know if you have any kidney-related problems or if you are pregnant, planning a pregnancy, or breastfeeding.\n",
            "========================================================================================================================\n",
            "Summary of the article -  759\n",
            "Arvast-CF 10 Capsule DR is a combination of two lipid (fat) lowering medicines.Before taking it, let your doctor know if you have any kidney-related problems or if you are pregnant, planning a pregnancy, or breastfeeding.\n",
            "========================================================================================================================\n",
            "Summary of the article -  760\n",
            "Avas CV 10 Capsule is a combination of two medicines used to prevent heart attack and stroke.Do not stop taking it until you have finished the complete course, even when you feel better.\n",
            "========================================================================================================================\n",
            "Summary of the article -  761\n"
          ]
        },
        {
          "output_type": "stream",
          "name": "stderr",
          "text": [
            "/usr/local/lib/python3.7/dist-packages/ipykernel_launcher.py:13: FutureWarning: The default value of regex will change from True to False in a future version.\n",
            "  del sys.path[0]\n",
            "/usr/local/lib/python3.7/dist-packages/ipykernel_launcher.py:13: FutureWarning: The default value of regex will change from True to False in a future version.\n",
            "  del sys.path[0]\n",
            "/usr/local/lib/python3.7/dist-packages/ipykernel_launcher.py:13: FutureWarning: The default value of regex will change from True to False in a future version.\n",
            "  del sys.path[0]\n",
            "/usr/local/lib/python3.7/dist-packages/ipykernel_launcher.py:13: FutureWarning: The default value of regex will change from True to False in a future version.\n",
            "  del sys.path[0]\n",
            "/usr/local/lib/python3.7/dist-packages/ipykernel_launcher.py:13: FutureWarning: The default value of regex will change from True to False in a future version.\n",
            "  del sys.path[0]\n"
          ]
        },
        {
          "output_type": "stream",
          "name": "stdout",
          "text": [
            "Aciloc-S Suspension Sugar Free is a prescription medicine that is used in the treatment of acidity, stomach ulcer and heartburn.Avoid drinking alcohol while taking this medicine as it can worsen your dizziness.Before taking this medicine, you should tell your doctor if you are pregnant, planning pregnancy or breastfeeding.\n",
            "========================================================================================================================\n",
            "Summary of the article -  762\n",
            "Also, pregnant women and breastfeeding mothers should not take this medicine as it may harm the developing baby.Atorlip 80 Tablet belongs to a group of medicines called statins.\n",
            "========================================================================================================================\n",
            "Summary of the article -  763\n",
            "Acenal SP Tablet is a combination medicine used to relieve pain and swelling in various conditions like muscle pain, joint pain and postoperative pain.Acenal SP Tablet is not recommended if you are pregnant or breastfeeding.\n",
            "========================================================================================================================\n",
            "Summary of the article -  764\n",
            "Arbitel 20 Tablet is a medicine used to treat high blood pressure and heart disease.Before taking this medicine, let your doctor know if you have any kidney or liver problems.\n",
            "========================================================================================================================\n",
            "Summary of the article -  765\n"
          ]
        },
        {
          "output_type": "stream",
          "name": "stderr",
          "text": [
            "/usr/local/lib/python3.7/dist-packages/ipykernel_launcher.py:13: FutureWarning: The default value of regex will change from True to False in a future version.\n",
            "  del sys.path[0]\n",
            "/usr/local/lib/python3.7/dist-packages/ipykernel_launcher.py:13: FutureWarning: The default value of regex will change from True to False in a future version.\n",
            "  del sys.path[0]\n",
            "/usr/local/lib/python3.7/dist-packages/ipykernel_launcher.py:13: FutureWarning: The default value of regex will change from True to False in a future version.\n",
            "  del sys.path[0]\n",
            "/usr/local/lib/python3.7/dist-packages/ipykernel_launcher.py:13: FutureWarning: The default value of regex will change from True to False in a future version.\n",
            "  del sys.path[0]\n"
          ]
        },
        {
          "output_type": "stream",
          "name": "stdout",
          "text": [
            "Atorva F Tablet is a combination of two lipid (fat) lowering medicines.Before taking it, let your doctor know if you have any kidney-related problems or if you are pregnant, planning a pregnancy, or breastfeeding.\n",
            "========================================================================================================================\n",
            "Summary of the article -  766\n",
            "Aceron TC Tablet is a pain relieving medicine.Do not take more or use it for longer duration than recommended by the doctor.The most common side effects of this medicine include nausea, vomiting, heartburn, stomach pain, and indigestion.\n",
            "========================================================================================================================\n",
            "Summary of the article -  767\n",
            "Addphos Granules is used in the treatment of high calcium levels in the blood and hyperparathyroidism.Before using this medicine, inform your doctor if you have any problems with your kidney or liver.\n",
            "========================================================================================================================\n",
            "Summary of the article -  768\n",
            "Algest SR 300 Tablet is a natural female sex hormone, progesterone.Also, tell your doctor what other medicines you are taking as some may affect, or be affected by, this medicine.\n",
            "========================================================================================================================\n",
            "Summary of the article -  769\n",
            ").Before using this medicine, it is important to tell your doctor if you are taking or have recently taken any other medicines for the same disease or other diseases.A thin layer of the medicine should be applied only to the affected areas of the skin with clean and dry hands.\n",
            "========================================================================================================================\n",
            "Summary of the article -  770\n",
            "Atazis 25mg Tablet is an antihistamine used to treat symptoms of skin allergy like itching, swelling, and rashes.Generally, it is advised to avoid alcohol while on treatment.\n",
            "========================================================================================================================\n",
            "Summary of the article -  771\n",
            "Atorfit CV 10 Capsule is a combination of two medicines used to prevent heart attack and stroke.Do not stop taking it until you have finished the complete course, even when you feel better.\n",
            "========================================================================================================================\n",
            "Summary of the article -  772\n",
            "Atchol-ASP Capsule is a combination of two medicines used to prevent heart attack and stroke.Do not stop taking it until you have finished the complete course, even when you feel better.\n",
            "========================================================================================================================\n",
            "Summary of the article -  773\n",
            "Aqua Ear Drop is a medicine used to treat ear infection.However, it may cause irritation, itching, and burning sensation immediately following application.\n",
            "========================================================================================================================\n",
            "Summary of the article -  774\n",
            "Amrolmac Cream is an antifungal medication.Avoid direct contact of the cream or ointment with your eyes.\n",
            "========================================================================================================================\n",
            "Summary of the article -  775\n",
            "Aggramed 5mg Infusion is a blood thinner which prevents formation of harmful blood clots.Also, let your doctor know if you are pregnant or breastfeeding and about all the other medications that you are taking regularly.\n",
            "========================================================================================================================\n",
            "Summary of the article -  776\n"
          ]
        },
        {
          "output_type": "stream",
          "name": "stderr",
          "text": [
            "/usr/local/lib/python3.7/dist-packages/ipykernel_launcher.py:13: FutureWarning: The default value of regex will change from True to False in a future version.\n",
            "  del sys.path[0]\n",
            "/usr/local/lib/python3.7/dist-packages/ipykernel_launcher.py:13: FutureWarning: The default value of regex will change from True to False in a future version.\n",
            "  del sys.path[0]\n",
            "/usr/local/lib/python3.7/dist-packages/ipykernel_launcher.py:13: FutureWarning: The default value of regex will change from True to False in a future version.\n",
            "  del sys.path[0]\n",
            "/usr/local/lib/python3.7/dist-packages/ipykernel_launcher.py:13: FutureWarning: The default value of regex will change from True to False in a future version.\n",
            "  del sys.path[0]\n",
            "/usr/local/lib/python3.7/dist-packages/ipykernel_launcher.py:13: FutureWarning: The default value of regex will change from True to False in a future version.\n",
            "  del sys.path[0]\n",
            "/usr/local/lib/python3.7/dist-packages/ipykernel_launcher.py:13: FutureWarning: The default value of regex will change from True to False in a future version.\n",
            "  del sys.path[0]\n",
            "/usr/local/lib/python3.7/dist-packages/ipykernel_launcher.py:13: FutureWarning: The default value of regex will change from True to False in a future version.\n",
            "  del sys.path[0]\n",
            "/usr/local/lib/python3.7/dist-packages/ipykernel_launcher.py:13: FutureWarning: The default value of regex will change from True to False in a future version.\n",
            "  del sys.path[0]\n"
          ]
        },
        {
          "output_type": "stream",
          "name": "stdout",
          "text": [
            "Acceclowoc SP 100 mg/500 mg/15 mg Tablet is a combination medicine used to relieve pain and swelling in various conditions like muscle pain, joint pain and postoperative pain.Acceclowoc SP 100 mg/500 mg/15 mg Tablet is not recommended if you are pregnant or breastfeeding.\n",
            "========================================================================================================================\n",
            "Summary of the article -  777\n",
            "ATM 200 Oral Suspension is an antibiotic used to treat various types of bacterial infections of the respiratory tract, ear, nose, throat, lungs, skin, and eye in adults and children.Consult your doctor if you find these side effects worry you or persist for a longer duration.Inform your doctor if you have any previous history of allergy or heart problems before taking this medicine.\n",
            "========================================================================================================================\n",
            "Summary of the article -  778\n",
            "Amlopres L Tablet is used to treat hypertension (high blood pressure).Even if you feel well, do not stop this medicine on your own because high blood pressure often has no symptoms.\n",
            "========================================================================================================================\n",
            "Summary of the article -  779\n",
            "), you must seek immediate medical help.Before taking this medicine, you should tell your doctor if you are taking any medicines for any health condition.Abd Plus Tablet is a combination medicine that is used in the treatment of parasites and worm infestations in the body.\n",
            "========================================================================================================================\n",
            "Summary of the article -  780\n",
            "Acnex 20 Capsule belongs to a group of medicines called retinoids, which are closely related to vitamin A derivative.Acnex 20 Capsule should be used in the dose and duration as advised by your doctor.\n",
            "========================================================================================================================\n",
            "Summary of the article -  781\n"
          ]
        },
        {
          "output_type": "stream",
          "name": "stderr",
          "text": [
            "/usr/local/lib/python3.7/dist-packages/ipykernel_launcher.py:13: FutureWarning: The default value of regex will change from True to False in a future version.\n",
            "  del sys.path[0]\n",
            "/usr/local/lib/python3.7/dist-packages/ipykernel_launcher.py:13: FutureWarning: The default value of regex will change from True to False in a future version.\n",
            "  del sys.path[0]\n",
            "/usr/local/lib/python3.7/dist-packages/ipykernel_launcher.py:13: FutureWarning: The default value of regex will change from True to False in a future version.\n",
            "  del sys.path[0]\n",
            "/usr/local/lib/python3.7/dist-packages/ipykernel_launcher.py:13: FutureWarning: The default value of regex will change from True to False in a future version.\n",
            "  del sys.path[0]\n",
            "/usr/local/lib/python3.7/dist-packages/ipykernel_launcher.py:13: FutureWarning: The default value of regex will change from True to False in a future version.\n",
            "  del sys.path[0]\n",
            "/usr/local/lib/python3.7/dist-packages/ipykernel_launcher.py:13: FutureWarning: The default value of regex will change from True to False in a future version.\n",
            "  del sys.path[0]\n"
          ]
        },
        {
          "output_type": "stream",
          "name": "stdout",
          "text": [
            "Ace Revelol 25/2.5 Tablet ER is a medicine used for treating high blood pressure.By lowering the blood pressure, it helps in preventing future heart attack and stroke.\n",
            "========================================================================================================================\n",
            "Summary of the article -  782\n",
            "Asklerol 3% Injection is a prescription medicine used in the treatment of varicose veins.Before taking it, you should tell your doctor if you have any kidney or liver diseases so that your doctor can prescribe a suitable dose for you.\n",
            "========================================================================================================================\n",
            "Summary of the article -  783\n",
            "Allercet Cold Syrup is a combination medicine used in the treatment of common cold symptoms.Avoid drinking alcohol while taking this medicine as it can worsen your sleepiness.Never support self-medication or recommend your medicine to another person.\n",
            "========================================================================================================================\n",
            "Summary of the article -  784\n",
            "Atormac Gold 20 Capsule is used for prevention of heart attack.Do not stop taking it until you have finished the complete course, even when you feel better.\n",
            "========================================================================================================================\n",
            "Summary of the article -  785\n",
            "Alconol 500mg Tablet is a medicine used in the treatment of alcohol addiction.Do not skip any doses and finish the full course of treatment.\n",
            "========================================================================================================================\n",
            "Summary of the article -  786\n",
            "Atropin Infusion is used to treat bradycardia(slow heart rate).Dry mouth may also occur while using this medicine so, try to do frequent mouth rinses, maintain good oral hygiene and increase water intake.Pregnant or breastfeeding women should also consult their doctor before taking this medicine.\n",
            "========================================================================================================================\n",
            "Summary of the article -  787\n",
            "Amlopres-AT Tablet is used to treat hypertension (high blood pressure).Even if you feel well, do not stop this medicine on your own because high blood pressure often has no symptoms.\n",
            "========================================================================================================================\n",
            "Summary of the article -  788\n"
          ]
        },
        {
          "output_type": "stream",
          "name": "stderr",
          "text": [
            "/usr/local/lib/python3.7/dist-packages/ipykernel_launcher.py:13: FutureWarning: The default value of regex will change from True to False in a future version.\n",
            "  del sys.path[0]\n",
            "/usr/local/lib/python3.7/dist-packages/ipykernel_launcher.py:13: FutureWarning: The default value of regex will change from True to False in a future version.\n",
            "  del sys.path[0]\n",
            "/usr/local/lib/python3.7/dist-packages/ipykernel_launcher.py:13: FutureWarning: The default value of regex will change from True to False in a future version.\n",
            "  del sys.path[0]\n",
            "/usr/local/lib/python3.7/dist-packages/ipykernel_launcher.py:13: FutureWarning: The default value of regex will change from True to False in a future version.\n",
            "  del sys.path[0]\n",
            "/usr/local/lib/python3.7/dist-packages/ipykernel_launcher.py:13: FutureWarning: The default value of regex will change from True to False in a future version.\n",
            "  del sys.path[0]\n",
            "/usr/local/lib/python3.7/dist-packages/ipykernel_launcher.py:13: FutureWarning: The default value of regex will change from True to False in a future version.\n",
            "  del sys.path[0]\n"
          ]
        },
        {
          "output_type": "stream",
          "name": "stdout",
          "text": [
            "Anxit Plus 0.5 mg/25 mg Tablet is a prescription medicine used to treat depression.Finish the full course of treatment even if you feel better.\n",
            "========================================================================================================================\n",
            "Summary of the article -  789\n",
            "Atchol-F Tablet is a combination of two lipid (fat) lowering medicines.Before taking it, let your doctor know if you have any kidney-related problems or if you are pregnant, planning a pregnancy, or breastfeeding.\n",
            "========================================================================================================================\n",
            "Summary of the article -  790\n",
            "Atropine 1% Eye Drop is used to treat myopia and inflammation in the eyes (uveitis or iritis).Do not touch the tip of the dropper or bottle.\n",
            "========================================================================================================================\n",
            "Summary of the article -  791\n",
            "Aristogyl 400 Tablet is an antibiotic medicine that helps your body fight infections caused by bacteria and parasites.Do not drink any alcohol while taking this medicine and for a few days after stopping it.\n",
            "========================================================================================================================\n",
            "Summary of the article -  792\n",
            "Armod 50 Tablet is a prescription medicine used in the treatment of excessive daytime sleepiness (narcolepsy).Before taking Armod 50 Tablet, inform your doctor if you have any problems with your kidneys, heart, liver, or have a history of seizures (epilepsy or fits).\n",
            "========================================================================================================================\n",
            "Summary of the article -  "
          ]
        },
        {
          "output_type": "stream",
          "name": "stderr",
          "text": [
            "/usr/local/lib/python3.7/dist-packages/ipykernel_launcher.py:13: FutureWarning: The default value of regex will change from True to False in a future version.\n",
            "  del sys.path[0]\n",
            "/usr/local/lib/python3.7/dist-packages/ipykernel_launcher.py:13: FutureWarning: The default value of regex will change from True to False in a future version.\n",
            "  del sys.path[0]\n",
            "/usr/local/lib/python3.7/dist-packages/ipykernel_launcher.py:13: FutureWarning: The default value of regex will change from True to False in a future version.\n",
            "  del sys.path[0]\n",
            "/usr/local/lib/python3.7/dist-packages/ipykernel_launcher.py:13: FutureWarning: The default value of regex will change from True to False in a future version.\n",
            "  del sys.path[0]\n",
            "/usr/local/lib/python3.7/dist-packages/ipykernel_launcher.py:13: FutureWarning: The default value of regex will change from True to False in a future version.\n",
            "  del sys.path[0]\n"
          ]
        },
        {
          "output_type": "stream",
          "name": "stdout",
          "text": [
            "793\n",
            "Ambizyme 300mg Tablet is used for the treatment of parasitic worm infections.Avoid skipping any doses and finish the full course of treatment even if you feel better.\n",
            "========================================================================================================================\n",
            "Summary of the article -  794\n",
            "Alkem Piroxicam 10mg Tablet DT is a pain relieving medicine.If any of these side effects persist or get worse, you should let your doctor know.\n",
            "========================================================================================================================\n",
            "Summary of the article -  795\n",
            "Amazeo 50 Tablet is a prescription medicine used in the treatment of schizophrenia, a mental disorder that can result in hallucinations or delusions and also adversely affects a person’s ability to think and behave.Amazeo 50 Tablet may be taken with or without food, preferably before bedtime.Do not skip any doses and finish the full course of treatment even if you feel better.\n",
            "========================================================================================================================\n",
            "Summary of the article -  796\n",
            "Also, tell your doctor if you have any problems with liver or kidneys.Anaflam TH  8 Tablet is a combination medicine which helps in relieving muscular pain.\n",
            "========================================================================================================================\n",
            "Summary of the article -  797\n",
            "Also, pregnant women and breastfeeding mothers should not take this medicine as it may harm the developing baby.Atocor 80 Tablet belongs to a group of medicines called statins.\n",
            "========================================================================================================================\n",
            "Summary of the article -  798\n"
          ]
        },
        {
          "output_type": "stream",
          "name": "stderr",
          "text": [
            "/usr/local/lib/python3.7/dist-packages/ipykernel_launcher.py:13: FutureWarning: The default value of regex will change from True to False in a future version.\n",
            "  del sys.path[0]\n",
            "/usr/local/lib/python3.7/dist-packages/ipykernel_launcher.py:13: FutureWarning: The default value of regex will change from True to False in a future version.\n",
            "  del sys.path[0]\n",
            "/usr/local/lib/python3.7/dist-packages/ipykernel_launcher.py:13: FutureWarning: The default value of regex will change from True to False in a future version.\n",
            "  del sys.path[0]\n",
            "/usr/local/lib/python3.7/dist-packages/ipykernel_launcher.py:13: FutureWarning: The default value of regex will change from True to False in a future version.\n",
            "  del sys.path[0]\n",
            "/usr/local/lib/python3.7/dist-packages/ipykernel_launcher.py:13: FutureWarning: The default value of regex will change from True to False in a future version.\n",
            "  del sys.path[0]\n"
          ]
        },
        {
          "output_type": "stream",
          "name": "stdout",
          "text": [
            "Alfugress Tablet PR is an alpha adrenergic antagonist that is used in the treatment of benign prostatic hyperplasia.However, it does not decrease the size of the prostate.Alfugress Tablet PR is advised to take it in a dose and duration as per prescription.\n",
            "========================================================================================================================\n",
            "Summary of the article -  799\n",
            "Apply it only on the affected areas of the skin.Atm-A Gel is a combination of two medicine that effectively treats acne.\n",
            "========================================================================================================================\n",
            "Summary of the article -  800\n",
            "Acepar 100mg/325mg Tablet is a pain relieving medicine.Before taking it, let your doctor know if you have any problems with your heart, kidneys, liver, or have stomach ulcers.\n",
            "========================================================================================================================\n",
            "Summary of the article -  801\n",
            "Amlodac T 40 mg/5 mg Tablet contains two medicines, both of which help to control high blood pressure.By lowering your blood pressure, it is reducing your risk of heart attack or stroke so do not stop taking it unless your doctor tells you to.\n",
            "========================================================================================================================\n",
            "Summary of the article -  802\n",
            "Acrotac 10mg Capsule is a medicine that is similar to vitamin A and is involved in the normal growth of skin cells.Avoid drinking alcohol while taking this medicine as it can make dizziness worse.Avoid sun exposure and cover the treated areas with clothing or use a sunscreen before stepping out in the sun.\n",
            "========================================================================================================================\n",
            "Summary of the article -  803\n"
          ]
        },
        {
          "output_type": "stream",
          "name": "stderr",
          "text": [
            "/usr/local/lib/python3.7/dist-packages/ipykernel_launcher.py:13: FutureWarning: The default value of regex will change from True to False in a future version.\n",
            "  del sys.path[0]\n",
            "/usr/local/lib/python3.7/dist-packages/ipykernel_launcher.py:13: FutureWarning: The default value of regex will change from True to False in a future version.\n",
            "  del sys.path[0]\n",
            "/usr/local/lib/python3.7/dist-packages/ipykernel_launcher.py:13: FutureWarning: The default value of regex will change from True to False in a future version.\n",
            "  del sys.path[0]\n",
            "/usr/local/lib/python3.7/dist-packages/ipykernel_launcher.py:13: FutureWarning: The default value of regex will change from True to False in a future version.\n",
            "  del sys.path[0]\n",
            "/usr/local/lib/python3.7/dist-packages/ipykernel_launcher.py:13: FutureWarning: The default value of regex will change from True to False in a future version.\n",
            "  del sys.path[0]\n"
          ]
        },
        {
          "output_type": "stream",
          "name": "stdout",
          "text": [
            "Azulix MV 2mg/500mg/0.2mg Tablet SR belongs to a category of medicines known as anti-diabetic drugs.Before taking this medicine, tell your doctor if you have ever had heart disease.\n",
            "========================================================================================================================\n",
            "Summary of the article -  804\n",
            "Aggribloc 5mg Infusion is a blood thinner which prevents formation of harmful blood clots.Also, let your doctor know if you are pregnant or breastfeeding and about all the other medications that you are taking regularly.\n",
            "========================================================================================================================\n",
            "Summary of the article -  805\n",
            "Afogatran 150 Capsule is a medicine known as an anticoagulant or blood thinner.Do not stop taking it or change the dose without guidance from your doctor.\n",
            "========================================================================================================================\n",
            "Summary of the article -  806\n",
            "Amlovas 10 Tablet belongs to a class of medicines known as a calcium channel blockers.Consult your doctor if any of these side effects bother you or do not go away.Before taking it, let your doctor know if you have any liver, heart or kidney problems.\n",
            "========================================================================================================================\n",
            "Summary of the article -  807\n",
            "Asthafen Tablet is the prescription medicine used to prevent the symptoms of asthma.Consult your doctor if your condition does not improve or if the side effects bother you.Before taking this medicine, tell your doctor if you have epilepsy, or you have diabetes.\n",
            "========================================================================================================================\n",
            "Summary of the article -  808\n",
            "Alkamed Syrup is a medicine used in the treatment of gout and kidney stones.Also tell your doctor if you have any problems with your heart, kidneys, or liver.\n",
            "========================================================================================================================\n",
            "Summary of the article -  809\n"
          ]
        },
        {
          "output_type": "stream",
          "name": "stderr",
          "text": [
            "/usr/local/lib/python3.7/dist-packages/ipykernel_launcher.py:13: FutureWarning: The default value of regex will change from True to False in a future version.\n",
            "  del sys.path[0]\n",
            "/usr/local/lib/python3.7/dist-packages/ipykernel_launcher.py:13: FutureWarning: The default value of regex will change from True to False in a future version.\n",
            "  del sys.path[0]\n",
            "/usr/local/lib/python3.7/dist-packages/ipykernel_launcher.py:13: FutureWarning: The default value of regex will change from True to False in a future version.\n",
            "  del sys.path[0]\n",
            "/usr/local/lib/python3.7/dist-packages/ipykernel_launcher.py:13: FutureWarning: The default value of regex will change from True to False in a future version.\n",
            "  del sys.path[0]\n",
            "/usr/local/lib/python3.7/dist-packages/ipykernel_launcher.py:13: FutureWarning: The default value of regex will change from True to False in a future version.\n",
            "  del sys.path[0]\n",
            "/usr/local/lib/python3.7/dist-packages/ipykernel_launcher.py:13: FutureWarning: The default value of regex will change from True to False in a future version.\n",
            "  del sys.path[0]\n"
          ]
        },
        {
          "output_type": "stream",
          "name": "stdout",
          "text": [
            "Alphadopa 500 Tablet is a medicine used in the treatment of high blood pressure (hypertension).Also, pregnant women and breastfeeding mothers should consult a doctor before taking it.\n",
            "========================================================================================================================\n",
            "Summary of the article -  810\n",
            "A Kare Combipack is a combination of two medicines, which is used for medical abortion (terminating a pregnancy).After a period of 36-48 hours, you have take misoprostol tablets, either orally or vaginally.\n",
            "========================================================================================================================\n",
            "Summary of the article -  811\n",
            "Amclav 625 mg Tablet is a penicillin-type of antibiotic that helps your body fight infections caused by bacteria.Do not stop taking it until you have finished, even when you feel better.\n",
            "========================================================================================================================\n",
            "Summary of the article -  812\n",
            "Amodep-TM Tablet contains two medicines, both of which help to control high blood pressure.By lowering your blood pressure, it is reducing your risk of heart attack or stroke so do not stop taking it unless your doctor tells you to.\n",
            "========================================================================================================================\n",
            "Summary of the article -  813\n",
            "Allercet-L Tablet belongs to a group of medicines called antihistamines.Consult your doctor if any of the side effects persist or worry you.Before taking it, tell your doctor if you have any kidney problems or epilepsy (seizures).\n",
            "========================================================================================================================\n",
            "Summary of the article -  814\n"
          ]
        },
        {
          "output_type": "stream",
          "name": "stderr",
          "text": [
            "/usr/local/lib/python3.7/dist-packages/ipykernel_launcher.py:13: FutureWarning: The default value of regex will change from True to False in a future version.\n",
            "  del sys.path[0]\n",
            "/usr/local/lib/python3.7/dist-packages/ipykernel_launcher.py:13: FutureWarning: The default value of regex will change from True to False in a future version.\n",
            "  del sys.path[0]\n",
            "/usr/local/lib/python3.7/dist-packages/ipykernel_launcher.py:13: FutureWarning: The default value of regex will change from True to False in a future version.\n",
            "  del sys.path[0]\n",
            "/usr/local/lib/python3.7/dist-packages/ipykernel_launcher.py:13: FutureWarning: The default value of regex will change from True to False in a future version.\n",
            "  del sys.path[0]\n",
            "/usr/local/lib/python3.7/dist-packages/ipykernel_launcher.py:13: FutureWarning: The default value of regex will change from True to False in a future version.\n",
            "  del sys.path[0]\n",
            "/usr/local/lib/python3.7/dist-packages/ipykernel_launcher.py:13: FutureWarning: The default value of regex will change from True to False in a future version.\n",
            "  del sys.path[0]\n"
          ]
        },
        {
          "output_type": "stream",
          "name": "stdout",
          "text": [
            "Anaero Gel is the combination medicine used in the treatment of acne.Applying it at the same time every day will help you remember to use it.\n",
            "========================================================================================================================\n",
            "Summary of the article -  815\n",
            "Azulix MV 2mg/500mg/0.3mg Tablet SR belongs to a category of medicines known as anti-diabetic drugs.Before taking this medicine, tell your doctor if you have ever had heart disease.\n",
            "========================================================================================================================\n",
            "Summary of the article -  816\n",
            "Andre Plus Eye Drops is a prescription medicine having a combination of medicines that is used to treat allergic diseases of the eye.Do not skip any doses and finish the full course of treatment even if you feel better.\n",
            "========================================================================================================================\n",
            "Summary of the article -  817\n",
            "Acotibien 100mg Tablet is used in the treatment of indigestion.Before taking this medicine, you should let your doctor know if you have liver and kidney problems.\n",
            "========================================================================================================================\n",
            "Summary of the article -  818\n",
            "Amrolstar Cream is an antifungal medication.Avoid direct contact of the cream or ointment with your eyes.\n",
            "========================================================================================================================\n",
            "Summary of the article -  819\n"
          ]
        },
        {
          "output_type": "stream",
          "name": "stderr",
          "text": [
            "/usr/local/lib/python3.7/dist-packages/ipykernel_launcher.py:13: FutureWarning: The default value of regex will change from True to False in a future version.\n",
            "  del sys.path[0]\n",
            "/usr/local/lib/python3.7/dist-packages/ipykernel_launcher.py:13: FutureWarning: The default value of regex will change from True to False in a future version.\n",
            "  del sys.path[0]\n",
            "/usr/local/lib/python3.7/dist-packages/ipykernel_launcher.py:13: FutureWarning: The default value of regex will change from True to False in a future version.\n",
            "  del sys.path[0]\n",
            "/usr/local/lib/python3.7/dist-packages/ipykernel_launcher.py:13: FutureWarning: The default value of regex will change from True to False in a future version.\n",
            "  del sys.path[0]\n",
            "/usr/local/lib/python3.7/dist-packages/ipykernel_launcher.py:13: FutureWarning: The default value of regex will change from True to False in a future version.\n",
            "  del sys.path[0]\n",
            "/usr/local/lib/python3.7/dist-packages/ipykernel_launcher.py:13: FutureWarning: The default value of regex will change from True to False in a future version.\n",
            "  del sys.path[0]\n",
            "/usr/local/lib/python3.7/dist-packages/ipykernel_launcher.py:13: FutureWarning: The default value of regex will change from True to False in a future version.\n",
            "  del sys.path[0]\n"
          ]
        },
        {
          "output_type": "stream",
          "name": "stdout",
          "text": [
            "Amikamac 100mg Injection is an antibiotic used to prevent or treat a wide variety of bacterial infections.Consult your doctor if any of these side effects persist or if your condition does not improve despite treatment.Some patients receiving high doses may develop balance disorder (loss of balance), kidney damage and hearing loss.\n",
            "========================================================================================================================\n",
            "Summary of the article -  820\n",
            "Azibact 100 Readymix Oral Suspension is an antibiotic used to treat various types of bacterial infections of the respiratory tract, ear, nose, throat, lungs, skin, and eye in adults and children.Consult your doctor if you find these side effects worry you or persist for a longer duration.Inform your doctor if you have any previous history of allergy or heart problems before taking this medicine.\n",
            "========================================================================================================================\n",
            "Summary of the article -  821\n",
            "Adilan 40mg Tablet SR is vasodilators and uterine relaxants.If these bother you or appear serious, let your doctor know.\n",
            "========================================================================================================================\n",
            "Summary of the article -  822\n",
            "Amlodac M Tablet PR contains two medicines, both of which help to control high blood pressure and heart rate.Even if you feel well, do not stop this medicine on your own because high blood pressure often has no symptoms.\n",
            "========================================================================================================================\n",
            "Summary of the article -  823\n",
            "Acocontin Tablet CR is used for treating various respiratory tract disorders associated with excessive mucus.For better results, it is suggested to take it at the same time every day.\n",
            "========================================================================================================================\n",
            "Summary of the article -  824\n",
            "Amucoe Nac Tablet is used for the prevention of chronic obstructive pulmonary disorder (a lung disorder in which the flow of air to the lungs is blocked).Avoid drinking alcohol while taking this medicine as it can worsen your sleepiness.Never support self-medication or recommend your medicine to another person.\n",
            "========================================================================================================================\n",
            "Summary of the article -  825\n"
          ]
        },
        {
          "output_type": "stream",
          "name": "stderr",
          "text": [
            "/usr/local/lib/python3.7/dist-packages/ipykernel_launcher.py:13: FutureWarning: The default value of regex will change from True to False in a future version.\n",
            "  del sys.path[0]\n",
            "/usr/local/lib/python3.7/dist-packages/ipykernel_launcher.py:13: FutureWarning: The default value of regex will change from True to False in a future version.\n",
            "  del sys.path[0]\n",
            "/usr/local/lib/python3.7/dist-packages/ipykernel_launcher.py:13: FutureWarning: The default value of regex will change from True to False in a future version.\n",
            "  del sys.path[0]\n",
            "/usr/local/lib/python3.7/dist-packages/ipykernel_launcher.py:13: FutureWarning: The default value of regex will change from True to False in a future version.\n",
            "  del sys.path[0]\n",
            "/usr/local/lib/python3.7/dist-packages/ipykernel_launcher.py:13: FutureWarning: The default value of regex will change from True to False in a future version.\n",
            "  del sys.path[0]\n"
          ]
        },
        {
          "output_type": "stream",
          "name": "stdout",
          "text": [
            "Amlace Tablet is used to treat hypertension (high blood pressure).Even if you feel well, do not stop this medicine on your own because high blood pressure often has no symptoms.\n",
            "========================================================================================================================\n",
            "Summary of the article -  826\n",
            "Alertriz 5mg Tablet belongs to a group of medicines called antihistamines.Consult your doctor if any of the side effects persist or worry you.Before taking it, tell your doctor if you have any kidney problems or epilepsy (seizures).\n",
            "========================================================================================================================\n",
            "Summary of the article -  827\n",
            "Actoid 25mg Capsule is a medicine that is similar to vitamin A and is involved in the normal growth of skin cells.Avoid drinking alcohol while taking this medicine as it can make dizziness worse.Avoid sun exposure and cover the treated areas with clothing or use a sunscreen before stepping out in the sun.\n",
            "========================================================================================================================\n",
            "Summary of the article -  828\n",
            "Amorfine Cream is an antifungal medication.Avoid direct contact of the cream or ointment with your eyes.\n",
            "========================================================================================================================\n",
            "Summary of the article -  829\n",
            "Always tell your doctor what other health conditions you have and what other medicines you are taking.Angina occurs when the heart muscle is not getting enough blood.\n",
            "========================================================================================================================\n",
            "Summary of the article -  830\n"
          ]
        },
        {
          "output_type": "stream",
          "name": "stderr",
          "text": [
            "/usr/local/lib/python3.7/dist-packages/ipykernel_launcher.py:13: FutureWarning: The default value of regex will change from True to False in a future version.\n",
            "  del sys.path[0]\n",
            "/usr/local/lib/python3.7/dist-packages/ipykernel_launcher.py:13: FutureWarning: The default value of regex will change from True to False in a future version.\n",
            "  del sys.path[0]\n",
            "/usr/local/lib/python3.7/dist-packages/ipykernel_launcher.py:13: FutureWarning: The default value of regex will change from True to False in a future version.\n",
            "  del sys.path[0]\n",
            "/usr/local/lib/python3.7/dist-packages/ipykernel_launcher.py:13: FutureWarning: The default value of regex will change from True to False in a future version.\n",
            "  del sys.path[0]\n",
            "/usr/local/lib/python3.7/dist-packages/ipykernel_launcher.py:13: FutureWarning: The default value of regex will change from True to False in a future version.\n",
            "  del sys.path[0]\n"
          ]
        },
        {
          "output_type": "stream",
          "name": "stdout",
          "text": [
            "Ambulax-ET Tablet is a prescription medicine used to treat anxiety disorder.Avoid consuming alcohol while taking this medicine as this may reduce its effectiveness.Some common side effects of this medicine include confusion, memory impairment, slow heart rate, tiredness, and nightmare.\n",
            "========================================================================================================================\n",
            "Summary of the article -  831\n",
            "Arreno Capsule ER is a combination of two medicines that mainly prevent clot formation in the blood vessels.Do not stop taking it until you have finished the complete course, even when you feel better.\n",
            "========================================================================================================================\n",
            "Summary of the article -  832\n",
            "Arimidex 1mg Tablet  is used alone or with other treatments, such as surgery or radiation, to treat early breast cancer in postmenopausal women.If these bother you or appear serious, let your doctor know.\n",
            "========================================================================================================================\n",
            "Summary of the article -  833\n",
            "Alkof Cofgel  Tablet is a combination medicine used in the treatment of dry cough.Avoid drinking alcohol while taking this medicine as it can make dizziness worse.Before taking it, you should tell your doctor if you have any kidney or liver diseases so that your doctor can prescribe a suitable dose for you.\n",
            "========================================================================================================================\n",
            "Summary of the article -  834\n",
            "After a period of 36-48 hours, you have take misoprostol tablets, either orally or vaginally.Antipreg Kit is a combination of two medicines, which is used for medical abortion (terminating a pregnancy).\n",
            "========================================================================================================================\n",
            "Summary of the article -  835\n"
          ]
        },
        {
          "output_type": "stream",
          "name": "stderr",
          "text": [
            "/usr/local/lib/python3.7/dist-packages/ipykernel_launcher.py:13: FutureWarning: The default value of regex will change from True to False in a future version.\n",
            "  del sys.path[0]\n",
            "/usr/local/lib/python3.7/dist-packages/ipykernel_launcher.py:13: FutureWarning: The default value of regex will change from True to False in a future version.\n",
            "  del sys.path[0]\n",
            "/usr/local/lib/python3.7/dist-packages/ipykernel_launcher.py:13: FutureWarning: The default value of regex will change from True to False in a future version.\n",
            "  del sys.path[0]\n",
            "/usr/local/lib/python3.7/dist-packages/ipykernel_launcher.py:13: FutureWarning: The default value of regex will change from True to False in a future version.\n",
            "  del sys.path[0]\n"
          ]
        },
        {
          "output_type": "stream",
          "name": "stdout",
          "text": [
            "Aciloc Only Oral Liquid is a medicine that reduces the amount of excess acid make by your stomach.Also tell your doctor what other medicines you are taking as some may affect, or be affected by, this medicine.\n",
            "========================================================================================================================\n",
            "Summary of the article -  836\n",
            "Angizaar-H Tablet is a combination of two medicines.Drinking alcohol can further lower your blood pressure and may cause side effects.\n",
            "========================================================================================================================\n",
            "Summary of the article -  837\n",
            "Ampicillin 125mg Dry Syrup is a penicillin-type of antibiotic used to treat a variety of bacterial infections.Consult your doctor if any of these side effects persist or if your condition worsens.\n",
            "========================================================================================================================\n",
            "Summary of the article -  838\n",
            "Ambrodil-XP Capsule is used to treat and prevent symptoms of asthma and chronic obstructive pulmonary disorder (a lung disorder in which flow of air to the lung is blocked).But take it at the same time every day to get the most benefit.\n",
            "========================================================================================================================\n",
            "Summary of the article -  839\n",
            "Aceclobest SP 100mg/325mg/10mg Tablet is a combination medicine used to relieve pain and swelling in various conditions like muscle pain, joint pain and postoperative pain.Aceclobest SP 100mg/325mg/10mg Tablet is not recommended if you are pregnant or breastfeeding.\n",
            "========================================================================================================================\n",
            "Summary of the article -  840\n"
          ]
        },
        {
          "output_type": "stream",
          "name": "stderr",
          "text": [
            "/usr/local/lib/python3.7/dist-packages/ipykernel_launcher.py:13: FutureWarning: The default value of regex will change from True to False in a future version.\n",
            "  del sys.path[0]\n",
            "/usr/local/lib/python3.7/dist-packages/ipykernel_launcher.py:13: FutureWarning: The default value of regex will change from True to False in a future version.\n",
            "  del sys.path[0]\n",
            "/usr/local/lib/python3.7/dist-packages/ipykernel_launcher.py:13: FutureWarning: The default value of regex will change from True to False in a future version.\n",
            "  del sys.path[0]\n",
            "/usr/local/lib/python3.7/dist-packages/ipykernel_launcher.py:13: FutureWarning: The default value of regex will change from True to False in a future version.\n",
            "  del sys.path[0]\n",
            "/usr/local/lib/python3.7/dist-packages/ipykernel_launcher.py:13: FutureWarning: The default value of regex will change from True to False in a future version.\n",
            "  del sys.path[0]\n",
            "/usr/local/lib/python3.7/dist-packages/ipykernel_launcher.py:13: FutureWarning: The default value of regex will change from True to False in a future version.\n",
            "  del sys.path[0]\n"
          ]
        },
        {
          "output_type": "stream",
          "name": "stdout",
          "text": [
            "Atorsave D 10 Tablet is a medicine used to treat high cholesterol.Do not stop taking it until you have finished the complete course, even when you feel better.\n",
            "========================================================================================================================\n",
            "Summary of the article -  841\n",
            "Astin CV 10 Capsule is a combination of two medicines used to prevent heart attack and stroke.Do not stop taking it until you have finished the complete course, even when you feel better.\n",
            "========================================================================================================================\n",
            "Summary of the article -  842\n",
            "Azulix 4 MF Forte Tablet PR belongs to a category of medicines known as anti-diabetic drugs.Before taking this medicine, tell your doctor if you have ever had heart disease.\n",
            "========================================================================================================================\n",
            "Summary of the article -  843\n",
            "Adova Capsule  is used alone or with other treatments, such as surgery or radiation, to treat early breast cancer in postmenopausal women.If these bother you or appear serious, let your doctor know.\n",
            "========================================================================================================================\n",
            "Summary of the article -  844\n",
            "Aginal 5 Tablet belongs to a class of medicines known as a calcium channel blockers.Consult your doctor if any of these side effects bother you or do not go away.Before taking it, let your doctor know if you have any liver, heart or kidney problems.\n",
            "========================================================================================================================\n",
            "Summary of the article -  845\n"
          ]
        },
        {
          "output_type": "stream",
          "name": "stderr",
          "text": [
            "/usr/local/lib/python3.7/dist-packages/ipykernel_launcher.py:13: FutureWarning: The default value of regex will change from True to False in a future version.\n",
            "  del sys.path[0]\n",
            "/usr/local/lib/python3.7/dist-packages/ipykernel_launcher.py:13: FutureWarning: The default value of regex will change from True to False in a future version.\n",
            "  del sys.path[0]\n",
            "/usr/local/lib/python3.7/dist-packages/ipykernel_launcher.py:13: FutureWarning: The default value of regex will change from True to False in a future version.\n",
            "  del sys.path[0]\n",
            "/usr/local/lib/python3.7/dist-packages/ipykernel_launcher.py:13: FutureWarning: The default value of regex will change from True to False in a future version.\n",
            "  del sys.path[0]\n"
          ]
        },
        {
          "output_type": "stream",
          "name": "stdout",
          "text": [
            "Ask your doctor when you should stop treatment.Avoid any contact with your eyes, nose or mouth.\n",
            "========================================================================================================================\n",
            "Summary of the article -  846\n",
            "Also, pregnant women and breastfeeding mothers should not take this medicine as it may harm the developing baby.Atorva 5 Tablet belongs to a group of medicines called statins.\n",
            "========================================================================================================================\n",
            "Summary of the article -  847\n",
            ").Before using this medicine, it is important to tell your doctor if you are taking or have recently taken any other medicines for the same disease or other diseases.A thin layer of the medicine should be applied only to the affected areas of the skin with clean and dry hands.\n",
            "========================================================================================================================\n",
            "Summary of the article -  848\n"
          ]
        },
        {
          "output_type": "stream",
          "name": "stderr",
          "text": [
            "/usr/local/lib/python3.7/dist-packages/ipykernel_launcher.py:13: FutureWarning: The default value of regex will change from True to False in a future version.\n",
            "  del sys.path[0]\n",
            "/usr/local/lib/python3.7/dist-packages/ipykernel_launcher.py:13: FutureWarning: The default value of regex will change from True to False in a future version.\n",
            "  del sys.path[0]\n",
            "/usr/local/lib/python3.7/dist-packages/ipykernel_launcher.py:13: FutureWarning: The default value of regex will change from True to False in a future version.\n",
            "  del sys.path[0]\n"
          ]
        },
        {
          "output_type": "stream",
          "name": "stdout",
          "text": [
            "Alphacept-D 8 Combipack is a combination of two medicines which work in different ways to treat men with an enlarged prostate gland.Before taking it, tell your doctor if you have low blood pressure or liver or kidney disease.\n",
            "========================================================================================================================\n",
            "Summary of the article -  849\n",
            "Asar-CT 40/6.25 Tablet is a combination medicine used in the treatment of hypertension (high blood pressure).It also removes extra water and certain electrolytes from the body.Asar-CT 40/6.25 Tablet can be taken with or without food, but take it at the same time to get the most benefit.\n",
            "========================================================================================================================\n",
            "Summary of the article -  850\n",
            "Azikem 250mg Tablet is an antibiotic used to treat various types of bacterial infections of the respiratory tract, ear, nose, throat, lungs, skin, and eye in adults and children.Consult your doctor if you find these side effects worry you or persist for a longer duration.Inform your doctor if you have any previous history of allergy or heart problems before taking this medicine.\n",
            "========================================================================================================================\n",
            "Summary of the article -  851\n",
            "Ancool  SF Suspension is a prescription medicine used in the treatment of ulcers in the stomach and intestine.Dizziness and sleepiness may also occur, so do not drive or do anything that requires mental focus until you know how this medicine affects you.Before taking this medicine it is better to inform the doctor if you are suffering from any liver or kidney disease as a dose of your medicine needs to be adjusted.\n",
            "========================================================================================================================\n",
            "Summary of the article -  852\n",
            "Augpen HS 200 mg/28.5 mg Suspension is a penicillin-type of antibiotic that helps your body fight infections caused by bacteria.Do not stop taking it until you have finished, even when you feel better.\n",
            "========================================================================================================================\n",
            "Summary of the article -  853\n",
            "Also, pregnant women and breastfeeding mothers should not take this medicine as it may harm the developing baby.Astin 10 Tablet belongs to a group of medicines called statins.\n",
            "========================================================================================================================\n",
            "Summary of the article -  854\n",
            "Artilage  Tablet is a combination of three medicines.Before taking it, let your doctor know if you have any medical conditions or disorders.\n",
            "========================================================================================================================\n",
            "Summary of the article -  855\n"
          ]
        },
        {
          "output_type": "stream",
          "name": "stderr",
          "text": [
            "/usr/local/lib/python3.7/dist-packages/ipykernel_launcher.py:13: FutureWarning: The default value of regex will change from True to False in a future version.\n",
            "  del sys.path[0]\n",
            "/usr/local/lib/python3.7/dist-packages/ipykernel_launcher.py:13: FutureWarning: The default value of regex will change from True to False in a future version.\n",
            "  del sys.path[0]\n",
            "/usr/local/lib/python3.7/dist-packages/ipykernel_launcher.py:13: FutureWarning: The default value of regex will change from True to False in a future version.\n",
            "  del sys.path[0]\n",
            "/usr/local/lib/python3.7/dist-packages/ipykernel_launcher.py:13: FutureWarning: The default value of regex will change from True to False in a future version.\n",
            "  del sys.path[0]\n",
            "/usr/local/lib/python3.7/dist-packages/ipykernel_launcher.py:13: FutureWarning: The default value of regex will change from True to False in a future version.\n",
            "  del sys.path[0]\n",
            "/usr/local/lib/python3.7/dist-packages/ipykernel_launcher.py:13: FutureWarning: The default value of regex will change from True to False in a future version.\n",
            "  del sys.path[0]\n"
          ]
        },
        {
          "output_type": "stream",
          "name": "stdout",
          "text": [
            "Amitax 500mg Injection is an antibiotic used to prevent or treat a wide variety of bacterial infections.Consult your doctor if any of these side effects persist or if your condition does not improve despite treatment.Some patients receiving high doses may develop balance disorder (loss of balance), kidney damage and hearing loss.\n",
            "========================================================================================================================\n",
            "Summary of the article -  856\n",
            "Azimax 200 Dry Syrup is an antibiotic used to treat various types of bacterial infections of the respiratory tract, ear, nose, throat, lungs, skin, and eye in adults and children.Consult your doctor if you find these side effects worry you or persist for a longer duration.Inform your doctor if you have any previous history of allergy or heart problems before taking this medicine.\n",
            "========================================================================================================================\n",
            "Summary of the article -  857\n",
            "Aceclomax-P Tablet is a pain relieving medicine.Before taking it, let your doctor know if you have any problems with your heart, kidneys, liver, or have stomach ulcers.\n",
            "========================================================================================================================\n",
            "Summary of the article -  858\n",
            "A Ret HC Cream is a prescription medicine having a combination of medicines that is used to treat melasma.Inform your doctor if you are pregnant or are suffering from any other disease.\n",
            "========================================================================================================================\n",
            "Summary of the article -  859\n",
            "Amlodac-D Tablet SR is a medicine used to treat hypertension (high blood pressure).Consult your doctor If any of these bother you, or get worse, or do not go away.\n",
            "========================================================================================================================\n",
            "Summary of the article -  860\n",
            "Acemiz 200 SR Tablet is a pain relieving medicine.Acemiz 200 SR Tablet is not recommended if you are pregnant or breastfeeding.\n",
            "========================================================================================================================\n",
            "Summary of the article -  861\n",
            "Amlopres 10 Tablet belongs to a class of medicines known as a calcium channel blockers.Consult your doctor if any of these side effects bother you or do not go away.Before taking it, let your doctor know if you have any liver, heart or kidney problems.\n",
            "========================================================================================================================\n",
            "Summary of the article -  862\n"
          ]
        },
        {
          "output_type": "stream",
          "name": "stderr",
          "text": [
            "/usr/local/lib/python3.7/dist-packages/ipykernel_launcher.py:13: FutureWarning: The default value of regex will change from True to False in a future version.\n",
            "  del sys.path[0]\n",
            "/usr/local/lib/python3.7/dist-packages/ipykernel_launcher.py:13: FutureWarning: The default value of regex will change from True to False in a future version.\n",
            "  del sys.path[0]\n",
            "/usr/local/lib/python3.7/dist-packages/ipykernel_launcher.py:13: FutureWarning: The default value of regex will change from True to False in a future version.\n",
            "  del sys.path[0]\n",
            "/usr/local/lib/python3.7/dist-packages/ipykernel_launcher.py:13: FutureWarning: The default value of regex will change from True to False in a future version.\n",
            "  del sys.path[0]\n",
            "/usr/local/lib/python3.7/dist-packages/ipykernel_launcher.py:13: FutureWarning: The default value of regex will change from True to False in a future version.\n",
            "  del sys.path[0]\n",
            "/usr/local/lib/python3.7/dist-packages/ipykernel_launcher.py:13: FutureWarning: The default value of regex will change from True to False in a future version.\n",
            "  del sys.path[0]\n",
            "/usr/local/lib/python3.7/dist-packages/ipykernel_launcher.py:13: FutureWarning: The default value of regex will change from True to False in a future version.\n",
            "  del sys.path[0]\n"
          ]
        },
        {
          "output_type": "stream",
          "name": "stdout",
          "text": [
            ").Before using this medicine, it is important to tell your doctor if you are taking or have recently taken any other medicines for the same disease or other diseases.A thin layer of the medicine should be applied only to the affected areas of the skin with clean and dry hands.\n",
            "========================================================================================================================\n",
            "Summary of the article -  863\n",
            "Amlodac 10 Tablet belongs to a class of medicines known as a calcium channel blockers.Consult your doctor if any of these side effects bother you or do not go away.Before taking it, let your doctor know if you have any liver, heart or kidney problems.\n",
            "========================================================================================================================\n",
            "Summary of the article -  864\n",
            "Aziwok 100 Liquid is an antibiotic used to treat various types of bacterial infections of the respiratory tract, ear, nose, throat, lungs, skin, and eye in adults and children.Consult your doctor if you find these side effects worry you or persist for a longer duration.Inform your doctor if you have any previous history of allergy or heart problems before taking this medicine.\n",
            "========================================================================================================================\n",
            "Summary of the article -  865\n",
            "Ark-AP Tablet is a pain relieving medicine.Before taking it, let your doctor know if you have any problems with your heart, kidneys, liver, or have stomach ulcers.\n",
            "========================================================================================================================\n",
            "Summary of the article -  866\n",
            "Astymin-3  10mg/8mg Infusion is a prescription medicine.Inform your doctor if you are suffering from any disease or are taking any medicines.\n",
            "========================================================================================================================\n",
            "Summary of the article -  867\n",
            "Anomed L Cream is a combination of two medicines used in the treatment anal fissures (tear in the lining of anus).Avoid getting this medicine into your eyes, nose or mouth.\n",
            "========================================================================================================================\n",
            "Summary of the article -  868\n",
            "Amlokind 10mg Tablet belongs to a class of medicines known as a calcium channel blockers.Consult your doctor if any of these side effects bother you or do not go away.Before taking it, let your doctor know if you have any liver, heart or kidney problems.\n",
            "========================================================================================================================\n",
            "Summary of the article -  869\n"
          ]
        },
        {
          "output_type": "stream",
          "name": "stderr",
          "text": [
            "/usr/local/lib/python3.7/dist-packages/ipykernel_launcher.py:13: FutureWarning: The default value of regex will change from True to False in a future version.\n",
            "  del sys.path[0]\n",
            "/usr/local/lib/python3.7/dist-packages/ipykernel_launcher.py:13: FutureWarning: The default value of regex will change from True to False in a future version.\n",
            "  del sys.path[0]\n",
            "/usr/local/lib/python3.7/dist-packages/ipykernel_launcher.py:13: FutureWarning: The default value of regex will change from True to False in a future version.\n",
            "  del sys.path[0]\n",
            "/usr/local/lib/python3.7/dist-packages/ipykernel_launcher.py:13: FutureWarning: The default value of regex will change from True to False in a future version.\n",
            "  del sys.path[0]\n",
            "/usr/local/lib/python3.7/dist-packages/ipykernel_launcher.py:13: FutureWarning: The default value of regex will change from True to False in a future version.\n",
            "  del sys.path[0]\n",
            "/usr/local/lib/python3.7/dist-packages/ipykernel_launcher.py:13: FutureWarning: The default value of regex will change from True to False in a future version.\n",
            "  del sys.path[0]\n",
            "/usr/local/lib/python3.7/dist-packages/ipykernel_launcher.py:13: FutureWarning: The default value of regex will change from True to False in a future version.\n",
            "  del sys.path[0]\n"
          ]
        },
        {
          "output_type": "stream",
          "name": "stdout",
          "text": [
            "Alkem Cold 5 mg/500 mg/5 mg Tablet is used in the treatment of common cold symptoms like runny nose, stuffy nose, sneezing, watery eyes and congestion or stuffiness.Avoid drinking alcohol while taking this medicine as it can worsen your sleepiness.Never support self-medication or recommend your medicine to another person.\n",
            "========================================================================================================================\n",
            "Summary of the article -  870\n",
            "Actifed DM  Syrup is a combination medicine used in the treatment of dry cough.Avoid drinking alcohol while taking this medicine as it can make dizziness worse.Never support self-medication or recommend your medicine to another person.\n",
            "========================================================================================================================\n",
            "Summary of the article -  871\n",
            "Avastin 400mg Injection is an anticancer medication.Inform your doctor that you are taking this medication before undergoing any surgical procedure, as the drug has ability to lower the ability of wound healing.\n",
            "========================================================================================================================\n",
            "Summary of the article -  872\n",
            "Actiheal-D Tablet is a pain relieving medicine.Before taking it, let your doctor know if you have any problems with your heart, kidneys, liver, or have stomach ulcers.\n",
            "========================================================================================================================\n",
            "Summary of the article -  873\n",
            "Amlopres 2.5 Tablet belongs to a class of medicines known as a calcium channel blockers.Consult your doctor if any of these side effects bother you or do not go away.Before taking it, let your doctor know if you have any liver, heart or kidney problems.\n",
            "========================================================================================================================\n",
            "Summary of the article -  874\n",
            "Airtec SF 250 Instacap is a combination of two medicines that opens the airways and makes it easier to breathe.However, before using it, inform doctor if you are suffering from any severe medical condition.\n",
            "========================================================================================================================\n",
            "Summary of the article -  875\n"
          ]
        },
        {
          "output_type": "stream",
          "name": "stderr",
          "text": [
            "/usr/local/lib/python3.7/dist-packages/ipykernel_launcher.py:13: FutureWarning: The default value of regex will change from True to False in a future version.\n",
            "  del sys.path[0]\n",
            "/usr/local/lib/python3.7/dist-packages/ipykernel_launcher.py:13: FutureWarning: The default value of regex will change from True to False in a future version.\n",
            "  del sys.path[0]\n",
            "/usr/local/lib/python3.7/dist-packages/ipykernel_launcher.py:13: FutureWarning: The default value of regex will change from True to False in a future version.\n",
            "  del sys.path[0]\n",
            "/usr/local/lib/python3.7/dist-packages/ipykernel_launcher.py:13: FutureWarning: The default value of regex will change from True to False in a future version.\n",
            "  del sys.path[0]\n",
            "/usr/local/lib/python3.7/dist-packages/ipykernel_launcher.py:13: FutureWarning: The default value of regex will change from True to False in a future version.\n",
            "  del sys.path[0]\n",
            "/usr/local/lib/python3.7/dist-packages/ipykernel_launcher.py:13: FutureWarning: The default value of regex will change from True to False in a future version.\n",
            "  del sys.path[0]\n"
          ]
        },
        {
          "output_type": "stream",
          "name": "stdout",
          "text": [
            "Azivent 200mg Rediuse Suspension is an antibiotic used to treat various types of bacterial infections of the respiratory tract, ear, nose, throat, lungs, skin, and eye in adults and children.Consult your doctor if you find these side effects worry you or persist for a longer duration.Inform your doctor if you have any previous history of allergy or heart problems before taking this medicine.\n",
            "========================================================================================================================\n",
            "Summary of the article -  876\n",
            "Ampoxin-CV Forte Dry Syrup is a penicillin-type of antibiotic that helps your body fight infections caused by bacteria.Do not stop taking it until you have finished, even when you feel better.\n",
            "========================================================================================================================\n",
            "Summary of the article -  877\n",
            "Abel CT 40mg/12.5mg Tablet is a combination medicine used in the treatment of hypertension (high blood pressure).It also removes extra water and certain electrolytes from the body.Abel CT 40mg/12.5mg Tablet can be taken with or without food, but take it at the same time to get the most benefit.\n",
            "========================================================================================================================\n",
            "Summary of the article -  878\n",
            "Amlong-TL 40 Tablet contains two medicines, both of which help to control high blood pressure.By lowering your blood pressure, it is reducing your risk of heart attack or stroke so do not stop taking it unless your doctor tells you to.\n",
            "========================================================================================================================\n",
            "Summary of the article -  879\n",
            "Acton Prolongatum 60IU Injection is an adrenocorticotropic hormone analogue.Acton Prolongatum 60IU Injection is given as an injection into the skin or muscles under the supervision of a doctor.\n",
            "========================================================================================================================\n",
            "Summary of the article -  880\n",
            "Additionally, it helps to eliminate a bacteria known as H. pylori in people with peptic ulcer disease.Almox 250 mg Tablet DT is a penicillin-type of antibiotic used to treat a variety of bacterial infections.\n",
            "========================================================================================================================\n",
            "Summary of the article -  881\n"
          ]
        },
        {
          "output_type": "stream",
          "name": "stderr",
          "text": [
            "/usr/local/lib/python3.7/dist-packages/ipykernel_launcher.py:13: FutureWarning: The default value of regex will change from True to False in a future version.\n",
            "  del sys.path[0]\n",
            "/usr/local/lib/python3.7/dist-packages/ipykernel_launcher.py:13: FutureWarning: The default value of regex will change from True to False in a future version.\n",
            "  del sys.path[0]\n",
            "/usr/local/lib/python3.7/dist-packages/ipykernel_launcher.py:13: FutureWarning: The default value of regex will change from True to False in a future version.\n",
            "  del sys.path[0]\n",
            "/usr/local/lib/python3.7/dist-packages/ipykernel_launcher.py:13: FutureWarning: The default value of regex will change from True to False in a future version.\n",
            "  del sys.path[0]\n",
            "/usr/local/lib/python3.7/dist-packages/ipykernel_launcher.py:13: FutureWarning: The default value of regex will change from True to False in a future version.\n",
            "  del sys.path[0]\n",
            "/usr/local/lib/python3.7/dist-packages/ipykernel_launcher.py:13: FutureWarning: The default value of regex will change from True to False in a future version.\n",
            "  del sys.path[0]\n"
          ]
        },
        {
          "output_type": "stream",
          "name": "stdout",
          "text": [
            "Actrapid 100IU/ml Solution for Injection is a short-acting insulin used to treat type 1 and type 2 diabetes mellitus.Check your blood sugar levels regularly, keep track of your results and share them with your doctor.\n",
            "========================================================================================================================\n",
            "Summary of the article -  882\n",
            "Also let your doctor know all other medications you are using as some may affect, or be affected by this medicine.Angiotec Tablet ER is a medicine used for the management of angina (heart-related chest pain).\n",
            "========================================================================================================================\n",
            "Summary of the article -  883\n",
            "Aceflam P 100mg/325mg Tablet is a pain relieving medicine.Before taking it, let your doctor know if you have any problems with your heart, kidneys, liver, or have stomach ulcers.\n",
            "========================================================================================================================\n",
            "Summary of the article -  884\n",
            "Alizap 30mg Tablet can be taken with or without food.Alizap 30mg Tablet is used in the treatment of moderate to severe plaque psoriasis which is a type of skin condition.\n",
            "========================================================================================================================\n",
            "Summary of the article -  885\n",
            "Acitrom 0.5 Tablet is an oral anticoagulant which helps to prevent formation of harmful blood clots in the legs, lungs, brain and heart.Also, let your doctor know if you are pregnant or breastfeeding and about all the other medications that you are taking regularly.\n",
            "========================================================================================================================\n",
            "Summary of the article -  886\n",
            "Androfil 40mg Capsule is a medicine used in the treatment of male hypogonadism caused due to low testosterone levels.If these bother you or appear serious, let your doctor know.\n",
            "========================================================================================================================\n",
            "Summary of the article -  887\n"
          ]
        },
        {
          "output_type": "stream",
          "name": "stderr",
          "text": [
            "/usr/local/lib/python3.7/dist-packages/ipykernel_launcher.py:13: FutureWarning: The default value of regex will change from True to False in a future version.\n",
            "  del sys.path[0]\n",
            "/usr/local/lib/python3.7/dist-packages/ipykernel_launcher.py:13: FutureWarning: The default value of regex will change from True to False in a future version.\n",
            "  del sys.path[0]\n",
            "/usr/local/lib/python3.7/dist-packages/ipykernel_launcher.py:13: FutureWarning: The default value of regex will change from True to False in a future version.\n",
            "  del sys.path[0]\n",
            "/usr/local/lib/python3.7/dist-packages/ipykernel_launcher.py:13: FutureWarning: The default value of regex will change from True to False in a future version.\n",
            "  del sys.path[0]\n",
            "/usr/local/lib/python3.7/dist-packages/ipykernel_launcher.py:13: FutureWarning: The default value of regex will change from True to False in a future version.\n",
            "  del sys.path[0]\n",
            "/usr/local/lib/python3.7/dist-packages/ipykernel_launcher.py:13: FutureWarning: The default value of regex will change from True to False in a future version.\n",
            "  del sys.path[0]\n"
          ]
        },
        {
          "output_type": "stream",
          "name": "stdout",
          "text": [
            "Arvast CV 10 Capsule is a combination of two medicines used to prevent heart attack and stroke.Do not stop taking it until you have finished the complete course, even when you feel better.\n",
            "========================================================================================================================\n",
            "Summary of the article -  888\n",
            ").Before taking this medicine, it is important to tell your doctor if you are taking or have recently taken any other medicines.A thin layer of the medicine should be applied only to the affected areas of the skin with clean and dry hands.\n",
            "========================================================================================================================\n",
            "Summary of the article -  889\n",
            "Alkof Syrup is used in the treatment of cough with mucus.Avoid drinking alcohol while taking this medicine as it can make sleepiness worse.Never support self-medication or recommend your medicine to another person.\n",
            "========================================================================================================================\n",
            "Summary of the article -  890\n",
            "Acnestar 20mg Capsule belongs to a group of medicines called retinoids, which are closely related to vitamin A derivative.Acnestar 20mg Capsule should be used in the dose and duration as advised by your doctor.\n",
            "========================================================================================================================\n",
            "Summary of the article -  891\n",
            "Also, pregnant women and breastfeeding mothers should not take this medicine as it may harm the developing baby.Atorsave 40 Tablet belongs to a group of medicines called statins.\n",
            "========================================================================================================================\n",
            "Summary of the article -  892\n"
          ]
        },
        {
          "output_type": "stream",
          "name": "stderr",
          "text": [
            "/usr/local/lib/python3.7/dist-packages/ipykernel_launcher.py:13: FutureWarning: The default value of regex will change from True to False in a future version.\n",
            "  del sys.path[0]\n",
            "/usr/local/lib/python3.7/dist-packages/ipykernel_launcher.py:13: FutureWarning: The default value of regex will change from True to False in a future version.\n",
            "  del sys.path[0]\n",
            "/usr/local/lib/python3.7/dist-packages/ipykernel_launcher.py:13: FutureWarning: The default value of regex will change from True to False in a future version.\n",
            "  del sys.path[0]\n",
            "/usr/local/lib/python3.7/dist-packages/ipykernel_launcher.py:13: FutureWarning: The default value of regex will change from True to False in a future version.\n",
            "  del sys.path[0]\n",
            "/usr/local/lib/python3.7/dist-packages/ipykernel_launcher.py:13: FutureWarning: The default value of regex will change from True to False in a future version.\n",
            "  del sys.path[0]\n",
            "/usr/local/lib/python3.7/dist-packages/ipykernel_launcher.py:13: FutureWarning: The default value of regex will change from True to False in a future version.\n",
            "  del sys.path[0]\n"
          ]
        },
        {
          "output_type": "stream",
          "name": "stdout",
          "text": [
            "Also, it is not safe to drive or operate heavy machinery while on medication, unless your doctor permits you to do so.Anawin 0.5% Injection is a prescription medication used as a local anesthetic.\n",
            "========================================================================================================================\n",
            "Summary of the article -  893\n",
            "Aldigesic 100 mg/500 mg/250 mg Tablet MR is a combination medicine which helps in relieving muscular pain.Also, tell your doctor if you have any problems with the liver or kidneys.\n",
            "========================================================================================================================\n",
            "Summary of the article -  894\n",
            "Amlovas-AT 25 Tablet is used to treat hypertension (high blood pressure).Even if you feel well, do not stop this medicine on your own because high blood pressure often has no symptoms.\n",
            "========================================================================================================================\n",
            "Summary of the article -  895\n",
            "Azulix 3 MF Forte Tablet PR belongs to a category of medicines known as anti-diabetic drugs.Before taking this medicine, tell your doctor if you have ever had heart disease.\n",
            "========================================================================================================================\n",
            "Summary of the article -  896\n",
            "Acimol Forte 100 mg/325 mg/15 mg Tablet is a combination medicine used to relieve pain and swelling in various conditions like muscle pain, joint pain and postoperative pain.Acimol Forte 100 mg/325 mg/15 mg Tablet is not recommended if you are pregnant or breastfeeding.\n",
            "========================================================================================================================\n",
            "Summary of the article -  897\n",
            "Anxipam 0.5mg Tablet MD is a prescription medicine used to treat epilepsy (seizures), panic and anxiety disorder.However, take it at the same time each day as this helps to maintain a consistent level of medicine in the body.\n",
            "========================================================================================================================\n",
            "Summary of the article -  898\n"
          ]
        },
        {
          "output_type": "stream",
          "name": "stderr",
          "text": [
            "/usr/local/lib/python3.7/dist-packages/ipykernel_launcher.py:13: FutureWarning: The default value of regex will change from True to False in a future version.\n",
            "  del sys.path[0]\n",
            "/usr/local/lib/python3.7/dist-packages/ipykernel_launcher.py:13: FutureWarning: The default value of regex will change from True to False in a future version.\n",
            "  del sys.path[0]\n",
            "/usr/local/lib/python3.7/dist-packages/ipykernel_launcher.py:13: FutureWarning: The default value of regex will change from True to False in a future version.\n",
            "  del sys.path[0]\n",
            "/usr/local/lib/python3.7/dist-packages/ipykernel_launcher.py:13: FutureWarning: The default value of regex will change from True to False in a future version.\n",
            "  del sys.path[0]\n",
            "/usr/local/lib/python3.7/dist-packages/ipykernel_launcher.py:13: FutureWarning: The default value of regex will change from True to False in a future version.\n",
            "  del sys.path[0]\n"
          ]
        },
        {
          "output_type": "stream",
          "name": "stdout",
          "text": [
            "Arifine 2.5 Tablet is an antipsychotic medicine.Before taking the medicine you should tell your doctor if you are pregnant, planning to become pregnant, or breastfeeding.\n",
            "========================================================================================================================\n",
            "Summary of the article -  899\n",
            "ATM XL 100mg/5ml Syrup is an antibiotic used to treat various types of bacterial infections of the respiratory tract, ear, nose, throat, lungs, skin, and eye in adults and children.Consult your doctor if you find these side effects worry you or persist for a longer duration.Inform your doctor if you have any previous history of allergy or heart problems before taking this medicine.\n",
            "========================================================================================================================\n",
            "Summary of the article -  900\n",
            "Amlogard 2.5mg Tablet belongs to a class of medicines known as a calcium channel blockers.Consult your doctor if any of these side effects bother you or do not go away.Before taking it, let your doctor know if you have any liver, heart or kidney problems.\n",
            "========================================================================================================================\n",
            "Summary of the article -  901\n",
            "Aspisol 150 Tablet is a combination of two medicine used for prevention of heart attack and stroke.Do not stop taking it until you have finished the complete course, even when you feel better.\n",
            "========================================================================================================================\n",
            "Summary of the article -  902\n"
          ]
        },
        {
          "output_type": "stream",
          "name": "stderr",
          "text": [
            "/usr/local/lib/python3.7/dist-packages/ipykernel_launcher.py:13: FutureWarning: The default value of regex will change from True to False in a future version.\n",
            "  del sys.path[0]\n",
            "/usr/local/lib/python3.7/dist-packages/ipykernel_launcher.py:13: FutureWarning: The default value of regex will change from True to False in a future version.\n",
            "  del sys.path[0]\n",
            "/usr/local/lib/python3.7/dist-packages/ipykernel_launcher.py:13: FutureWarning: The default value of regex will change from True to False in a future version.\n",
            "  del sys.path[0]\n",
            "/usr/local/lib/python3.7/dist-packages/ipykernel_launcher.py:13: FutureWarning: The default value of regex will change from True to False in a future version.\n",
            "  del sys.path[0]\n"
          ]
        },
        {
          "output_type": "stream",
          "name": "stdout",
          "text": [
            "Aretha Tablet belongs to a group of medicines called immunosuppressants.Because it suppresses your immune system, you may catch more infections than usual.\n",
            "========================================================================================================================\n",
            "Summary of the article -  903\n",
            "Avoid contact with eyes.Azac 20% Cream is a topical medication used in the treatment of acne (pimples).\n",
            "========================================================================================================================\n",
            "Summary of the article -  904\n",
            "Amlovas-L Tablet is used to treat hypertension (high blood pressure).Even if you feel well, do not stop this medicine on your own because high blood pressure often has no symptoms.\n",
            "========================================================================================================================\n",
            "Summary of the article -  905\n",
            "Azeflo FT Nasal Spray is a combination medicine used in the treatment of allergy symptoms such as runny nose, stuffy nose, sneezing, watery eyes and congestion or stuffiness.Azeflo FT Nasal Spray should be used as you have been advised by your doctor.Before you start taking this medicine it is important to inform your doctor if you are suffering from liver or kidney disease.\n",
            "========================================================================================================================\n",
            "Summary of the article -  906\n",
            "Ambistryn-S 1gm Injection is an antibiotic used in the treatment of tuberculosis, in combination with other medicines.Consult your doctor if your condition does not improve or if any of the side effects bother you.Use caution while driving or doing anything that requires concentration as this medicine may cause dizziness.\n",
            "========================================================================================================================\n",
            "Summary of the article -  907\n",
            "ANALGIN 500MG TABLET helps in relieving pain, inflammation and fever.Inform your doctor if you have any history of heart disease or stroke.Vomiting, stomach pain, nausea and diarrhea are some of the common side effects that might be observed on taking this medicine.\n",
            "========================================================================================================================\n",
            "Summary of the article -  908\n",
            "Ambrolite 30 Tablet is used for treating various respiratory tract disorders associated with excessive mucus.For better results, it is suggested to take it at the same time every day.\n",
            "========================================================================================================================\n",
            "Summary of the article -  909\n"
          ]
        },
        {
          "output_type": "stream",
          "name": "stderr",
          "text": [
            "/usr/local/lib/python3.7/dist-packages/ipykernel_launcher.py:13: FutureWarning: The default value of regex will change from True to False in a future version.\n",
            "  del sys.path[0]\n",
            "/usr/local/lib/python3.7/dist-packages/ipykernel_launcher.py:13: FutureWarning: The default value of regex will change from True to False in a future version.\n",
            "  del sys.path[0]\n",
            "/usr/local/lib/python3.7/dist-packages/ipykernel_launcher.py:13: FutureWarning: The default value of regex will change from True to False in a future version.\n",
            "  del sys.path[0]\n",
            "/usr/local/lib/python3.7/dist-packages/ipykernel_launcher.py:13: FutureWarning: The default value of regex will change from True to False in a future version.\n",
            "  del sys.path[0]\n",
            "/usr/local/lib/python3.7/dist-packages/ipykernel_launcher.py:13: FutureWarning: The default value of regex will change from True to False in a future version.\n",
            "  del sys.path[0]\n",
            "/usr/local/lib/python3.7/dist-packages/ipykernel_launcher.py:13: FutureWarning: The default value of regex will change from True to False in a future version.\n",
            "  del sys.path[0]\n",
            "/usr/local/lib/python3.7/dist-packages/ipykernel_launcher.py:13: FutureWarning: The default value of regex will change from True to False in a future version.\n",
            "  del sys.path[0]\n"
          ]
        },
        {
          "output_type": "stream",
          "name": "stdout",
          "text": [
            ").Before using this medicine, it is important to tell your doctor if you are taking or have recently taken any other medicines for the same disease or other diseases.A thin layer of the medicine should be applied only to the affected areas of the skin with clean and dry hands.\n",
            "========================================================================================================================\n",
            "Summary of the article -  910\n",
            "Also, pregnant women and breastfeeding mothers should not take this medicine as it may harm the developing baby.Aztor 80 Tablet belongs to a group of medicines called statins.\n",
            "========================================================================================================================\n",
            "Summary of the article -  911\n",
            "Althrocin 100mg Drop is an antibiotic used to treat various types of infections.Consult your doctor if you find these side effects do not resolve or persist for a longer duration.Inform your doctor if you have any previous history of allergy or heart problems before taking this medicine.\n",
            "========================================================================================================================\n",
            "Summary of the article -  912\n",
            "Adcef Insta Use  Syrup is an antibiotic medicine used to treat a variety of bacterial infections.Avoid consuming alcohol while taking this medicine as it may cause unpleasant side effects like nausea, vomiting, sweating, anxiety, and palpitations.\n",
            "========================================================================================================================\n",
            "Summary of the article -  913\n",
            "Acklogal-SP Tablet is a combination medicine used to relieve pain and swelling in various conditions like muscle pain, joint pain and postoperative pain.Acklogal-SP Tablet is not recommended if you are pregnant or breastfeeding.\n",
            "========================================================================================================================\n",
            "Summary of the article -  914\n",
            "Alphagan Ophthalmic Solution is used in the treatment of ocular hypertension (pressure in the eye) and glaucoma.Avoid touching the tip of the dropper to any surface as it may contaminate the eye drop.\n",
            "========================================================================================================================\n",
            "Summary of the article -  915\n"
          ]
        },
        {
          "output_type": "stream",
          "name": "stderr",
          "text": [
            "/usr/local/lib/python3.7/dist-packages/ipykernel_launcher.py:13: FutureWarning: The default value of regex will change from True to False in a future version.\n",
            "  del sys.path[0]\n",
            "/usr/local/lib/python3.7/dist-packages/ipykernel_launcher.py:13: FutureWarning: The default value of regex will change from True to False in a future version.\n",
            "  del sys.path[0]\n",
            "/usr/local/lib/python3.7/dist-packages/ipykernel_launcher.py:13: FutureWarning: The default value of regex will change from True to False in a future version.\n",
            "  del sys.path[0]\n",
            "/usr/local/lib/python3.7/dist-packages/ipykernel_launcher.py:13: FutureWarning: The default value of regex will change from True to False in a future version.\n",
            "  del sys.path[0]\n",
            "/usr/local/lib/python3.7/dist-packages/ipykernel_launcher.py:13: FutureWarning: The default value of regex will change from True to False in a future version.\n",
            "  del sys.path[0]\n",
            "/usr/local/lib/python3.7/dist-packages/ipykernel_launcher.py:13: FutureWarning: The default value of regex will change from True to False in a future version.\n",
            "  del sys.path[0]\n"
          ]
        },
        {
          "output_type": "stream",
          "name": "stdout",
          "text": [
            "Altraflam-P Tablet is a pain relieving medicine.Before taking it, let your doctor know if you have any problems with your heart, kidneys, liver, or have stomach ulcers.\n",
            "========================================================================================================================\n",
            "Summary of the article -  916\n",
            "Apidra Solostar 100IU/ml Injection is used for the treatment of blood sugar control in people with type 1 and type 2 diabetes mellitus.Do not stop taking it unless your doctor tells you to.\n",
            "========================================================================================================================\n",
            "Summary of the article -  917\n",
            "Atormac Gold 10 Capsule is used for prevention of heart attack.Do not stop taking it until you have finished the complete course, even when you feel better.\n",
            "========================================================================================================================\n",
            "Summary of the article -  918\n",
            "Armod 150 Tablet is a prescription medicine used in the treatment of excessive daytime sleepiness (narcolepsy).Before taking Armod 150 Tablet, inform your doctor if you have any problems with your kidneys, heart, liver, or have a history of seizures (epilepsy or fits).\n",
            "========================================================================================================================\n",
            "Summary of the article -  919\n",
            "Asar 80 Tablet is a medicine used to treat high blood pressure and heart disease.Dizziness, particularly after the first dose, is known to occur in some people.\n",
            "========================================================================================================================\n",
            "Summary of the article -  920\n"
          ]
        },
        {
          "output_type": "stream",
          "name": "stderr",
          "text": [
            "/usr/local/lib/python3.7/dist-packages/ipykernel_launcher.py:13: FutureWarning: The default value of regex will change from True to False in a future version.\n",
            "  del sys.path[0]\n",
            "/usr/local/lib/python3.7/dist-packages/ipykernel_launcher.py:13: FutureWarning: The default value of regex will change from True to False in a future version.\n",
            "  del sys.path[0]\n",
            "/usr/local/lib/python3.7/dist-packages/ipykernel_launcher.py:13: FutureWarning: The default value of regex will change from True to False in a future version.\n",
            "  del sys.path[0]\n",
            "/usr/local/lib/python3.7/dist-packages/ipykernel_launcher.py:13: FutureWarning: The default value of regex will change from True to False in a future version.\n",
            "  del sys.path[0]\n",
            "/usr/local/lib/python3.7/dist-packages/ipykernel_launcher.py:13: FutureWarning: The default value of regex will change from True to False in a future version.\n",
            "  del sys.path[0]\n"
          ]
        },
        {
          "output_type": "stream",
          "name": "stdout",
          "text": [
            "Also, pregnant women and breastfeeding mothers should not take this medicine as it may harm the developing baby.Aztor 5 Tablet belongs to a group of medicines called statins.\n",
            "========================================================================================================================\n",
            "Summary of the article -  921\n",
            "Aerodil-LS Expectorant is a combination medicine used in the treatment of cough with mucus.Avoid drinking alcohol while taking this medicine as it can make sleepiness worse.Never support self-medication or recommend your medicine to another person.\n",
            "========================================================================================================================\n",
            "Summary of the article -  922\n",
            "Apilysin Syrup is a combination medicine used to treat loss of appetite.Avoid drinking alcohol while taking this medicine as it can worsen your sleepiness.Never support self-medication or recommend your medicine to another person.\n",
            "========================================================================================================================\n",
            "Summary of the article -  923\n",
            "Amantrel Tablet is used alone, or with other medicines to treat Parkinson’s disease.Amantrel Tablet may be taken with or without food.\n",
            "========================================================================================================================\n",
            "Summary of the article -  924\n",
            "Arpizol 15 Tablet is an antipsychotic medicine.Before taking the medicine you should tell your doctor if you are pregnant, planning to become pregnant, or breastfeeding.\n",
            "========================================================================================================================\n",
            "Summary of the article -  925\n",
            "Summary Not Available\n",
            "Augmexin Gel is used as antiseptic to kill microbes.Use it as directed by the doctor.\n",
            "========================================================================================================================\n",
            "Summary of the article -  926\n"
          ]
        },
        {
          "output_type": "stream",
          "name": "stderr",
          "text": [
            "/usr/local/lib/python3.7/dist-packages/ipykernel_launcher.py:13: FutureWarning: The default value of regex will change from True to False in a future version.\n",
            "  del sys.path[0]\n",
            "/usr/local/lib/python3.7/dist-packages/ipykernel_launcher.py:13: FutureWarning: The default value of regex will change from True to False in a future version.\n",
            "  del sys.path[0]\n",
            "/usr/local/lib/python3.7/dist-packages/ipykernel_launcher.py:13: FutureWarning: The default value of regex will change from True to False in a future version.\n",
            "  del sys.path[0]\n",
            "/usr/local/lib/python3.7/dist-packages/ipykernel_launcher.py:13: FutureWarning: The default value of regex will change from True to False in a future version.\n",
            "  del sys.path[0]\n",
            "/usr/local/lib/python3.7/dist-packages/ipykernel_launcher.py:13: FutureWarning: The default value of regex will change from True to False in a future version.\n",
            "  del sys.path[0]\n",
            "/usr/local/lib/python3.7/dist-packages/ipykernel_launcher.py:13: FutureWarning: The default value of regex will change from True to False in a future version.\n",
            "  del sys.path[0]\n"
          ]
        },
        {
          "output_type": "stream",
          "name": "stdout",
          "text": [
            "Alsartan 50 Tablet is a medicine used to treat high blood pressure and heart disease.Dizziness, particularly after the first dose, is known to occur in some people.\n",
            "========================================================================================================================\n",
            "Summary of the article -  927\n",
            "Albutamol Syrup is used for the treatment of asthma and chronic obstructive pulmonary disorder (a lung disorder in which the flow of air to the lungs is blocked).Contact your doctor straight away if you are at all concerned about any of these side effects.Before taking it, you should tell your doctor if you have any kidney or liver diseases so that your doctor can prescribe a suitable dose for you.\n",
            "========================================================================================================================\n",
            "Summary of the article -  928\n",
            "Azax 200 Suspension is an antibiotic used to treat various types of bacterial infections of the respiratory tract, ear, nose, throat, lungs, skin, and eye in adults and children.Consult your doctor if you find these side effects worry you or persist for a longer duration.Inform your doctor if you have any previous history of allergy or heart problems before taking this medicine.\n",
            "========================================================================================================================\n",
            "Summary of the article -  929\n",
            "Anaproct Ointment has a combination of medicines that is used to provide relief from discomfort due to haemorrhoids and varicose veins.Inform your doctor if you are pregnant or are suffering from any other disease.\n",
            "========================================================================================================================\n",
            "Summary of the article -  930\n",
            "Apriglim MV 1 Tablet SR belongs to a category of medicines known as anti-diabetic drugs.Before taking this medicine, tell your doctor if you have ever had heart disease.\n",
            "========================================================================================================================\n",
            "Summary of the article -  931\n",
            "Aclonac Tablet is a pain relieving medicine.Aclonac Tablet is not recommended if you are pregnant or breastfeeding.\n",
            "========================================================================================================================\n",
            "Summary of the article -  932\n",
            "Aricep-M  Tablet is a prescription medicine used to treat Alzheimer's disease.Do not skip any doses, but if you miss a dose of this medicine, take it as soon as you remember.\n",
            "========================================================================================================================\n",
            "Summary of the article -  933\n"
          ]
        },
        {
          "output_type": "stream",
          "name": "stderr",
          "text": [
            "/usr/local/lib/python3.7/dist-packages/ipykernel_launcher.py:13: FutureWarning: The default value of regex will change from True to False in a future version.\n",
            "  del sys.path[0]\n",
            "/usr/local/lib/python3.7/dist-packages/ipykernel_launcher.py:13: FutureWarning: The default value of regex will change from True to False in a future version.\n",
            "  del sys.path[0]\n",
            "/usr/local/lib/python3.7/dist-packages/ipykernel_launcher.py:13: FutureWarning: The default value of regex will change from True to False in a future version.\n",
            "  del sys.path[0]\n",
            "/usr/local/lib/python3.7/dist-packages/ipykernel_launcher.py:13: FutureWarning: The default value of regex will change from True to False in a future version.\n",
            "  del sys.path[0]\n",
            "/usr/local/lib/python3.7/dist-packages/ipykernel_launcher.py:13: FutureWarning: The default value of regex will change from True to False in a future version.\n",
            "  del sys.path[0]\n",
            "/usr/local/lib/python3.7/dist-packages/ipykernel_launcher.py:13: FutureWarning: The default value of regex will change from True to False in a future version.\n",
            "  del sys.path[0]\n",
            "/usr/local/lib/python3.7/dist-packages/ipykernel_launcher.py:13: FutureWarning: The default value of regex will change from True to False in a future version.\n",
            "  del sys.path[0]\n"
          ]
        },
        {
          "output_type": "stream",
          "name": "stdout",
          "text": [
            "Amazeo OD 200 Tablet SR is a prescription medicine used in the treatment of schizophrenia, a mental disorder that can result in hallucinations or delusions and also adversely affects a person’s ability to think and behave.Amazeo OD 200 Tablet SR may be taken with or without food, preferably before bedtime.Do not skip any doses and finish the full course of treatment even if you feel better.\n",
            "========================================================================================================================\n",
            "Summary of the article -  934\n",
            "Amlosafe 2.5 Tablet belongs to a class of medicines known as a calcium channel blockers.Consult your doctor if any of these side effects bother you or do not go away.Before taking it, let your doctor know if you have any liver, heart or kidney problems.\n",
            "========================================================================================================================\n",
            "Summary of the article -  935\n",
            "Avoprost D 8mg/0.5mg Capsule is a combination of two medicines which work in different ways to treat men with an enlarged prostate gland.Before taking it, tell your doctor if you have low blood pressure or liver or kidney disease.\n",
            "========================================================================================================================\n",
            "Summary of the article -  936\n",
            "Also, pregnant women and breastfeeding mothers should not take this medicine as it may harm the developing baby.Astin 20 Tablet belongs to a group of medicines called statins.\n",
            "========================================================================================================================\n",
            "Summary of the article -  937\n"
          ]
        },
        {
          "output_type": "stream",
          "name": "stderr",
          "text": [
            "/usr/local/lib/python3.7/dist-packages/ipykernel_launcher.py:13: FutureWarning: The default value of regex will change from True to False in a future version.\n",
            "  del sys.path[0]\n",
            "/usr/local/lib/python3.7/dist-packages/ipykernel_launcher.py:13: FutureWarning: The default value of regex will change from True to False in a future version.\n",
            "  del sys.path[0]\n",
            "/usr/local/lib/python3.7/dist-packages/ipykernel_launcher.py:13: FutureWarning: The default value of regex will change from True to False in a future version.\n",
            "  del sys.path[0]\n",
            "/usr/local/lib/python3.7/dist-packages/ipykernel_launcher.py:13: FutureWarning: The default value of regex will change from True to False in a future version.\n",
            "  del sys.path[0]\n"
          ]
        },
        {
          "output_type": "stream",
          "name": "stdout",
          "text": [
            "Avomine 25mg Tablet used in the treatment of various allergic conditions like runny nose, sneezing, congestion, itching and watery eyes.Generally, it is advised to avoid alcohol while on treatment.\n",
            "========================================================================================================================\n",
            "Summary of the article -  938\n",
            "Ascovent DX 650mg Tablet MR is used to treat and prevent symptoms of asthma and chronic obstructive pulmonary disorder (a lung disorder in which flow of air to the lung is blocked).But take it at the same time every day to get the most benefit.\n",
            "========================================================================================================================\n",
            "Summary of the article -  939\n",
            "Altacef Suspension is an antibiotic medicine used to treat bacterial infections in your body.Do not stop taking it until you have finished, even when you feel better.\n",
            "========================================================================================================================\n",
            "Summary of the article -  940\n",
            "Aceclorite Plus  100 mg/500 mg Tablet is a pain relieving medicine.Before taking it, let your doctor know if you have any problems with your heart, kidneys, liver, or have stomach ulcers.\n",
            "========================================================================================================================\n",
            "Summary of the article -  941\n",
            "Amrosys Cream is an antifungal medication.Avoid direct contact of the cream or ointment with your eyes.\n",
            "========================================================================================================================\n",
            "Summary of the article -  942\n",
            "), you must seek immediate medical help.Before taking this medicine, you should tell your doctor if you are taking any medicines for any health condition.Ampoxin 500mg Injection is a combination medicine that is used to treat various types of bacterial infections.\n",
            "========================================================================================================================\n",
            "Summary of the article -  943\n"
          ]
        },
        {
          "output_type": "stream",
          "name": "stderr",
          "text": [
            "/usr/local/lib/python3.7/dist-packages/ipykernel_launcher.py:13: FutureWarning: The default value of regex will change from True to False in a future version.\n",
            "  del sys.path[0]\n",
            "/usr/local/lib/python3.7/dist-packages/ipykernel_launcher.py:13: FutureWarning: The default value of regex will change from True to False in a future version.\n",
            "  del sys.path[0]\n",
            "/usr/local/lib/python3.7/dist-packages/ipykernel_launcher.py:13: FutureWarning: The default value of regex will change from True to False in a future version.\n",
            "  del sys.path[0]\n",
            "/usr/local/lib/python3.7/dist-packages/ipykernel_launcher.py:13: FutureWarning: The default value of regex will change from True to False in a future version.\n",
            "  del sys.path[0]\n",
            "/usr/local/lib/python3.7/dist-packages/ipykernel_launcher.py:13: FutureWarning: The default value of regex will change from True to False in a future version.\n",
            "  del sys.path[0]\n",
            "/usr/local/lib/python3.7/dist-packages/ipykernel_launcher.py:13: FutureWarning: The default value of regex will change from True to False in a future version.\n",
            "  del sys.path[0]\n"
          ]
        },
        {
          "output_type": "stream",
          "name": "stdout",
          "text": [
            "Acera-L Capsule SR is a prescription medicine which is used in the treatment of gastroesophageal reflux disease (acid reflux), intestinal ulcers, and irritable bowel syndrome.Avoid drinking alcohol while taking this medicine as it can worsen your sleepiness.Lifestyle modifications like having fiber-rich diet, avoiding foods that trigger your symptoms, increasing fluid intake and regular exercise can help you to get better results.\n",
            "========================================================================================================================\n",
            "Summary of the article -  944\n",
            "Abixim 200mg Tablet is an antibiotic belonging to the cephalosporin group, which is used to treat a variety of bacterial infections.Do not stop taking it until you have finished, even when you feel better.\n",
            "========================================================================================================================\n",
            "Summary of the article -  945\n",
            "Adhair 5% Solution is used to treat hair loss.Clean and dry your scalp before using it.\n",
            "========================================================================================================================\n",
            "Summary of the article -  946\n",
            "Amtas 2.5 Tablet belongs to a class of medicines known as a calcium channel blockers.Consult your doctor if any of these side effects bother you or do not go away.Before taking it, let your doctor know if you have any liver, heart or kidney problems.\n",
            "========================================================================================================================\n",
            "Summary of the article -  947\n",
            "Aziwok 600 Tablet is an antibiotic used to treat various types of bacterial infections of the respiratory tract, ear, nose, throat, lungs, skin, and eye in adults and children.Consult your doctor if you find these side effects worry you or persist for a longer duration.Inform your doctor if you have any previous history of allergy or heart problems before taking this medicine.\n",
            "========================================================================================================================\n",
            "Summary of the article -  948\n",
            "Amrocan Cream is an antifungal medication.Avoid direct contact of the cream or ointment with your eyes.\n",
            "========================================================================================================================\n",
            "Summary of the article -  949\n"
          ]
        },
        {
          "output_type": "stream",
          "name": "stderr",
          "text": [
            "/usr/local/lib/python3.7/dist-packages/ipykernel_launcher.py:13: FutureWarning: The default value of regex will change from True to False in a future version.\n",
            "  del sys.path[0]\n",
            "/usr/local/lib/python3.7/dist-packages/ipykernel_launcher.py:13: FutureWarning: The default value of regex will change from True to False in a future version.\n",
            "  del sys.path[0]\n",
            "/usr/local/lib/python3.7/dist-packages/ipykernel_launcher.py:13: FutureWarning: The default value of regex will change from True to False in a future version.\n",
            "  del sys.path[0]\n",
            "/usr/local/lib/python3.7/dist-packages/ipykernel_launcher.py:13: FutureWarning: The default value of regex will change from True to False in a future version.\n",
            "  del sys.path[0]\n",
            "/usr/local/lib/python3.7/dist-packages/ipykernel_launcher.py:13: FutureWarning: The default value of regex will change from True to False in a future version.\n",
            "  del sys.path[0]\n",
            "/usr/local/lib/python3.7/dist-packages/ipykernel_launcher.py:13: FutureWarning: The default value of regex will change from True to False in a future version.\n",
            "  del sys.path[0]\n"
          ]
        },
        {
          "output_type": "stream",
          "name": "stdout",
          "text": [
            "Aditop C Gel is a combination of two medicines that effectively treats acne.Ask your doctor when you should stop treatment.Side effects like minor itching, burning, or redness of the skin and oily skin may be seen in some people.\n",
            "========================================================================================================================\n",
            "Summary of the article -  950\n",
            "Anleo-DSR Capsule is a prescription medicine used to treat gastroesophageal reflux disease (Acid reflux) and peptic ulcer disease by relieving the symptoms of acidity such as indigestion, heartburn, stomach pain, or irritation.Anleo-DSR Capsule also neutralizes the acid in the stomach and promotes easy passage of gas to reduce stomach discomfort.Avoid drinking alcohol while taking this medicine as it can worsen your sleepiness.\n",
            "========================================================================================================================\n",
            "Summary of the article -  951\n",
            "Adrenor 4mg Injection is used to treat hypotension (low blood pressure) that may occur due to causes such as sepsis (infection).Also, let your doctor know about all the other medications that you are using regularly.\n",
            "========================================================================================================================\n",
            "Summary of the article -  952\n",
            "Acsolve C Gel is a combination of two medicines, used to treat acne, which appears as spots or pimples on your face, chest or back.Ask your doctor when you should stop treatment.Side effects like burning sensation, irritation, itching, redness, dryness, skin peeling or skin inflammation (dermatitis) may be seen at the application site, in some people.\n",
            "========================================================================================================================\n",
            "Summary of the article -  953\n",
            "Alerfix Tablet belongs to a group of medicines called antihistamines.Consult your doctor if any of the side effects persist or worry you.Before taking it, tell your doctor if you have any kidney problems or epilepsy (seizures).\n",
            "========================================================================================================================\n",
            "Summary of the article -  954\n",
            "Altacef 1.5gm Injection is an antibiotic medicine used to treat bacterial infections in your body.Do not skip any doses and finish the full course of treatment even if you feel better.\n",
            "========================================================================================================================\n",
            "Summary of the article -  955\n"
          ]
        },
        {
          "output_type": "stream",
          "name": "stderr",
          "text": [
            "/usr/local/lib/python3.7/dist-packages/ipykernel_launcher.py:13: FutureWarning: The default value of regex will change from True to False in a future version.\n",
            "  del sys.path[0]\n",
            "/usr/local/lib/python3.7/dist-packages/ipykernel_launcher.py:13: FutureWarning: The default value of regex will change from True to False in a future version.\n",
            "  del sys.path[0]\n",
            "/usr/local/lib/python3.7/dist-packages/ipykernel_launcher.py:13: FutureWarning: The default value of regex will change from True to False in a future version.\n",
            "  del sys.path[0]\n",
            "/usr/local/lib/python3.7/dist-packages/ipykernel_launcher.py:13: FutureWarning: The default value of regex will change from True to False in a future version.\n",
            "  del sys.path[0]\n",
            "/usr/local/lib/python3.7/dist-packages/ipykernel_launcher.py:13: FutureWarning: The default value of regex will change from True to False in a future version.\n",
            "  del sys.path[0]\n",
            "/usr/local/lib/python3.7/dist-packages/ipykernel_launcher.py:13: FutureWarning: The default value of regex will change from True to False in a future version.\n",
            "  del sys.path[0]\n",
            "/usr/local/lib/python3.7/dist-packages/ipykernel_launcher.py:13: FutureWarning: The default value of regex will change from True to False in a future version.\n",
            "  del sys.path[0]\n"
          ]
        },
        {
          "output_type": "stream",
          "name": "stdout",
          "text": [
            "Alergin Cold Total Tablet is a medicine used in the treatment of common cold symptoms.Depending on the severity of your underlying illness, your doctor will decide the precise dose.\n",
            "========================================================================================================================\n",
            "Summary of the article -  956\n",
            "Aceret 25 Capsule is a medicine that is similar to vitamin A and is involved in the normal growth of skin cells.Avoid drinking alcohol while taking this medicine as it can make dizziness worse.Avoid sun exposure and cover the treated areas with clothing or use a sunscreen before stepping out in the sun.\n",
            "========================================================================================================================\n",
            "Summary of the article -  957\n",
            "Also, pregnant women and breastfeeding mothers should not take this medicine as it may harm the developing baby.Atorec 20 Tablet belongs to a group of medicines called statins.\n",
            "========================================================================================================================\n",
            "Summary of the article -  958\n",
            "Acyclovir Eye Ointment is an antiviral medicine which treats eye infections caused by Herpes simplex virus.Do not wear contact lenses while using it.\n",
            "========================================================================================================================\n",
            "Summary of the article -  959\n",
            "Alpostin 500mcg Injection is used to treat erectile dysfunction (inability to maintain erection for intercourse) in men.If you experience any other side effects inform the doctor without delay.Before receiving the treatment, inform your doctor if you are on any medication for any other health condition.\n",
            "========================================================================================================================\n",
            "Summary of the article -  960\n"
          ]
        },
        {
          "output_type": "stream",
          "name": "stderr",
          "text": [
            "/usr/local/lib/python3.7/dist-packages/ipykernel_launcher.py:13: FutureWarning: The default value of regex will change from True to False in a future version.\n",
            "  del sys.path[0]\n",
            "/usr/local/lib/python3.7/dist-packages/ipykernel_launcher.py:13: FutureWarning: The default value of regex will change from True to False in a future version.\n",
            "  del sys.path[0]\n",
            "/usr/local/lib/python3.7/dist-packages/ipykernel_launcher.py:13: FutureWarning: The default value of regex will change from True to False in a future version.\n",
            "  del sys.path[0]\n",
            "/usr/local/lib/python3.7/dist-packages/ipykernel_launcher.py:13: FutureWarning: The default value of regex will change from True to False in a future version.\n",
            "  del sys.path[0]\n",
            "/usr/local/lib/python3.7/dist-packages/ipykernel_launcher.py:13: FutureWarning: The default value of regex will change from True to False in a future version.\n",
            "  del sys.path[0]\n",
            "/usr/local/lib/python3.7/dist-packages/ipykernel_launcher.py:13: FutureWarning: The default value of regex will change from True to False in a future version.\n",
            "  del sys.path[0]\n"
          ]
        },
        {
          "output_type": "stream",
          "name": "stdout",
          "text": [
            "Amlopin-M 5mg/25mg Tablet contains two medicines, both of which help to control high blood pressure and heart rate.Even if you feel well, do not stop this medicine on your own because high blood pressure often has no symptoms.\n",
            "========================================================================================================================\n",
            "Summary of the article -  961\n",
            "Azopet 250mg Tablet is an antibiotic used to treat various types of bacterial infections of the respiratory tract, ear, nose, throat, lungs, skin, and eye in adults and children.Consult your doctor if you find these side effects worry you or persist for a longer duration.Inform your doctor if you have any previous history of allergy or heart problems before taking this medicine.\n",
            "========================================================================================================================\n",
            "Summary of the article -  962\n",
            "ASA 50mg Tablet is an antiplatelet medicine used to treat and prevent heart attacks, strokes and heart-related chest pain (angina).Avoid drinking alcohol while you are taking this medicine.\n",
            "========================================================================================================================\n",
            "Summary of the article -  963\n",
            "Anxozap 15 Tablet is a prescription medicine that relieves symptoms of anxiety such as irritability, restlessness, lack of concentration, fatigue, sweating, increased heart rate, and unwanted or racing thoughts.However, take it at the same time each day as this helps to maintain a consistent level of medicine in the body.\n",
            "========================================================================================================================\n",
            "Summary of the article -  964\n",
            "Anomex Suppository is a prescription medicine having a combination of medicines that is used to treat anal fissures.Inform your doctor if you are pregnant or are suffering from any other disease.\n",
            "========================================================================================================================\n",
            "Summary of the article -  965\n",
            "After these treatments, take any further doses as prescribed by your doctor (normally only for a few days at most).Also, it has little effect on vomiting caused by motion sickness.\n",
            "========================================================================================================================\n",
            "Summary of the article -  966\n"
          ]
        },
        {
          "output_type": "stream",
          "name": "stderr",
          "text": [
            "/usr/local/lib/python3.7/dist-packages/ipykernel_launcher.py:13: FutureWarning: The default value of regex will change from True to False in a future version.\n",
            "  del sys.path[0]\n",
            "/usr/local/lib/python3.7/dist-packages/ipykernel_launcher.py:13: FutureWarning: The default value of regex will change from True to False in a future version.\n",
            "  del sys.path[0]\n",
            "/usr/local/lib/python3.7/dist-packages/ipykernel_launcher.py:13: FutureWarning: The default value of regex will change from True to False in a future version.\n",
            "  del sys.path[0]\n",
            "/usr/local/lib/python3.7/dist-packages/ipykernel_launcher.py:13: FutureWarning: The default value of regex will change from True to False in a future version.\n",
            "  del sys.path[0]\n",
            "/usr/local/lib/python3.7/dist-packages/ipykernel_launcher.py:13: FutureWarning: The default value of regex will change from True to False in a future version.\n",
            "  del sys.path[0]\n"
          ]
        },
        {
          "output_type": "stream",
          "name": "stdout",
          "text": [
            "Amrox  Syrup is used in the treatment of cough.Avoid drinking alcohol while taking this medicine as it can make sleepiness worse.Never support self-medication or recommend your medicine to another person.\n",
            "========================================================================================================================\n",
            "Summary of the article -  967\n",
            "AF 50 Tablet DT belongs to a group of medicines called antifungals.Avoid taking antacid treatments within one hour before or two hours after you take it.The most common side effects of this medicine include stomach pain, headache and feeling sick (nausea).\n",
            "========================================================================================================================\n",
            "Summary of the article -  968\n",
            "Abortab 200mg Tablet is an anti progestational steroids class of drug used for medical termination of pregnancy.If these bother you, or appear serious, let your doctor know.\n",
            "========================================================================================================================\n",
            "Summary of the article -  969\n",
            "Amazeo OD 100 Tablet SR is a prescription medicine used in the treatment of schizophrenia, a mental disorder that can result in hallucinations or delusions and also adversely affects a person’s ability to think and behave.Amazeo OD 100 Tablet SR may be taken with or without food, preferably before bedtime.Do not skip any doses and finish the full course of treatment even if you feel better.\n",
            "========================================================================================================================\n",
            "Summary of the article -  970\n",
            "Arip MT 10 Tablet is an antipsychotic medicine.Before taking the medicine you should tell your doctor if you are pregnant, planning to become pregnant, or breastfeeding.\n",
            "========================================================================================================================\n",
            "Summary of the article -  971\n"
          ]
        },
        {
          "output_type": "stream",
          "name": "stderr",
          "text": [
            "/usr/local/lib/python3.7/dist-packages/ipykernel_launcher.py:13: FutureWarning: The default value of regex will change from True to False in a future version.\n",
            "  del sys.path[0]\n",
            "/usr/local/lib/python3.7/dist-packages/ipykernel_launcher.py:13: FutureWarning: The default value of regex will change from True to False in a future version.\n",
            "  del sys.path[0]\n",
            "/usr/local/lib/python3.7/dist-packages/ipykernel_launcher.py:13: FutureWarning: The default value of regex will change from True to False in a future version.\n",
            "  del sys.path[0]\n",
            "/usr/local/lib/python3.7/dist-packages/ipykernel_launcher.py:13: FutureWarning: The default value of regex will change from True to False in a future version.\n",
            "  del sys.path[0]\n",
            "/usr/local/lib/python3.7/dist-packages/ipykernel_launcher.py:13: FutureWarning: The default value of regex will change from True to False in a future version.\n",
            "  del sys.path[0]\n",
            "/usr/local/lib/python3.7/dist-packages/ipykernel_launcher.py:13: FutureWarning: The default value of regex will change from True to False in a future version.\n",
            "  del sys.path[0]\n"
          ]
        },
        {
          "output_type": "stream",
          "name": "stdout",
          "text": [
            "Apraize 10 Tablet can be taken with or without food.Apraize 10 Tablet is used in the treatment of moderate to severe plaque psoriasis which is a type of skin condition.\n",
            "========================================================================================================================\n",
            "Summary of the article -  972\n",
            "Aloederm F Cream is an antibiotic.Don't cover the area being treated with airtight dressings such as bandages unless directed by a doctor, as this may increase the risk of side effects.\n",
            "========================================================================================================================\n",
            "Summary of the article -  973\n",
            "Acuclav DS Syrup is a penicillin-type of antibiotic that helps your body fight infections caused by bacteria.Do not stop taking it until you have finished, even when you feel better.\n",
            "========================================================================================================================\n",
            "Summary of the article -  974\n",
            "Aquagest 25mg Injection is used to restore menstrual cycles in women whose periods have stopped.Check with your doctor about all other medicines which may affect, or be affected by, this medicine.\n",
            "========================================================================================================================\n",
            "Summary of the article -  975\n",
            "Amisant 100 Tablet is a prescription medicine used in the treatment of schizophrenia, a mental disorder that can result in hallucinations or delusions and also adversely affects a person’s ability to think and behave.Amisant 100 Tablet may be taken with or without food, preferably before bedtime.Do not skip any doses and finish the full course of treatment even if you feel better.\n",
            "========================================================================================================================\n",
            "Summary of the article -  976\n"
          ]
        },
        {
          "output_type": "stream",
          "name": "stderr",
          "text": [
            "/usr/local/lib/python3.7/dist-packages/ipykernel_launcher.py:13: FutureWarning: The default value of regex will change from True to False in a future version.\n",
            "  del sys.path[0]\n",
            "/usr/local/lib/python3.7/dist-packages/ipykernel_launcher.py:13: FutureWarning: The default value of regex will change from True to False in a future version.\n",
            "  del sys.path[0]\n",
            "/usr/local/lib/python3.7/dist-packages/ipykernel_launcher.py:13: FutureWarning: The default value of regex will change from True to False in a future version.\n",
            "  del sys.path[0]\n",
            "/usr/local/lib/python3.7/dist-packages/ipykernel_launcher.py:13: FutureWarning: The default value of regex will change from True to False in a future version.\n",
            "  del sys.path[0]\n",
            "/usr/local/lib/python3.7/dist-packages/ipykernel_launcher.py:13: FutureWarning: The default value of regex will change from True to False in a future version.\n",
            "  del sys.path[0]\n"
          ]
        },
        {
          "output_type": "stream",
          "name": "stdout",
          "text": [
            "Arzu 10 Tablet is an antipsychotic medicine.Before taking the medicine you should tell your doctor if you are pregnant, planning to become pregnant, or breastfeeding.\n",
            "========================================================================================================================\n",
            "Summary of the article -  977\n",
            "Adapero Gel is a prescription medicine having combination of medicines that are used to treat acne.Apply only on the affected areas of the skin.\n",
            "========================================================================================================================\n",
            "Summary of the article -  978\n",
            "Arbitel-CT 40 Tablet contains two medicines, both of which help to control high blood pressure.Drinking alcohol can further lower your blood pressure and may cause side effects.\n",
            "========================================================================================================================\n",
            "Summary of the article -  979\n",
            "Amnurite  25 Tablet SR is a combination of two medicines used to treat neuropathic pain.Finish the full course of the treatment even if you feel better.\n",
            "========================================================================================================================\n",
            "Summary of the article -  980\n"
          ]
        },
        {
          "output_type": "stream",
          "name": "stderr",
          "text": [
            "/usr/local/lib/python3.7/dist-packages/ipykernel_launcher.py:13: FutureWarning: The default value of regex will change from True to False in a future version.\n",
            "  del sys.path[0]\n",
            "/usr/local/lib/python3.7/dist-packages/ipykernel_launcher.py:13: FutureWarning: The default value of regex will change from True to False in a future version.\n",
            "  del sys.path[0]\n",
            "/usr/local/lib/python3.7/dist-packages/ipykernel_launcher.py:13: FutureWarning: The default value of regex will change from True to False in a future version.\n",
            "  del sys.path[0]\n",
            "/usr/local/lib/python3.7/dist-packages/ipykernel_launcher.py:13: FutureWarning: The default value of regex will change from True to False in a future version.\n",
            "  del sys.path[0]\n",
            "/usr/local/lib/python3.7/dist-packages/ipykernel_launcher.py:13: FutureWarning: The default value of regex will change from True to False in a future version.\n",
            "  del sys.path[0]\n"
          ]
        },
        {
          "output_type": "stream",
          "name": "stdout",
          "text": [
            "Allerfex 120mg Tablet belongs to a group of medicines called antihistamines.Avoid drinking alcohol as it can cause excessive drowsiness with this medicine.\n",
            "========================================================================================================================\n",
            "Summary of the article -  981\n",
            "Alday Duo 5mg/10mg Tablet is a combination medicine used in the treatment of allergic symptoms such as runny nose, stuffy nose, sneezing, itching, swelling, watery eyes and congestion or stuffiness.Avoid drinking alcohol while taking this medicine as it can worsen your sleepiness.Never support self-medication or recommend your medicine to another person.\n",
            "========================================================================================================================\n",
            "Summary of the article -  982\n",
            "Alpha D3 0.5mcg Capsule is a supplement used for the treatment of Vitamin D deficiency.In patients with kidney and liver disorders, dose adjustment is required.\n",
            "========================================================================================================================\n",
            "Summary of the article -  983\n",
            "Apitat Syrup is a combination medicine used to treat loss of appetite.Avoid drinking alcohol while taking this medicine as it can worsen your sleepiness.Never support self-medication or recommend your medicine to another person.\n",
            "========================================================================================================================\n",
            "Summary of the article -  984\n",
            "Azithral Junior 200mg/5ml Drop is an antibiotic used to treat various types of bacterial infections of the respiratory tract, ear, nose, throat, lungs, skin, and eye in adults and children.Consult your doctor if you find these side effects worry you or persist for a longer duration.Inform your doctor if you have any previous history of allergy or heart problems before taking this medicine.\n",
            "========================================================================================================================\n",
            "Summary of the article -  985\n",
            "Asomex-D Tablet is a combination medicine used in the treatment of hypertension (high blood pressure).Inform doctor if you develop extreme thirst and muscle weakness.\n",
            "========================================================================================================================\n",
            "Summary of the article -  986\n"
          ]
        },
        {
          "output_type": "stream",
          "name": "stderr",
          "text": [
            "/usr/local/lib/python3.7/dist-packages/ipykernel_launcher.py:13: FutureWarning: The default value of regex will change from True to False in a future version.\n",
            "  del sys.path[0]\n",
            "/usr/local/lib/python3.7/dist-packages/ipykernel_launcher.py:13: FutureWarning: The default value of regex will change from True to False in a future version.\n",
            "  del sys.path[0]\n",
            "/usr/local/lib/python3.7/dist-packages/ipykernel_launcher.py:13: FutureWarning: The default value of regex will change from True to False in a future version.\n",
            "  del sys.path[0]\n",
            "/usr/local/lib/python3.7/dist-packages/ipykernel_launcher.py:13: FutureWarning: The default value of regex will change from True to False in a future version.\n",
            "  del sys.path[0]\n",
            "/usr/local/lib/python3.7/dist-packages/ipykernel_launcher.py:13: FutureWarning: The default value of regex will change from True to False in a future version.\n",
            "  del sys.path[0]\n"
          ]
        },
        {
          "output_type": "stream",
          "name": "stdout",
          "text": [
            "Apriglim-MV 2 Tablet SR belongs to a category of medicines known as anti-diabetic drugs.Before taking this medicine, tell your doctor if you have ever had heart disease.\n",
            "========================================================================================================================\n",
            "Summary of the article -  987\n",
            "Androfil Gel is a medicine used in the treatment of male hypogonadism caused due to low testosterone levels.Do not use the gel too often and avoid applying it over genital's area.\n",
            "========================================================================================================================\n",
            "Summary of the article -  988\n",
            "Acnewar Gel belongs to a class of drugs known as anti-leprotic medicines.Avoid getting it into your eyes, nose or mouth.\n",
            "========================================================================================================================\n",
            "Summary of the article -  989\n",
            "Ampilox CV 500 mg/125 mg Tablet is a penicillin-type of antibiotic that helps your body fight infections caused by bacteria.Do not stop taking it until you have finished, even when you feel better.\n",
            "========================================================================================================================\n",
            "Summary of the article -  990\n",
            "Additionally, you may notice some injection site reactions like pain, swelling, or redness.Advent 1.2gm  Injection is a penicillin-type of antibiotic that helps your body fight infections caused by bacteria.\n",
            "========================================================================================================================\n",
            "Summary of the article -  991\n",
            "Advastat 10 Tablet belongs to a group of medicines called statins.Also, pregnant women and breastfeeding mothers should not take this medicine as it may harm the developing baby.\n",
            "========================================================================================================================\n",
            "Summary of the article -  992\n"
          ]
        },
        {
          "output_type": "stream",
          "name": "stderr",
          "text": [
            "/usr/local/lib/python3.7/dist-packages/ipykernel_launcher.py:13: FutureWarning: The default value of regex will change from True to False in a future version.\n",
            "  del sys.path[0]\n",
            "/usr/local/lib/python3.7/dist-packages/ipykernel_launcher.py:13: FutureWarning: The default value of regex will change from True to False in a future version.\n",
            "  del sys.path[0]\n",
            "/usr/local/lib/python3.7/dist-packages/ipykernel_launcher.py:13: FutureWarning: The default value of regex will change from True to False in a future version.\n",
            "  del sys.path[0]\n",
            "/usr/local/lib/python3.7/dist-packages/ipykernel_launcher.py:13: FutureWarning: The default value of regex will change from True to False in a future version.\n",
            "  del sys.path[0]\n",
            "/usr/local/lib/python3.7/dist-packages/ipykernel_launcher.py:13: FutureWarning: The default value of regex will change from True to False in a future version.\n",
            "  del sys.path[0]\n"
          ]
        },
        {
          "output_type": "stream",
          "name": "stdout",
          "text": [
            "Also, pregnant women and breastfeeding mothers should not take this medicine as it may harm the developing baby.Atorec 10 Tablet belongs to a group of medicines called statins.\n",
            "========================================================================================================================\n",
            "Summary of the article -  993\n",
            "And do not stop taking the medicine until your doctor tells you it is okay to stop.Using this medicine may cause few common side effects such as nausea, diarrhea, constipation, indigestion, and heartburn.Art Tablet is a combination of three medicines.\n",
            "========================================================================================================================\n",
            "Summary of the article -  994\n",
            "Axaria 10mg Tablet is an antihistamine used to treat symptoms of skin allergy like itching, swelling, and rashes.Generally, it is advised to avoid alcohol while on treatment.\n",
            "========================================================================================================================\n",
            "Summary of the article -  995\n",
            "Additionally, you may notice some injection site reactions like pain, swelling or redness.Ampitrust 1.5gm Injection is a combination of two antibiotics.\n",
            "========================================================================================================================\n",
            "Summary of the article -  996\n"
          ]
        },
        {
          "output_type": "stream",
          "name": "stderr",
          "text": [
            "/usr/local/lib/python3.7/dist-packages/ipykernel_launcher.py:13: FutureWarning: The default value of regex will change from True to False in a future version.\n",
            "  del sys.path[0]\n",
            "/usr/local/lib/python3.7/dist-packages/ipykernel_launcher.py:13: FutureWarning: The default value of regex will change from True to False in a future version.\n",
            "  del sys.path[0]\n",
            "/usr/local/lib/python3.7/dist-packages/ipykernel_launcher.py:13: FutureWarning: The default value of regex will change from True to False in a future version.\n",
            "  del sys.path[0]\n",
            "/usr/local/lib/python3.7/dist-packages/ipykernel_launcher.py:13: FutureWarning: The default value of regex will change from True to False in a future version.\n",
            "  del sys.path[0]\n"
          ]
        },
        {
          "output_type": "stream",
          "name": "stdout",
          "text": [
            "Azapure Tablet belongs to a group of medicines called immunosuppressants.Because it suppresses your immune system, you may catch more infections than usual.\n",
            "========================================================================================================================\n",
            "Summary of the article -  997\n",
            "Arimidex 1mg Tablet  is used alone or with other treatments, such as surgery or radiation, to treat early breast cancer in postmenopausal women.If these bother you or appear serious, let your doctor know.\n",
            "========================================================================================================================\n",
            "Summary of the article -  998\n",
            "Also, tell your doctor about all other medicines you are taking as they may affect the working of the medicine.Arpimune ME 100mg Capsule is used to prevent your body rejecting a new organ after a liver, kidney or heart transplant.\n",
            "========================================================================================================================\n",
            "Summary of the article -  999\n",
            "Amlodac CH Tablet is a combination medicine used in the treatment of hypertension (high blood pressure).Consult your doctor If any of these bother you, or get worse, or do not go away.\n",
            "========================================================================================================================\n",
            "Summary of the article -  1000\n",
            "Also, inform your doctor if you have very low blood pressure (hypotension), heart failure, or if you recently had a heart attack and have fluid in your lungs.Angizem CD 120 Capsule ER is used to treat angina (heart-related chest pain), high blood pressure and some types of irregular heartbeats (arrhythmia).\n",
            "========================================================================================================================\n",
            "**************************************** The process has been completed successfully ****************************************\n"
          ]
        },
        {
          "output_type": "stream",
          "name": "stderr",
          "text": [
            "/usr/local/lib/python3.7/dist-packages/ipykernel_launcher.py:13: FutureWarning: The default value of regex will change from True to False in a future version.\n",
            "  del sys.path[0]\n",
            "/usr/local/lib/python3.7/dist-packages/ipykernel_launcher.py:13: FutureWarning: The default value of regex will change from True to False in a future version.\n",
            "  del sys.path[0]\n",
            "/usr/local/lib/python3.7/dist-packages/ipykernel_launcher.py:13: FutureWarning: The default value of regex will change from True to False in a future version.\n",
            "  del sys.path[0]\n"
          ]
        }
      ],
      "source": [
        "\n",
        "print(\"Kindly let me know in how many sentences you want the summary - \")\n",
        "x = int(input())\n",
        "\n",
        "summary_dictionary = {}\n",
        "\n",
        "for key in text_dictionary:\n",
        "    \n",
        "    para = text_dictionary[key]\n",
        "    print(\"Summary of the article - \",key)\n",
        "    summary = summary_text(para,x)\n",
        "    summary_dictionary[key] = summary\n",
        "    \n",
        "    print(summary)\n",
        "    print('='*120)    \n",
        "    \n",
        "print (\"*\"*40,\"The process has been completed successfully\",\"*\"*40)"
      ]
    },
    {
      "cell_type": "code",
      "execution_count": null,
      "metadata": {
        "id": "IhLED_fjJlyn"
      },
      "outputs": [],
      "source": [
        ""
      ]
    },
    {
      "cell_type": "code",
      "execution_count": 17,
      "metadata": {
        "id": "IL7SRdwTJlyo"
      },
      "outputs": [],
      "source": [
        "summary_table = pd.DataFrame(list(summary_dictionary.items()),columns = ['TEST DATASET','Summary'])"
      ]
    },
    {
      "cell_type": "code",
      "execution_count": 18,
      "metadata": {
        "id": "-Z9itWPGJlyp"
      },
      "outputs": [],
      "source": [
        "data_table = pd.DataFrame(list(text_dictionary.items()),columns = ['TEST DATASET','Introduction'])"
      ]
    },
    {
      "cell_type": "code",
      "execution_count": 19,
      "metadata": {
        "colab": {
          "base_uri": "https://localhost:8080/",
          "height": 424
        },
        "id": "SUgYyHgOJlyp",
        "outputId": "f962ec24-7ef6-4a74-c57b-00a157918029"
      },
      "outputs": [
        {
          "output_type": "execute_result",
          "data": {
            "text/plain": [
              "     TEST DATASET                                       Introduction  \\\n",
              "0               1  Acnesol Gel is an antibiotic that fights bacte...   \n",
              "1               2  Ambrodil Syrup is used for treating various re...   \n",
              "2               3  Augmentin 625 Duo Tablet is a penicillin-type ...   \n",
              "3               4  Azithral 500 Tablet is an antibiotic used to t...   \n",
              "4               5  Alkasol Oral Solution is a medicine used in th...   \n",
              "..            ...                                                ...   \n",
              "995           996  Azapure Tablet belongs to a group of medicines...   \n",
              "996           997  Arimidex 1mg Tablet  is used alone or with oth...   \n",
              "997           998  Arpimune ME 100mg Capsule is used to prevent y...   \n",
              "998           999  Amlodac CH Tablet is a combination medicine us...   \n",
              "999          1000  Angizem CD 120 Capsule ER is used to treat ang...   \n",
              "\n",
              "                                               Summary  \n",
              "0    Acnesol Gel is an antibiotic that fights bacte...  \n",
              "1    Ambrodil Syrup is used for treating various re...  \n",
              "2    Augmentin 625 Duo Tablet is a penicillin-type ...  \n",
              "3    Azithral 500 Tablet is an antibiotic used to t...  \n",
              "4    Alkasol Oral Solution is a medicine used in th...  \n",
              "..                                                 ...  \n",
              "995  Azapure Tablet belongs to a group of medicines...  \n",
              "996  Arimidex 1mg Tablet  is used alone or with oth...  \n",
              "997  Also, tell your doctor about all other medicin...  \n",
              "998  Amlodac CH Tablet is a combination medicine us...  \n",
              "999  Also, inform your doctor if you have very low ...  \n",
              "\n",
              "[1000 rows x 3 columns]"
            ],
            "text/html": [
              "\n",
              "  <div id=\"df-9b1c3260-7429-446a-93d6-e6ef66fb3c79\">\n",
              "    <div class=\"colab-df-container\">\n",
              "      <div>\n",
              "<style scoped>\n",
              "    .dataframe tbody tr th:only-of-type {\n",
              "        vertical-align: middle;\n",
              "    }\n",
              "\n",
              "    .dataframe tbody tr th {\n",
              "        vertical-align: top;\n",
              "    }\n",
              "\n",
              "    .dataframe thead th {\n",
              "        text-align: right;\n",
              "    }\n",
              "</style>\n",
              "<table border=\"1\" class=\"dataframe\">\n",
              "  <thead>\n",
              "    <tr style=\"text-align: right;\">\n",
              "      <th></th>\n",
              "      <th>TEST DATASET</th>\n",
              "      <th>Introduction</th>\n",
              "      <th>Summary</th>\n",
              "    </tr>\n",
              "  </thead>\n",
              "  <tbody>\n",
              "    <tr>\n",
              "      <th>0</th>\n",
              "      <td>1</td>\n",
              "      <td>Acnesol Gel is an antibiotic that fights bacte...</td>\n",
              "      <td>Acnesol Gel is an antibiotic that fights bacte...</td>\n",
              "    </tr>\n",
              "    <tr>\n",
              "      <th>1</th>\n",
              "      <td>2</td>\n",
              "      <td>Ambrodil Syrup is used for treating various re...</td>\n",
              "      <td>Ambrodil Syrup is used for treating various re...</td>\n",
              "    </tr>\n",
              "    <tr>\n",
              "      <th>2</th>\n",
              "      <td>3</td>\n",
              "      <td>Augmentin 625 Duo Tablet is a penicillin-type ...</td>\n",
              "      <td>Augmentin 625 Duo Tablet is a penicillin-type ...</td>\n",
              "    </tr>\n",
              "    <tr>\n",
              "      <th>3</th>\n",
              "      <td>4</td>\n",
              "      <td>Azithral 500 Tablet is an antibiotic used to t...</td>\n",
              "      <td>Azithral 500 Tablet is an antibiotic used to t...</td>\n",
              "    </tr>\n",
              "    <tr>\n",
              "      <th>4</th>\n",
              "      <td>5</td>\n",
              "      <td>Alkasol Oral Solution is a medicine used in th...</td>\n",
              "      <td>Alkasol Oral Solution is a medicine used in th...</td>\n",
              "    </tr>\n",
              "    <tr>\n",
              "      <th>...</th>\n",
              "      <td>...</td>\n",
              "      <td>...</td>\n",
              "      <td>...</td>\n",
              "    </tr>\n",
              "    <tr>\n",
              "      <th>995</th>\n",
              "      <td>996</td>\n",
              "      <td>Azapure Tablet belongs to a group of medicines...</td>\n",
              "      <td>Azapure Tablet belongs to a group of medicines...</td>\n",
              "    </tr>\n",
              "    <tr>\n",
              "      <th>996</th>\n",
              "      <td>997</td>\n",
              "      <td>Arimidex 1mg Tablet  is used alone or with oth...</td>\n",
              "      <td>Arimidex 1mg Tablet  is used alone or with oth...</td>\n",
              "    </tr>\n",
              "    <tr>\n",
              "      <th>997</th>\n",
              "      <td>998</td>\n",
              "      <td>Arpimune ME 100mg Capsule is used to prevent y...</td>\n",
              "      <td>Also, tell your doctor about all other medicin...</td>\n",
              "    </tr>\n",
              "    <tr>\n",
              "      <th>998</th>\n",
              "      <td>999</td>\n",
              "      <td>Amlodac CH Tablet is a combination medicine us...</td>\n",
              "      <td>Amlodac CH Tablet is a combination medicine us...</td>\n",
              "    </tr>\n",
              "    <tr>\n",
              "      <th>999</th>\n",
              "      <td>1000</td>\n",
              "      <td>Angizem CD 120 Capsule ER is used to treat ang...</td>\n",
              "      <td>Also, inform your doctor if you have very low ...</td>\n",
              "    </tr>\n",
              "  </tbody>\n",
              "</table>\n",
              "<p>1000 rows × 3 columns</p>\n",
              "</div>\n",
              "      <button class=\"colab-df-convert\" onclick=\"convertToInteractive('df-9b1c3260-7429-446a-93d6-e6ef66fb3c79')\"\n",
              "              title=\"Convert this dataframe to an interactive table.\"\n",
              "              style=\"display:none;\">\n",
              "        \n",
              "  <svg xmlns=\"http://www.w3.org/2000/svg\" height=\"24px\"viewBox=\"0 0 24 24\"\n",
              "       width=\"24px\">\n",
              "    <path d=\"M0 0h24v24H0V0z\" fill=\"none\"/>\n",
              "    <path d=\"M18.56 5.44l.94 2.06.94-2.06 2.06-.94-2.06-.94-.94-2.06-.94 2.06-2.06.94zm-11 1L8.5 8.5l.94-2.06 2.06-.94-2.06-.94L8.5 2.5l-.94 2.06-2.06.94zm10 10l.94 2.06.94-2.06 2.06-.94-2.06-.94-.94-2.06-.94 2.06-2.06.94z\"/><path d=\"M17.41 7.96l-1.37-1.37c-.4-.4-.92-.59-1.43-.59-.52 0-1.04.2-1.43.59L10.3 9.45l-7.72 7.72c-.78.78-.78 2.05 0 2.83L4 21.41c.39.39.9.59 1.41.59.51 0 1.02-.2 1.41-.59l7.78-7.78 2.81-2.81c.8-.78.8-2.07 0-2.86zM5.41 20L4 18.59l7.72-7.72 1.47 1.35L5.41 20z\"/>\n",
              "  </svg>\n",
              "      </button>\n",
              "      \n",
              "  <style>\n",
              "    .colab-df-container {\n",
              "      display:flex;\n",
              "      flex-wrap:wrap;\n",
              "      gap: 12px;\n",
              "    }\n",
              "\n",
              "    .colab-df-convert {\n",
              "      background-color: #E8F0FE;\n",
              "      border: none;\n",
              "      border-radius: 50%;\n",
              "      cursor: pointer;\n",
              "      display: none;\n",
              "      fill: #1967D2;\n",
              "      height: 32px;\n",
              "      padding: 0 0 0 0;\n",
              "      width: 32px;\n",
              "    }\n",
              "\n",
              "    .colab-df-convert:hover {\n",
              "      background-color: #E2EBFA;\n",
              "      box-shadow: 0px 1px 2px rgba(60, 64, 67, 0.3), 0px 1px 3px 1px rgba(60, 64, 67, 0.15);\n",
              "      fill: #174EA6;\n",
              "    }\n",
              "\n",
              "    [theme=dark] .colab-df-convert {\n",
              "      background-color: #3B4455;\n",
              "      fill: #D2E3FC;\n",
              "    }\n",
              "\n",
              "    [theme=dark] .colab-df-convert:hover {\n",
              "      background-color: #434B5C;\n",
              "      box-shadow: 0px 1px 3px 1px rgba(0, 0, 0, 0.15);\n",
              "      filter: drop-shadow(0px 1px 2px rgba(0, 0, 0, 0.3));\n",
              "      fill: #FFFFFF;\n",
              "    }\n",
              "  </style>\n",
              "\n",
              "      <script>\n",
              "        const buttonEl =\n",
              "          document.querySelector('#df-9b1c3260-7429-446a-93d6-e6ef66fb3c79 button.colab-df-convert');\n",
              "        buttonEl.style.display =\n",
              "          google.colab.kernel.accessAllowed ? 'block' : 'none';\n",
              "\n",
              "        async function convertToInteractive(key) {\n",
              "          const element = document.querySelector('#df-9b1c3260-7429-446a-93d6-e6ef66fb3c79');\n",
              "          const dataTable =\n",
              "            await google.colab.kernel.invokeFunction('convertToInteractive',\n",
              "                                                     [key], {});\n",
              "          if (!dataTable) return;\n",
              "\n",
              "          const docLinkHtml = 'Like what you see? Visit the ' +\n",
              "            '<a target=\"_blank\" href=https://colab.research.google.com/notebooks/data_table.ipynb>data table notebook</a>'\n",
              "            + ' to learn more about interactive tables.';\n",
              "          element.innerHTML = '';\n",
              "          dataTable['output_type'] = 'display_data';\n",
              "          await google.colab.output.renderOutput(dataTable, element);\n",
              "          const docLink = document.createElement('div');\n",
              "          docLink.innerHTML = docLinkHtml;\n",
              "          element.appendChild(docLink);\n",
              "        }\n",
              "      </script>\n",
              "    </div>\n",
              "  </div>\n",
              "  "
            ]
          },
          "metadata": {},
          "execution_count": 19
        }
      ],
      "source": [
        "# Combining the findings into the table\n",
        "result  = pd.concat([data_table , summary_table['Summary']], axis = 1 , sort = False)\n",
        "result"
      ]
    },
    {
      "cell_type": "code",
      "execution_count": null,
      "metadata": {
        "id": "CCEqJM-LJlyq"
      },
      "outputs": [],
      "source": [
        "# Saving it to a file (remove the '#' to save)\n",
        "#result.to_csv(\"Summary_File.csv\")"
      ]
    },
    {
      "cell_type": "code",
      "execution_count": null,
      "metadata": {
        "id": "d5DTDFBTJlyq"
      },
      "outputs": [],
      "source": [
        ""
      ]
    }
  ],
  "metadata": {
    "kernelspec": {
      "display_name": "Python 3",
      "language": "python",
      "name": "python3"
    },
    "language_info": {
      "codemirror_mode": {
        "name": "ipython",
        "version": 3
      },
      "file_extension": ".py",
      "mimetype": "text/x-python",
      "name": "python",
      "nbconvert_exporter": "python",
      "pygments_lexer": "ipython3",
      "version": "3.7.6"
    },
    "colab": {
      "name": "Text_Summarisation.ipynb.txt",
      "provenance": []
    }
  },
  "nbformat": 4,
  "nbformat_minor": 0
}